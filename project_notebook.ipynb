{
 "cells": [
  {
   "cell_type": "markdown",
   "metadata": {},
   "source": [
    "# CHECKPOINT\n",
    "(1) a specification of the work to be performed (definition of the game or optimization problem to be\n",
    "solved)\n",
    "\n",
    "(2) related work with references to works found in a bibliographic search (articles, web pages,\n",
    "and/or source code)\n",
    "\n",
    "(3) formulation of the problem as an optimization problem (solution representation, neighborhood/mutation and crossover functions, hard constraints, evaluation functions)\n",
    "\n",
    "(4) implementation work already carried out (programming language, development environment, data structures, among others)."
   ]
  },
  {
   "cell_type": "code",
   "execution_count": 424,
   "metadata": {},
   "outputs": [],
   "source": [
    "import numpy as np\n",
    "import itertools\n",
    "#import matplotlib as pltlib\n",
    "import math, copy\n",
    "import random\n",
    "\n",
    "table_arrangement = [[0,2], [1,3]]\n",
    "\n",
    "test_preference_matrix = [\n",
    "    [  0,  100, 100, 100,  30, -50,  -10,   0],  # Guest 0\n",
    "    [ 100,   0, 100,  100, -10,  -40, -20,   -5],  # Guest 1\n",
    "    [100, 100,   0,  100, -50,   0,  -20, -10],  # Guest 2\n",
    "    [100,  100,  100,   0, -30,  -10, -40,  -50],  # Guest 3\n",
    "    [ -30, -10, -50, -30,   0,  -20,  40, -20],  # Guest 4\n",
    "    [-50,  -40,   0,  -10,  -20,   0, -10,  -30],  # Guest 5\n",
    "    [ -10, -20,  -20, -40,  -40, -10,   0,  -60],  # Guest 6\n",
    "    [  0,   -5, -10,  -50, -20,  -30,  -60,   0]   # Guest 7\n",
    "]#ABCDABCD"
   ]
  },
  {
   "cell_type": "code",
   "execution_count": 425,
   "metadata": {},
   "outputs": [
    {
     "name": "stdout",
     "output_type": "stream",
     "text": [
      "200.0\n"
     ]
    }
   ],
   "source": [
    "def evaluate_table(table, matrix):\n",
    "    score = 0\n",
    "    for guest in table:\n",
    "        for neighbor in table:\n",
    "            if guest != neighbor:\n",
    "                score += matrix[guest][neighbor]\n",
    "\n",
    "    return score\n",
    "\n",
    "def evaluate_solution(solution, preference_matrix):\n",
    "    score_tables = []\n",
    "    total_score=0\n",
    "    for table in solution:\n",
    "        current_score = evaluate_table(table, preference_matrix)\n",
    "        total_score += current_score\n",
    "        score_tables.append(current_score)\n",
    "    average = total_score/len(solution)\n",
    "\n",
    "    std_sum=0\n",
    "    for score in score_tables:\n",
    "        std_sum += (score-average)**2\n",
    "    \n",
    "    std = math.sqrt(std_sum/len(solution)) + 1  # shift de 1 para nunca poder haver divisao por 0\n",
    "    return (average/std)\n",
    "    \n",
    "\n",
    "def average_tables(tables, matrix):\n",
    "    score = 0\n",
    "    for table in tables:\n",
    "        score += evaluate_table(table, matrix)\n",
    "    average = score / len(tables)\n",
    "    return average\n",
    "\n",
    "\n",
    "score = evaluate_solution(table_arrangement, test_preference_matrix)\n",
    "print(score)"
   ]
  },
  {
   "cell_type": "markdown",
   "metadata": {},
   "source": [
    "To be able to perform our algorithms correctly we will need all tables to be filled, so we will create fake guests called \"EmptySeat\" that have no preferences towards the other guests."
   ]
  },
  {
   "cell_type": "code",
   "execution_count": 426,
   "metadata": {},
   "outputs": [
    {
     "name": "stdout",
     "output_type": "stream",
     "text": [
      "[[0, 100, 100, 100, 30, -50, -10, 0, 0], [100, 0, 100, 100, -10, -40, -20, -5, 0], [100, 100, 0, 100, -50, 0, -20, -10, 0], [100, 100, 100, 0, -30, -10, -40, -50, 0], [-30, -10, -50, -30, 0, -20, 40, -20, 0], [-50, -40, 0, -10, -20, 0, -10, -30, 0], [-10, -20, -20, -40, -40, -10, 0, -60, 0], [0, -5, -10, -50, -20, -30, -60, 0, 0], [0, 0, 0, 0, 0, 0, 0, 0, 0]]\n"
     ]
    }
   ],
   "source": [
    "def fill_matrix(seatsPerTable, matrix):\n",
    "    nguests = len(matrix)\n",
    "    total_tables = math.ceil(nguests / seatsPerTable) #rounds the division up to the next integer\n",
    "    TotalSeats = total_tables * seatsPerTable\n",
    "    diff = TotalSeats % nguests \n",
    "\n",
    "    matrix_copy = copy.deepcopy(matrix)\n",
    "    if diff == 0:\n",
    "        return matrix_copy\n",
    "    else:\n",
    "        #fill the matrix with the preference that the guests have of the empty seats\n",
    "        for guest in range(len(matrix_copy)):\n",
    "            matrix_copy[guest] = matrix_copy[guest] + ([0]*diff)\n",
    "\n",
    "        #fill the matrix with the preference of the emptyseats\n",
    "        for i in range(diff):\n",
    "            matrix_copy.append([0]*(nguests+diff))\n",
    "\n",
    "    return matrix_copy\n",
    "\n",
    "m = fill_matrix(3, test_preference_matrix)\n",
    "print(m)"
   ]
  },
  {
   "cell_type": "markdown",
   "metadata": {},
   "source": [
    "Some of the algorithms we are applying to this problem, there is a need to create an initial random arrangement. That is what this function is for."
   ]
  },
  {
   "cell_type": "code",
   "execution_count": 427,
   "metadata": {},
   "outputs": [
    {
     "name": "stdout",
     "output_type": "stream",
     "text": [
      "[[4, 8, 0], [7, 6, 2], [5, 3, 1]]\n",
      "[[7, 5], [2, 0], [6, 3], [4, 1]]\n",
      "[[2, 0], [7, 1], [4, 3], [6, 5]]\n",
      "[[6, 4], [7, 2], [0, 3], [1, 5]]\n"
     ]
    }
   ],
   "source": [
    "def random_arrangement(matrix, seatsPerTable):\n",
    "    matrix_copy = fill_matrix(seatsPerTable, matrix)\n",
    "\n",
    "    nguests = len(matrix_copy)\n",
    "    guest_list = list(range(nguests))\n",
    "    arrangement = []\n",
    "    for table in range(nguests//seatsPerTable):\n",
    "        table = random.sample(guest_list, seatsPerTable)\n",
    "        for seatedGuest in table:\n",
    "            guest_list.remove(seatedGuest)\n",
    "\n",
    "        arrangement.append(table)\n",
    "    return arrangement\n",
    "\n",
    "def generate_population(population_size, preference_matrix, seatsPerTable):\n",
    "    solutions = []\n",
    "    for i in range(population_size):\n",
    "        solutions.append(random_arrangement(preference_matrix, seatsPerTable))\n",
    "    return solutions\n",
    "\n",
    "\n",
    "r = random_arrangement(test_preference_matrix, 3)\n",
    "print(r)\n",
    "\n",
    "population = generate_population(3, test_preference_matrix, 2)\n",
    "for solution in population:\n",
    "    print(solution)"
   ]
  },
  {
   "cell_type": "code",
   "execution_count": 428,
   "metadata": {},
   "outputs": [],
   "source": [
    "#random\n",
    "def get_neighbour(curr_arrangement, preference_matrix):\n",
    "    neighbor_arrangement = copy.deepcopy(curr_arrangement)\n",
    "    table1 = np.random.choice(len(neighbor_arrangement))\n",
    "    table2 = np.random.choice(len(neighbor_arrangement))\n",
    "    while(table1 == table2):\n",
    "        table2 = np.random.choice(len(neighbor_arrangement))\n",
    "    person1 = np.random.choice(len(neighbor_arrangement[table1]))\n",
    "    person2 = np.random.choice(len(neighbor_arrangement[table2]))\n",
    "    neighbor_arrangement[table1][person1], neighbor_arrangement[table2][person2] = neighbor_arrangement[table2][person2], neighbor_arrangement[table1][person1]\n",
    "    return neighbor_arrangement\n",
    "#improvement not filled table play"
   ]
  },
  {
   "cell_type": "code",
   "execution_count": 429,
   "metadata": {},
   "outputs": [
    {
     "name": "stdout",
     "output_type": "stream",
     "text": [
      "[[0, 2], [1, 3], [5, 4], [7, 6]]\n"
     ]
    }
   ],
   "source": [
    "import random\n",
    "\n",
    "# escolher a primeira metade das mesas de um dos pais e as restantes do outro pai ou se nao for possivel, aleatorio\n",
    "def midpoint_crossover(parent1, parent2):\n",
    "    num_tables = len(parent1)  # nº de mesas\n",
    "    people_per_table = len(parent1[0])  # nº de pessoas por mesa\n",
    "\n",
    "    # escolhe aleatoriamente qual solução usar primeiro\n",
    "    if random.random() < 0.5:\n",
    "        first_parent, second_parent = parent1, parent2\n",
    "    else:\n",
    "        first_parent, second_parent = parent2, parent1\n",
    "\n",
    "    mid = num_tables // 2\n",
    "\n",
    "    # filho com primeira metade das mesas do primeiro pai\n",
    "    child = first_parent[:mid]\n",
    "    used_elements = set(x for sublist in child for x in sublist)\n",
    "\n",
    "    # adicionar a segunda metade das mesas do segundo pai sem repetir pessoas\n",
    "    for sublist in second_parent[mid:]:\n",
    "        new_sublist = [x for x in sublist if x not in used_elements]\n",
    "        child.append(new_sublist)\n",
    "        used_elements.update(new_sublist)\n",
    "\n",
    "    all_elements = set(x for sublist in parent1 + parent2 for x in sublist)\n",
    "    missing_elements = list(all_elements - used_elements)\n",
    "    random.shuffle(missing_elements)  # os q faltam mete aleatoriamente\n",
    "\n",
    "    # Redistribuir os que faltam mantendo o mesmo tamanho das sublistas\n",
    "    for i in range(num_tables):\n",
    "        while len(child[i]) < people_per_table:\n",
    "            child[i].append(missing_elements.pop(0))\n",
    "\n",
    "    return child\n",
    "\n",
    "# Exemplo de uso\n",
    "parent1 = [[0, 2], [1, 3], [4, 5], [6, 7]]\n",
    "parent2 = [[1, 2], [6, 4], [0, 5], [3, 7]]\n",
    "\n",
    "child = midpoint_crossover(parent1, parent2)\n",
    "print(child)\n"
   ]
  },
  {
   "cell_type": "code",
   "execution_count": 430,
   "metadata": {},
   "outputs": [
    {
     "name": "stdout",
     "output_type": "stream",
     "text": [
      "Filho 1: [[0, 2], [1, 3], [6, 5], [8, 7], [4]]\n",
      "Filho 2: [[1, 2], [0, 4], [5, 8], [6, 7], [3]]\n"
     ]
    }
   ],
   "source": [
    "def random_crossover(parent1, parent2):\n",
    "    num_tables = len(parent1)\n",
    "    \n",
    "    mask = [random.choice([0, 1]) for _ in range(num_tables)]\n",
    "    \n",
    "    mask[random.randint(0, num_tables - 1)] = 0  \n",
    "    mask[random.randint(0, num_tables - 1)] = 1 \n",
    "    \n",
    "    child1, child2 = [[] for _ in range(num_tables)], [[] for _ in range(num_tables)]\n",
    "    assigned1, assigned2 = set(), set()\n",
    "    \n",
    "    for i in range(num_tables):\n",
    "        if mask[i] == 0:\n",
    "            child1[i] = [guest for guest in parent1[i] if guest not in assigned1]\n",
    "            assigned1.update(child1[i])\n",
    "            child2[i] = [guest for guest in parent2[i] if guest not in assigned2]\n",
    "            assigned2.update(child2[i])\n",
    "        else:\n",
    "            child1[i] = [guest for guest in parent2[i] if guest not in assigned1]\n",
    "            assigned1.update(child1[i])\n",
    "            child2[i] = [guest for guest in parent1[i] if guest not in assigned2]\n",
    "            assigned2.update(child2[i])\n",
    "    \n",
    "    all_guests = set(sum(parent1, []) + sum(parent2, []))  \n",
    "    remaining1 = list(all_guests - assigned1)\n",
    "    remaining2 = list(all_guests - assigned2)\n",
    "    \n",
    "    def fill_tables(child, remaining, parent_ref, assigned_set):\n",
    "        random.shuffle(remaining)\n",
    "        \n",
    "        for i in range(num_tables):\n",
    "            missing_count = len(parent_ref[i]) - len(child[i])\n",
    "            if missing_count > 0:\n",
    "                for guest in remaining[:missing_count]:\n",
    "                    if guest not in assigned_set:\n",
    "                        child[i].append(guest)\n",
    "                        assigned_set.add(guest)\n",
    "                remaining = remaining[missing_count:]  \n",
    "\n",
    "    fill_tables(child1, remaining1, parent1, assigned1)\n",
    "    fill_tables(child2, remaining2, parent2, assigned2)\n",
    "    \n",
    "    return child1, child2\n",
    "\n",
    "# Exemplo de uso:\n",
    "parent1 = [[0, 2], [1, 3], [4, 5], [6, 7], [8]]\n",
    "parent2 = [[1, 2], [0, 4], [6, 5], [8, 7], [3]]\n",
    "\n",
    "child1, child2 = random_crossover(parent1, parent2)\n",
    "\n",
    "print(\"Filho 1:\", child1)\n",
    "print(\"Filho 2:\", child2)\n"
   ]
  },
  {
   "cell_type": "code",
   "execution_count": 431,
   "metadata": {},
   "outputs": [
    {
     "name": "stdout",
     "output_type": "stream",
     "text": [
      "[[4, 5], [8, 7]]\n",
      "[[4, 5], [8, 7], [], [0, 2], []]\n",
      "[[4, 5], [8, 7], [1, 6], [0, 2], [3]]\n"
     ]
    }
   ],
   "source": [
    "# escolhe pelo menos uma mesa de cada solução e o resto é aleatório, assumindo que todas as mesas têm o mesmo número de pessoas\n",
    "def balanced_crossover(parent1, parent2):\n",
    "    num_tables = len(parent1)\n",
    "    people_per_table = len(parent1[0])\n",
    "\n",
    "    child = []\n",
    "    used_elements = set()\n",
    "\n",
    "    chosen_from_p1 = random.choice(parent1)\n",
    "    randomized_parent2 = random.sample(parent2, len(parent2))\n",
    "\n",
    "    for table in randomized_parent2:\n",
    "        flag=False\n",
    "        for person in table:\n",
    "            if person in chosen_from_p1:\n",
    "                flag=True\n",
    "                break\n",
    "        \n",
    "        if flag == False:\n",
    "            chosen_from_p2 = table\n",
    "            break\n",
    "\n",
    "    used_elements.update(chosen_from_p1)\n",
    "    used_elements.update(chosen_from_p2)\n",
    "    child.append(chosen_from_p1)\n",
    "    child.append(chosen_from_p2)\n",
    "\n",
    "    print(child)\n",
    "\n",
    "    table_sizes = [len(table) for table in parent1]\n",
    "\n",
    "    for i in range(num_tables-2):\n",
    "        if random.random() < 0.5:\n",
    "            table = random.choice(parent1)\n",
    "        else:\n",
    "            table = random.choice(parent2)\n",
    "        new_table = [x for x in table if x not in used_elements]\n",
    "        child.append(new_table)\n",
    "        used_elements.update(new_table)\n",
    "\n",
    "    all_elements = set(x for sublist in parent1 + parent2 for x in sublist)\n",
    "    missing_elements = list(all_elements - used_elements)\n",
    "    random.shuffle(missing_elements)\n",
    "\n",
    "    print(child)\n",
    "\n",
    "    for i in range(num_tables):\n",
    "        while len(child[i]) < table_sizes[i]:\n",
    "            if missing_elements:\n",
    "                child[i].append(missing_elements.pop(0))\n",
    "    \n",
    "    return child\n",
    "\n",
    "\n",
    "parent1 = [[0, 2], [1, 3], [4, 5], [6, 7], [8]]\n",
    "parent2 = [[1, 2], [0, 4], [6, 5], [8, 7], [3]]\n",
    "\n",
    "child = balanced_crossover(parent1, parent2)\n",
    "print(child)\n"
   ]
  },
  {
   "cell_type": "markdown",
   "metadata": {},
   "source": [
    "**SIMMULATED ANNEALING**"
   ]
  },
  {
   "cell_type": "code",
   "execution_count": 498,
   "metadata": {},
   "outputs": [
    {
     "name": "stdout",
     "output_type": "stream",
     "text": [
      "0.9997020844437351\n",
      "0.9997481130162207\n",
      "0.998091836634696\n",
      "0.9993580342984514\n",
      "0.9974702681083655\n",
      "0.9750499790769379\n",
      "0.9452363914794335\n",
      "0.8661427559251507\n",
      "0.9944789183088717\n",
      "0.9952900680300928\n",
      "0.9900720228279374\n",
      "0.9490883371514484\n",
      "1.0\n",
      "result: [[2, 5, 4], [7, 0, 3], [6, 1, 8]]    score: -0.26818957112974323\n"
     ]
    }
   ],
   "source": [
    "def simmulated_annealing(preferences, seatsPerTable):\n",
    "    temperature = 1000   #basicamente a nossa tolerância no que toca a aceitar soluçoes piores\n",
    "    cooling = 0.99     #o quao rápido vai descendo essa tolerancia\n",
    "    #iterations = 100\n",
    "    #primeiro arranjamos um estado inicial random e avaliamos\n",
    "    initial_state = random_arrangement(preferences, seatsPerTable)\n",
    "    filled_preferences=fill_matrix(seatsPerTable, preferences)\n",
    "    initial_score = evaluate_solution(initial_state, filled_preferences)\n",
    "\n",
    "    while temperature > 1:\n",
    "\n",
    "        #depois arranjamos uma soluçao vizinha à inicial e avaliamos essa\n",
    "        neighbour_state = get_neighbour(initial_state, filled_preferences)\n",
    "        neighbour_score = evaluate_solution(neighbour_state, filled_preferences)\n",
    "        \n",
    "\n",
    "        score_diff = initial_score - neighbour_score\n",
    "\n",
    "        #se a soluçao for melhor, aceitamos\n",
    "        if score_diff < 0:\n",
    "            initial_state = copy.deepcopy(neighbour_state)\n",
    "            initial_score = neighbour_score\n",
    "        #se for pior aceitamos com uma certa probabilidade que depende da temperatura\n",
    "        else:\n",
    "            probability = math.exp(-score_diff / temperature)\n",
    "            print(probability)\n",
    "            if random.random() < probability:\n",
    "                initial_state = copy.deepcopy(neighbour_state)\n",
    "                initial_score = neighbour_score\n",
    "        temperature *= cooling\n",
    "    return initial_state, initial_score\n",
    "result, score = simmulated_annealing(test_preference_matrix, 3)\n",
    "print(f\"result: {result}    score: {score}\")\n"
   ]
  }
 ],
 "metadata": {
  "kernelspec": {
   "display_name": "Python 3",
   "language": "python",
   "name": "python3"
  },
  "language_info": {
   "codemirror_mode": {
    "name": "ipython",
    "version": 3
   },
   "file_extension": ".py",
   "mimetype": "text/x-python",
   "name": "python",
   "nbconvert_exporter": "python",
   "pygments_lexer": "ipython3",
   "version": "3.10.12"
  }
 },
 "nbformat": 4,
 "nbformat_minor": 2
}
