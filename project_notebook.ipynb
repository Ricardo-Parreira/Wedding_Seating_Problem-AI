{
 "cells": [
  {
   "cell_type": "code",
   "execution_count": 8,
   "metadata": {},
   "outputs": [],
   "source": [
    "import numpy as np\n",
    "import itertools\n",
    "import matplotlib as pltlib\n",
    "import math\n",
    "\n",
    "table_arrangement = [[0,2], [1,3]]\n",
    "\n",
    "test_preference_matrix = [[0,-10, 100, -100],\n",
    "              [10, 0, 0, 100],\n",
    "              [0,0,0,0],\n",
    "              [-100, 100, -50, 0]] #ABCDABCD"
   ]
  },
  {
   "cell_type": "code",
   "execution_count": null,
   "metadata": {},
   "outputs": [
    {
     "name": "stdout",
     "output_type": "stream",
     "text": [
      "150.0\n",
      "50.0\n",
      "3.0\n"
     ]
    }
   ],
   "source": [
    "def evaluate_table(table, matrix):\n",
    "    score = 0\n",
    "    for guest in table:\n",
    "        for neighbor in table:\n",
    "            if guest != neighbor:\n",
    "                score += matrix[guest][neighbor]\n",
    "\n",
    "    return score\n",
    "\n",
    "def evaluate_solution(solution, preference_matrix):\n",
    "    score_tables = []\n",
    "    total_score=0\n",
    "    for table in solution:\n",
    "        current_score = evaluate_table(table, preference_matrix)\n",
    "        total_score += current_score\n",
    "        score_tables.append(current_score)\n",
    "    average = total_score/len(solution)\n",
    "\n",
    "    std_sum=0\n",
    "    for score in score_tables:\n",
    "        std_sum += (score-average)**2\n",
    "    \n",
    "    std = math.sqrt(std_sum/len(solution))\n",
    "\n",
    "    return (average/std)\n",
    "    \n",
    "\n",
    "def average_tables(tables, matrix):\n",
    "    score = 0\n",
    "    for table in tables:\n",
    "        score += evaluate_table(table, matrix)\n",
    "    average = score / len(tables)\n",
    "    return average\n",
    "\n",
    "\n",
    "score = evaluate_solution(table_arrangement, test_preference_matrix)\n",
    "print(score)"
   ]
  }
 ],
 "metadata": {
  "kernelspec": {
   "display_name": "Python 3 (ipykernel)",
   "language": "python",
   "name": "python3"
  },
  "language_info": {
   "codemirror_mode": {
    "name": "ipython",
    "version": 3
   },
   "file_extension": ".py",
   "mimetype": "text/x-python",
   "name": "python",
   "nbconvert_exporter": "python",
   "pygments_lexer": "ipython3",
   "version": "3.12.7"
  }
 },
 "nbformat": 4,
 "nbformat_minor": 2
}
