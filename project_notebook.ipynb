{
 "cells": [
  {
   "cell_type": "markdown",
   "metadata": {},
   "source": [
    "# CHECKPOINT\n",
    "(1) a specification of the work to be performed (definition of the game or optimization problem to be\n",
    "solved)\n",
    "\n",
    "(2) related work with references to works found in a bibliographic search (articles, web pages,\n",
    "and/or source code)\n",
    "\n",
    "(3) formulation of the problem as an optimization problem (solution representation, neighborhood/mutation and crossover functions, hard constraints, evaluation functions)\n",
    "\n",
    "(4) implementation work already carried out (programming language, development environment, data structures, among others)."
   ]
  },
  {
   "cell_type": "code",
   "execution_count": 95,
   "metadata": {},
   "outputs": [],
   "source": [
    "import numpy as np\n",
    "import itertools\n",
    "#import matplotlib as pltlib\n",
    "import math, copy\n",
    "import random\n",
    "\n",
    "table_arrangement = [[0,2], [1,3]]\n",
    "\n",
    "test_preference_matrix = [\n",
    "    [  0,  10,  -5,  20, -10,  15,   0,  -5],  # A\n",
    "    [ 10,   0,  30,  -5,  20, -10,   5,   0],  # B\n",
    "    [ -5,  30,   0,  10, -20,   5,  15,  10],  # C\n",
    "    [ 20,  -5,  10,   0,  25,  -5, -15,  20],  # D\n",
    "    [-10,  20, -20,  25,   0,  30, -10,   5],  # E\n",
    "    [ 15, -10,   5,  -5,  30,   0,  20, -10],  # F\n",
    "    [  0,   5,  15, -15, -10,  20,   0,  30],  # G\n",
    "    [ -5,   0,  10,  20,   5, -10,  30,   0]   # H\n",
    "] #ABCDABCD"
   ]
  },
  {
   "cell_type": "markdown",
   "metadata": {},
   "source": [
    "In order to test with different sized preference matrices we created a function that randomly generates preference matrices given a number of guests"
   ]
  },
  {
   "cell_type": "code",
   "execution_count": 96,
   "metadata": {},
   "outputs": [
    {
     "name": "stdout",
     "output_type": "stream",
     "text": [
      "[[0, 9, 8, 75], [9, 0, 68, 22], [8, 68, 0, -88], [75, 22, -88, 0]]\n"
     ]
    }
   ],
   "source": [
    "def random_preferences(nguests):\n",
    "    preference_matrix = [[0] * nguests for x in range(nguests)]\n",
    "    for guest1 in range(nguests):\n",
    "        for guest2 in range(nguests):\n",
    "            if guest1 != guest2:\n",
    "                score = random.randrange(-100, 100, 1)\n",
    "                preference_matrix[guest1][guest2] = score\n",
    "                preference_matrix[guest2][guest1] = score\n",
    "    return preference_matrix\n",
    "\n",
    "p = random_preferences(4)\n",
    "\n",
    "print(p)"
   ]
  },
  {
   "cell_type": "code",
   "execution_count": 97,
   "metadata": {},
   "outputs": [
    {
     "name": "stdout",
     "output_type": "stream",
     "text": [
      "-10.0\n"
     ]
    }
   ],
   "source": [
    "def evaluate_table(table, matrix):\n",
    "    score = 0\n",
    "    for guest in table:\n",
    "        for neighbor in table:\n",
    "            if guest != neighbor:\n",
    "                score += matrix[guest][neighbor]\n",
    "\n",
    "    return score\n",
    "\n",
    "def standard_deviation(solution, preference_matrix):\n",
    "    score_tables = []\n",
    "    total_score=0\n",
    "    for table in solution:\n",
    "        current_score = evaluate_table(table, preference_matrix)\n",
    "        total_score += current_score\n",
    "        score_tables.append(current_score)\n",
    "    average = total_score/len(solution)\n",
    "\n",
    "    std_sum=0\n",
    "    for score in score_tables:\n",
    "        std_sum += (score-average)**2\n",
    "    \n",
    "    std = math.sqrt(std_sum/len(solution))\n",
    "    return std\n",
    "\n",
    "def evaluate_solution(solution, preference_matrix):\n",
    "    average = average_tables(solution, preference_matrix)  #not optimal\n",
    "    std = standard_deviation(solution, preference_matrix) + 1  # shift de 1 para nunca poder haver divisao por 0\n",
    "    return (average/std)\n",
    "    \n",
    "\n",
    "def average_tables(tables, matrix):\n",
    "    score = 0\n",
    "    for table in tables:\n",
    "        score += evaluate_table(table, matrix)\n",
    "    average = score / len(tables)\n",
    "    return average\n",
    "\n",
    "\n",
    "score = evaluate_solution(table_arrangement, test_preference_matrix)\n",
    "print(score)"
   ]
  },
  {
   "cell_type": "code",
   "execution_count": null,
   "metadata": {},
   "outputs": [],
   "source": []
  },
  {
   "cell_type": "markdown",
   "metadata": {},
   "source": [
    "To be able to perform our algorithms correctly we will need all tables to be filled, so we will create fake guests called \"EmptySeat\" that have no preferences towards the other guests."
   ]
  },
  {
   "cell_type": "code",
   "execution_count": 98,
   "metadata": {},
   "outputs": [
    {
     "name": "stdout",
     "output_type": "stream",
     "text": [
      "[[0, 10, -5, 20, -10, 15, 0, -5, 0], [10, 0, 30, -5, 20, -10, 5, 0, 0], [-5, 30, 0, 10, -20, 5, 15, 10, 0], [20, -5, 10, 0, 25, -5, -15, 20, 0], [-10, 20, -20, 25, 0, 30, -10, 5, 0], [15, -10, 5, -5, 30, 0, 20, -10, 0], [0, 5, 15, -15, -10, 20, 0, 30, 0], [-5, 0, 10, 20, 5, -10, 30, 0, 0], [0, 0, 0, 0, 0, 0, 0, 0, 0]]\n"
     ]
    }
   ],
   "source": [
    "def fill_matrix(seatsPerTable, matrix):\n",
    "    nguests = len(matrix)\n",
    "    total_tables = math.ceil(nguests / seatsPerTable) #rounds the division up to the next integer\n",
    "    TotalSeats = total_tables * seatsPerTable\n",
    "    diff = TotalSeats % nguests \n",
    "\n",
    "    matrix_copy = copy.deepcopy(matrix)\n",
    "    if diff == 0:\n",
    "        return matrix_copy\n",
    "    else:\n",
    "        #fill the matrix with the preference that the guests have of the empty seats\n",
    "        for guest in range(len(matrix_copy)):\n",
    "            matrix_copy[guest] = matrix_copy[guest] + ([0]*diff)\n",
    "\n",
    "        #fill the matrix with the preference of the emptyseats\n",
    "        for i in range(diff):\n",
    "            matrix_copy.append([0]*(nguests+diff))\n",
    "\n",
    "    return matrix_copy\n",
    "\n",
    "m = fill_matrix(3, test_preference_matrix)\n",
    "print(m)"
   ]
  },
  {
   "cell_type": "markdown",
   "metadata": {},
   "source": [
    "Some of the algorithms we are applying to this problem, there is a need to create an initial random arrangement. That is what this function is for."
   ]
  },
  {
   "cell_type": "code",
   "execution_count": 99,
   "metadata": {},
   "outputs": [
    {
     "name": "stdout",
     "output_type": "stream",
     "text": [
      "[[7, 6, 3], [4, 2, 0], [8, 1, 5]]\n",
      "[[4, 7], [1, 3], [0, 6], [2, 5]]\n",
      "[[0, 1], [4, 7], [3, 2], [6, 5]]\n",
      "[[5, 1], [6, 0], [3, 4], [2, 7]]\n"
     ]
    }
   ],
   "source": [
    "def random_arrangement(matrix, seatsPerTable):\n",
    "    matrix_copy = fill_matrix(seatsPerTable, matrix)\n",
    "\n",
    "    nguests = len(matrix_copy)\n",
    "    guest_list = list(range(nguests))\n",
    "    arrangement = []\n",
    "    for table in range(nguests//seatsPerTable):\n",
    "        table = random.sample(guest_list, seatsPerTable)\n",
    "        for seatedGuest in table:\n",
    "            guest_list.remove(seatedGuest)\n",
    "\n",
    "        arrangement.append(table)\n",
    "    return arrangement\n",
    "\n",
    "def generate_population(population_size, preference_matrix, seatsPerTable):\n",
    "    solutions = []\n",
    "    for i in range(population_size):\n",
    "        solutions.append(random_arrangement(preference_matrix, seatsPerTable))\n",
    "    return solutions\n",
    "\n",
    "\n",
    "r = random_arrangement(test_preference_matrix, 3)\n",
    "print(r)\n",
    "\n",
    "population = generate_population(3, test_preference_matrix, 2)\n",
    "for solution in population:\n",
    "    print(solution)"
   ]
  },
  {
   "cell_type": "code",
   "execution_count": 100,
   "metadata": {},
   "outputs": [],
   "source": [
    "#random\n",
    "def get_neighbour(curr_arrangement):\n",
    "    neighbor_arrangement = copy.deepcopy(curr_arrangement)\n",
    "    table1 = np.random.choice(len(neighbor_arrangement))\n",
    "    table2 = np.random.choice(len(neighbor_arrangement))\n",
    "    while(table1 == table2):\n",
    "        table2 = np.random.choice(len(neighbor_arrangement))\n",
    "    person1 = np.random.choice(len(neighbor_arrangement[table1]))\n",
    "    person2 = np.random.choice(len(neighbor_arrangement[table2]))\n",
    "    neighbor_arrangement[table1][person1], neighbor_arrangement[table2][person2] = neighbor_arrangement[table2][person2], neighbor_arrangement[table1][person1]\n",
    "    return neighbor_arrangement\n",
    "#improvement not filled table play"
   ]
  },
  {
   "cell_type": "code",
   "execution_count": 101,
   "metadata": {},
   "outputs": [
    {
     "name": "stdout",
     "output_type": "stream",
     "text": [
      "[[0, 2], [1, 3], [5, 6], [7, 4]]\n"
     ]
    }
   ],
   "source": [
    "import random\n",
    "\n",
    "# escolher a primeira metade das mesas de um dos pais e as restantes do outro pai ou se nao for possivel, aleatorio\n",
    "def midpoint_crossover(parent1, parent2):\n",
    "    num_tables = len(parent1)  # nº de mesas\n",
    "    people_per_table = len(parent1[0])  # nº de pessoas por mesa\n",
    "\n",
    "    # escolhe aleatoriamente qual solução usar primeiro\n",
    "    if random.random() < 0.5:\n",
    "        first_parent, second_parent = parent1, parent2\n",
    "    else:\n",
    "        first_parent, second_parent = parent2, parent1\n",
    "\n",
    "    mid = num_tables // 2\n",
    "\n",
    "    # filho com primeira metade das mesas do primeiro pai\n",
    "    child = first_parent[:mid]\n",
    "    used_elements = set(x for sublist in child for x in sublist)\n",
    "\n",
    "    # adicionar a segunda metade das mesas do segundo pai sem repetir pessoas\n",
    "    for sublist in second_parent[mid:]:\n",
    "        new_sublist = [x for x in sublist if x not in used_elements]\n",
    "        child.append(new_sublist)\n",
    "        used_elements.update(new_sublist)\n",
    "\n",
    "    all_elements = set(x for sublist in parent1 + parent2 for x in sublist)\n",
    "    missing_elements = list(all_elements - used_elements)\n",
    "    random.shuffle(missing_elements)  # os q faltam mete aleatoriamente\n",
    "\n",
    "    # Redistribuir os que faltam mantendo o mesmo tamanho das sublistas\n",
    "    for i in range(num_tables):\n",
    "        while len(child[i]) < people_per_table:\n",
    "            child[i].append(missing_elements.pop(0))\n",
    "\n",
    "    return child\n",
    "\n",
    "# Exemplo de uso\n",
    "parent1 = [[0, 2], [1, 3], [4, 5], [6, 7]]\n",
    "parent2 = [[1, 2], [6, 4], [0, 5], [3, 7]]\n",
    "\n",
    "child = midpoint_crossover(parent1, parent2)\n",
    "print(child)\n"
   ]
  },
  {
   "cell_type": "code",
   "execution_count": 102,
   "metadata": {},
   "outputs": [
    {
     "name": "stdout",
     "output_type": "stream",
     "text": [
      "Filho 1: [[8, 7], [6, 5], [1, 3], [2], [0, 4]]\n",
      "Filho 2: [[0, 2], [6, 5], [3], [1, 7], [4, 8]]\n"
     ]
    }
   ],
   "source": [
    "def random_crossover(parent1, parent2):\n",
    "    num_tables = len(parent1)\n",
    "\n",
    "    #print(len(parent1))\n",
    "    #print(len(parent2))\n",
    "    \n",
    "    mask = [random.choice([0, 1]) for _ in range(num_tables)]\n",
    "    \n",
    "    mask[random.randint(0, num_tables - 1)] = 0  \n",
    "    mask[random.randint(0, num_tables - 1)] = 1 \n",
    "    \n",
    "    child1, child2 = [[] for _ in range(num_tables)], [[] for _ in range(num_tables)]\n",
    "    assigned1, assigned2 = set(), set()\n",
    "\n",
    "    random.shuffle(parent1)\n",
    "    random.shuffle(parent2)\n",
    "    \n",
    "    for i in range(num_tables):\n",
    "        #print(i)\n",
    "        if mask[i] == 0:\n",
    "            child1[i] = [guest for guest in parent1[i] if guest not in assigned1]\n",
    "            if child1[i] is not None: \n",
    "                assigned1.update(child1[i])\n",
    "            child2[i] = [guest for guest in parent2[i] if guest not in assigned2]\n",
    "            if child2[i] is not None: \n",
    "                assigned2.update(child2[i])\n",
    "        else:\n",
    "            child1[i] = [guest for guest in parent2[i] if guest not in assigned1]\n",
    "            if child1[i] is not None: \n",
    "                assigned1.update(child1[i])\n",
    "            child2[i] = [guest for guest in parent1[i] if guest not in assigned2]\n",
    "            if child2[i] is not None: \n",
    "                assigned2.update(child2[i])\n",
    "    \n",
    "    all_guests = set(sum(parent1, []) + sum(parent2, []))  \n",
    "    remaining1 = list(all_guests - assigned1)\n",
    "    remaining2 = list(all_guests - assigned2)\n",
    "    \n",
    "    def fill_tables(child, remaining, parent_ref, assigned_set):\n",
    "        random.shuffle(remaining)\n",
    "        \n",
    "        for i in range(num_tables):\n",
    "            missing_count = len(parent_ref[i]) - len(child[i])\n",
    "            if missing_count > 0:\n",
    "                for guest in remaining[:missing_count]:\n",
    "                    if guest not in assigned_set:\n",
    "                        child[i].append(guest)\n",
    "                        assigned_set.add(guest)\n",
    "                remaining = remaining[missing_count:]  \n",
    "\n",
    "    fill_tables(child1, remaining1, parent1, assigned1)\n",
    "    fill_tables(child2, remaining2, parent2, assigned2)\n",
    "    \n",
    "    return child1, child2\n",
    "\n",
    "# Exemplo de uso:\n",
    "parent1 = [[0, 2], [1, 3], [4, 5], [6, 7], [8]]\n",
    "parent2 = [[1, 2], [0, 4], [6, 5], [8, 7], [3]]\n",
    "\n",
    "child1, child2 = random_crossover(parent1, parent2)\n",
    "\n",
    "print(\"Filho 1:\", child1)\n",
    "print(\"Filho 2:\", child2)\n"
   ]
  },
  {
   "cell_type": "code",
   "execution_count": 103,
   "metadata": {},
   "outputs": [
    {
     "name": "stdout",
     "output_type": "stream",
     "text": [
      "[[8], [6, 5]]\n",
      "[[8], [6, 5], [], [], [3]]\n",
      "[[8, 0], [6, 5], [1, 4], [7, 2], [3]]\n"
     ]
    }
   ],
   "source": [
    "# escolhe pelo menos uma mesa de cada solução e o resto é aleatório, assumindo que todas as mesas têm o mesmo número de pessoas\n",
    "def balanced_crossover(parent1, parent2):\n",
    "    num_tables = len(parent1)\n",
    "    people_per_table = len(parent1[0])\n",
    "\n",
    "    child = []\n",
    "    used_elements = set()\n",
    "\n",
    "    chosen_from_p1 = random.choice(parent1)\n",
    "    randomized_parent2 = random.sample(parent2, len(parent2))\n",
    "\n",
    "    for table in randomized_parent2:\n",
    "        flag=False\n",
    "        for person in table:\n",
    "            if person in chosen_from_p1:\n",
    "                flag=True\n",
    "                break\n",
    "        \n",
    "        if flag == False:\n",
    "            chosen_from_p2 = table\n",
    "            break\n",
    "\n",
    "    used_elements.update(chosen_from_p1)\n",
    "    used_elements.update(chosen_from_p2)\n",
    "    child.append(chosen_from_p1)\n",
    "    child.append(chosen_from_p2)\n",
    "\n",
    "    print(child)\n",
    "\n",
    "    table_sizes = [len(table) for table in parent1]\n",
    "\n",
    "    for i in range(num_tables-2):\n",
    "        if random.random() < 0.5:\n",
    "            table = random.choice(parent1)\n",
    "        else:\n",
    "            table = random.choice(parent2)\n",
    "        new_table = [x for x in table if x not in used_elements]\n",
    "        child.append(new_table)\n",
    "        used_elements.update(new_table)\n",
    "\n",
    "    all_elements = set(x for sublist in parent1 + parent2 for x in sublist)\n",
    "    missing_elements = list(all_elements - used_elements)\n",
    "    random.shuffle(missing_elements)\n",
    "\n",
    "    print(child)\n",
    "\n",
    "    for i in range(num_tables):\n",
    "        while len(child[i]) < table_sizes[i]:\n",
    "            if missing_elements:\n",
    "                child[i].append(missing_elements.pop(0))\n",
    "    \n",
    "    return child\n",
    "\n",
    "\n",
    "parent1 = [[0, 2], [1, 3], [4, 5], [6, 7], [8]]\n",
    "parent2 = [[1, 2], [0, 4], [6, 5], [8, 7], [3]]\n",
    "\n",
    "child = balanced_crossover(parent1, parent2)\n",
    "print(child)\n"
   ]
  },
  {
   "cell_type": "markdown",
   "metadata": {},
   "source": [
    "**SIMMULATED ANNEALING**"
   ]
  },
  {
   "cell_type": "code",
   "execution_count": 104,
   "metadata": {},
   "outputs": [
    {
     "name": "stdout",
     "output_type": "stream",
     "text": [
      "35.59026084010437\n"
     ]
    },
    {
     "ename": "TypeError",
     "evalue": "get_neighbour() takes 1 positional argument but 2 were given",
     "output_type": "error",
     "traceback": [
      "\u001b[1;31m---------------------------------------------------------------------------\u001b[0m",
      "\u001b[1;31mTypeError\u001b[0m                                 Traceback (most recent call last)",
      "Cell \u001b[1;32mIn[104], line 36\u001b[0m\n\u001b[0;32m     32\u001b[0m         iterations \u001b[38;5;241m-\u001b[39m\u001b[38;5;241m=\u001b[39m \u001b[38;5;241m1\u001b[39m\n\u001b[0;32m     33\u001b[0m     \u001b[38;5;28;01mreturn\u001b[39;00m initial_state, initial_score\n\u001b[1;32m---> 36\u001b[0m result, score \u001b[38;5;241m=\u001b[39m simmulated_annealing(test_preference_matrix, \u001b[38;5;241m3\u001b[39m)\n\u001b[0;32m     37\u001b[0m \u001b[38;5;28mprint\u001b[39m(\u001b[38;5;124mf\u001b[39m\u001b[38;5;124m\"\u001b[39m\u001b[38;5;124mresult: \u001b[39m\u001b[38;5;132;01m{\u001b[39;00mresult\u001b[38;5;132;01m}\u001b[39;00m\u001b[38;5;124m    score: \u001b[39m\u001b[38;5;132;01m{\u001b[39;00mscore\u001b[38;5;132;01m}\u001b[39;00m\u001b[38;5;124m\"\u001b[39m)\n",
      "Cell \u001b[1;32mIn[104], line 15\u001b[0m, in \u001b[0;36msimmulated_annealing\u001b[1;34m(preferences, seatsPerTable)\u001b[0m\n\u001b[0;32m     10\u001b[0m \u001b[38;5;28mprint\u001b[39m(temperature)\n\u001b[0;32m     12\u001b[0m \u001b[38;5;28;01mwhile\u001b[39;00m iterations \u001b[38;5;241m>\u001b[39m \u001b[38;5;241m0\u001b[39m:\n\u001b[0;32m     13\u001b[0m \n\u001b[0;32m     14\u001b[0m     \u001b[38;5;66;03m#depois arranjamos uma soluçao vizinha à inicial e avaliamos essa\u001b[39;00m\n\u001b[1;32m---> 15\u001b[0m     neighbour_state \u001b[38;5;241m=\u001b[39m get_neighbour(initial_state, filled_preferences)\n\u001b[0;32m     16\u001b[0m     neighbour_score \u001b[38;5;241m=\u001b[39m evaluate_solution(neighbour_state, filled_preferences)\n\u001b[0;32m     19\u001b[0m     score_diff \u001b[38;5;241m=\u001b[39m initial_score \u001b[38;5;241m-\u001b[39m neighbour_score\n",
      "\u001b[1;31mTypeError\u001b[0m: get_neighbour() takes 1 positional argument but 2 were given"
     ]
    }
   ],
   "source": [
    "def simmulated_annealing(preferences, seatsPerTable):\n",
    "    cooling = 0.99    #o quao rápido vai descendo essa tolerancia\n",
    "    iterations = 10000\n",
    "    #primeiro arranjamos um estado inicial random e avaliamos\n",
    "    initial_state = random_arrangement(preferences, seatsPerTable)\n",
    "    filled_preferences=fill_matrix(seatsPerTable, preferences)\n",
    "    initial_score = evaluate_solution(initial_state, filled_preferences)\n",
    "\n",
    "    temperature = standard_deviation(initial_state, filled_preferences)   #basicamente a nossa tolerância no que toca a aceitar soluçoes piores\n",
    "    print(temperature)\n",
    "\n",
    "    while iterations > 0:\n",
    "\n",
    "        #depois arranjamos uma soluçao vizinha à inicial e avaliamos essa\n",
    "        neighbour_state = get_neighbour(initial_state, filled_preferences)\n",
    "        neighbour_score = evaluate_solution(neighbour_state, filled_preferences)\n",
    "        \n",
    "\n",
    "        score_diff = initial_score - neighbour_score\n",
    "\n",
    "        #se a soluçao for melhor, aceitamos\n",
    "        if score_diff < 0:\n",
    "            initial_state = neighbour_state\n",
    "            initial_score = neighbour_score\n",
    "        #se for pior aceitamos com uma certa probabilidade que depende da temperatura\n",
    "        else:\n",
    "            probability = math.exp(-score_diff / temperature)\n",
    "            if random.random() < probability:\n",
    "                initial_state = neighbour_state\n",
    "                initial_score = neighbour_score\n",
    "        temperature *= cooling\n",
    "        iterations -= 1\n",
    "    return initial_state, initial_score\n",
    "\n",
    "\n",
    "result, score = simmulated_annealing(test_preference_matrix, 3)\n",
    "print(f\"result: {result}    score: {score}\")\n"
   ]
  },
  {
   "cell_type": "markdown",
   "metadata": {},
   "source": [
    "GENETIC ALGORTHIM"
   ]
  },
  {
   "cell_type": "code",
   "execution_count": 105,
   "metadata": {},
   "outputs": [
    {
     "name": "stdout",
     "output_type": "stream",
     "text": [
      "[[4, 5], [1, 2], [3, 7], [6, 0]]\n",
      "[[2, 0], [5, 1], [3, 4], [6, 7]]\n",
      "[[5, 0], [2, 6], [1, 7], [3, 4]]\n",
      "[[4, 5], [2, 1], [0, 7], [6, 3]]\n",
      "[[3, 6], [1, 0], [7, 5], [4, 2]]\n",
      "\n",
      "[[4, 5], [1, 2], [3, 7], [6, 0]]\n",
      "\n",
      "[[4, 5], [1, 2], [3, 7], [6, 0]]\n"
     ]
    }
   ],
   "source": [
    "def tournament_select(population, preference_matrix, tournament_size, exclude=None):\n",
    "    filtered_population = [ind for ind in population if ind != exclude]\n",
    "    selected = random.sample(filtered_population, tournament_size)\n",
    "    best_solution = max(selected, key=lambda s: evaluate_solution(s, preference_matrix))\n",
    "    return best_solution\n",
    "\n",
    "def roulette_select(population, preference_matrix, exclude=None):\n",
    "    filtered_population = [ind for ind in population if ind != exclude]\n",
    "    fitness_values = np.array([evaluate_solution(s, preference_matrix) for s in filtered_population])\n",
    "    total_fitness = np.sum(fitness_values)\n",
    "    rand_value = np.random.uniform(0, total_fitness)\n",
    "\n",
    "    cumulative_sum = 0\n",
    "    for i, fitness in enumerate(fitness_values):\n",
    "        cumulative_sum += fitness\n",
    "        if rand_value <= cumulative_sum:\n",
    "            return filtered_population[i]\n",
    "    \n",
    "\n",
    "\n",
    "population = generate_population(5, test_preference_matrix, 2)\n",
    "for s in population:\n",
    "    print(s)\n",
    "print(\"\")   \n",
    "t = tournament_select(population, test_preference_matrix, 3)\n",
    "print(t)\n",
    "print(\"\")\n",
    "r = roulette_select(population, test_preference_matrix)\n",
    "print(r)\n"
   ]
  },
  {
   "cell_type": "code",
   "execution_count": 106,
   "metadata": {},
   "outputs": [],
   "source": [
    "def mutation(parent, mutation_prob=0.2):\n",
    "    if random.random() < mutation_prob:  \n",
    "        return get_neighbour(parent)\n",
    "    return parent"
   ]
  },
  {
   "cell_type": "code",
   "execution_count": 130,
   "metadata": {},
   "outputs": [
    {
     "name": "stdout",
     "output_type": "stream",
     "text": [
      "MATRIZ PREFERENCIA\n",
      "[[0, 1, -73, 39, -2, -58, 86, 41], [1, 0, 19, -22, -68, 22, 60, 64], [-73, 19, 0, 17, 92, 5, -49, -2], [39, -22, 17, 0, 1, -72, 61, -47], [-2, -68, 92, 1, 0, 54, 59, -26], [-58, 22, 5, -72, 54, 0, 43, -5], [86, 60, -49, 61, 59, 43, 0, -82], [41, 64, -2, -47, -26, -5, -82, 0]]\n",
      "Initial solution: [[4, 7, 8], [0, 1, 6], [5, 3, 2]], score: 2.1822230891199776\n",
      "  Final solution: [[3, 8, 4], [0, 7, 6], [2, 5, 1]], score: 50.0\n"
     ]
    },
    {
     "data": {
      "image/png": "[encoded data removed]",
      "text/plain": [
       "<Figure size 640x480 with 1 Axes>"
      ]
     },
     "metadata": {},
     "output_type": "display_data"
    },
    {
     "data": {
      "text/plain": [
       "'genetic_algorithm(1, 100, p, 3)\\ngenetic_algorithm(1, 100, p, 3)\\ngenetic_algorithm(1, 100, p, 3)\\ngenetic_algorithm(1, 100, p, 3)\\ngenetic_algorithm(1, 100, p, 3)\\ngenetic_algorithm(1, 100, p, 3)\\ngenetic_algorithm(1, 100, p, 3)\\ngenetic_algorithm(1, 100, p, 3)\\ngenetic_algorithm(1, 100, p, 3)'"
      ]
     },
     "execution_count": 130,
     "metadata": {},
     "output_type": "execute_result"
    }
   ],
   "source": [
    "def genetic_algorithm(num_iterations, population_size, preference_matrix, seatsPerTable):\n",
    "    filled_preference_matrix = fill_matrix(seatsPerTable, preference_matrix)\n",
    "    population = generate_population(population_size, filled_preference_matrix, seatsPerTable)\n",
    "    \"\"\"print(\"population[0]: \")\n",
    "    print(population[0])\"\"\"\n",
    "    best_solution = population[0]\n",
    "    best_score = evaluate_solution(population[0], filled_preference_matrix)\n",
    "    num_iterations=1000\n",
    "    \n",
    "    best_scores = []\n",
    "    all_scores = []\n",
    "    avg_scores = []\n",
    "\n",
    "    for solution in population:\n",
    "        all_scores.append(evaluate_solution(solution, filled_preference_matrix))\n",
    "\n",
    "\n",
    "    print(f\"Initial solution: {best_solution}, score: {best_score}\")\n",
    "\n",
    "    while(num_iterations > 0):\n",
    "\n",
    "\n",
    "        parent1 = tournament_select( population, filled_preference_matrix, 10)\n",
    "        parent2 = tournament_select( population, filled_preference_matrix, 10, exclude=parent1)\n",
    "        #parent2 = roulette_select(population, filled_preference_matrix, exclude=parent1)\n",
    "\n",
    "        if parent2 is None:\n",
    "            parent2 = parent1\n",
    "\n",
    "        \"\"\"print(\"parent 1:\")\n",
    "        print(parent1)\n",
    "        print(\"parent2:\")\n",
    "        print(parent2)\"\"\"\n",
    "\n",
    "        #estatisticas para grafico\n",
    "        avg_score = np.mean(all_scores)\n",
    "        avg_scores.append(avg_score)\n",
    "        best_solution = max(population, key=lambda x: evaluate_solution(x, filled_preference_matrix))\n",
    "        best_scores.append(evaluate_solution(best_solution, filled_preference_matrix))\n",
    "\n",
    "\n",
    "        # Next generation Crossover and Mutation\n",
    "        child1, child2 = random_crossover(parent1, parent2)\n",
    "\n",
    "        \"\"\"print(\"child 1:\")\n",
    "        print(child1)\n",
    "        print(\"child2:\")\n",
    "        print(child2)\"\"\"\n",
    "\n",
    "        child1, child2 = mutation(child1), mutation(child2)\n",
    "\n",
    "        \"\"\"print(\"mutate child 1:\")\n",
    "        print(child1)\n",
    "        print(\"mutate child2:\")\n",
    "        print(child2)\"\"\"\n",
    "        \n",
    "        population.append(child1)\n",
    "        population.append(child2)\n",
    "        all_scores.append(evaluate_solution(child1, filled_preference_matrix))\n",
    "        all_scores.append(evaluate_solution(child2, filled_preference_matrix))\n",
    "        population.sort(key=lambda sol: evaluate_solution(sol, filled_preference_matrix), reverse=True)\n",
    "        population = population[:population_size]\n",
    "\n",
    "        \"\"\"child = random_crossover(parent1, parent2)\n",
    "        print(\"child 1:\")\n",
    "        print(child)\n",
    "\n",
    "        child = mutation(child)\n",
    "\n",
    "        print(\"mutate child 1:\")\n",
    "        print(child)\n",
    "        population.append(child)\n",
    "        population.sort(key=lambda sol: evaluate_solution(sol, filled_preference_matrix), reverse=True)\n",
    "        population = population[:population_size]\"\"\"\n",
    "\n",
    "        num_iterations-=1\n",
    "    \n",
    "    best_solution= population[0]\n",
    "    best_score=evaluate_solution(best_solution, filled_preference_matrix)\n",
    "\n",
    "    print(f\"  Final solution: {best_solution}, score: {best_score}\")\n",
    "\n",
    "    show_graph(best_scores, avg_scores)\n",
    "    return best_solution\n",
    "\n",
    "p = random_preferences(8)\n",
    "print(\"MATRIZ PREFERENCIA\")\n",
    "print(p)\n",
    "\n",
    "genetic_algorithm(1, 100, test_preference_matrix, 3)\n",
    "\"\"\"genetic_algorithm(1, 100, p, 3)\n",
    "genetic_algorithm(1, 100, p, 3)\n",
    "genetic_algorithm(1, 100, p, 3)\n",
    "genetic_algorithm(1, 100, p, 3)\n",
    "genetic_algorithm(1, 100, p, 3)\n",
    "genetic_algorithm(1, 100, p, 3)\n",
    "genetic_algorithm(1, 100, p, 3)\n",
    "genetic_algorithm(1, 100, p, 3)\n",
    "genetic_algorithm(1, 100, p, 3)\"\"\""
   ]
  },
  {
   "cell_type": "code",
   "execution_count": null,
   "metadata": {},
   "outputs": [],
   "source": []
  },
  {
   "cell_type": "markdown",
   "metadata": {},
   "source": []
  },
  {
   "cell_type": "markdown",
   "metadata": {},
   "source": [
    "TABU SEARCH"
   ]
  },
  {
   "cell_type": "code",
   "execution_count": null,
   "metadata": {},
   "outputs": [],
   "source": [
    "def tabu_search(preferences, seats_per_table, max_iterations=1000, tabu_tenure=7, max_no_improve=100):\n",
    "    padded_preferences = fill_matrix(seats_per_table, preferences)\n",
    "    current_arrangement = random_arrangement(preferences, seats_per_table)\n",
    "    best_arrangement = copy.deepcopy(current_arrangement)\n",
    "    \n",
    "    current_score = evaluate_solution(current_arrangement, padded_preferences)\n",
    "    best_score = current_score\n",
    "    \n",
    "    tabu_list = {}\n",
    "    \n",
    "    iterations_no_improve = 0\n",
    "    total_iterations = 0\n",
    "    \n",
    "    frequency_list = {}\n",
    "    \n",
    "    while total_iterations < max_iterations and iterations_no_improve < max_no_improve:\n",
    "        total_iterations += 1\n",
    "        \n",
    "        neighbor_arrangement = get_neighbour(current_arrangement)\n",
    "        \n",
    "        neighbor_score = evaluate_solution(neighbor_arrangement, padded_preferences)\n",
    "        \n",
    "        is_tabu = tuple(map(tuple, neighbor_arrangement)) in tabu_list and tabu_list[tuple(map(tuple, neighbor_arrangement))] > 0\n",
    "        \n",
    "        if is_tabu and neighbor_score <= best_score:\n",
    "            if tuple(map(tuple, neighbor_arrangement)) in frequency_list:\n",
    "                frequency_list[tuple(map(tuple, neighbor_arrangement))] += 1\n",
    "            else:\n",
    "                frequency_list[tuple(map(tuple, neighbor_arrangement))] = 1\n",
    "                \n",
    "            if frequency_list.get(tuple(map(tuple, neighbor_arrangement)), 0) > 5:\n",
    "                for _ in range(3):  \n",
    "                    temp_neighbor = get_neighbour(current_arrangement)\n",
    "                    current_arrangement = temp_neighbor\n",
    "                current_score = evaluate_solution(current_arrangement, padded_preferences)\n",
    "                frequency_list.clear()\n",
    "            \n",
    "            iterations_no_improve += 1\n",
    "            continue\n",
    "        \n",
    "        current_arrangement = neighbor_arrangement\n",
    "        current_score = neighbor_score\n",
    "        \n",
    "        keys_to_remove = []\n",
    "        for arrangement, tenure in tabu_list.items():\n",
    "            tabu_list[arrangement] -= 1\n",
    "            if tabu_list[arrangement] <= 0:\n",
    "                keys_to_remove.append(arrangement)\n",
    "        \n",
    "        for key in keys_to_remove:\n",
    "            del tabu_list[key]\n",
    "        \n",
    "        tabu_list[tuple(map(tuple, current_arrangement))] = tabu_tenure\n",
    "        \n",
    "        if current_score > best_score:\n",
    "            best_arrangement = copy.deepcopy(current_arrangement)\n",
    "            best_score = current_score\n",
    "            iterations_no_improve = 0\n",
    "            frequency_list.clear()\n",
    "        else:\n",
    "            iterations_no_improve += 1\n",
    "        \n",
    "        if total_iterations % 100 == 0:\n",
    "            print(f\"Iteration {total_iterations}, Best score: {best_score}, No improvement: {iterations_no_improve}\")\n",
    "    \n",
    "    original_guests = len(preferences)\n",
    "    final_arrangement = []\n",
    "    for table in best_arrangement:\n",
    "        real_guests = [guest for guest in table if guest < original_guests]\n",
    "        if real_guests:  \n",
    "            final_arrangement.append(real_guests)\n",
    "    \n",
    "    return final_arrangement"
   ]
  },
  {
   "cell_type": "code",
   "execution_count": null,
   "metadata": {},
   "outputs": [
    {
     "name": "stdout",
     "output_type": "stream",
     "text": [
      "Iteration 100, Best score: 60.0, No improvement: 96\n"
     ]
    },
    {
     "data": {
      "text/plain": [
       "[[7, 6], [1, 2, 4], [0, 3, 5]]"
      ]
     },
     "execution_count": 22,
     "metadata": {},
     "output_type": "execute_result"
    }
   ],
   "source": [
    "tabu_search(test_preference_matrix, 3, max_iterations=1000, tabu_tenure=7, max_no_improve=100)"
   ]
  },
  {
   "cell_type": "markdown",
   "metadata": {},
   "source": [
    "GENETIC ALGORITHM (NEW VERSION)"
   ]
  },
  {
   "cell_type": "markdown",
   "metadata": {},
   "source": [
    "Conversao para ser mais facil visualizar os convidados nas mesas "
   ]
  },
  {
   "cell_type": "code",
   "execution_count": 108,
   "metadata": {},
   "outputs": [
    {
     "name": "stdout",
     "output_type": "stream",
     "text": [
      "[0, 1, 2]\n",
      "[3, 4, 5]\n",
      "[6, 7]\n"
     ]
    }
   ],
   "source": [
    "from collections import defaultdict\n",
    "\n",
    "def solution_to_tables(solution):\n",
    "    mesas = defaultdict(list)\n",
    "    for convidado, mesa in enumerate(solution):\n",
    "        mesas[mesa].append(convidado)\n",
    "    return list(mesas.values())\n",
    "\n",
    "\n",
    "m=solution_to_tables([0, 0, 0, 1, 1, 1, 2, 2]\n",
    ")\n",
    "\n",
    "for i in m:\n",
    "    print(i)"
   ]
  },
  {
   "cell_type": "code",
   "execution_count": 109,
   "metadata": {},
   "outputs": [
    {
     "name": "stdout",
     "output_type": "stream",
     "text": [
      "-10.0\n"
     ]
    }
   ],
   "source": [
    "def evaluate_table_(table, matrix):\n",
    "    score = 0\n",
    "    for guest in table:\n",
    "        for neighbor in table:\n",
    "            if guest != neighbor:\n",
    "                score += matrix[guest][neighbor]\n",
    "\n",
    "    return score\n",
    "\n",
    "def standard_deviation_(tables, preference_matrix):\n",
    "    solution = solution_to_tables(tables)\n",
    "    score_tables = []\n",
    "    total_score=0\n",
    "    for table in solution:\n",
    "        current_score = evaluate_table_(table, preference_matrix)\n",
    "        total_score += current_score\n",
    "        score_tables.append(current_score)\n",
    "    average = total_score/len(solution)\n",
    "\n",
    "    std_sum=0\n",
    "    for score in score_tables:\n",
    "        std_sum += (score-average)**2\n",
    "    \n",
    "    std = math.sqrt(std_sum/len(solution))\n",
    "    return std\n",
    "\n",
    "def evaluate_solution_(solution, preference_matrix):\n",
    "    average = average_tables_(solution, preference_matrix)  #not optimal\n",
    "    std = standard_deviation_(solution, preference_matrix) + 1  # shift de 1 para nunca poder haver divisao por 0\n",
    "    return (average/std)\n",
    "    \n",
    "\n",
    "def average_tables_(solution, matrix):\n",
    "    tables = solution_to_tables(solution)\n",
    "    score = 0\n",
    "    for table in tables:\n",
    "        score += evaluate_table_(table, matrix)\n",
    "    average = score / len(tables)\n",
    "    return average\n",
    "\n",
    "table_arrangement2=[0, 1, 0, 1]\n",
    "score = evaluate_solution_(table_arrangement2, test_preference_matrix)\n",
    "print(score)"
   ]
  },
  {
   "cell_type": "code",
   "execution_count": 110,
   "metadata": {},
   "outputs": [
    {
     "name": "stdout",
     "output_type": "stream",
     "text": [
      "[2, 0, 3, 2, 0, 1, 3, 1]\n",
      "[3, 0, 1, 2, 1, 0, 2, 3]\n",
      "[3, 0, 2, 1, 0, 2, 3, 1]\n",
      "[0, 3, 2, 3, 2, 1, 0, 1]\n",
      "[3, 0, 1, 2, 3, 1, 2, 0]\n"
     ]
    }
   ],
   "source": [
    "def generate_population_(pop_size, preference_matrix, seatsPerTable):\n",
    "    num_guests = len(preference_matrix)\n",
    "    num_tables = (num_guests + seatsPerTable - 1) // seatsPerTable\n",
    "    population = []\n",
    "    \n",
    "    for _ in range(pop_size):\n",
    "        guests = list(range(num_guests))\n",
    "        random.shuffle(guests)\n",
    "        individual = [0] * num_guests\n",
    "        for i, guest in enumerate(guests):\n",
    "            mesa = i // seatsPerTable\n",
    "            individual[guest] = mesa\n",
    "        population.append(individual)\n",
    "    \n",
    "    return population\n",
    "\n",
    "population = generate_population_(5, test_preference_matrix, 2)\n",
    "for s in population:\n",
    "    print(s)"
   ]
  },
  {
   "cell_type": "code",
   "execution_count": null,
   "metadata": {},
   "outputs": [],
   "source": []
  },
  {
   "cell_type": "code",
   "execution_count": 111,
   "metadata": {},
   "outputs": [],
   "source": [
    "def get_neighbour_(curr_arrangement):\n",
    "    neighbor = curr_arrangement[:]\n",
    "    num_guests = len(neighbor)\n",
    "\n",
    "    # Escolher dois convidados diferentes\n",
    "    guest1 = random.randint(0, num_guests - 1)\n",
    "    guest2 = random.randint(0, num_guests - 1)\n",
    "    while guest1 == guest2 or neighbor[guest1] == neighbor[guest2]:\n",
    "        guest2 = random.randint(0, num_guests - 1)\n",
    "\n",
    "    # Trocar as mesas atribuídas entre os dois convidados\n",
    "    neighbor[guest1], neighbor[guest2] = neighbor[guest2], neighbor[guest1]\n",
    "\n",
    "    return neighbor\n"
   ]
  },
  {
   "cell_type": "code",
   "execution_count": 112,
   "metadata": {},
   "outputs": [],
   "source": [
    "from collections import Counter\n",
    "import random\n",
    "\n",
    "def random_crossover_(parent1, parent2, preference_matrix, seatsPerTable):\n",
    "    num_guests = len(parent1)\n",
    "    num_tables = (num_guests + seatsPerTable - 1) // seatsPerTable\n",
    "\n",
    "    cut = random.randint(1, num_guests - 2)\n",
    "\n",
    "    child1 = parent1[:cut] + parent2[cut:]\n",
    "    child2 = parent2[:cut] + parent1[cut:]\n",
    "\n",
    "    child1 = optimize_child(child1, num_tables, seatsPerTable, preference_matrix)\n",
    "    child2 = optimize_child(child2, num_tables, seatsPerTable, preference_matrix)\n",
    "\n",
    "    return child1, child2\n",
    "\n",
    "\n",
    "def optimize_child(child, num_tables, seatsPerTable, preference_matrix):\n",
    "    table_counts = Counter(child)\n",
    "\n",
    "    # Mesas com mais do que o permitido\n",
    "    overfilled = {mesa: count for mesa, count in table_counts.items() if count > seatsPerTable}\n",
    "    # Mesas com espaço livre\n",
    "    underfilled = {mesa: seatsPerTable - table_counts.get(mesa, 0) for mesa in range(num_tables) if table_counts.get(mesa, 0) < seatsPerTable}\n",
    "\n",
    "    if not overfilled:\n",
    "        return child  # solução já está válida\n",
    "\n",
    "    # Identificar os convidados a mover (os que menos contribuem)\n",
    "    guest_to_move = []\n",
    "    for mesa in overfilled:\n",
    "        guests = [i for i, m in enumerate(child) if m == mesa]\n",
    "        guests_sorted = sorted(guests, key=lambda g: contribution_to_table(g, child, preference_matrix), reverse=True)\n",
    "        needed = overfilled[mesa] - seatsPerTable\n",
    "        guest_to_move.extend(guests_sorted[-needed:])  # mover os que contribuem menos\n",
    "\n",
    "    # Mover os convidados para mesas com espaço\n",
    "    underfilled_list = list(underfilled.items())  # [(mesa, lugares)]\n",
    "    idx = 0\n",
    "    for guest in guest_to_move:\n",
    "        while idx < len(underfilled_list) and underfilled_list[idx][1] == 0:\n",
    "            idx += 1\n",
    "        if idx >= len(underfilled_list):\n",
    "            break  # tudo alocado\n",
    "        mesa_destino = underfilled_list[idx][0]\n",
    "        child[guest] = mesa_destino\n",
    "        underfilled_list[idx] = (mesa_destino, underfilled_list[idx][1] - 1)\n",
    "\n",
    "    return child\n",
    "\n",
    "\n",
    "def contribution_to_table(guest, solution, matrix):\n",
    "    mesa = solution[guest]\n",
    "    same_table = [i for i in range(len(solution)) if i != guest and solution[i] == mesa]\n",
    "    return sum(matrix[guest][other] + matrix[other][guest] for other in same_table)\n"
   ]
  },
  {
   "cell_type": "code",
   "execution_count": 113,
   "metadata": {},
   "outputs": [
    {
     "data": {
      "text/plain": [
       "'population = generate_population_(5, test_preference_matrix, 2)\\nfor s in population:\\n    print(s)\\nprint(\"\")   \\nt = tournament_select_(population, test_preference_matrix, 3)\\nprint(t)\\nprint(\"\")\\nr = roulette_select_(population, test_preference_matrix)\\nprint(r)'"
      ]
     },
     "execution_count": 113,
     "metadata": {},
     "output_type": "execute_result"
    }
   ],
   "source": [
    "def tournament_select_(population, preference_matrix, tournament_size, exclude=None):\n",
    "    filtered_population = [ind for ind in population if ind != exclude]\n",
    "\n",
    "    if len(filtered_population) == 0:\n",
    "        return exclude \n",
    "\n",
    "    #print(\"pop size: \")\n",
    "    #print(len(filtered_population))\n",
    "    # Corrigir o tamanho do torneio para nunca ultrapassar o tamanho da população\n",
    "    tournament_size = min(tournament_size, len(filtered_population))\n",
    "\n",
    "    selected = random.sample(filtered_population, tournament_size)\n",
    "    best_solution = max(selected, key=lambda s: evaluate_solution_(s, preference_matrix))\n",
    "    return best_solution\n",
    "\n",
    "\n",
    "def roulette_select_(population, preference_matrix, exclude=None):\n",
    "    filtered_population = [ind for ind in population if ind != exclude]\n",
    "    fitness_values = np.array([evaluate_solution_(s, preference_matrix) for s in filtered_population])\n",
    "    total_fitness = np.sum(fitness_values)\n",
    "    rand_value = np.random.uniform(0, total_fitness)\n",
    "\n",
    "    cumulative_sum = 0\n",
    "    for i, fitness in enumerate(fitness_values):\n",
    "        cumulative_sum += fitness\n",
    "        if rand_value <= cumulative_sum:\n",
    "            return filtered_population[i]\n",
    "    \n",
    "\n",
    "\n",
    "\"\"\"population = generate_population_(5, test_preference_matrix, 2)\n",
    "for s in population:\n",
    "    print(s)\n",
    "print(\"\")   \n",
    "t = tournament_select_(population, test_preference_matrix, 3)\n",
    "print(t)\n",
    "print(\"\")\n",
    "r = roulette_select_(population, test_preference_matrix)\n",
    "print(r)\"\"\"\n"
   ]
  },
  {
   "cell_type": "code",
   "execution_count": 134,
   "metadata": {},
   "outputs": [],
   "source": [
    "def mutation_(parent, mutation_prob=0.1):\n",
    "    if random.random() < mutation_prob:  \n",
    "        return get_neighbour_(parent)\n",
    "    return parent"
   ]
  },
  {
   "cell_type": "code",
   "execution_count": 137,
   "metadata": {},
   "outputs": [
    {
     "name": "stdout",
     "output_type": "stream",
     "text": [
      "MATRIZ PREFERENCIA\n",
      "[[0, 46, 83, -54, 96, 20, 82, 70, -3, -88, 90, -37, 77, -94, 52, 17, 83, 36, -26, -83, -33, 30, -61, 93, -52, 58, -94, 30, -50, -43, -45, 1, -81, -89, -29, -5, -64, 83, -94, 15, 74, -89, -93, -92, 86, 80, 27, 5, 53, 0, -28, -32, -70, 47, 89, 62, 36, -2, 9, -79, -46, -51, 94, 70, -1, -24, -43, 13, -49, 62, 38, 79, 9, 62, -64, 28, 26, 95, -76, 78, 7, 68, 72, -87, -59, 14, -46, -62, 30, 57, 41, -3, -5, 14, -93, 27, -29, 17, -79, -63], [46, 0, -71, -8, -82, -26, -22, 74, -86, -5, -20, 29, 73, 40, -71, 22, -42, 23, 81, -14, 11, 35, 9, 89, -4, -67, 4, 86, 41, -65, -74, -25, -100, 65, 64, -15, -17, 2, 3, -62, -58, 84, -87, 36, -99, -93, -3, 23, -10, 99, -22, -34, 63, 27, -57, -68, 23, 0, 52, 19, 20, -91, -27, -82, 69, 18, 6, -10, 43, 39, -27, 4, 59, 44, 6, 49, 56, -93, -19, 64, -62, -2, 98, 92, -93, 55, -35, -17, -81, -42, -13, -81, -64, 89, 99, 99, -81, 0, 27, -26], [83, -71, 0, 51, 45, 22, -99, 76, 54, -14, 69, 23, -26, -3, 78, 37, -91, 45, -32, -22, 99, 29, 69, -74, -22, 52, -42, -42, -98, -57, 14, 36, -79, -75, -76, 45, -32, -90, -1, -59, 45, 34, -90, 46, 37, 25, 11, -29, -15, 17, 98, -18, -32, 9, 41, 93, 77, 21, 93, -54, 86, 25, -61, -11, 83, -85, 3, 42, 48, 64, 70, -10, -6, 3, 9, 42, -12, 65, -8, 35, -7, 33, -49, 37, 94, -73, 94, 27, 36, 94, -2, -37, -29, -54, -95, 45, 53, -20, -34, -61], [-54, -8, 51, 0, 43, -91, 21, 90, 40, -43, 49, 23, 8, 73, 51, -86, -32, -46, 86, -94, 15, -43, 63, 80, 94, -31, -28, 59, 19, 29, -8, 4, 84, 21, -36, 79, 2, 81, -15, 2, -99, 31, -86, -28, -29, -97, 24, 28, -38, -6, 10, 99, -40, 45, -55, -35, -56, -26, 2, 17, 14, -6, -54, 31, 35, 60, -59, -50, 6, -23, -23, -4, -60, 71, 43, 56, -31, 95, -79, -63, -33, -19, -56, -73, -8, 96, 25, -8, -25, 29, -19, 55, -42, 18, -97, 52, 68, -6, 93, 0], [96, -82, 45, 43, 0, -38, 91, 81, -89, -23, -28, -15, -40, -94, 0, -63, -14, 10, -2, -82, -67, 89, -63, 45, 59, -89, -23, 23, 30, -71, -26, -51, 66, 15, -54, 3, 14, -90, 40, -68, -78, 93, -42, -11, -98, 54, 95, -5, -39, 71, -13, -89, 78, 23, -5, 54, 45, 75, 59, 49, 46, -90, 80, 21, -5, -44, 84, -69, -27, 14, -29, 94, 46, -11, 37, -33, 55, -71, 1, -60, 4, 14, -17, 86, -33, 11, 98, 95, 52, 99, -30, -44, -63, 35, -87, 60, 26, 37, 91, 91], [20, -26, 22, -91, -38, 0, 58, 15, 82, 57, -61, 94, -85, -89, -27, -74, -20, -67, 90, -59, -100, -61, -67, 61, 17, -96, -38, 68, 33, 36, -92, -61, 12, 24, 47, -76, 18, 0, 4, 55, -91, 46, 30, -77, -18, 25, 45, 31, -7, 62, 63, 78, 90, 37, -53, -75, -62, -53, 97, 35, 74, 25, 30, -97, -83, -28, 24, 39, -13, -55, 76, -19, 59, -86, -16, 57, -4, 83, 86, -2, 82, -70, -81, 14, 48, -41, -21, 93, -48, 67, -66, -73, 12, -10, -46, -63, 93, -47, 1, 71], [82, -22, -99, 21, 91, 58, 0, 11, -59, -36, -56, 58, 32, -86, 50, -15, -37, -31, -57, 38, 81, 49, 73, -97, -95, -67, 37, 44, -40, 5, -100, -33, 47, 79, -53, 42, -28, -86, 40, -73, -72, -63, -72, 3, 43, -62, 59, 87, 18, 4, 98, 9, 86, -10, 31, 18, -83, 71, 65, -6, 75, -76, 89, -51, -21, -16, 41, -47, 69, -5, 35, 72, 62, -30, 3, 89, 17, -40, 27, -70, -30, -65, 36, -55, 68, 12, -53, -96, 11, 43, -74, -16, 90, 3, 75, 91, 90, -78, 5, 46], [70, 74, 76, 90, 81, 15, 11, 0, 89, 95, 18, 29, -23, 4, 51, -76, 12, 82, -21, 95, -8, 21, 40, 21, -29, 68, 72, 61, -64, 11, 33, -76, 94, -26, 51, 88, -69, -54, 4, 44, 24, -33, -62, -70, -76, 44, -84, -73, 49, 38, -45, 44, 26, -77, -7, -41, -40, -23, 97, 52, -55, 31, -55, -100, 90, 18, -37, 73, -8, 43, 1, 25, -6, 89, -39, 56, -60, 66, 6, 41, -51, 25, 76, 15, 20, 80, -35, 97, -37, -56, 90, -95, 86, 99, -65, -82, 69, -28, 89, -80], [-3, -86, 54, 40, -89, 82, -59, 89, 0, -83, 70, -20, -69, 1, -30, -19, 93, -28, 34, 7, 46, -69, -20, -33, 24, -85, -74, -68, 69, -50, 84, -68, -16, -16, 14, 53, 85, 27, -30, 60, 54, -56, 2, -10, -53, -24, 16, 98, -30, 85, -71, -55, -3, 78, 12, 31, -26, 88, 7, -13, 33, 26, -50, -86, 73, -52, -31, -98, 11, 28, -32, -62, 33, 46, 49, -27, 84, 14, -100, 40, -26, 99, 96, -82, -79, 87, -95, -95, 23, 39, -98, 18, -22, -88, -31, 65, -28, -23, -1, 25], [-88, -5, -14, -43, -23, 57, -36, 95, -83, 0, -58, -4, 56, 89, 57, 74, -20, 36, -14, -81, -93, 30, -3, 44, 44, -31, -62, 25, 25, 90, 22, 84, -15, -43, 50, 12, 26, -4, -69, 56, 34, 63, -21, -4, -26, -58, 49, -98, -24, 99, -48, 29, 70, -7, 99, 27, -76, 88, -67, 93, 2, -1, -39, -64, 93, 52, -34, 37, 18, -54, -66, -39, -49, -93, -49, -50, 97, -41, -34, 51, 21, -11, 20, 19, 24, -81, 97, 53, -20, 21, -68, -98, -14, 67, 72, -24, -25, 18, -29, -85], [90, -20, 69, 49, -28, -61, -56, 18, 70, -58, 0, 74, 66, -45, -95, 14, -31, -48, -83, -12, 44, -1, -18, -28, -18, -5, 2, 55, -46, -83, -96, -62, 76, 82, -45, -23, -11, -11, 47, 32, -1, -23, 32, 5, -18, 75, 97, 98, 65, 43, -14, -87, 81, 63, -6, 49, -20, 10, 10, -54, -31, 67, 52, -3, -24, 33, -84, 24, 11, -51, -65, 72, -44, 13, 60, 4, 47, 8, -3, -61, -79, -53, 69, -98, 15, -23, 64, 61, 18, 83, -58, 12, 59, -89, -64, -46, -19, 24, -46, -75], [-37, 29, 23, 23, -15, 94, 58, 29, -20, -4, 74, 0, -99, -9, -27, 58, -43, 84, -21, 40, 83, -44, -41, 99, -38, 27, 64, -32, -27, -16, -85, -67, -8, -81, 83, 97, 30, 86, 88, 12, -51, 93, 94, 55, -39, -5, 98, -44, 61, -97, -68, 67, -94, -20, 63, -23, -81, -32, 16, 14, 99, -52, -48, 18, 11, 6, -98, -66, 21, -57, -37, 25, -11, -93, 81, 27, -17, -4, 8, 3, 59, 9, 69, -7, 71, 22, -11, 47, 70, 79, 18, 65, 31, 14, -68, 85, -76, -88, 35, 60], [77, 73, -26, 8, -40, -85, 32, -23, -69, 56, 66, -99, 0, -99, 49, -42, 82, -61, -33, 69, -70, -14, 61, -49, 93, 37, -88, 84, 58, -92, -53, 13, -51, -10, 61, 83, 95, 75, 17, -50, 87, -30, 74, 39, 2, 3, 42, 92, 72, -74, 46, 33, -85, -37, 72, 88, 61, 76, -57, -86, 23, 63, -72, 1, 13, 32, -42, -16, 87, 76, -1, -82, 22, -21, -77, -75, 93, -41, 55, -98, -27, 66, 95, -100, -20, -53, -28, -97, 20, 50, 80, -88, -88, 44, -91, 77, -48, 4, 41, 10], [-94, 40, -3, 73, -94, -89, -86, 4, 1, 89, -45, -9, -99, 0, 80, 10, -100, 8, -22, -27, -70, 50, 99, 97, -59, 99, 72, -61, 99, -62, 4, 34, 68, 7, -86, 95, 69, -84, 64, -5, 93, -94, 68, -28, -78, -34, -79, 58, -14, 69, -67, 14, -51, -43, 18, 25, -14, 4, 13, 70, 82, -47, 42, 6, -55, -6, 73, 80, 8, 25, -83, -62, -26, -93, -58, -67, 5, 82, -19, -53, 84, -60, 58, -98, -58, -5, -99, -90, 32, -29, -54, 11, -60, 24, 40, 34, 10, -37, -73, -77], [52, -71, 78, 51, 0, -27, 50, 51, -30, 57, -95, -27, 49, 80, 0, -75, -82, 98, -9, -84, 73, -22, -89, 57, 96, 82, -45, -90, -89, -84, -72, -52, -37, 33, -80, 29, -100, -30, 98, 6, -11, 8, 84, 63, -40, -18, -44, -14, -70, 4, -40, -41, -49, -7, -35, -72, -18, -96, -17, 36, 80, 54, 90, 45, 81, -25, -13, 85, 86, -33, 60, 48, 53, 79, 33, 3, 22, 52, -18, -93, -10, 66, 97, -39, -60, -76, 74, 89, -95, -58, 65, 85, -73, -16, -25, 68, -84, -48, 93, -68], [17, 22, 37, -86, -63, -74, -15, -76, -19, 74, 14, 58, -42, 10, -75, 0, 36, -88, 4, -50, -79, 45, 97, -51, -7, -49, -60, -11, -7, -65, 9, -36, -65, 32, 49, 92, 33, 37, -83, -19, -48, -90, -99, 71, -55, -42, -95, -11, -23, -17, -51, 11, 36, 89, 1, -11, 70, 2, 83, 82, 49, 50, -14, 39, 12, -87, -72, -40, 53, 80, 56, 18, 59, 58, 46, 84, 50, 43, 59, -99, 51, -59, 75, -18, -75, -56, 72, -78, -87, -98, 80, -1, -16, 13, 60, -74, 9, 30, -41, 16], [83, -42, -91, -32, -14, -20, -37, 12, 93, -20, -31, -43, 82, -100, -82, 36, 0, -100, 13, -94, -81, 66, -64, 39, 12, -84, 1, -77, 3, -6, 90, -30, -12, 36, -41, 63, 57, -83, -37, -16, -98, 90, 15, 72, -74, 87, 86, 61, 80, 56, 59, -90, -46, -69, -52, 66, -11, 75, -19, 83, 64, 75, -60, -22, 95, -5, 87, 5, -73, 0, -53, 28, -49, -54, 96, 61, -75, 86, 59, 81, 83, -41, 3, -77, 83, -43, 88, 3, 71, -68, 79, -29, -14, -19, 26, -63, -38, -55, -56, 33], [36, 23, 45, -46, 10, -67, -31, 82, -28, 36, -48, 84, -61, 8, 98, -88, -100, 0, -77, -12, -16, -1, 25, 14, -80, -79, 75, -71, -90, -22, -32, 88, -92, -53, -53, -92, 52, 2, -37, 61, -56, 97, -95, -30, 43, -50, 47, -79, -52, 18, 43, -93, -57, -18, -52, 49, 35, -69, 25, -87, -94, -26, -8, -4, -73, -84, -39, -74, -34, 21, 66, 38, -17, 58, -86, 60, -97, 52, 87, -57, 17, -95, -53, -77, -83, -68, 60, -41, 97, -2, -97, -79, -73, -33, 97, 77, -23, 47, -88, -52], [-26, 81, -32, 86, -2, 90, -57, -21, 34, -14, -83, -21, -33, -22, -9, 4, 13, -77, 0, -90, 47, 12, -31, -83, 88, -53, -44, 64, 34, 91, -93, 85, -7, -14, 31, -68, 25, 77, -16, 40, 47, -28, 80, 26, 10, -56, 15, -70, -5, 39, -14, 13, 55, -18, -3, 78, -96, -79, -2, 91, 16, -82, 84, -49, -6, -25, -83, 4, -100, 33, -8, 69, -81, -4, 5, -72, 62, -22, -3, 81, 22, -87, 65, -60, -95, 66, -8, 39, 15, 12, -65, -46, -12, 73, -46, -54, -59, -30, 81, -79], [-83, -14, -22, -94, -82, -59, 38, 95, 7, -81, -12, 40, 69, -27, -84, -50, -94, -12, -90, 0, 30, -94, 87, 44, -4, -43, 42, -55, -53, -47, -63, 99, -34, 66, 27, -55, -66, -26, -11, 48, -61, -89, 53, -34, -75, 87, -15, -86, 46, -71, -40, -13, 46, 56, 64, 52, 99, -92, 33, 67, -72, -99, 92, 65, 97, -91, 98, 82, -13, 74, 44, -62, -70, -52, -69, -67, 10, -95, -72, -3, 7, -35, 46, 59, 51, 43, -83, -3, 14, 87, -47, 50, -32, -37, 60, -7, 55, 29, 81, -18], [-33, 11, 99, 15, -67, -100, 81, -8, 46, -93, 44, 83, -70, -70, 73, -79, -81, -16, 47, 30, 0, 2, -49, -96, 59, -55, 41, -21, 2, -71, -7, 58, 68, -73, -27, 80, 37, -8, -45, -39, -8, 30, -41, -44, -26, -23, -61, -82, 94, -84, -76, 71, -86, -72, 76, 9, -31, -25, 67, 50, -7, -23, 1, -70, -35, 94, 33, 77, 18, 87, 85, 37, -18, -60, 64, -100, -9, 9, -62, 88, 61, -16, 64, -89, -75, 3, 30, -18, 67, -78, 18, 69, 20, 20, 86, -7, 37, 19, -96, 74], [30, 35, 29, -43, 89, -61, 49, 21, -69, 30, -1, -44, -14, 50, -22, 45, 66, -1, 12, -94, 2, 0, 84, 62, 3, 32, -42, 40, 74, 19, -45, -55, 26, 7, 66, 57, 65, -90, -1, -47, 46, -7, 84, -47, 80, 23, -33, 6, -27, 76, -94, 81, -7, 46, -90, 71, 77, -74, 15, -65, -72, -63, 74, 55, -43, -6, -92, 49, -19, 41, 40, 88, 18, 47, 63, -96, -95, -19, 95, -50, -77, 1, -22, -9, -24, 36, -25, -10, -56, 96, -70, -34, -70, -10, -80, -6, 97, 41, -91, -64], [-61, 9, 69, 63, -63, -67, 73, 40, -20, -3, -18, -41, 61, 99, -89, 97, -64, 25, -31, 87, -49, 84, 0, 82, -69, 30, -1, 95, -99, -51, 67, -71, -47, 27, 44, -93, 44, 40, -56, -69, -47, -33, 10, 44, 66, 13, 55, -65, 2, -83, 41, -82, 43, 91, 1, 46, 81, -63, 40, 70, 3, 5, 38, -69, 29, -97, -42, 21, 30, -22, 70, 73, 28, -17, -41, -99, 33, -24, 32, -9, 61, 95, -62, 17, 1, -29, 34, 77, -96, 8, -48, 55, 92, 46, 49, -46, -82, 0, -49, -80], [93, 89, -74, 80, 45, 61, -97, 21, -33, 44, -28, 99, -49, 97, 57, -51, 39, 14, -83, 44, -96, 62, 82, 0, 43, -48, 95, -45, 38, 47, 40, -35, 11, -96, 75, 19, -50, -78, -54, 30, 86, 6, -55, -43, -47, -86, -75, 38, -27, 79, -4, -22, -33, -53, 30, 17, 60, 64, 38, 83, -62, 8, 44, -97, 84, 34, 61, 5, 57, 22, 45, -47, -45, -79, -100, 53, -36, -16, -20, -5, 83, 9, 66, -56, 45, 47, 1, -67, 77, 8, -9, 81, 32, -71, -52, -94, -72, 84, 34, 68], [-52, -4, -22, 94, 59, 17, -95, -29, 24, 44, -18, -38, 93, -59, 96, -7, 12, -80, 88, -4, 59, 3, -69, 43, 0, -56, -45, 83, -80, 2, -9, -13, -7, -76, -22, -11, 53, 78, 50, -98, -48, -26, 11, 10, -77, 94, -54, -9, 24, 32, -80, 12, -50, 46, -47, 27, -87, -65, -51, 21, -90, -82, 22, 5, -39, 72, -85, 22, 75, -75, 81, 92, 30, 62, 16, 62, 65, -41, -27, -55, 5, -95, 13, 28, 51, -60, -54, -84, -93, -87, -24, -10, -20, 56, -33, 41, 53, 23, -31, 14], [58, -67, 52, -31, -89, -96, -67, 68, -85, -31, -5, 27, 37, 99, 82, -49, -84, -79, -53, -43, -55, 32, 30, -48, -56, 0, -74, -52, 99, -71, 77, -75, 73, -98, 5, -27, 25, -95, -66, -81, -89, 49, -77, 41, -32, 78, 66, -11, -21, -69, 65, -76, -17, -14, -81, 25, 38, 16, 86, -92, 18, -97, 35, -62, 28, -9, -13, 90, -49, -84, 28, 44, -20, 99, -54, 23, -75, 65, 78, -71, -15, 89, -90, 44, -16, -25, -84, 78, 5, 25, 38, -89, 43, 93, -69, 88, -53, 25, -58, 41], [-94, 4, -42, -28, -23, -38, 37, 72, -74, -62, 2, 64, -88, 72, -45, -60, 1, 75, -44, 42, 41, -42, -1, 95, -45, -74, 0, 33, -59, 19, 80, 35, -5, 81, 4, 24, -35, 1, -86, 9, 98, 74, -59, 62, 8, -92, -83, -94, -85, -81, -29, 25, -65, 12, -72, -65, 18, 62, -49, -26, -63, -77, -52, -6, -83, -14, 57, -78, 40, 75, 85, 90, -62, 45, -38, -63, -11, -90, 44, 33, -97, -68, 5, 11, -97, -58, -25, -23, -66, -73, 43, -37, 51, 55, -27, 43, -45, -60, -69, 20], [30, 86, -42, 59, 23, 68, 44, 61, -68, 25, 55, -32, 84, -61, -90, -11, -77, -71, 64, -55, -21, 40, 95, -45, 83, -52, 33, 0, -37, 88, -4, 88, 22, -19, 24, 56, -39, -43, 14, 71, -87, 37, 43, -57, -16, -95, 67, -85, -61, 84, -53, -25, 21, 17, 81, 61, 44, -58, -98, 7, 59, 54, 36, -82, -77, 10, -18, 68, -61, -99, 46, -29, 60, -27, 11, -19, 14, -46, -72, 74, -29, 63, 18, -56, 14, -32, -100, 75, 47, 42, -14, 76, 87, -9, -99, 28, -31, 41, 11, -95], [-50, 41, -98, 19, 30, 33, -40, -64, 69, 25, -46, -27, 58, 99, -89, -7, 3, -90, 34, -53, 2, 74, -99, 38, -80, 99, -59, -37, 0, -82, 9, -62, 8, -51, 39, -50, 28, -32, 45, -12, 79, 92, 59, 68, -45, -29, -93, 50, -58, -22, -56, 49, 25, -46, 52, 20, 29, 98, -59, -89, -54, -53, 27, -39, 76, -72, 87, 92, 26, 26, -64, -17, -81, -71, 10, -45, 66, -45, 88, 34, 2, 35, -98, 50, -90, 91, 22, 27, -82, 17, 26, 58, 66, -61, 46, 54, 57, -27, 20, -1], [-43, -65, -57, 29, -71, 36, 5, 11, -50, 90, -83, -16, -92, -62, -84, -65, -6, -22, 91, -47, -71, 19, -51, 47, 2, -71, 19, 88, -82, 0, -96, 59, -77, -20, 93, -62, 86, 10, 69, -62, 93, -27, -66, 57, -8, 32, 45, -6, 35, 0, -77, 65, -75, 58, 12, -75, 77, 86, -10, 38, -69, -28, 0, -100, 19, 23, -16, 40, 9, 70, -99, 88, 43, 1, -78, -77, -74, -35, -15, 27, -21, -62, -24, 78, -35, -68, 11, -23, 12, 15, -13, 70, -56, -87, 81, 90, -30, -96, 51, 85], [-45, -74, 14, -8, -26, -92, -100, 33, 84, 22, -96, -85, -53, 4, -72, 9, 90, -32, -93, -63, -7, -45, 67, 40, -9, 77, 80, -4, 9, -96, 0, -24, 7, -45, 41, 69, -66, -17, 87, 66, 3, -37, 93, 40, 72, -2, -47, 27, -24, -51, 57, 13, 44, -61, -93, -74, -91, -87, 87, -95, 6, 14, 73, -77, 31, -8, -8, 25, -85, -36, -78, -23, 18, -94, 52, -99, -28, 4, -42, -37, -86, 42, -77, 69, -19, -73, -64, 31, 89, -15, 70, -47, 5, 58, 49, -81, 97, 2, 58, 28], [1, -25, 36, 4, -51, -61, -33, -76, -68, 84, -62, -67, 13, 34, -52, -36, -30, 88, 85, 99, 58, -55, -71, -35, -13, -75, 35, 88, -62, 59, -24, 0, -76, -68, -19, -7, -92, 93, -47, 43, -7, -81, 95, -82, 52, 57, 81, 44, -95, 67, 4, 95, 10, -5, -18, 67, 82, 9, 23, -47, -37, -19, -74, -61, -90, 71, 84, -92, -16, -55, -80, -78, 57, 11, 30, 25, -98, -45, 99, -27, 38, -35, 12, -52, -10, 63, -59, 85, 47, 19, -4, -75, -93, 82, 16, -68, -39, 38, 33, 17], [-81, -100, -79, 84, 66, 12, 47, 94, -16, -15, 76, -8, -51, 68, -37, -65, -12, -92, -7, -34, 68, 26, -47, 11, -7, 73, -5, 22, 8, -77, 7, -76, 0, -40, 19, -56, -44, -74, 90, 7, 74, -15, -12, 74, -56, 37, -81, -45, 98, 2, -72, 39, 0, -37, -78, -30, -91, -29, 54, 3, -99, -62, -80, -99, -35, -87, 15, -9, -76, 39, -100, 74, -80, -6, -4, -83, -86, 17, 82, 90, 73, 77, -19, 22, 22, -6, -25, -64, -70, 60, 33, -16, -90, -84, 23, 97, 45, -89, -61, -35], [-89, 65, -75, 21, 15, 24, 79, -26, -16, -43, 82, -81, -10, 7, 33, 32, 36, -53, -14, 66, -73, 7, 27, -96, -76, -98, 81, -19, -51, -20, -45, -68, -40, 0, -96, 29, -67, -30, 21, 41, -62, -90, -64, -57, 29, -15, 80, 32, 70, 67, -29, -65, 60, -82, -69, -74, -47, -42, 99, -44, -23, -78, 5, 91, 77, -61, 65, 24, 61, -36, 91, 28, 93, -6, -3, -93, 67, 89, -70, -43, -36, 97, 70, -75, -33, -3, 92, 46, -65, -94, 44, -89, -65, -43, 7, 9, 8, -18, 10, -52], [-29, 64, -76, -36, -54, 47, -53, 51, 14, 50, -45, 83, 61, -86, -80, 49, -41, -53, 31, 27, -27, 66, 44, 75, -22, 5, 4, 24, 39, 93, 41, -19, 19, -96, 0, -67, 80, 58, 84, 96, 98, -91, -35, -44, 98, -42, 93, 93, -58, 75, -79, -74, 5, 3, 38, 73, -34, -66, -68, -66, 20, 76, -63, 49, 28, -76, 8, 42, -74, -68, 87, -14, 26, 42, -60, -13, -60, -61, 72, -88, 23, 39, -22, -15, -51, 88, 56, 56, 48, -97, 50, 51, 2, -96, 30, -22, -52, 27, -6, -4], [-5, -15, 45, 79, 3, -76, 42, 88, 53, 12, -23, 97, 83, 95, 29, 92, 63, -92, -68, -55, 80, 57, -93, 19, -11, -27, 24, 56, -50, -62, 69, -7, -56, 29, -67, 0, -79, -58, -69, -64, 40, 21, 75, 20, 90, 11, 24, 3, -5, 53, 83, 53, -83, -9, -50, 65, -70, -59, 51, 24, -13, 45, -92, -3, -33, 66, 76, -25, 50, -85, 96, 33, -84, -65, 52, 60, 13, 44, -13, 29, -39, -78, 61, 89, 5, -14, 82, -46, 63, -9, 21, -27, -47, -97, -76, 85, 67, -76, -27, 92], [-64, -17, -32, 2, 14, 18, -28, -69, 85, 26, -11, 30, 95, 69, -100, 33, 57, 52, 25, -66, 37, 65, 44, -50, 53, 25, -35, -39, 28, 86, -66, -92, -44, -67, 80, -79, 0, 57, -32, 5, 89, -69, 21, 22, -57, 1, -71, -88, -21, 29, 28, 96, 95, -33, -39, -51, -49, -17, 97, -81, -18, -4, 10, 39, 48, -66, 30, -81, 4, -95, 90, -45, 54, 73, 10, -2, -23, -75, 57, 6, 61, 80, -20, -52, -76, -50, 33, 55, 96, -60, -68, 45, -60, 21, 43, -76, 73, 68, 28, -5], [83, 2, -90, 81, -90, 0, -86, -54, 27, -4, -11, 86, 75, -84, -30, 37, -83, 2, 77, -26, -8, -90, 40, -78, 78, -95, 1, -43, -32, 10, -17, 93, -74, -30, 58, -58, 57, 0, 1, -98, -53, 54, 80, 30, 29, 71, -65, 67, 55, 9, 48, 96, -34, -24, 3, 49, 28, 24, -42, 49, -58, -60, 81, -29, -21, -91, 57, -45, -13, -19, 20, 20, -97, -29, 95, -83, 28, -80, 32, 48, 73, -96, 54, 42, 83, 47, 32, -96, 56, 25, -92, 68, -1, 57, 95, 15, 38, 30, -53, -57], [-94, 3, -1, -15, 40, 4, 40, 4, -30, -69, 47, 88, 17, 64, 98, -83, -37, -37, -16, -11, -45, -1, -56, -54, 50, -66, -86, 14, 45, 69, 87, -47, 90, 21, 84, -69, -32, 1, 0, -45, 17, 18, 20, 64, -58, 2, 17, -38, 71, 75, -16, 42, 70, 89, 94, 79, -75, -71, -41, -60, 79, -97, 85, 78, 94, 10, 5, -97, 8, 77, 75, -81, -91, -33, 71, 43, 62, 29, -77, -74, 37, 61, -43, -72, 63, -18, -79, -81, 83, 45, 53, -21, 67, 74, -13, -87, -64, 90, 3, -52], [15, -62, -59, 2, -68, 55, -73, 44, 60, 56, 32, 12, -50, -5, 6, -19, -16, 61, 40, 48, -39, -47, -69, 30, -98, -81, 9, 71, -12, -62, 66, 43, 7, 41, 96, -64, 5, -98, -45, 0, 95, 21, -46, -39, 22, 4, 31, -77, -29, 92, 87, 34, 35, 27, 98, -97, 4, -87, -20, -29, 3, -55, 79, -4, -75, 13, 12, -18, 77, -7, -35, -90, -49, -59, 62, 65, -6, -97, 66, -47, -18, 72, 98, 91, 88, 22, -94, -98, 15, 89, 17, -43, -82, -55, -74, 2, 1, -62, 40, -39], [74, -58, 45, -99, -78, -91, -72, 24, 54, 34, -1, -51, 87, 93, -11, -48, -98, -56, 47, -61, -8, 46, -47, 86, -48, -89, 98, -87, 79, 93, 3, -7, 74, -62, 98, 40, 89, -53, 17, 95, 0, -12, 43, -75, 92, 40, 76, 8, 24, 10, 78, -40, -82, 16, 43, 32, 95, -69, 81, 82, 40, -10, -99, -80, -95, -49, 44, -44, 84, -9, -49, -53, -82, 49, 68, 99, -1, 46, -79, 58, 89, 20, 83, 25, -77, -95, -79, -21, -40, -29, -26, 9, -81, -84, 19, -48, 75, -5, 96, -97], [-89, 84, 34, 31, 93, 46, -63, -33, -56, 63, -23, 93, -30, -94, 8, -90, 90, 97, -28, -89, 30, -7, -33, 6, -26, 49, 74, 37, 92, -27, -37, -81, -15, -90, -91, 21, -69, 54, 18, 21, -12, 0, -88, -16, -15, 41, -30, -98, -47, -68, 85, -60, 35, 79, 22, 98, -36, 96, 67, -40, 31, -72, 94, 51, -1, 57, 17, 97, -6, 52, -9, -34, -97, 8, -27, 68, 24, -76, 83, -79, -17, 46, -99, -94, -5, 91, -52, 45, -28, -59, -3, -2, -48, 17, -47, -41, 16, 13, 85, -23], [-93, -87, -90, -86, -42, 30, -72, -62, 2, -21, 32, 94, 74, 68, 84, -99, 15, -95, 80, 53, -41, 84, 10, -55, 11, -77, -59, 43, 59, -66, 93, 95, -12, -64, -35, 75, 21, 80, 20, -46, 43, -88, 0, 27, -53, -1, -58, 39, 77, 20, -55, 90, -27, -59, -78, 80, 90, 3, -76, 8, -5, -6, -62, 35, -84, 85, 45, 47, 94, -25, 53, 6, -87, -76, 66, 42, -43, 72, -51, 51, -83, 38, -34, 40, 61, 29, 10, -97, -27, 63, 19, -87, -34, -34, 51, 25, -10, 83, -73, 53], [-92, 36, 46, -28, -11, -77, 3, -70, -10, -4, 5, 55, 39, -28, 63, 71, 72, -30, 26, -34, -44, -47, 44, -43, 10, 41, 62, -57, 68, 57, 40, -82, 74, -57, -44, 20, 22, 30, 64, -39, -75, -16, 27, 0, 65, -51, -77, 26, -46, -72, -66, -9, -5, 64, 11, -73, -14, -67, -72, -74, -91, 59, -95, 49, -42, 90, 3, -47, -1, 50, -60, 34, 5, 77, -83, -97, 4, -45, 21, -46, -56, -53, 63, -25, 33, -86, -37, -68, 38, 13, 14, 76, 7, 47, 37, 50, 10, 50, 15, 82], [86, -99, 37, -29, -98, -18, 43, -76, -53, -26, -18, -39, 2, -78, -40, -55, -74, 43, 10, -75, -26, 80, 66, -47, -77, -32, 8, -16, -45, -8, 72, 52, -56, 29, 98, 90, -57, 29, -58, 22, 92, -15, -53, 65, 0, 80, 70, 41, 74, -30, -88, -7, 30, 21, -3, 35, 85, -74, 44, -20, -31, 67, 12, -88, -50, 66, 75, -37, -7, 12, 33, 40, 67, 89, 88, -5, -96, 85, 89, -64, 15, 48, 58, -73, 34, 63, -69, 65, -37, 89, 40, -95, -98, -7, -98, -30, -96, -27, 15, -69], [80, -93, 25, -97, 54, 25, -62, 44, -24, -58, 75, -5, 3, -34, -18, -42, 87, -50, -56, 87, -23, 23, 13, -86, 94, 78, -92, -95, -29, 32, -2, 57, 37, -15, -42, 11, 1, 71, 2, 4, 40, 41, -1, -51, 80, 0, 70, -85, -89, -42, -2, -23, 98, -98, -85, 73, 48, 42, 82, -4, -33, -67, 70, 24, -34, -20, -68, 67, -17, 40, 54, 76, -32, 36, -5, -3, 32, 69, 59, 46, -69, -41, -19, -15, 58, -34, -80, 29, -20, 84, 17, 43, 14, 6, 79, 91, -53, 44, -20, -46], [27, -3, 11, 24, 95, 45, 59, -84, 16, 49, 97, 98, 42, -79, -44, -95, 86, 47, 15, -15, -61, -33, 55, -75, -54, 66, -83, 67, -93, 45, -47, 81, -81, 80, 93, 24, -71, -65, 17, 31, 76, -30, -58, -77, 70, 70, 0, -66, -62, 20, 45, -43, -99, 54, 43, 26, -63, 31, -25, -33, -44, 55, 12, -16, -25, -17, 71, 58, 51, 53, 10, 35, -20, -41, 42, 79, 57, -76, -46, -21, 55, -33, -92, -26, 23, 92, 14, 73, 33, 73, 11, 54, -10, -97, -60, -85, -42, 15, 93, 28], [5, 23, -29, 28, -5, 31, 87, -73, 98, -98, 98, -44, 92, 58, -14, -11, 61, -79, -70, -86, -82, 6, -65, 38, -9, -11, -94, -85, 50, -6, 27, 44, -45, 32, 93, 3, -88, 67, -38, -77, 8, -98, 39, 26, 41, -85, -66, 0, -29, 76, -6, 32, 6, 48, -54, -17, -55, 22, 90, -83, 83, -76, 11, -11, -44, -4, 64, 15, -6, -70, -22, 32, -59, 83, -3, 31, -51, 95, -1, -48, -13, 56, 50, 70, -28, 19, -74, 42, -91, -9, -87, 69, -5, -97, 10, 15, 70, -81, -62, 4], [53, -10, -15, -38, -39, -7, 18, 49, -30, -24, 65, 61, 72, -14, -70, -23, 80, -52, -5, 46, 94, -27, 2, -27, 24, -21, -85, -61, -58, 35, -24, -95, 98, 70, -58, -5, -21, 55, 71, -29, 24, -47, 77, -46, 74, -89, -62, -29, 0, 27, 46, -63, -46, -66, -11, 55, -22, 98, -19, 63, -88, 28, 18, 8, -94, 23, -50, -33, 12, 14, -32, -44, 74, -93, 34, -82, 96, 0, -92, -18, -41, 1, 65, 31, 20, 38, 44, -21, -31, -3, 18, -8, 38, 31, 6, 8, 31, 90, -69, 14], [0, 99, 17, -6, 71, 62, 4, 38, 85, 99, 43, -97, -74, 69, 4, -17, 56, 18, 39, -71, -84, 76, -83, 79, 32, -69, -81, 84, -22, 0, -51, 67, 2, 67, 75, 53, 29, 9, 75, 92, 10, -68, 20, -72, -30, -42, 20, 76, 27, 0, -4, -18, -66, 96, 95, -60, 80, -19, -56, 24, -75, -35, -13, -93, 52, 85, -5, -73, 84, -31, 59, -18, -89, 88, 93, -70, -45, 33, -33, 76, 41, -82, -95, 31, 36, 99, 94, -79, 40, 56, -54, -30, -2, -100, -70, -59, -23, -65, 87, -80], [-28, -22, 98, 10, -13, 63, 98, -45, -71, -48, -14, -68, 46, -67, -40, -51, 59, 43, -14, -40, -76, -94, 41, -4, -80, 65, -29, -53, -56, -77, 57, 4, -72, -29, -79, 83, 28, 48, -16, 87, 78, 85, -55, -66, -88, -2, 45, -6, 46, -4, 0, -7, -38, 12, 32, 59, 27, 18, -31, -37, -89, -78, 39, -73, -26, 34, 0, -63, -46, -1, -32, 32, -50, -31, 57, -12, -18, -74, -98, -9, -67, 9, -82, -38, 97, 84, -71, -84, -91, -65, 62, -44, 57, -48, 91, -100, -42, -30, 99, -82], [-32, -34, -18, 99, -89, 78, 9, 44, -55, 29, -87, 67, 33, 14, -41, 11, -90, -93, 13, -13, 71, 81, -82, -22, 12, -76, 25, -25, 49, 65, 13, 95, 39, -65, -74, 53, 96, 96, 42, 34, -40, -60, 90, -9, -7, -23, -43, 32, -63, -18, -7, 0, -68, 72, -50, -11, 1, -94, -85, 86, -31, -94, -31, 23, 72, -4, -84, -85, -60, 47, 22, -12, 81, 90, -76, -76, -95, -7, -90, 48, 49, -81, -72, -64, -72, 92, -49, 71, 27, 37, -21, -25, -75, -61, 44, 43, -69, 89, 29, -39], [-70, 63, -32, -40, 78, 90, 86, 26, -3, 70, 81, -94, -85, -51, -49, 36, -46, -57, 55, 46, -86, -7, 43, -33, -50, -17, -65, 21, 25, -75, 44, 10, 0, 60, 5, -83, 95, -34, 70, 35, -82, 35, -27, -5, 30, 98, -99, 6, -46, -66, -38, -68, 0, 33, -60, 1, -43, -83, -85, 69, 60, 26, -61, -55, 96, -43, 60, -43, -53, -29, -61, 6, -78, -64, 30, 66, -9, -27, 37, -23, 2, -65, 0, 54, 35, -54, 86, -26, -89, 87, 17, -29, 83, 17, 30, -41, -54, 58, -39, 32], [47, 27, 9, 45, 23, 37, -10, -77, 78, -7, 63, -20, -37, -43, -7, 89, -69, -18, -18, 56, -72, 46, 91, -53, 46, -14, 12, 17, -46, 58, -61, -5, -37, -82, 3, -9, -33, -24, 89, 27, 16, 79, -59, 64, 21, -98, 54, 48, -66, 96, 12, 72, 33, 0, -72, -25, 15, 61, 95, -98, -38, -35, -74, 16, 70, 0, 76, -90, -9, 61, -89, -17, -78, 63, -58, -31, 99, -95, -50, 55, 1, 96, -29, 19, 54, 3, -56, 81, -24, 9, 48, -16, -18, 34, -41, -18, 40, 73, -73, -4], [89, -57, 41, -55, -5, -53, 31, -7, 12, 99, -6, 63, 72, 18, -35, 1, -52, -52, -3, 64, 76, -90, 1, 30, -47, -81, -72, 81, 52, 12, -93, -18, -78, -69, 38, -50, -39, 3, 94, 98, 43, 22, -78, 11, -3, -85, 43, -54, -11, 95, 32, -50, -60, -72, 0, 58, -45, 26, -35, 28, -16, 80, -19, -58, 43, 32, -61, 34, -20, -57, -89, 43, 52, 67, -72, 3, -76, 89, -44, -28, 47, -19, 50, 15, 86, 63, -2, -57, -14, -93, 97, -47, -65, -55, 88, 19, 57, 69, 22, 54], [62, -68, 93, -35, 54, -75, 18, -41, 31, 27, 49, -23, 88, 25, -72, -11, 66, 49, 78, 52, 9, 71, 46, 17, 27, 25, -65, 61, 20, -75, -74, 67, -30, -74, 73, 65, -51, 49, 79, -97, 32, 98, 80, -73, 35, 73, 26, -17, 55, -60, 59, -11, 1, -25, 58, 0, -54, 52, 13, 4, -43, 43, -56, 13, 85, 98, 74, 2, -65, -56, 46, -75, 6, 38, -89, 24, 45, -23, 80, 95, 44, 89, 17, -97, -29, -26, 84, 73, 31, -42, 43, 31, -51, 58, -6, 17, 72, 58, 92, -5], [36, 23, 77, -56, 45, -62, -83, -40, -26, -76, -20, -81, 61, -14, -18, 70, -11, 35, -96, 99, -31, 77, 81, 60, -87, 38, 18, 44, 29, 77, -91, 82, -91, -47, -34, -70, -49, 28, -75, 4, 95, -36, 90, -14, 85, 48, -63, -55, -22, 80, 27, 1, -43, 15, -45, -54, 0, -86, -65, 85, -41, -11, 55, 58, -11, 23, 32, 10, -28, -59, -54, 45, 95, -64, 56, -39, -51, -52, -13, 3, 54, 38, 12, 8, 50, 96, -31, -10, -12, -94, -20, -80, -48, -99, -83, 43, -82, -94, -17, -93], [-2, 0, 21, -26, 75, -53, 71, -23, 88, 88, 10, -32, 76, 4, -96, 2, 75, -69, -79, -92, -25, -74, -63, 64, -65, 16, 62, -58, 98, 86, -87, 9, -29, -42, -66, -59, -17, 24, -71, -87, -69, 96, 3, -67, -74, 42, 31, 22, 98, -19, 18, -94, -83, 61, 26, 52, -86, 0, 52, 20, -86, 22, 40, -56, 47, -35, -97, -86, 72, 57, -65, 57, -70, 98, -65, -29, -19, -99, -38, 54, 45, -84, -89, -18, -45, 39, -47, -27, -54, -35, 74, 28, 26, -94, 2, 96, 62, -10, -64, 60], [9, 52, 93, 2, 59, 97, 65, 97, 7, -67, 10, 16, -57, 13, -17, 83, -19, 25, -2, 33, 67, 15, 40, 38, -51, 86, -49, -98, -59, -10, 87, 23, 54, 99, -68, 51, 97, -42, -41, -20, 81, 67, -76, -72, 44, 82, -25, 90, -19, -56, -31, -85, -85, 95, -35, 13, -65, 52, 0, 59, -71, 95, -36, 13, -99, -62, 46, 77, -30, -41, -12, -59, 83, -50, 24, -58, -7, -20, -97, 92, 39, 7, -12, 99, -49, 43, -71, 72, 45, 33, 73, -37, 28, -1, -60, 94, 58, 37, 40, 76], [-79, 19, -54, 17, 49, 35, -6, 52, -13, 93, -54, 14, -86, 70, 36, 82, 83, -87, 91, 67, 50, -65, 70, 83, 21, -92, -26, 7, -89, 38, -95, -47, 3, -44, -66, 24, -81, 49, -60, -29, 82, -40, 8, -74, -20, -4, -33, -83, 63, 24, -37, 86, 69, -98, 28, 4, 85, 20, 59, 0, 34, 10, -93, 99, 66, -54, 33, -22, -14, -64, 54, 1, 10, -93, -74, 82, 44, -47, 51, 98, -27, 91, 51, 0, 36, 47, 77, 32, -31, 53, 36, -4, -25, -68, 49, 29, 97, -93, 87, -68], [-46, 20, 86, 14, 46, 74, 75, -55, 33, 2, -31, 99, 23, 82, 80, 49, 64, -94, 16, -72, -7, -72, 3, -62, -90, 18, -63, 59, -54, -69, 6, -37, -99, -23, 20, -13, -18, -58, 79, 3, 40, 31, -5, -91, -31, -33, -44, 83, -88, -75, -89, -31, 60, -38, -16, -43, -41, -86, -71, 34, 0, 12, -5, 60, 74, -24, 59, 58, -23, -26, -17, 78, -86, 33, 75, 88, 81, -74, 5, -74, 61, -30, 34, -88, 19, -73, -60, -6, 87, -79, 82, 99, -42, -71, 91, 41, 45, 76, 98, -22], [-51, -91, 25, -6, -90, 25, -76, 31, 26, -1, 67, -52, 63, -47, 54, 50, 75, -26, -82, -99, -23, -63, 5, 8, -82, -97, -77, 54, -53, -28, 14, -19, -62, -78, 76, 45, -4, -60, -97, -55, -10, -72, -6, 59, 67, -67, 55, -76, 28, -35, -78, -94, 26, -35, 80, 43, -11, 22, 95, 10, 12, 0, -97, -16, 14, -78, -63, 29, -80, 28, 47, 30, -30, 34, 55, -32, 28, 72, -7, 57, 83, 49, 34, 36, 77, -96, 96, 57, -78, -68, -74, -74, 55, -9, 54, 86, -80, 39, 99, -71], [94, -27, -61, -54, 80, 30, 89, -55, -50, -39, 52, -48, -72, 42, 90, -14, -60, -8, 84, 92, 1, 74, 38, 44, 22, 35, -52, 36, 27, 0, 73, -74, -80, 5, -63, -92, 10, 81, 85, 79, -99, 94, -62, -95, 12, 70, 12, 11, 18, -13, 39, -31, -61, -74, -19, -56, 55, 40, -36, -93, -5, -97, 0, 95, 30, -28, 40, -65, -4, 72, -10, -14, 15, -52, 81, 94, 25, -59, 68, 21, -38, 0, 68, 16, -38, -20, -33, -94, -34, 86, 61, 22, 32, 73, 48, 95, 20, -6, 69, 54], [70, -82, -11, 31, 21, -97, -51, -100, -86, -64, -3, 18, 1, 6, 45, 39, -22, -4, -49, 65, -70, 55, -69, -97, 5, -62, -6, -82, -39, -100, -77, -61, -99, 91, 49, -3, 39, -29, 78, -4, -80, 51, 35, 49, -88, 24, -16, -11, 8, -93, -73, 23, -55, 16, -58, 13, 58, -56, 13, 99, 60, -16, 95, 0, -13, 29, 43, 71, -31, -27, 45, -43, -25, -45, -74, -23, -20, 91, -85, -3, 80, 62, 67, 62, -77, 30, 99, -61, 46, -48, -77, 99, 33, 23, -94, 92, -78, -55, 48, 60], [-1, 69, 83, 35, -5, -83, -21, 90, 73, 93, -24, 11, 13, -55, 81, 12, 95, -73, -6, 97, -35, -43, 29, 84, -39, 28, -83, -77, 76, 19, 31, -90, -35, 77, 28, -33, 48, -21, 94, -75, -95, -1, -84, -42, -50, -34, -25, -44, -94, 52, -26, 72, 96, 70, 43, 85, -11, 47, -99, 66, 74, 14, 30, -13, 0, -81, -45, 49, -42, -47, 84, -60, -21, -32, 19, -21, -15, 91, 73, -6, -35, 41, 38, 55, 88, 18, -8, -74, -11, -96, -22, -46, 20, 65, 43, -9, -89, -53, 93, -46], [-24, 18, -85, 60, -44, -28, -16, 18, -52, 52, 33, 6, 32, -6, -25, -87, -5, -84, -25, -91, 94, -6, -97, 34, 72, -9, -14, 10, -72, 23, -8, 71, -87, -61, -76, 66, -66, -91, 10, 13, -49, 57, 85, 90, 66, -20, -17, -4, 23, 85, 34, -4, -43, 0, 32, 98, 23, -35, -62, -54, -24, -78, -28, 29, -81, 0, 26, -9, 96, 14, 27, 62, -40, -97, -73, 16, 31, 2, -46, -68, 6, -64, 8, -13, 50, 0, -30, 88, 44, -35, -79, -30, 73, -45, 91, -10, -23, 6, -82, 50], [-43, 6, 3, -59, 84, 24, 41, -37, -31, -34, -84, -98, -42, 73, -13, -72, 87, -39, -83, 98, 33, -92, -42, 61, -85, -13, 57, -18, 87, -16, -8, 84, 15, 65, 8, 76, 30, 57, 5, 12, 44, 17, 45, 3, 75, -68, 71, 64, -50, -5, 0, -84, 60, 76, -61, 74, 32, -97, 46, 33, 59, -63, 40, 43, -45, 26, 0, 86, -88, 63, -58, 13, 57, 94, 87, 27, -55, 76, 26, -50, -69, 91, 55, -14, -5, -83, -65, -42, 68, -48, 74, -60, 54, 58, 15, -58, 60, 21, -38, 97], [13, -10, 42, -50, -69, 39, -47, 73, -98, 37, 24, -66, -16, 80, 85, -40, 5, -74, 4, 82, 77, 49, 21, 5, 22, 90, -78, 68, 92, 40, 25, -92, -9, 24, 42, -25, -81, -45, -97, -18, -44, 97, 47, -47, -37, 67, 58, 15, -33, -73, -63, -85, -43, -90, 34, 2, 10, -86, 77, -22, 58, 29, -65, 71, 49, -9, 86, 0, -42, 62, -15, 50, 84, 61, -53, 47, 77, -70, -98, -64, 19, 38, -35, 50, 4, -32, 48, 36, 58, -78, -71, 75, -3, 66, -69, 75, 47, 17, 90, -2], [-49, 43, 48, 6, -27, -13, 69, -8, 11, 18, 11, 21, 87, 8, 86, 53, -73, -34, -100, -13, 18, -19, 30, 57, 75, -49, 40, -61, 26, 9, -85, -16, -76, 61, -74, 50, 4, -13, 8, 77, 84, -6, 94, -1, -7, -17, 51, -6, 12, 84, -46, -60, -53, -9, -20, -65, -28, 72, -30, -14, -23, -80, -4, -31, -42, 96, -88, -42, 0, 19, 2, 63, -70, 76, -51, -11, -91, -49, 59, 83, -70, -96, 83, 53, 17, -50, -13, -31, -51, 97, 16, 54, 90, -85, 30, 61, -90, 86, -2, 7], [62, 39, 64, -23, 14, -55, -5, 43, 28, -54, -51, -57, 76, 25, -33, 80, 0, 21, 33, 74, 87, 41, -22, 22, -75, -84, 75, -99, 26, 70, -36, -55, 39, -36, -68, -85, -95, -19, 77, -7, -9, 52, -25, 50, 12, 40, 53, -70, 14, -31, -1, 47, -29, 61, -57, -56, -59, 57, -41, -64, -26, 28, 72, -27, -47, 14, 63, 62, 19, 0, 58, 47, 75, 10, 0, -11, 9, -62, -21, -48, 64, -62, 86, -46, 29, 74, -33, 60, 69, -15, -39, 4, 51, -91, 12, 30, 81, 28, -93, 43], [38, -27, 70, -23, -29, 76, 35, 1, -32, -66, -65, -37, -1, -83, 60, 56, -53, 66, -8, 44, 85, 40, 70, 45, 81, 28, 85, 46, -64, -99, -78, -80, -100, 91, 87, 96, 90, 20, 75, -35, -49, -9, 53, -60, 33, 54, 10, -22, -32, 59, -32, 22, -61, -89, -89, 46, -54, -65, -12, 54, -17, 47, -10, 45, 84, 27, -58, -15, 2, 58, 0, -75, 15, 84, -45, -16, 50, -21, -76, -14, 77, 38, -95, -92, 2, 51, -14, -83, -74, 77, -94, -32, 72, -82, 85, -3, 77, 34, 35, -77], [79, 4, -10, -4, 94, -19, 72, 25, -62, -39, 72, 25, -82, -62, 48, 18, 28, 38, 69, -62, 37, 88, 73, -47, 92, 44, 90, -29, -17, 88, -23, -78, 74, 28, -14, 33, -45, 20, -81, -90, -53, -34, 6, 34, 40, 76, 35, 32, -44, -18, 32, -12, 6, -17, 43, -75, 45, 57, -59, 1, 78, 30, -14, -43, -60, 62, 13, 50, 63, 47, -75, 0, 89, -54, 67, -54, -95, -20, -88, -35, -84, -100, -86, -100, -10, -48, -54, 36, -83, -90, -92, -57, -52, -49, 87, -72, 65, -82, 3, 81], [9, 59, -6, -60, 46, 59, 62, -6, 33, -49, -44, -11, 22, -26, 53, 59, -49, -17, -81, -70, -18, 18, 28, -45, 30, -20, -62, 60, -81, 43, 18, 57, -80, 93, 26, -84, 54, -97, -91, -49, -82, -97, -87, 5, 67, -32, -20, -59, 74, -89, -50, 81, -78, -78, 52, 6, 95, -70, 83, 10, -86, -30, 15, -25, -21, -40, 57, 84, -70, 75, 15, 89, 0, 50, -90, -57, 35, 84, -2, 97, 89, 59, -99, 75, -15, -11, -89, 3, 93, -100, -58, -38, -99, -20, 76, 54, -65, -65, -100, -31], [62, 44, 3, 71, -11, -86, -30, 89, 46, -93, 13, -93, -21, -93, 79, 58, -54, 58, -4, -52, -60, 47, -17, -79, 62, 99, 45, -27, -71, 1, -94, 11, -6, -6, 42, -65, 73, -29, -33, -59, 49, 8, -76, 77, 89, 36, -41, 83, -93, 88, -31, 90, -64, 63, 67, 38, -64, 98, -50, -93, 33, 34, -52, -45, -32, -97, 94, 61, 76, 10, 84, -54, 50, 0, 68, 8, 79, -59, -15, -7, -39, 48, 35, -28, -7, -79, -22, -92, 69, -26, 58, 52, 70, 12, 46, -43, -90, 38, -10, -49], [-64, 6, 9, 43, 37, -16, 3, -39, 49, -49, 60, 81, -77, -58, 33, 46, 96, -86, 5, -69, 64, 63, -41, -100, 16, -54, -38, 11, 10, -78, 52, 30, -4, -3, -60, 52, 10, 95, 71, 62, 68, -27, 66, -83, 88, -5, 42, -3, 34, 93, 57, -76, 30, -58, -72, -89, 56, -65, 24, -74, 75, 55, 81, -74, 19, -73, 87, -53, -51, 0, -45, 67, -90, 68, 0, 56, 6, 37, -66, -59, -67, 53, -75, -84, 39, -36, 22, 40, 13, -38, 70, -23, -83, -67, -63, -61, 72, 11, -28, -93], [28, 49, 42, 56, -33, 57, 89, 56, -27, -50, 4, 27, -75, -67, 3, 84, 61, 60, -72, -67, -100, -96, -99, 53, 62, 23, -63, -19, -45, -77, -99, 25, -83, -93, -13, 60, -2, -83, 43, 65, 99, 68, 42, -97, -5, -3, 79, 31, -82, -70, -12, -76, 66, -31, 3, 24, -39, -29, -58, 82, 88, -32, 94, -23, -21, 16, 27, 47, -11, -11, -16, -54, -57, 8, 56, 0, -85, 2, 25, -96, 72, 5, -79, 24, -54, -40, -58, 92, 85, 35, 35, -71, 78, -6, 97, -36, -70, 2, 85, 46], [26, 56, -12, -31, 55, -4, 17, -60, 84, 97, 47, -17, 93, 5, 22, 50, -75, -97, 62, 10, -9, -95, 33, -36, 65, -75, -11, 14, 66, -74, -28, -98, -86, 67, -60, 13, -23, 28, 62, -6, -1, 24, -43, 4, -96, 32, 57, -51, 96, -45, -18, -95, -9, 99, -76, 45, -51, -19, -7, 44, 81, 28, 25, -20, -15, 31, -55, 77, -91, 9, 50, -95, 35, 79, 6, -85, 0, -84, 6, 29, -10, 13, 71, 4, 11, -9, -8, -52, 54, 58, -8, 30, -40, 43, 15, 6, 22, -65, -87, 47], [95, -93, 65, 95, -71, 83, -40, 66, 14, -41, 8, -4, -41, 82, 52, 43, 86, 52, -22, -95, 9, -19, -24, -16, -41, 65, -90, -46, -45, -35, 4, -45, 17, 89, -61, 44, -75, -80, 29, -97, 46, -76, 72, -45, 85, 69, -76, 95, 0, 33, -74, -7, -27, -95, 89, -23, -52, -99, -20, -47, -74, 72, -59, 91, 91, 2, 76, -70, -49, -62, -21, -20, 84, -59, 37, 2, -84, 0, -51, 4, 39, 60, -86, -32, 64, -95, 10, -43, 38, -85, -4, -2, -94, 52, 69, -67, -88, -64, 45, -45], [-76, -19, -8, -79, 1, 86, 27, 6, -100, -34, -3, 8, 55, -19, -18, 59, 59, 87, -3, -72, -62, 95, 32, -20, -27, 78, 44, -72, 88, -15, -42, 99, 82, -70, 72, -13, 57, 32, -77, 66, -79, 83, -51, 21, 89, 59, -46, -1, -92, -33, -98, -90, 37, -50, -44, 80, -13, -38, -97, 51, 5, -7, 68, -85, 73, -46, 26, -98, 59, -21, -76, -88, -2, -15, -66, 25, 6, -51, 0, -21, 51, -28, -9, -49, 41, 27, 46, 95, -63, -64, -43, 48, 94, 52, 3, 64, -49, 59, -86, -92], [78, 64, 35, -63, -60, -2, -70, 41, 40, 51, -61, 3, -98, -53, -93, -99, 81, -57, 81, -3, 88, -50, -9, -5, -55, -71, 33, 74, 34, 27, -37, -27, 90, -43, -88, 29, 6, 48, -74, -47, 58, -79, 51, -46, -64, 46, -21, -48, -18, 76, -9, 48, -23, 55, -28, 95, 3, 54, 92, 98, -74, 57, 21, -3, -6, -68, -50, -64, 83, -48, -14, -35, 97, -7, -59, -96, 29, 4, -21, 0, -57, 14, -13, 8, -12, 41, 5, 15, 68, 32, 8, 10, 13, -28, -49, 87, -6, -76, -7, -55], [7, -62, -7, -33, 4, 82, -30, -51, -26, 21, -79, 59, -27, 84, -10, 51, 83, 17, 22, 7, 61, -77, 61, 83, 5, -15, -97, -29, 2, -21, -86, 38, 73, -36, 23, -39, 61, 73, 37, -18, 89, -17, -83, -56, 15, -69, 55, -13, -41, 41, -67, 49, 2, 1, 47, 44, 54, 45, 39, -27, 61, 83, -38, 80, -35, 6, -69, 19, -70, 64, 77, -84, 89, -39, -67, 72, -10, 39, 51, -57, 0, -59, -7, 7, 9, 55, -52, -35, -75, -32, 15, 74, 27, 49, 57, 13, -3, 45, -19, 4], [68, -2, 33, -19, 14, -70, -65, 25, 99, -11, -53, 9, 66, -60, 66, -59, -41, -95, -87, -35, -16, 1, 95, 9, -95, 89, -68, 63, 35, -62, 42, -35, 77, 97, 39, -78, 80, -96, 61, 72, 20, 46, 38, -53, 48, -41, -33, 56, 1, -82, 9, -81, -65, 96, -19, 89, 38, -84, 7, 91, -30, 49, 0, 62, 41, -64, 91, 38, -96, -62, 38, -100, 59, 48, 53, 5, 13, 60, -28, 14, -59, 0, 22, -48, 89, -21, 32, 77, -31, -11, 80, 50, -21, 59, -66, -100, 98, -86, 48, -88], [72, 98, -49, -56, -17, -81, 36, 76, 96, 20, 69, 69, 95, 58, 97, 75, 3, -53, 65, 46, 64, -22, -62, 66, 13, -90, 5, 18, -98, -24, -77, 12, -19, 70, -22, 61, -20, 54, -43, 98, 83, -99, -34, 63, 58, -19, -92, 50, 65, -95, -82, -72, 0, -29, 50, 17, 12, -89, -12, 51, 34, 34, 68, 67, 38, 8, 55, -35, 83, 86, -95, -86, -99, 35, -75, -79, 71, -86, -9, -13, -7, 22, 0, -61, 59, 80, -43, -93, -24, 0, 46, -95, 43, -23, -43, -16, 27, -19, 92, -35], [-87, 92, 37, -73, 86, 14, -55, 15, -82, 19, -98, -7, -100, -98, -39, -18, -77, -77, -60, 59, -89, -9, 17, -56, 28, 44, 11, -56, 50, 78, 69, -52, 22, -75, -15, 89, -52, 42, -72, 91, 25, -94, 40, -25, -73, -15, -26, 70, 31, 31, -38, -64, 54, 19, 15, -97, 8, -18, 99, 0, -88, 36, 16, 62, 55, -13, -14, 50, 53, -46, -92, -100, 75, -28, -84, 24, 4, -32, -49, 8, 7, -48, -61, 0, 69, -3, 51, 11, -55, 76, 13, 70, -65, -31, 36, -73, -99, -88, -47, 78], [-59, -93, 94, -8, -33, 48, 68, 20, -79, 24, 15, 71, -20, -58, -60, -75, 83, -83, -95, 51, -75, -24, 1, 45, 51, -16, -97, 14, -90, -35, -19, -10, 22, -33, -51, 5, -76, 83, 63, 88, -77, -5, 61, 33, 34, 58, 23, -28, 20, 36, 97, -72, 35, 54, 86, -29, 50, -45, -49, 36, 19, 77, -38, -77, 88, 50, -5, 4, 17, 29, 2, -10, -15, -7, 39, -54, 11, 64, 41, -12, 9, 89, 59, 69, 0, 75, 10, -84, 30, 79, -66, -27, -21, -62, 36, -47, 95, -39, 80, -57], [14, 55, -73, 96, 11, -41, 12, 80, 87, -81, -23, 22, -53, -5, -76, -56, -43, -68, 66, 43, 3, 36, -29, 47, -60, -25, -58, -32, 91, -68, -73, 63, -6, -3, 88, -14, -50, 47, -18, 22, -95, 91, 29, -86, 63, -34, 92, 19, 38, 99, 84, 92, -54, 3, 63, -26, 96, 39, 43, 47, -73, -96, -20, 30, 18, 0, -83, -32, -50, 74, 51, -48, -11, -79, -36, -40, -9, -95, 27, 41, 55, -21, 80, -3, 75, 0, -14, -32, -57, 40, -49, 98, 88, -80, 95, 43, 69, -62, -46, -78], [-46, -35, 94, 25, 98, -21, -53, -35, -95, 97, 64, -11, -28, -99, 74, 72, 88, 60, -8, -83, 30, -25, 34, 1, -54, -84, -25, -100, 22, 11, -64, -59, -25, 92, 56, 82, 33, 32, -79, -94, -79, -52, 10, -37, -69, -80, 14, -74, 44, 94, -71, -49, 86, -56, -2, 84, -31, -47, -71, 77, -60, 96, -33, 99, -8, -30, -65, 48, -13, -33, -14, -54, -89, -22, 22, -58, -8, 10, 46, 5, -52, 32, -43, 51, 10, -14, 0, -70, 8, 41, 42, -77, -41, -4, 88, -75, 33, 23, -58, 11], [-62, -17, 27, -8, 95, 93, -96, 97, -95, 53, 61, 47, -97, -90, 89, -78, 3, -41, 39, -3, -18, -10, 77, -67, -84, 78, -23, 75, 27, -23, 31, 85, -64, 46, 56, -46, 55, -96, -81, -98, -21, 45, -97, -68, 65, 29, 73, 42, -21, -79, -84, 71, -26, 81, -57, 73, -10, -27, 72, 32, -6, 57, -94, -61, -74, 88, -42, 36, -31, 60, -83, 36, 3, -92, 40, 92, -52, -43, 95, 15, -35, 77, -93, 11, -84, -32, -70, 0, -30, -74, 35, -23, 38, 18, -27, -78, 60, 20, -53, 53], [30, -81, 36, -25, 52, -48, 11, -37, 23, -20, 18, 70, 20, 32, -95, -87, 71, 97, 15, 14, 67, -56, -96, 77, -93, 5, -66, 47, -82, 12, 89, 47, -70, -65, 48, 63, 96, 56, 83, 15, -40, -28, -27, 38, -37, -20, 33, -91, -31, 40, -91, 27, -89, -24, -14, 31, -12, -54, 45, -31, 87, -78, -34, 46, -11, 44, 68, 58, -51, 69, -74, -83, 93, 69, 13, 85, 54, 38, -63, 68, -75, -31, -24, -55, 30, -57, 8, -30, 0, -7, 44, -31, 22, -68, 38, -97, -93, 36, -42, 96], [57, -42, 94, 29, 99, 67, 43, -56, 39, 21, 83, 79, 50, -29, -58, -98, -68, -2, 12, 87, -78, 96, 8, 8, -87, 25, -73, 42, 17, 15, -15, 19, 60, -94, -97, -9, -60, 25, 45, 89, -29, -59, 63, 13, 89, 84, 73, -9, -3, 56, -65, 37, 87, 9, -93, -42, -94, -35, 33, 53, -79, -68, 86, -48, -96, -35, -48, -78, 97, -15, 77, -90, -100, -26, -38, 35, 58, -85, -64, 32, -32, -11, 0, 76, 79, 40, 41, -74, -7, 0, -73, -18, -80, -94, -55, 75, -89, -82, 99, -14], [41, -13, -2, -19, -30, -66, -74, 90, -98, -68, -58, 18, 80, -54, 65, 80, 79, -97, -65, -47, 18, -70, -48, -9, -24, 38, 43, -14, 26, -13, 70, -4, 33, 44, 50, 21, -68, -92, 53, 17, -26, -3, 19, 14, 40, 17, 11, -87, 18, -54, 62, -21, 17, 48, 97, 43, -20, 74, 73, 36, 82, -74, 61, -77, -22, -79, 74, -71, 16, -39, -94, -92, -58, 58, 70, 35, -8, -4, -43, 8, 15, 80, 46, 13, -66, -49, 42, 35, 44, -73, 0, 97, 5, 61, 18, 0, -78, -96, -26, 26], [-3, -81, -37, 55, -44, -73, -16, -95, 18, -98, 12, 65, -88, 11, 85, -1, -29, -79, -46, 50, 69, -34, 55, 81, -10, -89, -37, 76, 58, 70, -47, -75, -16, -89, 51, -27, 45, 68, -21, -43, 9, -2, -87, 76, -95, 43, 54, 69, -8, -30, -44, -25, -29, -16, -47, 31, -80, 28, -37, -4, 99, -74, 22, 99, -46, -30, -60, 75, 54, 4, -32, -57, -38, 52, -23, -71, 30, -2, 48, 10, 74, 50, -95, 70, -27, 98, -77, -23, -31, -18, 97, 0, 41, 34, 15, -50, 39, -33, 61, 65], [-5, -64, -29, -42, -63, 12, 90, 86, -22, -14, 59, 31, -88, -60, -73, -16, -14, -73, -12, -32, 20, -70, 92, 32, -20, 43, 51, 87, 66, -56, 5, -93, -90, -65, 2, -47, -60, -1, 67, -82, -81, -48, -34, 7, -98, 14, -10, -5, 38, -2, 57, -75, 83, -18, -65, -51, -48, 26, 28, -25, -42, 55, 32, 33, 20, 73, 54, -3, 90, 51, 72, -52, -99, 70, -83, 78, -40, -94, 94, 13, 27, -21, 43, -65, -21, 88, -41, 38, 22, -80, 5, 41, 0, -48, -9, -52, 47, 55, 7, 8], [14, 89, -54, 18, 35, -10, 3, 99, -88, 67, -89, 14, 44, 24, -16, 13, -19, -33, 73, -37, 20, -10, 46, -71, 56, 93, 55, -9, -61, -87, 58, 82, -84, -43, -96, -97, 21, 57, 74, -55, -84, 17, -34, 47, -7, 6, -97, -97, 31, -100, -48, -61, 17, 34, -55, 58, -99, -94, -1, -68, -71, -9, 73, 23, 65, -45, 58, 66, -85, -91, -82, -49, -20, 12, -67, -6, 43, 52, 52, -28, 49, 59, -23, -31, -62, -80, -4, 18, -68, -94, 61, 34, -48, 0, -87, 68, -39, -84, 39, -51], [-93, 99, -95, -97, -87, -46, 75, -65, -31, 72, -64, -68, -91, 40, -25, 60, 26, 97, -46, 60, 86, -80, 49, -52, -33, -69, -27, -99, 46, 81, 49, 16, 23, 7, 30, -76, 43, 95, -13, -74, 19, -47, 51, 37, -98, 79, -60, 10, 6, -70, 91, 44, 30, -41, 88, -6, -83, 2, -60, 49, 91, 54, 48, -94, 43, 91, 15, -69, 30, 12, 85, 87, 76, 46, -63, 97, 15, 69, 3, -49, 57, -66, -43, 36, 36, 95, 88, -27, 38, -55, 18, 15, -9, -87, 0, 67, -62, 7, -58, -44], [27, 99, 45, 52, 60, -63, 91, -82, 65, -24, -46, 85, 77, 34, 68, -74, -63, 77, -54, -7, -7, -6, -46, -94, 41, 88, 43, 28, 54, 90, -81, -68, 97, 9, -22, 85, -76, 15, -87, 2, -48, -41, 25, 50, -30, 91, -85, 15, 8, -59, -100, 43, -41, -18, 19, 17, 43, 96, 94, 29, 41, 86, 95, 92, -9, -10, -58, 75, 61, 30, -3, -72, 54, -43, -61, -36, 6, -67, 64, 87, 13, -100, -16, -73, -47, 43, -75, -78, -97, 75, 0, -50, -52, 68, 67, 0, 11, 77, 22, 47], [-29, -81, 53, 68, 26, 93, 90, 69, -28, -25, -19, -76, -48, 10, -84, 9, -38, -23, -59, 55, 37, 97, -82, -72, 53, -53, -45, -31, 57, -30, 97, -39, 45, 8, -52, 67, 73, 38, -64, 1, 75, 16, -10, 10, -96, -53, -42, 70, 31, -23, -42, -69, -54, 40, 57, 72, -82, 62, 58, 97, 45, -80, 20, -78, -89, -23, 60, 47, -90, 81, 77, 65, -65, -90, 72, -70, 22, -88, -49, -6, -3, 98, 27, -99, 95, 69, 33, 60, -93, -89, -78, 39, 47, -39, -62, 11, 0, 80, -60, -71], [17, 0, -20, -6, 37, -47, -78, -28, -23, 18, 24, -88, 4, -37, -48, 30, -55, 47, -30, 29, 19, 41, 0, 84, 23, 25, -60, 41, -27, -96, 2, 38, -89, -18, 27, -76, 68, 30, 90, -62, -5, 13, 83, 50, -27, 44, 15, -81, 90, -65, -30, 89, 58, 73, 69, 58, -94, -10, 37, -93, 76, 39, -6, -55, -53, 6, 21, 17, 86, 28, 34, -82, -65, 38, 11, 2, -65, -64, 59, -76, 45, -86, -19, -88, -39, -62, 23, 20, 36, -82, -96, -33, 55, -84, 7, 77, 80, 0, -94, 16], [-79, 27, -34, 93, 91, 1, 5, 89, -1, -29, -46, 35, 41, -73, 93, -41, -56, -88, 81, 81, -96, -91, -49, 34, -31, -58, -69, 11, 20, 51, 58, 33, -61, 10, -6, -27, 28, -53, 3, 40, 96, 85, -73, 15, 15, -20, 93, -62, -69, 87, 99, 29, -39, -73, 22, 92, -17, -64, 40, 87, 98, 99, 69, 48, 93, -82, -38, 90, -2, -93, 35, 3, -100, -10, -28, 85, -87, 45, -86, -7, -19, 48, 92, -47, 80, -46, -58, -53, -42, 99, -26, 61, 7, 39, -58, 22, -60, -94, 0, 81], [-63, -26, -61, 0, 91, 71, 46, -80, 25, -85, -75, 60, 10, -77, -68, 16, 33, -52, -79, -18, 74, -64, -80, 68, 14, 41, 20, -95, -1, 85, 28, 17, -35, -52, -4, 92, -5, -57, -52, -39, -97, -23, 53, 82, -69, -46, 28, 4, 14, -80, -82, -39, 32, -4, 54, -5, -93, 60, 76, -68, -22, -71, 54, 60, -46, 50, 97, -2, 7, 43, -77, 81, -31, -49, -93, 46, 47, -45, -92, -55, 4, -88, -35, 78, -57, -78, 11, 53, 96, -14, 26, 65, 8, -51, -44, 47, -71, 16, 81, 0]]\n",
      "NEW:\n",
      "Initial solution: [31, 32, 29, 4, 21, 20, 23, 13, 3, 10, 21, 10, 28, 26, 24, 27, 31, 28, 7, 17, 30, 18, 16, 8, 4, 19, 11, 27, 12, 15, 20, 17, 24, 33, 25, 27, 6, 2, 13, 19, 22, 26, 0, 32, 26, 4, 21, 15, 11, 14, 7, 29, 6, 0, 0, 3, 13, 7, 16, 2, 18, 5, 25, 9, 11, 23, 12, 28, 8, 17, 18, 22, 30, 1, 9, 10, 33, 16, 1, 3, 29, 6, 19, 5, 9, 2, 1, 8, 30, 5, 14, 14, 24, 33, 31, 25, 20, 15, 12, 32, 22, 23], score: -0.06015559206735539\n",
      "  Final solution: [33, 1, 6, 11, 18, 24, 30, 14, 10, 32, 14, 26, 12, 13, 21, 9, 22, 7, 0, 23, 5, 2, 11, 27, 19, 26, 7, 11, 15, 17, 5, 21, 4, 28, 15, 2, 25, 19, 29, 20, 25, 24, 3, 17, 0, 22, 28, 31, 25, 12, 20, 13, 23, 33, 12, 29, 8, 32, 1, 16, 9, 0, 18, 22, 10, 17, 29, 14, 30, 8, 27, 28, 13, 27, 5, 6, 9, 31, 4, 4, 32, 20, 8, 19, 23, 2, 7, 21, 3, 26, 30, 15, 10, 18, 16, 1, 16, 33, 24, 3, 31, 6], score: 2.1376806726948434\n"
     ]
    },
    {
     "data": {
      "image/png": "[encoded data removed]",
      "text/plain": [
       "<Figure size 640x480 with 1 Axes>"
      ]
     },
     "metadata": {},
     "output_type": "display_data"
    },
    {
     "name": "stdout",
     "output_type": "stream",
     "text": [
      "OLD:\n",
      "Initial solution: [[11, 44, 74], [88, 49, 34], [64, 16, 101], [14, 93, 1], [82, 56, 77], [53, 18, 35], [70, 15, 94], [57, 50, 61], [55, 68, 84], [69, 24, 98], [62, 100, 8], [81, 96, 71], [60, 21, 33], [99, 9, 73], [30, 83, 27], [4, 46, 95], [54, 78, 72], [67, 58, 3], [12, 97, 76], [63, 36, 41], [85, 51, 6], [31, 43, 40], [45, 39, 38], [0, 91, 23], [79, 47, 29], [65, 59, 75], [48, 10, 25], [86, 5, 42], [28, 2, 20], [92, 17, 19], [26, 66, 22], [80, 52, 89], [32, 87, 13], [7, 90, 37]], score: -0.03159997124818871\n",
      "  Final solution: [[48, 82, 29], [92, 68, 88], [72, 95, 90], [69, 37, 38], [11, 74, 25], [16, 35, 4], [81, 8, 36], [20, 91, 80], [99, 5, 47], [57, 73, 94], [49, 79, 98], [86, 96, 28], [39, 46, 101], [93, 63, 67], [12, 0, 66], [60, 42, 40], [6, 78, 31], [26, 17, 30], [3, 33, 21], [84, 27, 32], [2, 50, 100], [19, 14, 7], [53, 87, 56], [10, 76, 18], [41, 65, 1], [24, 71, 59], [22, 97, 45], [13, 34, 23], [61, 52, 44], [51, 89, 83], [70, 85, 43], [75, 77, 55], [54, 64, 62], [15, 58, 9]], score: 1.1938638222135598\n"
     ]
    },
    {
     "data": {
      "image/png": "[encoded data removed]",
      "text/plain": [
       "<Figure size 640x480 with 1 Axes>"
      ]
     },
     "metadata": {},
     "output_type": "display_data"
    },
    {
     "data": {
      "text/plain": [
       "'genetic_algorithm(1, 100, test_preference_matrix, 3)\\ngenetic_algorithm(1, 100, test_preference_matrix, 3)\\ngenetic_algorithm(1, 100, test_preference_matrix, 3)\\ngenetic_algorithm(1, 100, test_preference_matrix, 3)'"
      ]
     },
     "execution_count": 137,
     "metadata": {},
     "output_type": "execute_result"
    }
   ],
   "source": [
    "def genetic_algorithm_(num_iterations, population_size, preference_matrix, seatsPerTable):\n",
    "    filled_preference_matrix = fill_matrix(seatsPerTable, preference_matrix)\n",
    "    population = generate_population_(population_size, filled_preference_matrix, seatsPerTable)\n",
    "    \"\"\"print(\"population[0]: \")\n",
    "    print(population[0])\"\"\"\n",
    "    best_solution = population[0]\n",
    "    best_score = evaluate_solution_(population[0], filled_preference_matrix)\n",
    "    num_iterations=500\n",
    "\n",
    "    best_scores = []\n",
    "    all_scores = []\n",
    "    avg_scores = []\n",
    "\n",
    "    for solution in population:\n",
    "        all_scores.append(evaluate_solution_(solution, filled_preference_matrix))\n",
    "    \n",
    "\n",
    "    print(f\"Initial solution: {best_solution}, score: {best_score}\")\n",
    "\n",
    "    while(num_iterations > 0):\n",
    "\n",
    "        #parent1 = tournament_select_( population, filled_preference_matrix, 10)\n",
    "        parent1 = roulette_select_(population, filled_preference_matrix)\n",
    "        #print(parent1)\n",
    "        #parent2 = tournament_select_( population, filled_preference_matrix, 10, parent1)\n",
    "        parent2 = roulette_select_(population, filled_preference_matrix, exclude=parent1)\n",
    "\n",
    "        if parent2 is None:\n",
    "            parent2 = parent1\n",
    "\n",
    "        \"\"\"print(\"parent 1:\")\n",
    "        print(parent1)\n",
    "        print(\"parent2:\")\n",
    "        print(parent2)\"\"\"\n",
    "\n",
    "        #estatisticas para grafico\n",
    "        avg_score = np.mean(all_scores)\n",
    "        avg_scores.append(avg_score)\n",
    "        best_solution = max(population, key=lambda x: evaluate_solution_(x, filled_preference_matrix))\n",
    "        best_scores.append(evaluate_solution_(best_solution, filled_preference_matrix))\n",
    "\n",
    "\n",
    "        # Next generation Crossover and Mutation\n",
    "        child1, child2 = random_crossover_(parent1, parent2, filled_preference_matrix, seatsPerTable)\n",
    "\n",
    "        \"\"\"print(\"child 1:\")\n",
    "        print(child1)\n",
    "        print(\"child2:\")\n",
    "        print(child2)\"\"\"\n",
    "\n",
    "        child1, child2 = mutation_(child1), mutation_(child2)\n",
    "\n",
    "        \"\"\"print(\"mutate child 1:\")\n",
    "        print(child1)\n",
    "        print(\"mutate child2:\")\n",
    "        print(child2)\"\"\"\n",
    "        \n",
    "        population.append(child1)\n",
    "        population.append(child2)\n",
    "        all_scores.append(evaluate_solution_(child1, filled_preference_matrix))\n",
    "        all_scores.append(evaluate_solution_(child2, filled_preference_matrix))\n",
    "        population.sort(key=lambda sol: evaluate_solution_(sol, filled_preference_matrix), reverse=True)\n",
    "        population = population[:population_size]\n",
    "\n",
    "\n",
    "        \"\"\"child = random_crossover(parent1, parent2)\n",
    "        print(\"child 1:\")\n",
    "        print(child)\n",
    "\n",
    "        child = mutation(child)\n",
    "\n",
    "        print(\"mutate child 1:\")\n",
    "        print(child)\n",
    "        population.append(child)\n",
    "        population.sort(key=lambda sol: evaluate_solution(sol, filled_preference_matrix), reverse=True)\n",
    "        population = population[:population_size]\"\"\"\n",
    "\n",
    "        num_iterations-=1\n",
    "    \n",
    "    best_solution= population[0]\n",
    "    best_score=evaluate_solution_(best_solution, filled_preference_matrix)\n",
    "    print(f\"  Final solution: {best_solution}, score: {best_score}\")\n",
    "\n",
    "    #print(best_scores)\n",
    "    #print(avg_scores)\n",
    "    show_graph(best_scores, avg_scores)\n",
    "\n",
    "    return best_solution\n",
    "\n",
    "p = random_preferences(100)\n",
    "print(\"MATRIZ PREFERENCIA\")\n",
    "print(p)\n",
    "\n",
    "t=[[0, 15, -21, 17, -73, -25, 56, 31, -48, -8], [15, 0, -14, 31, 75, 52, -28, -76, 43, 2], [-21, -14, 0, 30, -74, 58, -11, 97, 50, 20], [17, 31, 30, 0, 75, 57, 10, 95, 41, -26], [-73, 75, -74, 75, 0, 97, 88, 91, 75, -77], [-25, 52, 58, 57, 97, 0, -63, -3, 37, 21], [56, -28, -11, 10, 88, -63, 0, 2, -62, -94], [31, -76, 97, 95, 91, -3, 2, 0, 54, -76], [-48, 43, 50, 41, 75, 37, -62, 54, 0, 41], [-8, 2, 20, -26, -77, 21, -94, -76, 41, 0]]\n",
    "\n",
    "\"\"\"genetic_algorithm_(1, 100, test_preference_matrix, 3)\n",
    "genetic_algorithm_(1, 100, test_preference_matrix, 3)\n",
    "genetic_algorithm_(1, 100, test_preference_matrix, 3)\n",
    "genetic_algorithm_(1, 100, test_preference_matrix, 3)\n",
    "genetic_algorithm_(1, 100, test_preference_matrix, 3)\"\"\"\n",
    "\n",
    "print(\"NEW:\")\n",
    "genetic_algorithm_(1, 100, p, 3)\n",
    "\"\"\"genetic_algorithm_(1, 100, test_preference_matrix, 3)\n",
    "genetic_algorithm_(1, 100, test_preference_matrix, 3)\n",
    "genetic_algorithm_(1, 100, test_preference_matrix, 3)\n",
    "genetic_algorithm_(1, 100, test_preference_matrix, 3)\"\"\"\n",
    "\n",
    "print(\"OLD:\")\n",
    "genetic_algorithm(1, 100, p, 3)\n",
    "\"\"\"genetic_algorithm(1, 100, test_preference_matrix, 3)\n",
    "genetic_algorithm(1, 100, test_preference_matrix, 3)\n",
    "genetic_algorithm(1, 100, test_preference_matrix, 3)\n",
    "genetic_algorithm(1, 100, test_preference_matrix, 3)\"\"\"\n"
   ]
  },
  {
   "cell_type": "code",
   "execution_count": 118,
   "metadata": {},
   "outputs": [],
   "source": [
    "import matplotlib.pyplot as plt\n",
    "\n",
    "def show_graph(best_scores, avg_scores):\n",
    "    plt.plot(range(1, len(best_scores) + 1), best_scores, label='Best Individual Score')\n",
    "    plt.plot(range(1, len(avg_scores) + 1), avg_scores, linestyle='--', color='red', label='Average Population Score')\n",
    "    plt.xlabel('Iteration')\n",
    "    plt.ylabel('Score')\n",
    "    plt.title('Algorithm Performance')\n",
    "    plt.legend()\n",
    "    plt.show()"
   ]
  }
 ],
 "metadata": {
  "kernelspec": {
   "display_name": "base",
   "language": "python",
   "name": "python3"
  },
  "language_info": {
   "codemirror_mode": {
    "name": "ipython",
    "version": 3
   },
   "file_extension": ".py",
   "mimetype": "text/x-python",
   "name": "python",
   "nbconvert_exporter": "python",
   "pygments_lexer": "ipython3",
   "version": "3.12.4"
  }
 },
 "nbformat": 4,
 "nbformat_minor": 2
}
