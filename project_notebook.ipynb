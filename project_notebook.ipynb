{
 "cells": [
  {
   "cell_type": "markdown",
   "metadata": {},
   "source": [
    "# CHECKPOINT\n",
    "(1) a specification of the work to be performed (definition of the game or optimization problem to be\n",
    "solved)\n",
    "\n",
    "(2) related work with references to works found in a bibliographic search (articles, web pages,\n",
    "and/or source code)\n",
    "\n",
    "(3) formulation of the problem as an optimization problem (solution representation, neighborhood/mutation and crossover functions, hard constraints, evaluation functions)\n",
    "\n",
    "(4) implementation work already carried out (programming language, development environment, data structures, among others)."
   ]
  },
  {
   "cell_type": "code",

   "execution_count": 14,
   "metadata": {},
   "outputs": [],
   "source": [
    "import numpy as np\n",
    "import itertools\n",
    "#import matplotlib as pltlib\n",
    "import math, copy\n",
    "import random\n",
    "\n",
    "table_arrangement = [[0,2], [1,3]] \n",
    "\n",
    "test_preference_matrix = [\n",
    "    [  0,  10,  -5,  20, -10,  15,   0,  -5],  # A\n",
    "    [ 10,   0,  30,  -5,  20, -10,   5,   0],  # B\n",
    "    [ -5,  30,   0,  10, -20,   5,  15,  10],  # C\n",
    "    [ 20,  -5,  10,   0,  25,  -5, -15,  20],  # D\n",
    "    [-10,  20, -20,  25,   0,  30, -10,   5],  # E\n",
    "    [ 15, -10,   5,  -5,  30,   0,  20, -10],  # F\n",
    "    [  0,   5,  15, -15, -10,  20,   0,  30],  # G\n",
    "    [ -5,   0,  10,  20,   5, -10,  30,   0]   # H\n",
    "]"
   ]
  },
  {
   "cell_type": "code",
   "execution_count": 114,
   "metadata": {},
   "outputs": [
    {
     "name": "stdout",
     "output_type": "stream",
     "text": [
      "[[0, 10, -5, 20, -10, 15, 0, -5, 0], [10, 0, 30, -5, 20, -10, 5, 0, 0], [-5, 30, 0, 10, -20, 5, 15, 10, 0], [20, -5, 10, 0, 25, -5, -15, 20, 0], [-10, 20, -20, 25, 0, 30, -10, 5, 0], [15, -10, 5, -5, 30, 0, 20, -10, 0], [0, 5, 15, -15, -10, 20, 0, 30, 0], [-5, 0, 10, 20, 5, -10, 30, 0, 0], [0, 0, 0, 0, 0, 0, 0, 0, 0]]\n"
     ]
    }
   ],
   "source": [
    "def fill_matrix(seatsPerTable, matrix):\n",
    "    nguests = len(matrix)\n",
    "    total_tables = math.ceil(nguests / seatsPerTable) #rounds the division up to the next integer\n",
    "    TotalSeats = total_tables * seatsPerTable\n",
    "    diff = TotalSeats % nguests \n",
    "\n",
    "    matrix_copy = copy.deepcopy(matrix)\n",
    "    if diff == 0:\n",
    "        return matrix_copy\n",
    "    else:\n",
    "        #fill the matrix with the preference that the guests have of the empty seats\n",
    "        for guest in range(len(matrix_copy)):\n",
    "            matrix_copy[guest] = matrix_copy[guest] + ([0]*diff)\n",
    "\n",
    "        #fill the matrix with the preference of the emptyseats\n",
    "        for i in range(diff):\n",
    "            matrix_copy.append([0]*(nguests+diff))\n",
    "\n",
    "    return matrix_copy\n",
    "\n",

    "test_preference_matrix = [\n",
    "    [  0,  10,  -5,  20, -10,  15,   0,  -5],  # A\n",
    "    [ 10,   0,  30,  -5,  20, -10,   5,   0],  # B\n",
    "    [ -5,  30,   0,  10, -20,   5,  15,  10],  # C\n",
    "    [ 20,  -5,  10,   0,  25,  -5, -15,  20],  # D\n",
    "    [-10,  20, -20,  25,   0,  30, -10,   5],  # E\n",
    "    [ 15, -10,   5,  -5,  30,   0,  20, -10],  # F\n",
    "    [  0,   5,  15, -15, -10,  20,   0,  30],  # G\n",
    "    [ -5,   0,  10,  20,   5, -10,  30,   0]   # H\n",
    "] #ABCDABCD"
   ]
  },
  {
   "cell_type": "markdown",
   "metadata": {},
   "source": [
    "In order to test with different sized preference matrices we created a function that randomly generates preference matrices given a number of guests"
   ]
  },
  {
   "cell_type": "code",
   "execution_count": 73,
   "metadata": {},
   "outputs": [
    {
     "name": "stdout",
     "output_type": "stream",
     "text": [
      "[[0, -62, -89, 97], [-62, 0, -58, -31], [-89, -58, 0, 47], [97, -31, 47, 0]]\n"
     ]
    }
   ],
   "source": [
    "def random_preferences(nguests):\n",
    "    preference_matrix = [[0] * nguests for x in range(nguests)]\n",
    "    for guest1 in range(nguests):\n",
    "        for guest2 in range(nguests):\n",
    "            if guest1 != guest2:\n",
    "                score = random.randrange(-100, 100, 1)\n",
    "                preference_matrix[guest1][guest2] = score\n",
    "                preference_matrix[guest2][guest1] = score\n",
    "    return preference_matrix\n",
    "\n",
    "p = random_preferences(4)\n",
    "\n",
    "print(p)"
   ]
  },
  {
   "cell_type": "code",

   "execution_count": 3,
   "metadata": {},
   "outputs": [
    {
     "name": "stdout",
     "output_type": "stream",
     "text": [

      "-10.0\n"
     ]
    }
   ],
   "source": [
    "def evaluate_table(table, matrix):\n",
    "    score = 0\n",
    "    for guest in table:\n",
    "        for neighbor in table:\n",
    "            if guest != neighbor:\n",
    "                score += matrix[guest][neighbor]\n",
    "\n",
    "    return score\n",
    "\n",
    "def standard_deviation(solution, preference_matrix):\n",
    "    score_tables = []\n",
    "    total_score=0\n",
    "    for table in solution:\n",
    "        current_score = evaluate_table(table, preference_matrix)\n",
    "        total_score += current_score\n",
    "        score_tables.append(current_score)\n",
    "    average = total_score/len(solution)\n",
    "\n",
    "    std_sum=0\n",
    "    for score in score_tables:\n",
    "        std_sum += (score-average)**2\n",
    "    \n",

    "    std = math.sqrt(std_sum/len(solution))\n",
    "    return std\n",
    "\n",
    "def evaluate_solution(solution, preference_matrix):\n",
    "    average = average_tables(solution, preference_matrix)  #not optimal\n",
    "    std = standard_deviation(solution, preference_matrix) + 1  # shift de 1 para nunca poder haver divisao por 0\n",
    "    return (average/std)\n",
    "    \n",
    "\n",
    "def average_tables(tables, matrix):\n",
    "    score = 0\n",
    "    for table in tables:\n",
    "        score += evaluate_table(table, matrix)\n",
    "    average = score / len(tables)\n",
    "    return average\n",
    "\n",
    "filled_preference_matrix=(fill_matrix(3, test_preference_matrix))\n",
    "score = evaluate_solution([[6, 2, 8], [4, 0, 5], [3, 7, 1]], filled_preference_matrix)\n",
    "print(score)"
   ]
  },
  {
   "cell_type": "markdown",
   "metadata": {},
   "source": [
    "To be able to perform our algorithms correctly we will need all tables to be filled, so we will create fake guests called \"EmptySeat\" that have no preferences towards the other guests."
   ]
  },
  {

   "cell_type": "code",
   "execution_count": 66,
   "metadata": {},
   "outputs": [
    {
     "name": "stdout",
     "output_type": "stream",
     "text": [
      "[[0, 10, -5, 20, -10, 15, 0, -5, 0], [10, 0, 30, -5, 20, -10, 5, 0, 0], [-5, 30, 0, 10, -20, 5, 15, 10, 0], [20, -5, 10, 0, 25, -5, -15, 20, 0], [-10, 20, -20, 25, 0, 30, -10, 5, 0], [15, -10, 5, -5, 30, 0, 20, -10, 0], [0, 5, 15, -15, -10, 20, 0, 30, 0], [-5, 0, 10, 20, 5, -10, 30, 0, 0], [0, 0, 0, 0, 0, 0, 0, 0, 0]]\n"
     ]
    }
   ],
   "source": [
    "def fill_matrix(seatsPerTable, matrix):\n",
    "    nguests = len(matrix)\n",
    "    total_tables = math.ceil(nguests / seatsPerTable) #rounds the division up to the next integer\n",
    "    TotalSeats = total_tables * seatsPerTable\n",
    "    diff = TotalSeats % nguests \n",
    "\n",
    "    matrix_copy = copy.deepcopy(matrix)\n",
    "    if diff == 0:\n",
    "        return matrix_copy\n",
    "    else:\n",
    "        #fill the matrix with the preference that the guests have of the empty seats\n",
    "        for guest in range(len(matrix_copy)):\n",
    "            matrix_copy[guest] = matrix_copy[guest] + ([0]*diff)\n",
    "\n",
    "        #fill the matrix with the preference of the emptyseats\n",
    "        for i in range(diff):\n",
    "            matrix_copy.append([0]*(nguests+diff))\n",
    "\n",
    "    return matrix_copy\n",
    "\n",
    "m = fill_matrix(3, test_preference_matrix)\n",
    "print(m)"
   ]
  },
  {
   "cell_type": "markdown",
   "metadata": {},
   "source": [
    "Some of the algorithms we are applying to this problem, there is a need to create an initial random arrangement. That is what this function is for."
   ]
  },
  {
   "cell_type": "code",

   "execution_count": 67,
   "metadata": {},
   "outputs": [
    {
     "name": "stdout",
     "output_type": "stream",
     "text": [

      "[[3, 1, 4], [8, 5, 0], [6, 2, 7]]\n",
      "[[7, 5], [1, 4], [2, 6], [3, 0]]\n",
      "[[1, 2], [6, 7], [0, 3], [4, 5]]\n",
      "[[6, 7], [1, 0], [2, 4], [3, 5]]\n"
     ]
    },
    {
     "data": {
      "text/plain": [
       "'population = generate_population(3, test_preference_matrix, 3)\\nfor solution in population:\\n    print(solution)'"
      ]
     },
     "execution_count": 116,
     "metadata": {},
     "output_type": "execute_result"
    }
   ],
   "source": [
    "def random_arrangement(matrix, seatsPerTable):\n",
    "    matrix_copy = fill_matrix(seatsPerTable, matrix)\n",
    "\n",
    "    nguests = len(matrix_copy)\n",
    "    guest_list = list(range(nguests))\n",
    "    arrangement = []\n",
    "    for table in range(nguests//seatsPerTable):\n",
    "        table = random.sample(guest_list, seatsPerTable)\n",
    "        for seatedGuest in table:\n",
    "            guest_list.remove(seatedGuest)\n",
    "\n",
    "        arrangement.append(table)\n",
    "    return arrangement\n",
    "\n",
    "def generate_population(population_size, preference_matrix, seatsPerTable):\n",
    "    solutions = []\n",
    "    for i in range(population_size):\n",
    "        solutions.append(random_arrangement(preference_matrix, seatsPerTable))\n",
    "    return solutions\n",
    "\n",
    "\n",
    "r = random_arrangement(test_preference_matrix, 3)\n",
    "print(r)\n",
    "\n",
    "\"\"\"population = generate_population(3, test_preference_matrix, 3)\n",
    "for solution in population:\n",
    "    print(solution)\"\"\""
   ]
  },
  {
   "cell_type": "code",

   "execution_count": 68,
   "metadata": {},
   "outputs": [],
   "source": [
    "#random\n",
    "def get_neighbour(curr_arrangement):\n",
    "    neighbor_arrangement = copy.deepcopy(curr_arrangement)\n",
    "    table1 = np.random.choice(len(neighbor_arrangement))\n",
    "    table2 = np.random.choice(len(neighbor_arrangement))\n",
    "    while(table1 == table2):\n",
    "        table2 = np.random.choice(len(neighbor_arrangement))\n",
    "    person1 = np.random.choice(len(neighbor_arrangement[table1]))\n",
    "    person2 = np.random.choice(len(neighbor_arrangement[table2]))\n",
    "    neighbor_arrangement[table1][person1], neighbor_arrangement[table2][person2] = neighbor_arrangement[table2][person2], neighbor_arrangement[table1][person1]\n",
    "    return neighbor_arrangement\n",
    "#improvement not filled table play"
   ]
  },
  {
   "cell_type": "code",

   "execution_count": 69,
   "metadata": {},
   "outputs": [
    {
     "name": "stdout",
     "output_type": "stream",
     "text": [
      "[[1, 2], [6, 4], [5, 3], [7, 0]]\n"
     ]
    }
   ],
   "source": [
    "import random\n",
    "\n",
    "# escolher a primeira metade das mesas de um dos pais e as restantes do outro pai ou se nao for possivel, aleatorio\n",
    "def midpoint_crossover(parent1, parent2):\n",
    "    num_tables = len(parent1)  # nº de mesas\n",
    "    people_per_table = len(parent1[0])  # nº de pessoas por mesa\n",
    "\n",
    "    # escolhe aleatoriamente qual solução usar primeiro\n",
    "    if random.random() < 0.5:\n",
    "        first_parent, second_parent = parent1, parent2\n",
    "    else:\n",
    "        first_parent, second_parent = parent2, parent1\n",
    "\n",
    "    mid = num_tables // 2\n",
    "\n",
    "    # filho com primeira metade das mesas do primeiro pai\n",
    "    child = first_parent[:mid]\n",
    "    used_elements = set(x for sublist in child for x in sublist)\n",
    "\n",
    "    # adicionar a segunda metade das mesas do segundo pai sem repetir pessoas\n",
    "    for sublist in second_parent[mid:]:\n",
    "        new_sublist = [x for x in sublist if x not in used_elements]\n",
    "        child.append(new_sublist)\n",
    "        used_elements.update(new_sublist)\n",
    "\n",
    "    all_elements = set(x for sublist in parent1 + parent2 for x in sublist)\n",
    "    missing_elements = list(all_elements - used_elements)\n",
    "    random.shuffle(missing_elements)  # os q faltam mete aleatoriamente\n",
    "\n",
    "    # Redistribuir os que faltam mantendo o mesmo tamanho das sublistas\n",
    "    for i in range(num_tables):\n",
    "        while len(child[i]) < people_per_table:\n",
    "            child[i].append(missing_elements.pop(0))\n",
    "\n",
    "    return child\n",
    "\n",
    "# Exemplo de uso\n",
    "parent1 = [[0, 2], [1, 3], [4, 5], [6, 7]]\n",
    "parent2 = [[1, 2], [6, 4], [0, 5], [3, 7]]\n",
    "\n",
    "child = midpoint_crossover(parent1, parent2)\n",
    "print(child)\n"
   ]
  },
  {
   "cell_type": "code",

   "execution_count": 70,
   "metadata": {},
   "outputs": [
    {
     "name": "stdout",
     "output_type": "stream",
     "text": [

      "Filho 1: [[1, 2], [3, 4], [6, 5], [7, 0], [8]]\n",
      "Filho 2: [[0, 2], [4, 1], [5, 6], [8, 7], [3]]\n"
     ]
    }
   ],
   "source": [
    "def random_crossover(parent1, parent2):\n",
    "    num_tables = len(parent1)\n",
    "\n",
    "    #print(len(parent1))\n",
    "    #print(len(parent2))\n",
    "    \n",
    "    mask = [random.choice([0, 1]) for _ in range(num_tables)]\n",
    "    \n",
    "    mask[random.randint(0, num_tables - 1)] = 0  \n",
    "    mask[random.randint(0, num_tables - 1)] = 1 \n",
    "    \n",
    "    child1, child2 = [[] for _ in range(num_tables)], [[] for _ in range(num_tables)]\n",
    "    assigned1, assigned2 = set(), set()\n",
    "\n",
    "    random.shuffle(parent1)\n",
    "    random.shuffle(parent2)\n",
    "    \n",
    "    for i in range(num_tables):\n",
    "        #print(i)\n",
    "        if mask[i] == 0:\n",
    "            child1[i] = [guest for guest in parent1[i] if guest not in assigned1]\n",
    "            if child1[i] is not None: \n",
    "                assigned1.update(child1[i])\n",
    "            child2[i] = [guest for guest in parent2[i] if guest not in assigned2]\n",
    "            if child2[i] is not None: \n",
    "                assigned2.update(child2[i])\n",
    "        else:\n",
    "            child1[i] = [guest for guest in parent2[i] if guest not in assigned1]\n",
    "            if child1[i] is not None: \n",
    "                assigned1.update(child1[i])\n",
    "            child2[i] = [guest for guest in parent1[i] if guest not in assigned2]\n",
    "            if child2[i] is not None: \n",
    "                assigned2.update(child2[i])\n",
    "    \n",
    "    all_guests = set(sum(parent1, []) + sum(parent2, []))  \n",
    "    remaining1 = list(all_guests - assigned1)\n",
    "    remaining2 = list(all_guests - assigned2)\n",
    "    \n",
    "    def fill_tables(child, remaining, parent_ref, assigned_set):\n",
    "        random.shuffle(remaining)\n",
    "        \n",
    "        for i in range(num_tables):\n",
    "            missing_count = len(parent_ref[i]) - len(child[i])\n",
    "            if missing_count > 0:\n",
    "                for guest in remaining[:missing_count]:\n",
    "                    if guest not in assigned_set:\n",
    "                        child[i].append(guest)\n",
    "                        assigned_set.add(guest)\n",
    "                remaining = remaining[missing_count:]  \n",
    "\n",
    "    fill_tables(child1, remaining1, parent1, assigned1)\n",
    "    fill_tables(child2, remaining2, parent2, assigned2)\n",
    "    \n",
    "    return child1, child2\n",
    "\n",
    "# Exemplo de uso:\n",
    "parent1 = [[0, 2], [1, 3], [4, 5], [6, 7], [8]]\n",
    "parent2 = [[1, 2], [0, 4], [6, 5], [8, 7], [3]]\n",
    "\n",
    "child1, child2 = random_crossover(parent1, parent2)\n",
    "\n",
    "print(\"Filho 1:\", child1)\n",
    "print(\"Filho 2:\", child2)\n"
   ]
  },
  {
   "cell_type": "code",

   "execution_count": 71,
   "metadata": {},
   "outputs": [
    {
     "name": "stdout",
     "output_type": "stream",
     "text": [

      "[[6, 7], [1, 2]]\n",
      "[[6, 7], [1, 2], [0], [8], [4, 5]]\n"
     ]
    },
    {
     "ename": "KeyboardInterrupt",
     "evalue": "",
     "output_type": "error",
     "traceback": [
      "\u001b[0;31m---------------------------------------------------------------------------\u001b[0m",
      "\u001b[0;31mKeyboardInterrupt\u001b[0m                         Traceback (most recent call last)",
      "Cell \u001b[0;32mIn[9], line 58\u001b[0m\n\u001b[1;32m     55\u001b[0m parent1 \u001b[38;5;241m=\u001b[39m [[\u001b[38;5;241m0\u001b[39m, \u001b[38;5;241m2\u001b[39m], [\u001b[38;5;241m1\u001b[39m, \u001b[38;5;241m3\u001b[39m], [\u001b[38;5;241m4\u001b[39m, \u001b[38;5;241m5\u001b[39m], [\u001b[38;5;241m6\u001b[39m, \u001b[38;5;241m7\u001b[39m], [\u001b[38;5;241m8\u001b[39m]]\n\u001b[1;32m     56\u001b[0m parent2 \u001b[38;5;241m=\u001b[39m [[\u001b[38;5;241m1\u001b[39m, \u001b[38;5;241m2\u001b[39m], [\u001b[38;5;241m0\u001b[39m, \u001b[38;5;241m4\u001b[39m], [\u001b[38;5;241m6\u001b[39m, \u001b[38;5;241m5\u001b[39m], [\u001b[38;5;241m8\u001b[39m, \u001b[38;5;241m7\u001b[39m], [\u001b[38;5;241m3\u001b[39m]]\n\u001b[0;32m---> 58\u001b[0m child \u001b[38;5;241m=\u001b[39m balanced_crossover(parent1, parent2)\n\u001b[1;32m     59\u001b[0m \u001b[38;5;28mprint\u001b[39m(child)\n",
      "Cell \u001b[0;32mIn[9], line 48\u001b[0m, in \u001b[0;36mbalanced_crossover\u001b[0;34m(parent1, parent2)\u001b[0m\n\u001b[1;32m     45\u001b[0m \u001b[38;5;28mprint\u001b[39m(child)\n\u001b[1;32m     47\u001b[0m \u001b[38;5;28;01mfor\u001b[39;00m i \u001b[38;5;129;01min\u001b[39;00m \u001b[38;5;28mrange\u001b[39m(num_tables):\n\u001b[0;32m---> 48\u001b[0m     \u001b[38;5;28;01mwhile\u001b[39;00m \u001b[38;5;28mlen\u001b[39m(child[i]) \u001b[38;5;241m<\u001b[39m table_sizes[i]:\n\u001b[1;32m     49\u001b[0m         \u001b[38;5;28;01mif\u001b[39;00m missing_elements:\n\u001b[1;32m     50\u001b[0m             child[i]\u001b[38;5;241m.\u001b[39mappend(missing_elements\u001b[38;5;241m.\u001b[39mpop(\u001b[38;5;241m0\u001b[39m))\n",
      "\u001b[0;31mKeyboardInterrupt\u001b[0m: "
     ]
    }
   ],
   "source": [
    "# escolhe pelo menos uma mesa de cada solução e o resto é aleatório, assumindo que todas as mesas têm o mesmo número de pessoas\n",
    "def balanced_crossover(parent1, parent2):\n",
    "    num_tables = len(parent1)\n",
    "    people_per_table = len(parent1[0])\n",
    "\n",
    "    child = []\n",
    "    used_elements = set()\n",
    "\n",
    "    chosen_from_p1 = random.choice(parent1)\n",
    "    randomized_parent2 = random.sample(parent2, len(parent2))\n",
    "\n",
    "    for table in randomized_parent2:\n",
    "        flag=False\n",
    "        for person in table:\n",
    "            if person in chosen_from_p1:\n",
    "                flag=True\n",
    "                break\n",
    "        \n",
    "        if flag == False:\n",
    "            chosen_from_p2 = table\n",
    "            break\n",
    "\n",
    "    used_elements.update(chosen_from_p1)\n",
    "    used_elements.update(chosen_from_p2)\n",
    "    child.append(chosen_from_p1)\n",
    "    child.append(chosen_from_p2)\n",
    "\n",
    "    print(child)\n",
    "\n",
    "    table_sizes = [len(table) for table in parent1]\n",
    "\n",
    "    for i in range(num_tables-2):\n",
    "        if random.random() < 0.5:\n",
    "            table = random.choice(parent1)\n",
    "        else:\n",
    "            table = random.choice(parent2)\n",
    "        new_table = [x for x in table if x not in used_elements]\n",
    "        child.append(new_table)\n",
    "        used_elements.update(new_table)\n",
    "\n",
    "    all_elements = set(x for sublist in parent1 + parent2 for x in sublist)\n",
    "    missing_elements = list(all_elements - used_elements)\n",
    "    random.shuffle(missing_elements)\n",
    "\n",
    "    print(child)\n",
    "\n",
    "    for i in range(num_tables):\n",
    "        while len(child[i]) < table_sizes[i]:\n",
    "            if missing_elements:\n",
    "                child[i].append(missing_elements.pop(0))\n",
    "    \n",
    "    return child\n",
    "\n",
    "\n",
    "parent1 = [[0, 2], [1, 3], [4, 5], [6, 7], [8]]\n",
    "parent2 = [[1, 2], [0, 4], [6, 5], [8, 7], [3]]\n",
    "\n",
    "child = balanced_crossover(parent1, parent2)\n",
    "print(child)\n"
   ]
  },
  {

   "cell_type": "markdown",
   "metadata": {},
   "source": [
    "**SIMMULATED ANNEALING**"
   ]
  },
  {
   "cell_type": "code",
   "execution_count": 72,
   "metadata": {},
   "outputs": [
    {
     "name": "stdout",
     "output_type": "stream",
     "text": [

      "16.996731711975947\n",
      "result: [[3, 8, 4], [5, 1, 2], [0, 7, 6]]    score: 50.0\n"
     ]
    }
   ],
   "source": [
    "def tournament_select(population, preference_matrix, tournament_size, exclude=None):\n",
    "    filtered_population = [ind for ind in population if ind != exclude]\n",
    "    selected = random.sample(filtered_population, tournament_size)\n",
    "    best_solution = max(selected, key=lambda s: evaluate_solution(s, preference_matrix))\n",
    "    return best_solution\n",
    "\n",
    "def roulette_select(population, preference_matrix, exclude=None):\n",
    "    filtered_population = [ind for ind in population if ind != exclude]\n",
    "    fitness_values = np.array([evaluate_solution(s, preference_matrix) for s in filtered_population])\n",
    "    total_fitness = np.sum(fitness_values)\n",
    "    rand_value = np.random.uniform(0, total_fitness)\n",
    "\n",
    "    cumulative_sum = 0\n",
    "    for i, fitness in enumerate(fitness_values):\n",
    "        cumulative_sum += fitness\n",
    "        if rand_value <= cumulative_sum:\n",
    "            return filtered_population[i]\n",
    "    \n",
    "\n",
    "\n",
    "population = generate_population(5, test_preference_matrix, 2)\n",
    "for s in population:\n",
    "    print(s)\n",
    "print(\"\")   \n",
    "t = tournament_select(population, test_preference_matrix, 3)\n",
    "print(t)\n",
    "print(\"\")\n",
    "r = roulette_select(population, test_preference_matrix)\n",
    "print(r)\n"
    "def simmulated_annealing(preferences, seatsPerTable):\n",
    "    cooling = 0.99    #o quao rápido vai descendo essa tolerancia\n",
    "    iterations = 10000\n",
    "    #primeiro arranjamos um estado inicial random e avaliamos\n",
    "    initial_state = random_arrangement(preferences, seatsPerTable)\n",
    "    filled_preferences=fill_matrix(seatsPerTable, preferences)\n",
    "    initial_score = evaluate_solution(initial_state, filled_preferences)\n",
    "\n",
    "    temperature = standard_deviation(initial_state, filled_preferences)   #basicamente a nossa tolerância no que toca a aceitar soluçoes piores\n",
    "    print(temperature)\n",
    "\n",
    "    while iterations > 0:\n",
    "\n",
    "        #depois arranjamos uma soluçao vizinha à inicial e avaliamos essa\n",
    "        neighbour_state = get_neighbour(initial_state, filled_preferences)\n",
    "        neighbour_score = evaluate_solution(neighbour_state, filled_preferences)\n",
    "        \n",
    "\n",
    "        score_diff = initial_score - neighbour_score\n",
    "\n",
    "        #se a soluçao for melhor, aceitamos\n",
    "        if score_diff < 0:\n",
    "            initial_state = neighbour_state\n",
    "            initial_score = neighbour_score\n",
    "        #se for pior aceitamos com uma certa probabilidade que depende da temperatura\n",
    "        else:\n",
    "            probability = math.exp(-score_diff / temperature)\n",
    "            if random.random() < probability:\n",
    "                initial_state = neighbour_state\n",
    "                initial_score = neighbour_score\n",
    "        temperature *= cooling\n",
    "        iterations -= 1\n",
    "    return initial_state, initial_score\n",
    "\n",
    "\n",
    "result, score = simmulated_annealing(test_preference_matrix, 3)\n",
    "print(f\"result: {result}    score: {score}\")\n"
   ]
  },
  {
   "cell_type": "markdown",
   "metadata": {},
   "source": [
    "TABU SEARCH"
   ]
  },
  {
   "cell_type": "code",
   "execution_count": 122,
   "metadata": {},
   "outputs": [],
   "source": [
    "def mutation(parent, mutation_prob=0.2):\n",
    "    if random.random() < mutation_prob:  \n",
    "        return get_neighbour(parent)\n",
    "    return parent"

   "execution_count": 16,
   "metadata": {},
   "outputs": [],
   "source": [
    "def tabu_search(preferences, seats_per_table, max_iterations=1000, tabu_tenure=7, max_no_improve=100):\n",
    "    padded_preferences = fill_matrix(seats_per_table, preferences)\n",
    "    current_arrangement = random_arrangement(preferences, seats_per_table)\n",
    "    best_arrangement = copy.deepcopy(current_arrangement)\n",
    "    \n",
    "    current_score = evaluate_solution(current_arrangement, padded_preferences)\n",
    "    best_score = current_score\n",
    "    \n",
    "    tabu_list = {}\n",
    "    \n",
    "    iterations_no_improve = 0\n",
    "    total_iterations = 0\n",
    "    \n",
    "    frequency_list = {}\n",
    "    \n",
    "    while total_iterations < max_iterations and iterations_no_improve < max_no_improve:\n",
    "        total_iterations += 1\n",
    "        \n",
    "        neighbor_arrangement = get_neighbour(current_arrangement)\n",
    "        \n",
    "        neighbor_score = evaluate_solution(neighbor_arrangement, padded_preferences)\n",
    "        \n",
    "        is_tabu = tuple(map(tuple, neighbor_arrangement)) in tabu_list and tabu_list[tuple(map(tuple, neighbor_arrangement))] > 0\n",
    "        \n",
    "        if is_tabu and neighbor_score <= best_score:\n",
    "            if tuple(map(tuple, neighbor_arrangement)) in frequency_list:\n",
    "                frequency_list[tuple(map(tuple, neighbor_arrangement))] += 1\n",
    "            else:\n",
    "                frequency_list[tuple(map(tuple, neighbor_arrangement))] = 1\n",
    "                \n",
    "            if frequency_list.get(tuple(map(tuple, neighbor_arrangement)), 0) > 5:\n",
    "                for _ in range(3):  \n",
    "                    temp_neighbor = get_neighbour(current_arrangement)\n",
    "                    current_arrangement = temp_neighbor\n",
    "                current_score = evaluate_solution(current_arrangement, padded_preferences)\n",
    "                frequency_list.clear()\n",
    "            \n",
    "            iterations_no_improve += 1\n",
    "            continue\n",
    "        \n",
    "        current_arrangement = neighbor_arrangement\n",
    "        current_score = neighbor_score\n",
    "        \n",
    "        keys_to_remove = []\n",
    "        for arrangement, tenure in tabu_list.items():\n",
    "            tabu_list[arrangement] -= 1\n",
    "            if tabu_list[arrangement] <= 0:\n",
    "                keys_to_remove.append(arrangement)\n",
    "        \n",
    "        for key in keys_to_remove:\n",
    "            del tabu_list[key]\n",
    "        \n",
    "        tabu_list[tuple(map(tuple, current_arrangement))] = tabu_tenure\n",
    "        \n",
    "        if current_score > best_score:\n",
    "            best_arrangement = copy.deepcopy(current_arrangement)\n",
    "            best_score = current_score\n",
    "            iterations_no_improve = 0\n",
    "            frequency_list.clear()\n",
    "        else:\n",
    "            iterations_no_improve += 1\n",
    "        \n",
    "        if total_iterations % 100 == 0:\n",
    "            print(f\"Iteration {total_iterations}, Best score: {best_score}, No improvement: {iterations_no_improve}\")\n",
    "    \n",
    "    original_guests = len(preferences)\n",
    "    final_arrangement = []\n",
    "    for table in best_arrangement:\n",
    "        real_guests = [guest for guest in table if guest < original_guests]\n",
    "        if real_guests:  \n",
    "            final_arrangement.append(real_guests)\n",
    "    \n",
    "    return final_arrangement"
   ]
  },
  {
   "cell_type": "code",
   "execution_count": 15,
   "metadata": {},
   "outputs": [
    {
     "name": "stdout",
     "output_type": "stream",
     "text": [
      "Iteration 100, Best score: 60.0, No improvement: 75\n"
     ]
    },
    {
     "data": {
      "text/plain": [

       "[[3, 5, 0], [6, 7], [4, 2, 1]]"
      ]
     },
     "execution_count": 15,
     "metadata": {},
     "output_type": "execute_result"
    }
   ],
   "source": [
    "def genetic_algorithm(num_iterations, population_size, preference_matrix, seatsPerTable):\n",
    "    filled_preference_matrix = fill_matrix(seatsPerTable, preference_matrix)\n",
    "    population = generate_population(population_size, filled_preference_matrix, seatsPerTable)\n",
    "    \"\"\"print(\"population[0]: \")\n",
    "    print(population[0])\"\"\"\n",
    "    best_solution = population[0]\n",
    "    best_score = evaluate_solution(population[0], filled_preference_matrix)\n",
    "    num_iterations=1000\n",
    "    \n",
    "\n",
    "    print(f\"Initial solution: {best_solution}, score: {best_score}\")\n",
    "\n",
    "    while(num_iterations > 0):\n",
    "\n",
    "\n",
    "        parent1 = tournament_select( population, filled_preference_matrix, 10)\n",
    "        parent2 = tournament_select( population, filled_preference_matrix, 10, exclude=parent1)\n",
    "        #parent2 = roulette_select(population, filled_preference_matrix, exclude=parent1)\n",
    "\n",
    "        if parent2 is None:\n",
    "            parent2 = parent1\n",
    "\n",
    "        \"\"\"print(\"parent 1:\")\n",
    "        print(parent1)\n",
    "        print(\"parent2:\")\n",
    "        print(parent2)\"\"\"\n",
    "\n",
    "        # Next generation Crossover and Mutation\n",
    "        child1, child2 = random_crossover(parent1, parent2)\n",
    "\n",
    "        \"\"\"print(\"child 1:\")\n",
    "        print(child1)\n",
    "        print(\"child2:\")\n",
    "        print(child2)\"\"\"\n",
    "\n",
    "        child1, child2 = mutation(child1), mutation(child2)\n",
    "\n",
    "        \"\"\"print(\"mutate child 1:\")\n",
    "        print(child1)\n",
    "        print(\"mutate child2:\")\n",
    "        print(child2)\"\"\"\n",
    "        \n",
    "        population.append(child1)\n",
    "        population.append(child2)\n",
    "        population.sort(key=lambda sol: evaluate_solution(sol, filled_preference_matrix), reverse=True)\n",
    "        population = population[:population_size]\n",
    "\n",
    "        \"\"\"child = random_crossover(parent1, parent2)\n",
    "        print(\"child 1:\")\n",
    "        print(child)\n",
    "\n",
    "        child = mutation(child)\n",
    "\n",
    "        print(\"mutate child 1:\")\n",
    "        print(child)\n",
    "        population.append(child)\n",
    "        population.sort(key=lambda sol: evaluate_solution(sol, filled_preference_matrix), reverse=True)\n",
    "        population = population[:population_size]\"\"\"\n",
    "\n",
    "        num_iterations-=1\n",
    "    \n",
    "    best_solution= population[0]\n",
    "    best_score=evaluate_solution(best_solution, filled_preference_matrix)\n",
    "    print(f\"  Final solution: {best_solution}, score: {best_score}\")\n",
    "\n",
    "    return best_solution\n",
    "\n",
    "genetic_algorithm(1, 100, test_preference_matrix, 3)"

    "tabu_search(test_preference_matrix, 3, max_iterations=1000, tabu_tenure=7, max_no_improve=100)"
   ]
  }
 ],
 "metadata": {
  "kernelspec": {
   "display_name": "Python 3 (ipykernel)",
   "language": "python",
   "name": "python3"
  },
  "language_info": {
   "codemirror_mode": {
    "name": "ipython",
    "version": 3
   },
   "file_extension": ".py",
   "mimetype": "text/x-python",
   "name": "python",
   "nbconvert_exporter": "python",
   "pygments_lexer": "ipython3",
   "version": "3.12.7"
  }
 },
 "nbformat": 4,
 "nbformat_minor": 2
}
