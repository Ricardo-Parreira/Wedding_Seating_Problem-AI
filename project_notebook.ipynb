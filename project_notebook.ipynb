{
 "cells": [
  {
   "cell_type": "code",
   "execution_count": null,
   "metadata": {},
   "outputs": [],
   "source": [
    "table_arrangement = [[0,2], [1,3]]\n",
    "\n",
    "test_preference_matrix = [[0,-10, 100, -100],\n",
    "              [10, 0, 0, 100],\n",
    "              [0,0,0,0],\n",
    "              [-100, 100, -50, 0]] #ABCDABCD"
   ]
  },
  {
   "cell_type": "code",
   "execution_count": null,
   "metadata": {},
   "outputs": [],
   "source": [
    "def evaluate_table(tables, matrix):\n",
    "    score = 0\n",
    "    #nao me parece que isto seja a forma mais eficaz mas é só para termos uma base\n",
    "    for table in tables:\n",
    "        for guest in table:\n",
    "            for neighbor in table:\n",
    "                if guest != neighbor:\n",
    "                    score += matrix[guest][neighbor]\n",
    "    average = score / len(tables)\n",
    "    return average\n",
    "\n",
    "\n",
    "ave = evaluate_table(table_arrangement, test_preference_matrix)\n",
    "print(ave)"
   ]
  }
 ],
 "metadata": {
  "language_info": {
   "name": "python"
  }
 },
 "nbformat": 4,
 "nbformat_minor": 2
}
