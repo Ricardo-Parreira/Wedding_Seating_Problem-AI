{
 "cells": [
  {
   "cell_type": "markdown",
   "metadata": {},
   "source": [
    "# CHECKPOINT\n",
    "(1) a specification of the work to be performed (definition of the game or optimization problem to be\n",
    "solved)\n",
    "\n",
    "(2) related work with references to works found in a bibliographic search (articles, web pages,\n",
    "and/or source code)\n",
    "\n",
    "(3) formulation of the problem as an optimization problem (solution representation, neighborhood/mutation and crossover functions, hard constraints, evaluation functions)\n",
    "\n",
    "(4) implementation work already carried out (programming language, development environment, data structures, among others)."
   ]
  },
  {
   "cell_type": "code",
   "execution_count": 138,
   "metadata": {},
   "outputs": [],
   "source": [
    "import numpy as np\n",
    "import itertools\n",
    "#import matplotlib as pltlib\n",
    "import math, copy\n",
    "import random\n",
    "\n",
    "table_arrangement = [[0,2], [1,3]]\n",
    "\n",
    "test_preference_matrix = [\n",
    "    [  0,  10,  -5,  20, -10,  15,   0,  -5],  # A\n",
    "    [ 10,   0,  30,  -5,  20, -10,   5,   0],  # B\n",
    "    [ -5,  30,   0,  10, -20,   5,  15,  10],  # C\n",
    "    [ 20,  -5,  10,   0,  25,  -5, -15,  20],  # D\n",
    "    [-10,  20, -20,  25,   0,  30, -10,   5],  # E\n",
    "    [ 15, -10,   5,  -5,  30,   0,  20, -10],  # F\n",
    "    [  0,   5,  15, -15, -10,  20,   0,  30],  # G\n",
    "    [ -5,   0,  10,  20,   5, -10,  30,   0]   # H\n",
    "] #ABCDABCD"
   ]
  },
  {
   "cell_type": "markdown",
   "metadata": {},
   "source": [
    "In order to test with different sized preference matrices we created a function that randomly generates preference matrices given a number of guests"
   ]
  },
  {
   "cell_type": "code",
   "execution_count": 139,
   "metadata": {},
   "outputs": [
    {
     "name": "stdout",
     "output_type": "stream",
     "text": [
      "[[0, -44, 6, -86], [-44, 0, -53, -49], [6, -53, 0, 8], [-86, -49, 8, 0]]\n"
     ]
    }
   ],
   "source": [
    "def random_preferences(nguests):\n",
    "    preference_matrix = [[0] * nguests for x in range(nguests)]\n",
    "    for guest1 in range(nguests):\n",
    "        for guest2 in range(nguests):\n",
    "            if guest1 != guest2:\n",
    "                score = random.randrange(-100, 100, 1)\n",
    "                preference_matrix[guest1][guest2] = score\n",
    "                preference_matrix[guest2][guest1] = score\n",
    "    return preference_matrix\n",
    "\n",
    "p = random_preferences(4)\n",
    "\n",
    "print(p)"
   ]
  },
  {
   "cell_type": "code",
   "execution_count": 140,
   "metadata": {},
   "outputs": [
    {
     "name": "stdout",
     "output_type": "stream",
     "text": [
      "-10.0\n"
     ]
    }
   ],
   "source": [
    "def evaluate_table(table, matrix):\n",
    "    score = 0\n",
    "    for guest in table:\n",
    "        for neighbor in table:\n",
    "            if guest != neighbor:\n",
    "                score += matrix[guest][neighbor]\n",
    "\n",
    "    return score\n",
    "\n",
    "def standard_deviation(solution, preference_matrix):\n",
    "    score_tables = []\n",
    "    total_score=0\n",
    "    for table in solution:\n",
    "        current_score = evaluate_table(table, preference_matrix)\n",
    "        total_score += current_score\n",
    "        score_tables.append(current_score)\n",
    "    average = total_score/len(solution)\n",
    "\n",
    "    std_sum=0\n",
    "    for score in score_tables:\n",
    "        std_sum += (score-average)**2\n",
    "    \n",
    "    std = math.sqrt(std_sum/len(solution))\n",
    "    return std\n",
    "\n",
    "def evaluate_solution(solution, preference_matrix):\n",
    "    average = average_tables(solution, preference_matrix)  #not optimal\n",
    "    std = standard_deviation(solution, preference_matrix) + 1  # shift de 1 para nunca poder haver divisao por 0\n",
    "    return (average/std)\n",
    "    \n",
    "\n",
    "def average_tables(tables, matrix):\n",
    "    score = 0\n",
    "    for table in tables:\n",
    "        score += evaluate_table(table, matrix)\n",
    "    average = score / len(tables)\n",
    "    return average\n",
    "\n",
    "\n",
    "score = evaluate_solution(table_arrangement, test_preference_matrix)\n",
    "print(score)"
   ]
  },
  {
   "cell_type": "code",
   "execution_count": null,
   "metadata": {},
   "outputs": [],
   "source": []
  },
  {
   "cell_type": "markdown",
   "metadata": {},
   "source": [
    "To be able to perform our algorithms correctly we will need all tables to be filled, so we will create fake guests called \"EmptySeat\" that have no preferences towards the other guests."
   ]
  },
  {
   "cell_type": "code",
   "execution_count": 141,
   "metadata": {},
   "outputs": [
    {
     "name": "stdout",
     "output_type": "stream",
     "text": [
      "[[0, 10, -5, 20, -10, 15, 0, -5, 0], [10, 0, 30, -5, 20, -10, 5, 0, 0], [-5, 30, 0, 10, -20, 5, 15, 10, 0], [20, -5, 10, 0, 25, -5, -15, 20, 0], [-10, 20, -20, 25, 0, 30, -10, 5, 0], [15, -10, 5, -5, 30, 0, 20, -10, 0], [0, 5, 15, -15, -10, 20, 0, 30, 0], [-5, 0, 10, 20, 5, -10, 30, 0, 0], [0, 0, 0, 0, 0, 0, 0, 0, 0]]\n"
     ]
    }
   ],
   "source": [
    "def fill_matrix(seatsPerTable, matrix):\n",
    "    nguests = len(matrix)\n",
    "    total_tables = math.ceil(nguests / seatsPerTable) #rounds the division up to the next integer\n",
    "    TotalSeats = total_tables * seatsPerTable\n",
    "    diff = TotalSeats % nguests \n",
    "\n",
    "    matrix_copy = copy.deepcopy(matrix)\n",
    "    if diff == 0:\n",
    "        return matrix_copy\n",
    "    else:\n",
    "        #fill the matrix with the preference that the guests have of the empty seats\n",
    "        for guest in range(len(matrix_copy)):\n",
    "            matrix_copy[guest] = matrix_copy[guest] + ([0]*diff)\n",
    "\n",
    "        #fill the matrix with the preference of the emptyseats\n",
    "        for i in range(diff):\n",
    "            matrix_copy.append([0]*(nguests+diff))\n",
    "\n",
    "    return matrix_copy\n",
    "\n",
    "m = fill_matrix(3, test_preference_matrix)\n",
    "print(m)"
   ]
  },
  {
   "cell_type": "markdown",
   "metadata": {},
   "source": [
    "Some of the algorithms we are applying to this problem, there is a need to create an initial random arrangement. That is what this function is for."
   ]
  },
  {
   "cell_type": "code",
   "execution_count": 142,
   "metadata": {},
   "outputs": [
    {
     "name": "stdout",
     "output_type": "stream",
     "text": [
      "[[6, 1, 2], [4, 3, 0], [7, 8, 5]]\n",
      "[[7, 0], [2, 6], [5, 1], [3, 4]]\n",
      "[[0, 7], [6, 2], [3, 5], [4, 1]]\n",
      "[[1, 7], [2, 6], [4, 5], [0, 3]]\n"
     ]
    }
   ],
   "source": [
    "def random_arrangement(matrix, seatsPerTable):\n",
    "    matrix_copy = fill_matrix(seatsPerTable, matrix)\n",
    "\n",
    "    nguests = len(matrix_copy)\n",
    "    guest_list = list(range(nguests))\n",
    "    arrangement = []\n",
    "    for table in range(nguests//seatsPerTable):\n",
    "        table = random.sample(guest_list, seatsPerTable)\n",
    "        for seatedGuest in table:\n",
    "            guest_list.remove(seatedGuest)\n",
    "\n",
    "        arrangement.append(table)\n",
    "    return arrangement\n",
    "\n",
    "def generate_population(population_size, preference_matrix, seatsPerTable):\n",
    "    solutions = []\n",
    "    for i in range(population_size):\n",
    "        solutions.append(random_arrangement(preference_matrix, seatsPerTable))\n",
    "    return solutions\n",
    "\n",
    "\n",
    "r = random_arrangement(test_preference_matrix, 3)\n",
    "print(r)\n",
    "\n",
    "population = generate_population(3, test_preference_matrix, 2)\n",
    "for solution in population:\n",
    "    print(solution)"
   ]
  },
  {
   "cell_type": "code",
   "execution_count": 143,
   "metadata": {},
   "outputs": [
    {
     "name": "stdout",
     "output_type": "stream",
     "text": [
      "[1]\n"
     ]
    }
   ],
   "source": [
    "toBeChanged = random.choices(range(1, int(8 * 0.05)+2))\n",
    "print(toBeChanged)"
   ]
  },
  {
   "cell_type": "markdown",
   "metadata": {},
   "source": [
    "All of our algorithms require some way to get a solution that is very similar to a given solution. In order to get that we built this function that changes a certain number of guests (based on the number of total guests)."
   ]
  },
  {
   "cell_type": "code",
   "execution_count": 144,
   "metadata": {},
   "outputs": [
    {
     "data": {
      "text/plain": [
       "[[0, 10, -5, 20, -10, 15, 0, -5],\n",
       " [10, 0, 30, -5, 20, -10, 5, 0],\n",
       " [-5, 30, 0, 10, -20, 5, 15, 10],\n",
       " [20, -5, 10, 0, 25, -5, -15, 20],\n",
       " [-10, 20, -20, 25, 0, 30, -10, 5],\n",
       " [15, -10, 0, -5, 30, 0, 20, -10],\n",
       " [0, 5, 15, -15, -10, 20, 0, 30],\n",
       " [-5, 0, 10, 20, 5, -10, 30, 5]]"
      ]
     },
     "execution_count": 144,
     "metadata": {},
     "output_type": "execute_result"
    }
   ],
   "source": [
    "#swaps two guests\n",
    "def get_neighbour(curr_arrangement):\n",
    "    neighbor_arrangement = copy.deepcopy(curr_arrangement)\n",
    "    table1 = np.random.choice(len(neighbor_arrangement))\n",
    "    table2 = np.random.choice(len(neighbor_arrangement))\n",
    "    while(table1 == table2):\n",
    "        table2 = np.random.choice(len(neighbor_arrangement))\n",
    "    person1 = np.random.choice(len(neighbor_arrangement[table1]))\n",
    "    person2 = np.random.choice(len(neighbor_arrangement[table2]))\n",
    "    neighbor_arrangement[table1][person1], neighbor_arrangement[table2][person2] = neighbor_arrangement[table2][person2], neighbor_arrangement[table1][person1]\n",
    "    return neighbor_arrangement\n",
    "#improvement not filled table play\n",
    "\n",
    "def advanced_get_neighbour(curr_arrangement):\n",
    "    percentage = 0.05   #adjustable\n",
    "    totalSeats = len(curr_arrangement)\n",
    "    toBeChanged = random.choices(range(1, int(totalSeats*percentage)+2))\n",
    "    \n",
    "    neighbour_arrangement = curr_arrangement\n",
    "    for nguests in range(toBeChanged[0]):\n",
    "        neighbour_arrangement = get_neighbour(neighbour_arrangement)\n",
    "    return neighbour_arrangement\n",
    "\n",
    "advanced_get_neighbour(test_preference_matrix)"
   ]
  },
  {
   "cell_type": "code",
   "execution_count": 145,
   "metadata": {},
   "outputs": [
    {
     "name": "stdout",
     "output_type": "stream",
     "text": [
      "[[1, 2], [6, 4], [5, 3], [7, 0]]\n"
     ]
    }
   ],
   "source": [
    "import random\n",
    "\n",
    "# escolher a primeira metade das mesas de um dos pais e as restantes do outro pai ou se nao for possivel, aleatorio\n",
    "def midpoint_crossover(parent1, parent2):\n",
    "    num_tables = len(parent1)  # nº de mesas\n",
    "    people_per_table = len(parent1[0])  # nº de pessoas por mesa\n",
    "\n",
    "    # escolhe aleatoriamente qual solução usar primeiro\n",
    "    if random.random() < 0.5:\n",
    "        first_parent, second_parent = parent1, parent2\n",
    "    else:\n",
    "        first_parent, second_parent = parent2, parent1\n",
    "\n",
    "    mid = num_tables // 2\n",
    "\n",
    "    # filho com primeira metade das mesas do primeiro pai\n",
    "    child = first_parent[:mid]\n",
    "    used_elements = set(x for sublist in child for x in sublist)\n",
    "\n",
    "    # adicionar a segunda metade das mesas do segundo pai sem repetir pessoas\n",
    "    for sublist in second_parent[mid:]:\n",
    "        new_sublist = [x for x in sublist if x not in used_elements]\n",
    "        child.append(new_sublist)\n",
    "        used_elements.update(new_sublist)\n",
    "\n",
    "    all_elements = set(x for sublist in parent1 + parent2 for x in sublist)\n",
    "    missing_elements = list(all_elements - used_elements)\n",
    "    random.shuffle(missing_elements)  # os q faltam mete aleatoriamente\n",
    "\n",
    "    # Redistribuir os que faltam mantendo o mesmo tamanho das sublistas\n",
    "    for i in range(num_tables):\n",
    "        while len(child[i]) < people_per_table:\n",
    "            child[i].append(missing_elements.pop(0))\n",
    "\n",
    "    return child\n",
    "\n",
    "# Exemplo de uso\n",
    "parent1 = [[0, 2], [1, 3], [4, 5], [6, 7]]\n",
    "parent2 = [[1, 2], [6, 4], [0, 5], [3, 7]]\n",
    "\n",
    "child = midpoint_crossover(parent1, parent2)\n",
    "print(child)\n"
   ]
  },
  {
   "cell_type": "code",
   "execution_count": 146,
   "metadata": {},
   "outputs": [
    {
     "name": "stdout",
     "output_type": "stream",
     "text": [
      "Filho 1: [[6, 5], [8, 7], [4, 2], [0, 1], [3]]\n",
      "Filho 2: [[8, 6], [1, 3], [2, 7], [0, 4], [5]]\n"
     ]
    }
   ],
   "source": [
    "def random_crossover(parent1, parent2):\n",
    "    num_tables = len(parent1)\n",
    "\n",
    "    #print(len(parent1))\n",
    "    #print(len(parent2))\n",
    "    \n",
    "    mask = [random.choice([0, 1]) for _ in range(num_tables)]\n",
    "    \n",
    "    mask[random.randint(0, num_tables - 1)] = 0  \n",
    "    mask[random.randint(0, num_tables - 1)] = 1 \n",
    "    \n",
    "    child1, child2 = [[] for _ in range(num_tables)], [[] for _ in range(num_tables)]\n",
    "    assigned1, assigned2 = set(), set()\n",
    "\n",
    "    random.shuffle(parent1)\n",
    "    random.shuffle(parent2)\n",
    "    \n",
    "    for i in range(num_tables):\n",
    "        #print(i)\n",
    "        if mask[i] == 0:\n",
    "            child1[i] = [guest for guest in parent1[i] if guest not in assigned1]\n",
    "            if child1[i] is not None: \n",
    "                assigned1.update(child1[i])\n",
    "            child2[i] = [guest for guest in parent2[i] if guest not in assigned2]\n",
    "            if child2[i] is not None: \n",
    "                assigned2.update(child2[i])\n",
    "        else:\n",
    "            child1[i] = [guest for guest in parent2[i] if guest not in assigned1]\n",
    "            if child1[i] is not None: \n",
    "                assigned1.update(child1[i])\n",
    "            child2[i] = [guest for guest in parent1[i] if guest not in assigned2]\n",
    "            if child2[i] is not None: \n",
    "                assigned2.update(child2[i])\n",
    "    \n",
    "    all_guests = set(sum(parent1, []) + sum(parent2, []))  \n",
    "    remaining1 = list(all_guests - assigned1)\n",
    "    remaining2 = list(all_guests - assigned2)\n",
    "    \n",
    "    def fill_tables(child, remaining, parent_ref, assigned_set):\n",
    "        random.shuffle(remaining)\n",
    "        \n",
    "        for i in range(num_tables):\n",
    "            missing_count = len(parent_ref[i]) - len(child[i])\n",
    "            if missing_count > 0:\n",
    "                for guest in remaining[:missing_count]:\n",
    "                    if guest not in assigned_set:\n",
    "                        child[i].append(guest)\n",
    "                        assigned_set.add(guest)\n",
    "                remaining = remaining[missing_count:]  \n",
    "\n",
    "    fill_tables(child1, remaining1, parent1, assigned1)\n",
    "    fill_tables(child2, remaining2, parent2, assigned2)\n",
    "    \n",
    "    return child1, child2\n",
    "\n",
    "# Exemplo de uso:\n",
    "parent1 = [[0, 2], [1, 3], [4, 5], [6, 7], [8]]\n",
    "parent2 = [[1, 2], [0, 4], [6, 5], [8, 7], [3]]\n",
    "\n",
    "child1, child2 = random_crossover(parent1, parent2)\n",
    "\n",
    "print(\"Filho 1:\", child1)\n",
    "print(\"Filho 2:\", child2)\n"
   ]
  },
  {
   "cell_type": "code",
   "execution_count": 147,
   "metadata": {},
   "outputs": [
    {
     "name": "stdout",
     "output_type": "stream",
     "text": [
      "[[4, 5], [8, 7]]\n",
      "[[4, 5], [8, 7], [1, 2], [0], []]\n",
      "[[4, 5], [8, 7], [1, 2], [0, 3], [6]]\n"
     ]
    }
   ],
   "source": [
    "# escolhe pelo menos uma mesa de cada solução e o resto é aleatório, assumindo que todas as mesas têm o mesmo número de pessoas\n",
    "def balanced_crossover(parent1, parent2):\n",
    "    num_tables = len(parent1)\n",
    "    people_per_table = len(parent1[0])\n",
    "\n",
    "    child = []\n",
    "    used_elements = set()\n",
    "\n",
    "    chosen_from_p1 = random.choice(parent1)\n",
    "    randomized_parent2 = random.sample(parent2, len(parent2))\n",
    "\n",
    "    for table in randomized_parent2:\n",
    "        flag=False\n",
    "        for person in table:\n",
    "            if person in chosen_from_p1:\n",
    "                flag=True\n",
    "                break\n",
    "        \n",
    "        if flag == False:\n",
    "            chosen_from_p2 = table\n",
    "            break\n",
    "\n",
    "    used_elements.update(chosen_from_p1)\n",
    "    used_elements.update(chosen_from_p2)\n",
    "    child.append(chosen_from_p1)\n",
    "    child.append(chosen_from_p2)\n",
    "\n",
    "    print(child)\n",
    "\n",
    "    table_sizes = [len(table) for table in parent1]\n",
    "\n",
    "    for i in range(num_tables-2):\n",
    "        if random.random() < 0.5:\n",
    "            table = random.choice(parent1)\n",
    "        else:\n",
    "            table = random.choice(parent2)\n",
    "        new_table = [x for x in table if x not in used_elements]\n",
    "        child.append(new_table)\n",
    "        used_elements.update(new_table)\n",
    "\n",
    "    all_elements = set(x for sublist in parent1 + parent2 for x in sublist)\n",
    "    missing_elements = list(all_elements - used_elements)\n",
    "    random.shuffle(missing_elements)\n",
    "\n",
    "    print(child)\n",
    "\n",
    "    for i in range(num_tables):\n",
    "        while len(child[i]) < table_sizes[i]:\n",
    "            if missing_elements:\n",
    "                child[i].append(missing_elements.pop(0))\n",
    "    \n",
    "    return child\n",
    "\n",
    "\n",
    "parent1 = [[0, 2], [1, 3], [4, 5], [6, 7], [8]]\n",
    "parent2 = [[1, 2], [0, 4], [6, 5], [8, 7], [3]]\n",
    "\n",
    "child = balanced_crossover(parent1, parent2)\n",
    "print(child)\n"
   ]
  },
  {
   "cell_type": "markdown",
   "metadata": {},
   "source": [
    "**SIMMULATED ANNEALING**"
   ]
  },
  {
   "cell_type": "code",
   "execution_count": 148,
   "metadata": {},
   "outputs": [
    {
     "name": "stdout",
     "output_type": "stream",
     "text": [
      "4.714045207910317\n",
      "result: [[0, 5, 3], [2, 1, 4], [8, 6, 7]]    score: 60.0\n"
     ]
    }
   ],
   "source": [
    "def simmulated_annealing(preferences, seatsPerTable):\n",
    "    cooling = 0.99    #o quao rápido vai descendo essa tolerancia\n",
    "    iterations = 10000\n",
    "    #primeiro arranjamos um estado inicial random e avaliamos\n",
    "    initial_state = random_arrangement(preferences, seatsPerTable)\n",
    "    filled_preferences=fill_matrix(seatsPerTable, preferences)\n",
    "    initial_score = evaluate_solution(initial_state, filled_preferences)\n",
    "\n",
    "    temperature = standard_deviation(initial_state, filled_preferences)   #basicamente a nossa tolerância no que toca a aceitar soluçoes piores\n",
    "    print(temperature)\n",
    "\n",
    "    while iterations > 0:\n",
    "\n",
    "        #depois arranjamos uma soluçao vizinha à inicial e avaliamos essa\n",
    "        neighbour_state = advanced_get_neighbour(initial_state)\n",
    "        neighbour_score = evaluate_solution(neighbour_state, filled_preferences)\n",
    "        \n",
    "\n",
    "        score_diff = initial_score - neighbour_score\n",
    "\n",
    "        #se a soluçao for melhor, aceitamos\n",
    "        if score_diff < 0:\n",
    "            initial_state = neighbour_state\n",
    "            initial_score = neighbour_score\n",
    "        #se for pior aceitamos com uma certa probabilidade que depende da temperatura\n",
    "        else:\n",
    "            probability = math.exp(-score_diff / temperature)\n",
    "            if random.random() < probability:\n",
    "                initial_state = neighbour_state\n",
    "                initial_score = neighbour_score\n",
    "        temperature *= cooling\n",
    "        iterations -= 1\n",
    "    return initial_state, initial_score\n",
    "\n",
    "\n",
    "result, score = simmulated_annealing(test_preference_matrix, 3)\n",
    "print(f\"result: {result}    score: {score}\")\n"
   ]
  },
  {
   "cell_type": "markdown",
   "metadata": {},
   "source": [
    "GENETIC ALGORTHIM"
   ]
  },
  {
   "cell_type": "code",
   "execution_count": 149,
   "metadata": {},
   "outputs": [
    {
     "name": "stdout",
     "output_type": "stream",
     "text": [
      "[[7, 0], [1, 4], [5, 3], [6, 2]]\n",
      "[[7, 6], [4, 1], [3, 2], [0, 5]]\n",
      "[[0, 7], [5, 2], [6, 3], [1, 4]]\n",
      "[[0, 3], [5, 6], [1, 4], [2, 7]]\n",
      "[[4, 1], [6, 3], [7, 2], [5, 0]]\n",
      "\n",
      "[[0, 3], [5, 6], [1, 4], [2, 7]]\n",
      "\n",
      "[[0, 3], [5, 6], [1, 4], [2, 7]]\n"
     ]
    }
   ],
   "source": [
    "def tournament_select(population, preference_matrix, tournament_size, exclude=None):\n",
    "    filtered_population = [ind for ind in population if ind != exclude]\n",
    "    selected = random.sample(filtered_population, tournament_size)\n",
    "    best_solution = max(selected, key=lambda s: evaluate_solution(s, preference_matrix))\n",
    "    return best_solution\n",
    "\n",
    "def roulette_select(population, preference_matrix, exclude=None):\n",
    "    filtered_population = [ind for ind in population if ind != exclude]\n",
    "    fitness_values = np.array([evaluate_solution(s, preference_matrix) for s in filtered_population])\n",
    "    total_fitness = np.sum(fitness_values)\n",
    "    rand_value = np.random.uniform(0, total_fitness)\n",
    "\n",
    "    cumulative_sum = 0\n",
    "    for i, fitness in enumerate(fitness_values):\n",
    "        cumulative_sum += fitness\n",
    "        if rand_value <= cumulative_sum:\n",
    "            return filtered_population[i]\n",
    "    \n",
    "\n",
    "\n",
    "population = generate_population(5, test_preference_matrix, 2)\n",
    "for s in population:\n",
    "    print(s)\n",
    "print(\"\")   \n",
    "t = tournament_select(population, test_preference_matrix, 3)\n",
    "print(t)\n",
    "print(\"\")\n",
    "r = roulette_select(population, test_preference_matrix)\n",
    "print(r)\n"
   ]
  },
  {
   "cell_type": "code",
   "execution_count": 150,
   "metadata": {},
   "outputs": [],
   "source": [
    "def mutation(parent, mutation_prob=0.2):\n",
    "    if random.random() < mutation_prob:  \n",
    "        return get_neighbour(parent)\n",
    "    return parent"
   ]
  },
  {
   "cell_type": "code",
   "execution_count": 151,
   "metadata": {},
   "outputs": [
    {
     "name": "stdout",
     "output_type": "stream",
     "text": [
      "MATRIZ PREFERENCIA\n",
      "[[0, -45, -5, -36, -56, -13, -96, -68], [-45, 0, 75, -79, -22, -24, 69, -94], [-5, 75, 0, 33, 17, -54, 21, 18], [-36, -79, 33, 0, 76, -50, 14, 90], [-56, -22, 17, 76, 0, -58, -60, 11], [-13, -24, -54, -50, -58, 0, 48, 78], [-96, 69, 21, 14, -60, 48, 0, 64], [-68, -94, 18, 90, 11, 78, 64, 0]]\n",
      "Initial solution: [[0, 1, 7], [4, 6, 2], [8, 3, 5]], score: -0.5770363219029305\n",
      "  Final solution: [[1, 7, 4], [0, 3, 2], [8, 5, 6]], score: 8.167010404828968\n"
     ]
    },
    {
     "data": {
      "image/png": "[encoded data removed]",
      "text/plain": [
       "<Figure size 640x480 with 1 Axes>"
      ]
     },
     "metadata": {},
     "output_type": "display_data"
    },
    {
     "data": {
      "text/plain": [
       "'genetic_algorithm(1, 100, p, 3)\\ngenetic_algorithm(1, 100, p, 3)\\ngenetic_algorithm(1, 100, p, 3)\\ngenetic_algorithm(1, 100, p, 3)\\ngenetic_algorithm(1, 100, p, 3)\\ngenetic_algorithm(1, 100, p, 3)\\ngenetic_algorithm(1, 100, p, 3)\\ngenetic_algorithm(1, 100, p, 3)\\ngenetic_algorithm(1, 100, p, 3)'"
      ]
     },
     "execution_count": 151,
     "metadata": {},
     "output_type": "execute_result"
    }
   ],
   "source": [
    "def genetic_algorithm(num_iterations, population_size, preference_matrix, seatsPerTable):\n",
    "    filled_preference_matrix = fill_matrix(seatsPerTable, preference_matrix)\n",
    "    population = generate_population(population_size, filled_preference_matrix, seatsPerTable)\n",
    "    \"\"\"print(\"population[0]: \")\n",
    "    print(population[0])\"\"\"\n",
    "    best_solution = population[0]\n",
    "    best_score = evaluate_solution(population[0], filled_preference_matrix)\n",
    "    num_iterations=1000\n",
    "    \n",
    "    best_scores = []\n",
    "    all_scores = []\n",
    "    avg_scores = []\n",
    "\n",
    "    for solution in population:\n",
    "        all_scores.append(evaluate_solution(solution, filled_preference_matrix))\n",
    "\n",
    "\n",
    "    print(f\"Initial solution: {best_solution}, score: {best_score}\")\n",
    "\n",
    "    while(num_iterations > 0):\n",
    "\n",
    "\n",
    "        parent1 = tournament_select( population, filled_preference_matrix, 10)\n",
    "        parent2 = tournament_select( population, filled_preference_matrix, 10, exclude=parent1)\n",
    "        #parent2 = roulette_select(population, filled_preference_matrix, exclude=parent1)\n",
    "\n",
    "        if parent2 is None:\n",
    "            parent2 = parent1\n",
    "\n",
    "        \"\"\"print(\"parent 1:\")\n",
    "        print(parent1)\n",
    "        print(\"parent2:\")\n",
    "        print(parent2)\"\"\"\n",
    "\n",
    "        #estatisticas para grafico\n",
    "        avg_score = np.mean(all_scores)\n",
    "        avg_scores.append(avg_score)\n",
    "        best_solution = max(population, key=lambda x: evaluate_solution(x, filled_preference_matrix))\n",
    "        best_scores.append(evaluate_solution(best_solution, filled_preference_matrix))\n",
    "\n",
    "\n",
    "        # Next generation Crossover and Mutation\n",
    "        child1, child2 = random_crossover(parent1, parent2)\n",
    "\n",
    "        \"\"\"print(\"child 1:\")\n",
    "        print(child1)\n",
    "        print(\"child2:\")\n",
    "        print(child2)\"\"\"\n",
    "\n",
    "        child1, child2 = mutation(child1), mutation(child2)\n",
    "\n",
    "        \"\"\"print(\"mutate child 1:\")\n",
    "        print(child1)\n",
    "        print(\"mutate child2:\")\n",
    "        print(child2)\"\"\"\n",
    "        \n",
    "        population.append(child1)\n",
    "        population.append(child2)\n",
    "        all_scores.append(evaluate_solution(child1, filled_preference_matrix))\n",
    "        all_scores.append(evaluate_solution(child2, filled_preference_matrix))\n",
    "        population.sort(key=lambda sol: evaluate_solution(sol, filled_preference_matrix), reverse=True)\n",
    "        population = population[:population_size]\n",
    "\n",
    "        \"\"\"child = random_crossover(parent1, parent2)\n",
    "        print(\"child 1:\")\n",
    "        print(child)\n",
    "\n",
    "        child = mutation(child)\n",
    "\n",
    "        print(\"mutate child 1:\")\n",
    "        print(child)\n",
    "        population.append(child)\n",
    "        population.sort(key=lambda sol: evaluate_solution(sol, filled_preference_matrix), reverse=True)\n",
    "        population = population[:population_size]\"\"\"\n",
    "\n",
    "        num_iterations-=1\n",
    "    \n",
    "    best_solution= population[0]\n",
    "    best_score=evaluate_solution(best_solution, filled_preference_matrix)\n",
    "\n",
    "    print(f\"  Final solution: {best_solution}, score: {best_score}\")\n",
    "\n",
    "    show_graph(best_scores, avg_scores)\n",
    "    return best_solution\n",
    "\n",
    "p = random_preferences(8)\n",
    "print(\"MATRIZ PREFERENCIA\")\n",
    "print(p)\n",
    "\n",
    "genetic_algorithm(1, 100, test_preference_matrix, 3)\n",
    "\"\"\"genetic_algorithm(1, 100, p, 3)\n",
    "genetic_algorithm(1, 100, p, 3)\n",
    "genetic_algorithm(1, 100, p, 3)\n",
    "genetic_algorithm(1, 100, p, 3)\n",
    "genetic_algorithm(1, 100, p, 3)\n",
    "genetic_algorithm(1, 100, p, 3)\n",
    "genetic_algorithm(1, 100, p, 3)\n",
    "genetic_algorithm(1, 100, p, 3)\n",
    "genetic_algorithm(1, 100, p, 3)\"\"\""
   ]
  },
  {
   "cell_type": "markdown",
   "metadata": {},
   "source": [
    "TABU SEARCH"
   ]
  },
  {
   "cell_type": "code",
   "execution_count": 152,
   "metadata": {},
   "outputs": [],
   "source": [
    "def tabu_search(preferences, seats_per_table, max_iterations=1000, tabu_tenure=7, max_no_improve=100):\n",
    "    padded_preferences = fill_matrix(seats_per_table, preferences)\n",
    "    current_arrangement = random_arrangement(preferences, seats_per_table)\n",
    "    best_arrangement = copy.deepcopy(current_arrangement)\n",
    "    \n",
    "    current_score = evaluate_solution(current_arrangement, padded_preferences)\n",
    "    best_score = current_score\n",
    "    \n",
    "    tabu_list = {}\n",
    "    \n",
    "    iterations_no_improve = 0\n",
    "    total_iterations = 0\n",
    "    \n",
    "    frequency_list = {}\n",
    "    \n",
    "    while total_iterations < max_iterations and iterations_no_improve < max_no_improve:\n",
    "        total_iterations += 1\n",
    "        \n",
    "        neighbor_arrangement = get_neighbour(current_arrangement)\n",
    "        \n",
    "        neighbor_score = evaluate_solution(neighbor_arrangement, padded_preferences)\n",
    "        \n",
    "        is_tabu = tuple(map(tuple, neighbor_arrangement)) in tabu_list and tabu_list[tuple(map(tuple, neighbor_arrangement))] > 0\n",
    "        \n",
    "        if is_tabu and neighbor_score <= best_score:\n",
    "            if tuple(map(tuple, neighbor_arrangement)) in frequency_list:\n",
    "                frequency_list[tuple(map(tuple, neighbor_arrangement))] += 1\n",
    "            else:\n",
    "                frequency_list[tuple(map(tuple, neighbor_arrangement))] = 1\n",
    "                \n",
    "            if frequency_list.get(tuple(map(tuple, neighbor_arrangement)), 0) > 5:\n",
    "                for _ in range(3):  \n",
    "                    temp_neighbor = get_neighbour(current_arrangement)\n",
    "                    current_arrangement = temp_neighbor\n",
    "                current_score = evaluate_solution(current_arrangement, padded_preferences)\n",
    "                frequency_list.clear()\n",
    "            \n",
    "            iterations_no_improve += 1\n",
    "            continue\n",
    "        \n",
    "        current_arrangement = neighbor_arrangement\n",
    "        current_score = neighbor_score\n",
    "        \n",
    "        keys_to_remove = []\n",
    "        for arrangement, tenure in tabu_list.items():\n",
    "            tabu_list[arrangement] -= 1\n",
    "            if tabu_list[arrangement] <= 0:\n",
    "                keys_to_remove.append(arrangement)\n",
    "        \n",
    "        for key in keys_to_remove:\n",
    "            del tabu_list[key]\n",
    "        \n",
    "        tabu_list[tuple(map(tuple, current_arrangement))] = tabu_tenure\n",
    "        \n",
    "        if current_score > best_score:\n",
    "            best_arrangement = copy.deepcopy(current_arrangement)\n",
    "            best_score = current_score\n",
    "            iterations_no_improve = 0\n",
    "            frequency_list.clear()\n",
    "        else:\n",
    "            iterations_no_improve += 1\n",
    "        \n",
    "        if total_iterations % 100 == 0:\n",
    "            print(f\"Iteration {total_iterations}, Best score: {best_score}, No improvement: {iterations_no_improve}\")\n",
    "    \n",
    "    original_guests = len(preferences)\n",
    "    final_arrangement = []\n",
    "    for table in best_arrangement:\n",
    "        real_guests = [guest for guest in table if guest < original_guests]\n",
    "        if real_guests:  \n",
    "            final_arrangement.append(real_guests)\n",
    "    \n",
    "    return final_arrangement"
   ]
  },
  {
   "cell_type": "code",
   "execution_count": 153,
   "metadata": {},
   "outputs": [
    {
     "name": "stdout",
     "output_type": "stream",
     "text": [
      "Iteration 100, Best score: 50.0, No improvement: 80\n"
     ]
    },
    {
     "data": {
      "text/plain": [
       "[[4, 3], [6, 7, 0], [2, 5, 1]]"
      ]
     },
     "execution_count": 153,
     "metadata": {},
     "output_type": "execute_result"
    }
   ],
   "source": [
    "tabu_search(test_preference_matrix, 3, max_iterations=1000, tabu_tenure=7, max_no_improve=100)"
   ]
  },
  {
   "cell_type": "markdown",
   "metadata": {},
   "source": [
    "GENETIC ALGORITHM (NEW VERSION)"
   ]
  },
  {
   "cell_type": "markdown",
   "metadata": {},
   "source": [
    "Conversao para ser mais facil visualizar os convidados nas mesas "
   ]
  },
  {
   "cell_type": "code",
   "execution_count": 154,
   "metadata": {},
   "outputs": [
    {
     "name": "stdout",
     "output_type": "stream",
     "text": [
      "[0, 1, 2]\n",
      "[3, 4, 5]\n",
      "[6, 7]\n"
     ]
    }
   ],
   "source": [
    "from collections import defaultdict\n",
    "\n",
    "def solution_to_tables(solution):\n",
    "    mesas = defaultdict(list)\n",
    "    for convidado, mesa in enumerate(solution):\n",
    "        mesas[mesa].append(convidado)\n",
    "    return list(mesas.values())\n",
    "\n",
    "\n",
    "m=solution_to_tables([0, 0, 0, 1, 1, 1, 2, 2]\n",
    ")\n",
    "\n",
    "for i in m:\n",
    "    print(i)"
   ]
  },
  {
   "cell_type": "code",
   "execution_count": 155,
   "metadata": {},
   "outputs": [
    {
     "name": "stdout",
     "output_type": "stream",
     "text": [
      "-10.0\n"
     ]
    }
   ],
   "source": [
    "def evaluate_table_(table, matrix):\n",
    "    score = 0\n",
    "    for guest in table:\n",
    "        for neighbor in table:\n",
    "            if guest != neighbor:\n",
    "                score += matrix[guest][neighbor]\n",
    "\n",
    "    return score\n",
    "\n",
    "def standard_deviation_(tables, preference_matrix):\n",
    "    solution = solution_to_tables(tables)\n",
    "    score_tables = []\n",
    "    total_score=0\n",
    "    for table in solution:\n",
    "        current_score = evaluate_table_(table, preference_matrix)\n",
    "        total_score += current_score\n",
    "        score_tables.append(current_score)\n",
    "    average = total_score/len(solution)\n",
    "\n",
    "    std_sum=0\n",
    "    for score in score_tables:\n",
    "        std_sum += (score-average)**2\n",
    "    \n",
    "    std = math.sqrt(std_sum/len(solution))\n",
    "    return std\n",
    "\n",
    "def evaluate_solution_(solution, preference_matrix):\n",
    "    average = average_tables_(solution, preference_matrix)  #not optimal\n",
    "    std = standard_deviation_(solution, preference_matrix) + 1  # shift de 1 para nunca poder haver divisao por 0\n",
    "    return (average/std)\n",
    "    \n",
    "\n",
    "def average_tables_(solution, matrix):\n",
    "    tables = solution_to_tables(solution)\n",
    "    score = 0\n",
    "    for table in tables:\n",
    "        score += evaluate_table_(table, matrix)\n",
    "    average = score / len(tables)\n",
    "    return average\n",
    "\n",
    "table_arrangement2=[0, 1, 0, 1]\n",
    "score = evaluate_solution_(table_arrangement2, test_preference_matrix)\n",
    "print(score)"
   ]
  },
  {
   "cell_type": "code",
   "execution_count": 156,
   "metadata": {},
   "outputs": [
    {
     "name": "stdout",
     "output_type": "stream",
     "text": [
      "[0, 3, 1, 2, 3, 2, 1, 0]\n",
      "[3, 1, 1, 0, 3, 2, 2, 0]\n",
      "[3, 0, 2, 1, 0, 1, 3, 2]\n",
      "[2, 3, 0, 1, 1, 0, 2, 3]\n",
      "[1, 0, 3, 1, 2, 2, 3, 0]\n"
     ]
    }
   ],
   "source": [
    "def generate_population_(pop_size, preference_matrix, seatsPerTable):\n",
    "    num_guests = len(preference_matrix)\n",
    "    num_tables = (num_guests + seatsPerTable - 1) // seatsPerTable\n",
    "    population = []\n",
    "    \n",
    "    for _ in range(pop_size):\n",
    "        guests = list(range(num_guests))\n",
    "        random.shuffle(guests)\n",
    "        individual = [0] * num_guests\n",
    "        for i, guest in enumerate(guests):\n",
    "            mesa = i // seatsPerTable\n",
    "            individual[guest] = mesa\n",
    "        population.append(individual)\n",
    "    \n",
    "    return population\n",
    "\n",
    "population = generate_population_(5, test_preference_matrix, 2)\n",
    "for s in population:\n",
    "    print(s)"
   ]
  },
  {
   "cell_type": "code",
   "execution_count": null,
   "metadata": {},
   "outputs": [],
   "source": []
  },
  {
   "cell_type": "code",
   "execution_count": 157,
   "metadata": {},
   "outputs": [],
   "source": [
    "def get_neighbour_(curr_arrangement):\n",
    "    neighbor = curr_arrangement[:]\n",
    "    num_guests = len(neighbor)\n",
    "\n",
    "    # Escolher dois convidados diferentes\n",
    "    guest1 = random.randint(0, num_guests - 1)\n",
    "    guest2 = random.randint(0, num_guests - 1)\n",
    "    while guest1 == guest2 or neighbor[guest1] == neighbor[guest2]:\n",
    "        guest2 = random.randint(0, num_guests - 1)\n",
    "\n",
    "    # Trocar as mesas atribuídas entre os dois convidados\n",
    "    neighbor[guest1], neighbor[guest2] = neighbor[guest2], neighbor[guest1]\n",
    "\n",
    "    return neighbor\n"
   ]
  },
  {
   "cell_type": "code",
   "execution_count": 158,
   "metadata": {},
   "outputs": [],
   "source": [
    "from collections import Counter\n",
    "import random\n",
    "\n",
    "def random_crossover_(parent1, parent2, preference_matrix, seatsPerTable):\n",
    "    num_guests = len(parent1)\n",
    "    num_tables = (num_guests + seatsPerTable - 1) // seatsPerTable\n",
    "\n",
    "    cut = random.randint(1, num_guests - 2)\n",
    "\n",
    "    child1 = parent1[:cut] + parent2[cut:]\n",
    "    child2 = parent2[:cut] + parent1[cut:]\n",
    "\n",
    "    child1 = optimize_child(child1, num_tables, seatsPerTable, preference_matrix)\n",
    "    child2 = optimize_child(child2, num_tables, seatsPerTable, preference_matrix)\n",
    "\n",
    "    return child1, child2\n",
    "\n",
    "\n",
    "def optimize_child(child, num_tables, seatsPerTable, preference_matrix):\n",
    "    table_counts = Counter(child)\n",
    "\n",
    "    # Mesas com mais do que o permitido\n",
    "    overfilled = {mesa: count for mesa, count in table_counts.items() if count > seatsPerTable}\n",
    "    # Mesas com espaço livre\n",
    "    underfilled = {mesa: seatsPerTable - table_counts.get(mesa, 0) for mesa in range(num_tables) if table_counts.get(mesa, 0) < seatsPerTable}\n",
    "\n",
    "    if not overfilled:\n",
    "        return child  # solução já está válida\n",
    "\n",
    "    # Identificar os convidados a mover (os que menos contribuem)\n",
    "    guest_to_move = []\n",
    "    for mesa in overfilled:\n",
    "        guests = [i for i, m in enumerate(child) if m == mesa]\n",
    "        guests_sorted = sorted(guests, key=lambda g: contribution_to_table(g, child, preference_matrix), reverse=True)\n",
    "        needed = overfilled[mesa] - seatsPerTable\n",
    "        guest_to_move.extend(guests_sorted[-needed:])  # mover os que contribuem menos\n",
    "\n",
    "    # Mover os convidados para mesas com espaço\n",
    "    underfilled_list = list(underfilled.items())  # [(mesa, lugares)]\n",
    "    idx = 0\n",
    "    for guest in guest_to_move:\n",
    "        while idx < len(underfilled_list) and underfilled_list[idx][1] == 0:\n",
    "            idx += 1\n",
    "        if idx >= len(underfilled_list):\n",
    "            break  # tudo alocado\n",
    "        mesa_destino = underfilled_list[idx][0]\n",
    "        child[guest] = mesa_destino\n",
    "        underfilled_list[idx] = (mesa_destino, underfilled_list[idx][1] - 1)\n",
    "\n",
    "    return child\n",
    "\n",
    "\n",
    "def contribution_to_table(guest, solution, matrix):\n",
    "    mesa = solution[guest]\n",
    "    same_table = [i for i in range(len(solution)) if i != guest and solution[i] == mesa]\n",
    "    return sum(matrix[guest][other] + matrix[other][guest] for other in same_table)\n"
   ]
  },
  {
   "cell_type": "code",
   "execution_count": 159,
   "metadata": {},
   "outputs": [
    {
     "data": {
      "text/plain": [
       "'population = generate_population_(5, test_preference_matrix, 2)\\nfor s in population:\\n    print(s)\\nprint(\"\")   \\nt = tournament_select_(population, test_preference_matrix, 3)\\nprint(t)\\nprint(\"\")\\nr = roulette_select_(population, test_preference_matrix)\\nprint(r)'"
      ]
     },
     "execution_count": 159,
     "metadata": {},
     "output_type": "execute_result"
    }
   ],
   "source": [
    "def tournament_select_(population, preference_matrix, tournament_size, exclude=None):\n",
    "    filtered_population = [ind for ind in population if ind != exclude]\n",
    "\n",
    "    if len(filtered_population) == 0:\n",
    "        return exclude \n",
    "\n",
    "    #print(\"pop size: \")\n",
    "    #print(len(filtered_population))\n",
    "    # Corrigir o tamanho do torneio para nunca ultrapassar o tamanho da população\n",
    "    tournament_size = min(tournament_size, len(filtered_population))\n",
    "\n",
    "    selected = random.sample(filtered_population, tournament_size)\n",
    "    best_solution = max(selected, key=lambda s: evaluate_solution_(s, preference_matrix))\n",
    "    return best_solution\n",
    "\n",
    "\n",
    "def roulette_select_(population, preference_matrix, exclude=None):\n",
    "    filtered_population = [ind for ind in population if ind != exclude]\n",
    "    fitness_values = np.array([evaluate_solution_(s, preference_matrix) for s in filtered_population])\n",
    "    total_fitness = np.sum(fitness_values)\n",
    "    rand_value = np.random.uniform(0, total_fitness)\n",
    "\n",
    "    cumulative_sum = 0\n",
    "    for i, fitness in enumerate(fitness_values):\n",
    "        cumulative_sum += fitness\n",
    "        if rand_value <= cumulative_sum:\n",
    "            return filtered_population[i]\n",
    "    \n",
    "\n",
    "\n",
    "\"\"\"population = generate_population_(5, test_preference_matrix, 2)\n",
    "for s in population:\n",
    "    print(s)\n",
    "print(\"\")   \n",
    "t = tournament_select_(population, test_preference_matrix, 3)\n",
    "print(t)\n",
    "print(\"\")\n",
    "r = roulette_select_(population, test_preference_matrix)\n",
    "print(r)\"\"\"\n"
   ]
  },
  {
   "cell_type": "code",
   "execution_count": 160,
   "metadata": {},
   "outputs": [],
   "source": [
    "def mutation_(parent, mutation_prob=0.1):\n",
    "    if random.random() < mutation_prob:  \n",
    "        return get_neighbour_(parent)\n",
    "    return parent"
   ]
  },
  {
   "cell_type": "code",
   "execution_count": 161,
   "metadata": {},
   "outputs": [
    {
     "name": "stdout",
     "output_type": "stream",
     "text": [
      "MATRIZ PREFERENCIA\n",
      "[[0, 34, 37, 63, -53, 66, -41, -71, 2, -2, 36, -78, -93, -51, -81, 36, 73, -52, 28, -14, 37, -40, 90, -45, 95, 93, 83, 4, -18, 26, -52, 88, 80, 43, 96, -76, -55, 90, -21, -90, -24, -99, -26, -56, 34, -3, 96, -83, -58, 36, -1, -61, -3, -12, 80, 76, -97, -52, 43, -88, 72, 8, 89, -22, 57, -27, 74, -95, -2, 23, -15, -18, 37, -40, 73, -90, -33, 61, -87, 56, 42, -85, 91, -24, 4, -93, -6, 64, -88, 11, -50, -29, -100, -67, -8, 30, -96, -82, 2, -67], [34, 0, -20, -57, -59, 87, -48, -27, 95, -90, -38, 81, 3, -87, -74, 99, -14, 5, 42, 78, -45, 28, 67, -94, 41, -87, -65, -43, 98, -55, -80, -54, 34, -51, 16, -15, 4, -66, 81, -26, 67, -46, 12, -64, 64, 35, 66, 73, 15, 85, 28, -90, -89, -48, 22, 21, -79, -76, -99, 0, 99, -71, 54, -72, 59, 67, -23, -37, -49, -73, 55, 79, -99, -34, -22, 42, -43, -34, 20, 96, -28, 9, 99, -82, -51, 64, -78, 84, 51, 55, 38, -100, -42, 73, 3, -63, 46, 31, 54, -18], [37, -20, 0, -47, 95, 11, -82, -54, 2, 13, 84, 33, 61, 64, 64, 53, 19, -70, 7, -48, 18, 23, -16, -30, 38, -12, 75, 96, -27, -100, 0, 74, 81, 51, 70, 94, 10, 4, 83, -67, -36, -23, 91, -30, 42, -29, -63, 33, -85, 67, 5, 67, -42, -50, -23, -27, 4, 22, 84, 63, 73, -28, -70, -38, 16, 0, 50, -94, -86, 52, 70, 39, 92, 19, -54, 70, -78, -95, 52, -11, 94, -41, 44, 52, -81, 70, -63, 93, -52, 21, 76, -99, 96, -22, 20, -98, -20, -83, 45, -24], [63, -57, -47, 0, 93, 27, 18, -72, -51, -92, 37, 57, -53, -1, 59, -67, 32, -62, -2, 27, 62, 85, 80, -94, -58, -16, -82, 90, -81, -100, 78, -50, -10, -15, 12, 95, 9, -1, -42, -60, -25, -35, -21, -9, -6, 32, 90, -53, -49, -29, 17, -41, 87, 38, -69, 89, 46, -7, 40, 63, -10, -45, -6, 52, 90, 28, 14, 21, 61, 81, 11, -86, -27, -57, -55, 21, 50, -29, -18, 33, 82, 31, -39, -68, 87, -72, 46, -99, 40, -97, -29, -42, -44, 76, -3, -32, 97, 12, 20, -11], [-53, -59, 95, 93, 0, -57, -49, -85, -38, -7, -95, -30, 50, 40, -80, 48, 60, 86, 92, 25, 53, 94, -78, 22, -92, -71, -20, -97, 32, -94, -43, 16, -95, 45, -12, -65, 64, -81, 61, -89, 11, 6, -38, 41, -20, 18, 23, 48, 36, 30, 21, -57, -12, 65, -16, 13, 14, 41, -16, -3, 23, 4, -24, -72, 36, -32, 80, -95, 55, 79, 44, -66, -78, 5, 32, 5, -83, 69, 38, 49, 15, 81, -43, 81, 3, -54, -82, 56, 2, -25, 75, 55, 40, -73, 95, -56, -94, 85, -45, 24], [66, 87, 11, 27, -57, 0, 75, -37, -78, -65, -94, 41, -4, 3, -56, 51, 10, -10, -26, 56, 64, 39, -38, -54, -69, 88, 3, -44, -65, -25, -45, -67, 3, -81, 81, 65, -42, -44, 17, 55, 17, -46, 10, -90, -31, 20, -74, 69, 19, 65, 49, -25, 61, 41, 61, 55, 33, -35, 61, -71, 70, -39, -13, -55, 77, 4, 26, 74, 44, 33, 29, -59, 8, 9, -19, 4, -88, 57, 84, -64, -30, -28, -24, -85, -13, 78, -31, 3, 62, 27, 37, -7, 86, -57, -86, 55, 18, 60, 91, 73], [-41, -48, -82, 18, -49, 75, 0, 79, -25, -9, 38, -42, 79, -62, 32, 32, 49, -91, -22, 90, 41, -91, -42, 24, -28, 22, -64, -14, -91, -97, -20, -12, -48, 0, 38, -67, 24, -36, 71, 93, -17, 12, 32, 55, 61, -73, -48, 94, -96, -7, 10, -54, 0, 10, 80, 75, -50, 46, -9, -30, 70, 71, -85, 94, -83, -50, 7, -77, -68, 23, 29, 58, -65, 93, -62, 45, -8, -3, 64, 77, -85, 22, -33, -70, 15, -100, -8, -61, 1, 45, -9, 57, 38, -33, 58, -7, 37, -26, 69, 18], [-71, -27, -54, -72, -85, -37, 79, 0, -69, 47, 91, -38, -36, 78, 50, -29, 43, 71, 71, 80, -49, -63, -89, -85, 37, -42, -34, 27, 39, -73, -91, -38, -94, 45, -23, 68, -66, -90, 59, 59, -56, -24, 9, 30, -10, -84, -99, 81, -96, 58, -46, 16, 10, 36, 88, -74, 28, 73, 64, -83, 49, -34, 42, 51, -39, -58, 20, 46, -73, 89, -69, -72, -82, -8, -68, 42, -45, -52, 91, 10, 45, 35, 61, 39, 99, -93, -28, 64, -17, -43, 15, 92, 71, -29, -65, -48, -23, 91, 25, 60], [2, 95, 2, -51, -38, -78, -25, -69, 0, -92, 71, -84, -94, 11, -43, 91, 43, 50, 66, 46, 76, 58, -53, 69, -32, 29, -78, 12, 99, -25, -75, -100, -29, 45, -1, 45, -55, 73, -91, -18, 34, -17, 16, -81, -9, -75, -16, -63, 50, 8, 25, 24, 23, 28, -75, 45, -55, 2, 26, -98, -23, 60, -1, 20, -6, -85, 28, 94, -19, -47, 13, 28, -63, -73, 79, -1, 82, 31, -93, 62, -49, -16, -73, -12, 3, 85, -23, 3, -51, -24, -5, 67, -85, 34, 67, -76, 34, -26, 0, -34], [-2, -90, 13, -92, -7, -65, -9, 47, -92, 0, -8, 81, -84, -85, -70, -14, 78, -100, -80, -34, -8, 1, -42, 76, 98, 44, -39, -59, 70, -84, -46, 71, 28, 56, 55, 46, -47, -79, -63, -43, 4, -11, 18, 45, -51, -97, -100, 58, 34, 36, -43, 11, 33, -42, -76, 38, -47, 19, -90, -32, 11, 4, 61, -42, 74, -61, -46, 14, -42, 19, -85, 27, -19, 56, 30, -98, -49, 14, -78, -59, -14, -51, -39, -40, 5, -24, 50, -48, 77, -26, -85, 72, 51, 39, 73, -46, 28, -51, -86, 7], [36, -38, 84, 37, -95, -94, 38, 91, 71, -8, 0, 76, 87, -79, 49, 77, 11, 14, -24, -13, -15, -60, -61, 62, -12, -3, 71, 10, -41, 91, 64, -24, -92, 69, -33, 89, 35, -76, -95, -27, -39, -37, 42, -73, 79, -85, 22, 17, 93, 64, -79, -58, 46, -8, 54, -20, 68, 23, 8, -14, -64, -61, 11, -47, 31, -13, 2, -23, -88, 98, -88, -26, 2, -4, 38, -91, 61, -18, -85, -91, -18, -62, -76, -33, 19, 68, 90, 39, 83, 77, 28, 34, -42, -8, -36, -10, -81, 86, 68, 23], [-78, 81, 33, 57, -30, 41, -42, -38, -84, 81, 76, 0, 53, 56, -96, 0, 46, -57, 30, 33, -35, -52, 26, 59, -82, -30, -36, 15, -9, -48, -100, 38, -60, -95, -64, -93, 76, -43, -74, 86, 61, -26, -28, 84, -26, 25, 37, 33, 76, -16, 84, -49, -79, 26, -99, 92, 26, -35, -47, -32, -98, 3, -78, -27, 52, 34, 18, 99, 92, 93, -56, -97, -29, -89, 8, 15, 88, -27, -55, -51, -63, -63, 88, 90, 50, -61, -11, -34, 42, -81, -74, 1, -13, -8, 71, 47, -45, 50, 78, -32], [-93, 3, 61, -53, 50, -4, 79, -36, -94, -84, 87, 53, 0, -13, 34, -81, -69, -97, 47, -44, 23, 86, -81, -10, -79, 9, -73, 94, -83, -46, -44, -83, 28, 41, -34, -13, 98, 52, 43, -64, 62, 74, -20, -78, 10, -96, 99, -1, 44, 57, 80, 27, -3, 35, -58, 9, 41, 17, 56, 16, -44, 29, -29, 47, -78, 72, 71, -52, -32, 12, 58, 47, 38, 70, -30, -2, -24, -49, -61, -78, -23, -85, 11, -29, 81, 74, 47, 18, 8, -9, -71, -30, -49, -38, 97, 2, -67, 53, -96, -58], [-51, -87, 64, -1, 40, 3, -62, 78, 11, -85, -79, 56, -13, 0, -16, -62, 1, -61, -69, 68, -6, 27, 12, -62, 43, 28, -32, -82, -14, 77, -90, 22, 7, -26, -47, -4, 53, 63, -17, 70, 93, 83, -34, -73, -90, -13, -32, -78, 93, 11, 15, -7, -29, -14, 24, -29, 78, -23, 77, -22, -3, -84, 8, -53, -31, -55, 59, 93, -88, 12, -62, -24, 17, -98, -52, 4, -87, -57, 80, -24, 70, 75, 25, -55, -48, -98, -84, 86, -70, -2, -22, 79, 52, -21, 96, -39, -97, -91, -34, -28], [-81, -74, 64, 59, -80, -56, 32, 50, -43, -70, 49, -96, 34, -16, 0, 89, 23, -68, 34, 79, -36, 99, 63, 30, -58, 35, -39, -88, 72, -63, -15, -99, 84, -23, -5, 68, 1, -32, -86, 29, 39, -29, 41, 2, -95, 11, 36, 68, 3, -43, -27, -42, 87, 81, -35, -61, -40, 99, 4, -54, 99, 66, -82, 54, -82, 86, -48, -10, 32, 54, -60, -73, -9, -8, 52, 20, -45, -42, 5, 16, 86, -38, 53, 3, -20, -18, 22, 69, -57, 75, -2, 16, 14, -26, -10, 26, 54, 37, -76, 56], [36, 99, 53, -67, 48, 51, 32, -29, 91, -14, 77, 0, -81, -62, 89, 0, -87, -74, 94, 32, 72, -35, 8, 95, -71, -34, -55, -24, -73, 40, -100, 94, -95, -96, -72, 53, -69, 29, 79, 94, 41, 82, -86, -76, 64, -76, -3, -100, 47, -96, 57, -60, -7, -7, -86, -15, 50, 79, -48, 83, -48, -49, 21, -1, 29, -4, -24, 28, 34, -59, -29, 24, 19, 35, -47, -27, -92, -80, 74, -33, -45, -44, 92, -71, 87, 97, -68, 75, 82, 6, 16, -7, -27, 41, 15, 84, -15, -70, 69, 20], [73, -14, 19, 32, 60, 10, 49, 43, 43, 78, 11, 46, -69, 1, 23, -87, 0, 40, 63, -9, 58, -65, -89, 98, 54, -63, 3, -50, -8, 59, 44, 43, -25, -56, -99, -51, 79, -60, 69, 36, -33, -4, -4, -68, -93, -99, 17, 98, 74, -3, 67, -37, 24, -76, 49, -62, 45, -12, 62, 50, 89, -50, -56, 69, 95, -48, 75, 84, 35, 67, 54, 53, -86, 8, 10, -66, -5, 91, -78, -13, -77, 36, -96, -80, 56, 72, 27, 29, 16, 88, -42, -96, 58, 4, -27, 81, -4, 63, -51, 61], [-52, 5, -70, -62, 86, -10, -91, 71, 50, -100, 14, -57, -97, -61, -68, -74, 40, 0, 18, -63, 56, 74, -32, 75, -64, 71, 71, 34, -91, 54, -97, -60, -29, -42, 1, 11, 99, -24, -42, -26, -15, 18, 93, 17, -27, -61, 92, -3, -18, -29, -48, -47, 79, 2, -47, -3, 20, -8, -66, 41, 70, 16, 39, -52, -4, 66, -62, 0, 16, 84, -59, -17, 19, -60, -24, -75, -88, -40, -17, -16, -6, -19, 78, -96, 79, 3, -47, -40, -10, 42, -49, 33, -98, 25, -70, 27, -46, 35, 81, 95], [28, 42, 7, -2, 92, -26, -22, 71, 66, -80, -24, 30, 47, -69, 34, 94, 63, 18, 0, -100, -36, 92, 35, 9, 83, -28, -77, -19, 56, -66, 90, -61, 22, -7, 27, 72, -83, 16, -77, 57, 4, 13, -45, -42, -97, 43, 72, 87, 59, 36, 4, 59, 18, 89, 88, 36, -22, -36, 86, -2, 24, -7, 68, 80, 62, 79, 14, -38, 57, -96, -48, -88, 62, -26, -47, 32, 31, 74, -7, 44, -31, 2, 50, 43, -53, -87, 94, 74, -18, -39, 96, 73, -24, 30, 18, 87, -13, 36, -49, -55], [-14, 78, -48, 27, 25, 56, 90, 80, 46, -34, -13, 33, -44, 68, 79, 32, -9, -63, -100, 0, -36, 35, 76, -26, -63, 51, 93, 47, -35, -73, -1, -34, 85, -63, 11, 35, -29, 38, 72, 17, 54, 67, -67, -85, -17, 58, -8, -33, 85, -32, 36, -60, -20, 34, 94, 56, -38, 25, 48, 64, 31, 43, 4, -8, -50, 60, 11, 19, -12, 50, 74, 79, 26, 99, 6, -100, -98, -70, -93, 76, 32, 71, -49, -12, 46, -46, -94, -94, 1, 87, -100, -44, 70, 4, 51, -32, 96, 60, -20, 40], [37, -45, 18, 62, 53, 64, 41, -49, 76, -8, -15, -35, 23, -6, -36, 72, 58, 56, -36, -36, 0, 86, -74, -34, 0, 79, -7, 46, 52, 18, 77, -63, -95, 46, -6, -78, -33, 33, 98, 24, -15, 53, -82, -48, -58, 63, -72, 76, -9, 94, 49, -44, -30, 2, -49, 98, -80, -78, -48, 49, -70, -65, 63, -78, 50, 79, 32, 3, -57, -57, -45, -54, -30, 72, -45, -78, 29, -39, -64, 40, -11, -82, -34, 15, -32, -78, 43, -1, 38, 76, 22, 84, 31, -4, -48, 56, -70, -56, 30, -23], [-40, 28, 23, 85, 94, 39, -91, -63, 58, 1, -60, -52, 86, 27, 99, -35, -65, 74, 92, 35, 86, 0, 64, -46, 24, -67, -67, 24, 56, -45, -98, -61, 32, 36, 73, -9, -24, 84, 76, -84, -42, 76, 74, 68, 54, -87, -14, 87, 13, 42, -28, -15, -32, 14, -46, 14, 46, 56, 92, 39, -18, -22, 17, -89, -12, -63, 57, -62, 71, -98, -76, 87, -52, -72, -55, -72, -16, -52, 74, 55, -37, -20, -70, 55, 92, 53, 41, -44, 80, -47, -16, -53, 19, 63, 82, -28, -2, 85, -13, -26], [90, 67, -16, 80, -78, -38, -42, -89, -53, -42, -61, 26, -81, 12, 63, 8, -89, -32, 35, 76, -74, 64, 0, -23, -74, 96, 26, -69, -65, 54, -52, 68, 76, 63, -89, -34, 57, 39, 56, -10, -69, 26, -24, 93, 95, -15, 76, -18, 87, 62, 88, 42, 37, -91, -75, 76, -71, 21, 14, 42, -72, -87, 49, -40, 4, -67, -93, 59, 33, -92, -20, 39, 96, -13, -49, 87, 52, 24, 75, 43, -49, 42, 52, -24, -50, 24, 50, 76, 45, -18, 76, 77, 74, -8, 51, -82, 5, -55, -48, 26], [-45, -94, -30, -94, 22, -54, 24, -85, 69, 76, 62, 59, -10, -62, 30, 95, 98, 75, 9, -26, -34, -46, -23, 0, 66, -4, -70, 27, 63, -83, 45, -82, 28, 38, 57, -68, 69, -79, 5, -98, 43, 80, -88, 16, -26, 19, -51, -66, -26, 37, 51, 19, 34, 75, 62, 36, 99, 22, 26, 88, 1, 31, 42, 80, -28, 99, -25, -23, -25, 8, 80, -10, -47, 33, 74, 97, 87, -60, -38, 50, 22, -8, -6, -52, -83, -77, 67, -54, 17, 94, 86, -69, 51, 40, -13, -47, -85, 92, 66, 42], [95, 41, 38, -58, -92, -69, -28, 37, -32, 98, -12, -82, -79, 43, -58, -71, 54, -64, 83, -63, 0, 24, -74, 66, 0, -10, -92, 2, -50, 21, -27, -19, 91, -32, -59, -27, -6, -72, -15, 29, -72, -53, -47, 8, 57, -27, -74, -10, -91, -96, 51, 62, 64, -57, -88, -38, 75, -8, 29, 47, -90, 77, 30, -24, 62, 68, -20, -64, -44, 37, -34, -62, 66, -21, -33, -54, 74, 75, -50, -96, 40, -51, -6, -66, -73, 37, 60, -87, 25, 77, -89, -51, 47, 7, -82, -10, 1, -95, 86, -30], [93, -87, -12, -16, -71, 88, 22, -42, 29, 44, -3, -30, 9, 28, 35, -34, -63, 71, -28, 51, 79, -67, 96, -4, -10, 0, -22, -22, -46, -73, 84, -68, 74, 97, 47, -45, 50, -44, 6, -22, -31, 95, -67, -54, -43, -86, 74, -100, -43, -6, -58, 58, 23, -25, 70, 87, -3, -69, -80, 48, -23, -60, 89, 18, 27, 65, 90, 78, 72, 63, 63, -84, 74, 85, 11, 2, 15, -28, 14, 12, -90, 42, -27, 12, 73, -83, 74, 66, 6, 79, -28, 84, 73, -73, -89, 85, -81, -54, 36, 37], [83, -65, 75, -82, -20, 3, -64, -34, -78, -39, 71, -36, -73, -32, -39, -55, 3, 71, -77, 93, -7, -67, 26, -70, -92, -22, 0, -68, -37, 42, -60, 67, 26, 29, -34, 1, -14, 76, -9, 24, 15, 74, -23, -25, 94, 99, -76, -20, -37, 48, 26, 71, -10, -76, -34, -39, -44, 32, -46, -22, 5, -93, 10, -67, 8, 17, 94, -57, -39, -48, 40, -13, -69, 88, -10, 76, 52, -54, 46, -45, 89, 64, 15, 85, 36, -36, 81, 67, -84, -51, 5, 21, 63, -34, -71, 13, -78, -54, 28, -78], [4, -43, 96, 90, -97, -44, -14, 27, 12, -59, 10, 15, 94, -82, -88, -24, -50, 34, -19, 47, 46, 24, -69, 27, 2, -22, -68, 0, 49, 2, -98, 37, 80, 90, -29, 15, 70, -40, -25, 60, 65, -65, 91, 48, -51, -82, 67, 81, 28, 22, 94, 31, -18, -37, -19, -58, -91, -60, 46, 75, -5, -21, -54, -72, -52, 44, 58, -66, 94, -5, -6, -74, -86, 12, 1, 72, -53, 59, 88, -99, -69, -52, 14, 20, -8, 85, -91, 76, -13, -43, -23, -76, 50, 25, -69, -16, -34, 48, -34, 30], [-18, 98, -27, -81, 32, -65, -91, 39, 99, 70, -41, -9, -83, -14, 72, -73, -8, -91, 56, -35, 52, 56, -65, 63, -50, -46, -37, 49, 0, 21, 52, 73, -81, 12, -7, -73, 46, 86, -64, 11, 95, -40, -3, -34, -85, -18, -82, 16, -99, 71, 44, 71, 58, 62, 36, -33, -39, -64, -13, 82, -18, 27, -27, -84, -17, -12, -98, -10, -27, 11, 31, -16, 21, -69, -74, -78, -69, 53, -70, 9, 92, -84, -19, 71, -49, 10, -30, -3, 55, -94, 0, 84, 55, -38, 99, -77, -56, 83, 54, -26], [26, -55, -100, -100, -94, -25, -97, -73, -25, -84, 91, -48, -46, 77, -63, 40, 59, 54, -66, -73, 18, -45, 54, -83, 21, -73, 42, 2, 21, 0, -43, -93, -85, 37, 46, -90, -6, -12, -58, -96, 79, -51, -77, -75, -79, 92, 16, -91, 39, 25, -42, -69, 6, -65, -3, 8, -71, -82, 34, -81, 39, -42, 2, -3, 39, 54, 12, -1, 84, -9, -41, -72, 26, -45, -42, 54, -19, 27, -51, -35, 78, -5, 92, 28, -53, 89, -37, 58, 11, 3, -100, -83, -44, 90, 74, -100, 55, -20, 62, 89], [-52, -80, 0, 78, -43, -45, -20, -91, -75, -46, 64, -100, -44, -90, -15, -100, 44, -97, 90, -1, 77, -98, -52, 45, -27, 84, -60, -98, 52, -43, 0, -86, -82, -95, 83, -74, -97, 88, -76, -65, 3, -69, -88, -29, 39, 75, -44, -40, -33, 72, -98, 62, -62, 23, 70, 5, -63, -74, 71, -30, -74, -65, 9, -56, -55, -4, -27, -12, -37, 3, -12, -36, -29, -71, -93, -87, -43, 53, -88, 66, 23, -21, 60, -57, -63, 92, 27, 57, 63, 16, 2, -60, 3, 25, -3, -71, -48, 66, 69, -83], [88, -54, 74, -50, 16, -67, -12, -38, -100, 71, -24, 38, -83, 22, -99, 94, 43, -60, -61, -34, -63, -61, 68, -82, -19, -68, 67, 37, 73, -93, -86, 0, 55, 34, -26, -100, 65, -69, -94, -90, 84, -46, 53, 97, -71, -76, 84, 23, -54, -4, 50, 66, -84, -40, 80, -33, 75, 72, 59, -48, 94, 83, -12, -89, 41, 74, 17, 63, 34, 38, 29, 38, -78, 51, 81, -12, -64, 56, 96, 77, 78, 92, -32, 80, 24, 91, -84, -29, -4, 7, 63, -28, -50, -13, 96, 16, -45, -99, -41, -56], [80, 34, 81, -10, -95, 3, -48, -94, -29, 28, -92, -60, 28, 7, 84, -95, -25, -29, 22, 85, -95, 32, 76, 28, 91, 74, 26, 80, -81, -85, -82, 55, 0, 87, -50, 48, -8, 56, 31, 19, -41, -43, 67, 23, -45, -85, -34, 63, 66, -69, -60, -7, 8, -18, -19, 18, -48, 81, -65, 36, 68, -75, -17, 40, -55, -1, 1, -47, -47, 60, -56, 65, -7, -8, 15, -62, -40, -90, -61, -14, -19, -78, -49, 61, 94, -80, -85, 76, -100, 4, 78, -30, 1, -75, 51, -76, -48, -57, -29, 40], [43, -51, 51, -15, 45, -81, 0, 45, 45, 56, 69, -95, 41, -26, -23, -96, -56, -42, -7, -63, 46, 36, 63, 38, -32, 97, 29, 90, 12, 37, -95, 34, 87, 0, 49, -27, 77, -94, 50, 11, 56, -37, -64, 79, -75, -64, -32, -24, 22, 44, 51, -13, 31, -61, -95, -19, -16, 60, -64, -34, 66, -84, 26, -11, -84, 68, -19, -58, -100, -89, -3, -5, -91, 18, -92, 40, -59, -32, -43, -90, -11, -97, -42, 56, 41, -34, -10, -67, 10, 48, 95, 44, -74, 72, 97, -30, -63, 61, -7, 69], [96, 16, 70, 12, -12, 81, 38, -23, -1, 55, -33, -64, -34, -47, -5, -72, -99, 1, 27, 11, -6, 73, -89, 57, -59, 47, -34, -29, -7, 46, 83, -26, -50, 49, 0, -100, -83, -8, 89, 41, 17, 57, -87, -1, 1, 64, 54, 42, 14, 81, -99, -25, -18, -2, -35, 46, -62, -59, 20, 57, -16, -24, -96, -95, -9, -20, 79, -47, 84, 82, -39, 37, 61, 60, -54, -55, -19, -13, -75, -80, -34, -14, 62, 17, -81, 34, 19, -69, 88, -96, 13, 32, -28, -18, -8, -37, 94, -64, 62, 28], [-76, -15, 94, 95, -65, 65, -67, 68, 45, 46, 89, -93, -13, -4, 68, 53, -51, 11, 72, 35, -78, -9, -34, -68, -27, -45, 1, 15, -73, -90, -74, -100, 48, -27, -100, 0, -16, 45, 68, -14, 20, 99, 88, 5, -91, 18, -12, -67, -61, 92, -75, 86, 38, 36, -16, 27, -60, 41, -64, -29, -43, -14, -85, -54, -69, -70, -76, -70, 63, -63, -34, -44, -16, 30, 22, -9, -68, 35, -16, -97, -64, -2, -62, 42, 83, 28, 85, 35, 70, 75, 41, 8, -52, 21, -49, -50, 95, -99, 76, 83], [-55, 4, 10, 9, 64, -42, 24, -66, -55, -47, 35, 76, 98, 53, 1, -69, 79, 99, -83, -29, -33, -24, 57, 69, -6, 50, -14, 70, 46, -6, -97, 65, -8, 77, -83, -16, 0, 83, 96, -83, -39, -36, -69, 63, -23, -46, 11, 78, -64, -45, -34, 66, 33, -36, -48, 91, -87, -1, 0, -74, 73, 44, 61, -11, -89, -70, -95, -89, 77, 0, 42, 79, 3, 91, -49, 79, 31, -67, 80, -40, 93, 10, -1, 36, -2, 88, -71, -39, -85, -27, -83, -5, -44, -29, 64, -75, 6, -55, -14, 87], [90, -66, 4, -1, -81, -44, -36, -90, 73, -79, -76, -43, 52, 63, -32, 29, -60, -24, 16, 38, 33, 84, 39, -79, -72, -44, 76, -40, 86, -12, 88, -69, 56, -94, -8, 45, 83, 0, -57, -5, -48, -45, 93, 62, -26, -15, 82, 33, -25, -53, -65, -63, -55, 17, -98, -37, -79, 26, -1, 35, -53, 60, 27, -90, 38, -28, -35, 63, 84, -27, 96, -86, 41, -82, 73, 16, 26, 49, -69, 91, -76, 44, 33, -76, -3, -23, -27, 11, 11, -75, 71, -42, 1, -37, -17, -97, -50, -54, 21, -45], [-21, 81, 83, -42, 61, 17, 71, 59, -91, -63, -95, -74, 43, -17, -86, 79, 69, -42, -77, 72, 98, 76, 56, 5, -15, 6, -9, -25, -64, -58, -76, -94, 31, 50, 89, 68, 96, -57, 0, 57, -22, 60, 90, 77, -35, 95, -3, 29, 61, -29, -62, 32, 41, -72, -16, -8, 91, -53, 21, -100, 4, 16, 74, 35, -15, -49, 78, 99, -54, -21, -4, -40, -25, 74, 65, -3, -56, 14, 98, 96, 85, 85, 10, -58, -7, -43, -24, 3, -85, -94, -45, 90, -31, -76, 89, -27, -87, -23, -78, -89], [-90, -26, -67, -60, -89, 55, 93, 59, -18, -43, -27, 86, -64, 70, 29, 94, 36, -26, 57, 17, 24, -84, -10, -98, 29, -22, 24, 60, 11, -96, -65, -90, 19, 11, 41, -14, -83, -5, 57, 0, 18, -52, 17, 22, 70, 17, 17, -92, -50, -41, -76, -56, -40, -53, 58, -60, -77, 72, -36, 51, -47, -56, -37, -47, 7, 73, -92, -10, -56, -32, 82, -96, -60, 38, -18, -71, -78, -18, 7, -52, -9, -3, -26, 28, -71, 59, 9, 24, 32, -91, -60, -20, -16, 86, -12, 58, 49, 11, 38, 80], [-24, 67, -36, -25, 11, 17, -17, -56, 34, 4, -39, 61, 62, 93, 39, 41, -33, -15, 4, 54, -15, -42, -69, 43, -72, -31, 15, 65, 95, 79, 3, 84, -41, 56, 17, 20, -39, -48, -22, 18, 0, 2, 78, 1, -10, 83, 81, -27, 90, 81, 26, -20, -53, 50, 48, 22, -41, -37, 96, -54, -89, 87, -1, -31, -63, -23, 36, 6, 27, 50, -52, 61, 74, 29, 28, -21, -8, 80, 99, -84, -83, -25, 21, -37, -8, 60, 3, -12, -43, -78, -42, -91, 38, 60, 38, 91, 45, 78, 56, 58], [-99, -46, -23, -35, 6, -46, 12, -24, -17, -11, -37, -26, 74, 83, -29, 82, -4, 18, 13, 67, 53, 76, 26, 80, -53, 95, 74, -65, -40, -51, -69, -46, -43, -37, 57, 99, -36, -45, 60, -52, 2, 0, -16, 78, 27, -99, 56, 33, 60, -82, 61, 89, -91, -47, -39, -35, -91, -3, -59, 74, -95, -44, 56, -42, -23, 96, -69, -100, 69, -58, 68, 2, 64, 52, -22, 41, 82, 72, 77, 31, 2, 47, -57, -1, -26, 74, -79, 86, -49, -39, -62, -33, 41, -34, -96, -57, 28, -78, -37, -40], [-26, 12, 91, -21, -38, 10, 32, 9, 16, 18, 42, -28, -20, -34, 41, -86, -4, 93, -45, -67, -82, 74, -24, -88, -47, -67, -23, 91, -3, -77, -88, 53, 67, -64, -87, 88, -69, 93, 90, 17, 78, -16, 0, 96, -58, 63, 9, 54, -25, 77, -57, 34, -23, -82, -10, 90, 75, -10, 46, 8, -90, 14, 31, 84, -18, -14, 2, -6, -50, -60, 75, -48, -59, -41, -84, 59, 16, -51, -37, 44, 40, 62, 95, -46, -47, -66, -46, 27, -44, -6, -49, 60, -50, 94, -24, 86, -58, -16, -52, 41], [-56, -64, -30, -9, 41, -90, 55, 30, -81, 45, -73, 84, -78, -73, 2, -76, -68, 17, -42, -85, -48, 68, 93, 16, 8, -54, -25, 48, -34, -75, -29, 97, 23, 79, -1, 5, 63, 62, 77, 22, 1, 78, 96, 0, 62, 10, 94, 99, 94, 76, -25, -43, -46, -59, -95, 72, 16, 12, -85, 80, 1, 54, 9, -71, -9, 62, -67, 44, -50, 27, -8, -17, 18, 3, -69, -33, 17, -52, -14, 74, -37, 73, 29, -34, -71, -48, -57, -65, 11, 37, -30, 77, 79, 40, 14, 42, 83, -15, 9, -23], [34, 64, 42, -6, -20, -31, 61, -10, -9, -51, 79, -26, 10, -90, -95, 64, -93, -27, -97, -17, -58, 54, 95, -26, 57, -43, 94, -51, -85, -79, 39, -71, -45, -75, 1, -91, -23, -26, -35, 70, -10, 27, -58, 62, 0, -20, 85, 75, -21, -85, 80, -39, -79, -44, -13, 34, -18, 47, -61, -68, 63, 65, 95, -21, 84, 76, -12, 19, -8, -30, 66, 62, 19, 81, -41, -56, -54, -42, -95, 89, -38, -62, 93, 28, 43, 32, -73, -44, 94, -42, -13, 12, 15, -85, -72, 92, 5, 7, 33, -84], [-3, 35, -29, 32, 18, 20, -73, -84, -75, -97, -85, 25, -96, -13, 11, -76, -99, -61, 43, 58, 63, -87, -15, 19, -27, -86, 99, -82, -18, 92, 75, -76, -85, -64, 64, 18, -46, -15, 95, 17, 83, -99, 63, 10, -20, 0, 73, -27, 35, -63, -69, 49, 7, 53, 34, -21, -82, -52, 50, 73, -28, -61, -3, -56, -92, 56, 6, 30, 48, 55, -61, -12, 96, 68, 28, -45, -63, -15, 4, 63, -51, 98, -53, -11, -22, 0, -65, 73, 99, -23, -44, 58, -51, -10, -78, 87, 32, -64, 68, 36], [96, 66, -63, 90, 23, -74, -48, -99, -16, -100, 22, 37, 99, -32, 36, -3, 17, 92, 72, -8, -72, -14, 76, -51, -74, 74, -76, 67, -82, 16, -44, 84, -34, -32, 54, -12, 11, 82, -3, 17, 81, 56, 9, 94, 85, 73, 0, -88, -86, -35, -75, 24, 8, 70, -81, -94, -15, -82, -96, 8, -55, -47, -29, 41, 8, 76, -86, 77, -68, 88, -73, -81, -26, 46, -82, 90, -35, -87, -18, 56, 12, -38, 49, -31, -42, 49, -14, 77, -43, 59, -3, -92, -65, -64, 4, -88, -7, -29, -80, 38], [-83, 73, 33, -53, 48, 69, 94, 81, -63, 58, 17, 33, -1, -78, 68, -100, 98, -3, 87, -33, 76, 87, -18, -66, -10, -100, -20, 81, 16, -91, -40, 23, 63, -24, 42, -67, 78, 33, 29, -92, -27, 33, 54, 99, 75, -27, -88, 0, 23, 53, 82, 72, -67, 68, 4, 41, -12, -91, 39, 57, 63, -27, 38, -5, 40, 22, 93, -96, 19, 38, -16, -82, 61, 59, 40, -30, -91, 57, -85, -30, 16, 78, -81, -88, -13, -39, 47, 84, 61, 72, -77, 66, -59, -50, 0, 25, 35, 69, 72, -59], [-58, 15, -85, -49, 36, 19, -96, -96, 50, 34, 93, 76, 44, 93, 3, 47, 74, -18, 59, 85, -9, 13, 87, -26, -91, -43, -37, 28, -99, 39, -33, -54, 66, 22, 14, -61, -64, -25, 61, -50, 90, 60, -25, 94, -21, 35, -86, 23, 0, -84, 55, -25, -93, -24, -98, -27, 93, -47, 63, 26, -18, -58, -87, -31, -25, 81, -59, -86, -42, 8, -60, -90, -65, 57, 50, 0, 51, -32, -59, -92, -41, 72, -8, -6, 94, -60, 93, 96, 89, -82, -38, -60, -55, 81, -57, -81, -63, -23, 45, -65], [36, 85, 67, -29, 30, 65, -7, 58, 8, 36, 64, -16, 57, 11, -43, -96, -3, -29, 36, -32, 94, 42, 62, 37, -96, -6, 48, 22, 71, 25, 72, -4, -69, 44, 81, 92, -45, -53, -29, -41, 81, -82, 77, 76, -85, -63, -35, 53, -84, 0, -43, -63, 94, 90, -7, 66, 89, 38, 67, 11, 55, -18, -29, -66, 58, -60, -76, -57, -1, -22, -16, 68, -7, -54, 76, -8, -84, 93, 89, 77, 64, -10, 59, -58, -7, 52, 31, 35, 0, -76, -62, -55, -10, -77, 40, -56, 81, -77, 26, -20], [-1, 28, 5, 17, 21, 49, 10, -46, 25, -43, -79, 84, 80, 15, -27, 57, 67, -48, 4, 36, 49, -28, 88, 51, 51, -58, 26, 94, 44, -42, -98, 50, -60, 51, -99, -75, -34, -65, -62, -76, 26, 61, -57, -25, 80, -69, -75, 82, 55, -43, 0, -62, -57, -66, 40, 33, -39, 80, 81, -84, 87, 85, 73, -67, 97, -29, -30, 80, 5, -39, -89, -39, -25, -63, -5, 69, -65, 78, -24, -64, 10, -76, 36, -75, 99, 38, 59, 3, 92, 19, -47, 64, -63, -57, 38, -31, -29, -67, 63, -42], [-61, -90, 67, -41, -57, -25, -54, 16, 24, 11, -58, -49, 27, -7, -42, -60, -37, -47, 59, -60, -44, -15, 42, 19, 62, 58, 71, 31, 71, -69, 62, 66, -7, -13, -25, 86, 66, -63, 32, -56, -20, 89, 34, -43, -39, 49, 24, 72, -25, -63, -62, 0, -89, 53, -71, 57, 56, -58, 63, 51, 56, 59, -2, -89, -99, 91, 24, 79, 23, -3, 28, -13, 15, -85, -85, -18, 94, -28, 21, -43, 90, 63, 23, -7, 35, -8, -6, 33, 40, 43, 12, -45, 79, 16, -33, -26, 57, -65, -7, 41], [-3, -89, -42, 87, -12, 61, 0, 10, 23, 33, 46, -79, -3, -29, 87, -7, 24, 79, 18, -20, -30, -32, 37, 34, 64, 23, -10, -18, 58, 6, -62, -84, 8, 31, -18, 38, 33, -55, 41, -40, -53, -91, -23, -46, -79, 7, 8, -67, -93, 94, -57, -89, 0, -43, 47, 21, -54, -50, -3, 34, -85, 91, -1, 76, 24, 65, -48, 86, -11, 57, -85, -34, -66, -84, 35, 56, -26, -19, -7, 74, -57, -2, -2, -44, 59, -35, 75, -45, -64, 85, -25, 70, 49, 66, -38, 97, -53, -4, -81, 77], [-12, -48, -50, 38, 65, 41, 10, 36, 28, -42, -8, 26, 35, -14, 81, -7, -76, 2, 89, 34, 2, 14, -91, 75, -57, -25, -76, -37, 62, -65, 23, -40, -18, -61, -2, 36, -36, 17, -72, -53, 50, -47, -82, -59, -44, 53, 70, 68, -24, 90, -66, 53, -43, 0, -50, -6, 9, 15, 33, -68, -8, 59, -24, -52, 21, 16, 54, -83, -11, 51, -18, -9, 7, -79, 71, -45, -19, 1, 24, -35, -87, 88, 59, -69, -53, -26, 18, 94, 7, 89, 78, -10, 75, -81, -47, 53, -61, -52, -43, 82], [80, 22, -23, -69, -16, 61, 80, 88, -75, -76, 54, -99, -58, 24, -35, -86, 49, -47, 88, 94, -49, -46, -75, 62, -88, 70, -34, -19, 36, -3, 70, 80, -19, -95, -35, -16, -48, -98, -16, 58, 48, -39, -10, -95, -13, 34, -81, 4, -98, -7, 40, -71, 47, -50, 0, 7, -4, -45, -58, 71, -90, -87, -92, 82, -13, -24, 56, -83, 3, -85, 81, 0, 20, 77, -47, 38, -57, -71, -23, 44, 2, 38, -58, -52, -78, -12, 47, 70, 87, 46, 1, -9, 29, -73, -53, 33, 94, 93, 41, -87], [76, 21, -27, 89, 13, 55, 75, -74, 45, 38, -20, 92, 9, -29, -61, -15, -62, -3, 36, 56, 98, 14, 76, 36, -38, 87, -39, -58, -33, 8, 5, -33, 18, -19, 46, 27, 91, -37, -8, -60, 22, -35, 90, 72, 34, -21, -94, 41, -27, 66, 33, 57, 21, -6, 7, 0, -94, -69, -30, -77, -91, -82, -94, -80, 56, -91, -50, 25, -27, 86, 49, 0, -91, -30, -7, 64, -5, 33, 19, -36, 44, 52, -99, -68, -11, 48, 52, 20, 82, -98, -90, 61, 15, -65, 53, 34, 29, 73, 67, -65], [-97, -79, 4, 46, 14, 33, -50, 28, -55, -47, 68, 26, 41, 78, -40, 50, 45, 20, -22, -38, -80, 46, -71, 99, 75, -3, -44, -91, -39, -71, -63, 75, -48, -16, -62, -60, -87, -79, 91, -77, -41, -91, 75, 16, -18, -82, -15, -12, 93, 89, -39, 56, -54, 9, -4, -94, 0, -49, -68, -7, -18, 70, -56, -66, -51, 29, 96, -30, 33, 75, 59, 88, 73, -90, 3, 43, -81, -24, -69, -76, 56, -89, -10, 3, -19, 79, -57, 39, 49, 15, 85, -91, -22, -50, 48, -78, -26, -25, 40, 46], [-52, -76, 22, -7, 41, -35, 46, 73, 2, 19, 23, -35, 17, -23, 99, 79, -12, -8, -36, 25, -78, 56, 21, 22, -8, -69, 32, -60, -64, -82, -74, 72, 81, 60, -59, 41, -1, 26, -53, 72, -37, -3, -10, 12, 47, -52, -82, -91, -47, 38, 80, -58, -50, 15, -45, -69, -49, 0, -86, 33, 56, 92, -77, -8, 1, 81, -40, -75, 77, 2, 57, 69, -68, -92, -16, -26, 13, 20, -6, 74, 37, -4, -82, -44, -72, 74, -79, -48, 4, 54, -8, -78, -33, 46, -35, -48, 1, -58, -97, -44], [43, -99, 84, 40, -16, 61, -9, 64, 26, -90, 8, -47, 56, 77, 4, -48, 62, -66, 86, 48, -48, 92, 14, 26, 29, -80, -46, 46, -13, 34, 71, 59, -65, -64, 20, -64, 0, -1, 21, -36, 96, -59, 46, -85, -61, 50, -96, 39, 63, 67, 81, 63, -3, 33, -58, -30, -68, -86, 0, -34, -29, 60, 38, 20, 29, 75, 47, -98, 82, 28, -37, 94, -51, -99, -77, 45, 19, -68, -93, -73, 11, -77, -56, -93, 17, 12, -4, -5, 86, 94, 44, -2, 29, -30, 37, -39, 15, -53, -2, 76], [-88, 0, 63, 63, -3, -71, -30, -83, -98, -32, -14, -32, 16, -22, -54, 83, 50, 41, -2, 64, 49, 39, 42, 88, 47, 48, -22, 75, 82, -81, -30, -48, 36, -34, 57, -29, -74, 35, -100, 51, -54, 74, 8, 80, -68, 73, 8, 57, 26, 11, -84, 51, 34, -68, 71, -77, -7, 33, -34, 0, 46, -97, -21, -12, 86, -38, 62, -75, -49, 98, -54, -53, -21, -75, 64, 6, -58, -12, 22, 58, 13, -89, 41, -99, 69, -81, -75, 37, 51, 11, -2, 15, 6, -7, 47, -63, -4, 99, 84, -15], [72, 99, 73, -10, 23, 70, 70, 49, -23, 11, -64, -98, -44, -3, 99, -48, 89, 70, 24, 31, -70, -18, -72, 1, -90, -23, 5, -5, -18, 39, -74, 94, 68, 66, -16, -43, 73, -53, 4, -47, -89, -95, -90, 1, 63, -28, -55, 63, -18, 55, 87, 56, -85, -8, -90, -91, -18, 56, -29, 46, 0, -25, -4, 70, 13, 99, -19, 21, -74, 18, 84, 66, 53, -100, 68, -64, 71, 11, -80, -83, 1, 34, -31, -41, 57, -41, -20, -66, -33, -67, -70, 62, 24, -49, 95, 81, 43, -22, 62, 99], [8, -71, -28, -45, 4, -39, 71, -34, 60, 4, -61, 3, 29, -84, 66, -49, -50, 16, -7, 43, -65, -22, -87, 31, 77, -60, -93, -21, 27, -42, -65, 83, -75, -84, -24, -14, 44, 60, 16, -56, 87, -44, 14, 54, 65, -61, -47, -27, -58, -18, 85, 59, 91, 59, -87, -82, 70, 92, 60, -97, -25, 0, -50, 49, 49, -99, 43, 8, 5, -48, 99, -70, 95, 21, 43, 37, 80, -94, 69, -92, -49, 51, -29, 86, 3, -44, 64, 32, 6, -94, -96, -98, 39, 72, -55, 16, -56, 90, 12, -80], [89, 54, -70, -6, -24, -13, -85, 42, -1, 61, 11, -78, -29, 8, -82, 21, -56, 39, 68, 4, 63, 17, 49, 42, 30, 89, 10, -54, -27, 2, 9, -12, -17, 26, -96, -85, 61, 27, 74, -37, -1, 56, 31, 9, 95, -3, -29, 38, -87, -29, 73, -2, -1, -24, -92, -94, -56, -77, 38, -21, -4, -50, 0, 37, -54, 86, 9, 62, -36, 78, 46, 62, 4, -95, 12, -84, -76, -40, -87, -68, -16, -96, -35, -10, -4, 28, 18, -31, 78, 45, 39, -86, 6, -9, -78, -25, 62, 49, 37, -15], [-22, -72, -38, 52, -72, -55, 94, 51, 20, -42, -47, -27, 47, -53, 54, -1, 69, -52, 80, -8, -78, -89, -40, 80, -24, 18, -67, -72, -84, -3, -56, -89, 40, -11, -95, -54, -11, -90, 35, -47, -31, -42, 84, -71, -21, -56, 41, -5, -31, -66, -67, -89, 76, -52, 82, -80, -66, -8, 20, -12, 70, 49, 37, 0, 88, 75, -12, -32, 16, 36, -54, 76, -29, 43, -35, -32, -23, 23, -65, 52, 91, 92, 87, 20, -12, -88, 90, 29, -56, 96, -57, -39, 92, 84, -63, -21, 75, 99, -18, -99], [57, 59, 16, 90, 36, 77, -83, -39, -6, 74, 31, 52, -78, -31, -82, 29, 95, -4, 62, -50, 50, -12, 4, -28, 62, 27, 8, -52, -17, 39, -55, 41, -55, -84, -9, -69, -89, 38, -15, 7, -63, -23, -18, -9, 84, -92, 8, 40, -25, 58, 97, -99, 24, 21, -13, 56, -51, 1, 29, 86, 13, 49, -54, 88, 0, 9, 21, -7, 62, -92, 42, 26, 33, -55, -56, -73, 95, -33, 92, -59, -74, -2, -90, -73, -13, -31, 78, -6, 14, -86, 8, 23, -43, 48, -81, -84, 96, -94, -26, 75], [-27, 67, 0, 28, -32, 4, -50, -58, -85, -61, -13, 34, 72, -55, 86, -4, -48, 66, 79, 60, 79, -63, -67, 99, 68, 65, 17, 44, -12, 54, -4, 74, -1, 68, -20, -70, -70, -28, -49, 73, -23, 96, -14, 62, 76, 56, 76, 22, 81, -60, -29, 91, 65, 16, -24, -91, 29, 81, 75, -38, 99, -99, 86, 75, 9, 0, 98, 14, 62, 79, 66, 99, -11, -1, -13, 56, -22, -74, 43, -10, -59, 32, 57, -80, 38, -94, 32, 44, 73, 21, -85, 83, 60, 57, -91, 56, 79, -71, 12, -35], [74, -23, 50, 14, 80, 26, 7, 20, 28, -46, 2, 18, 71, 59, -48, -24, 75, -62, 14, 11, 32, 57, -93, -25, -20, 90, 94, 58, -98, 12, -27, 17, 1, -19, 79, -76, -95, -35, 78, -92, 36, -69, 2, -67, -12, 6, -86, 93, -59, -76, -30, 24, -48, 54, 56, -50, 96, -40, 47, 62, -19, 43, 9, -12, 21, 98, 0, -75, -24, 37, -39, -97, -13, -23, -44, 48, -87, 61, 85, -78, 7, 22, 8, -37, -48, 74, 64, -29, 66, 54, -28, -38, -23, 76, 30, 25, -85, -41, 18, -85], [-95, -37, -94, 21, -95, 74, -77, 46, 94, 14, -23, 99, -52, 93, -10, 28, 84, 0, -38, 19, 3, -62, 59, -23, -64, 78, -57, -66, -10, -1, -12, 63, -47, -58, -47, -70, -89, 63, 99, -10, 6, -100, -6, 44, 19, 30, 77, -96, -86, -57, 80, 79, 86, -83, -83, 25, -30, -75, -98, -75, 21, 8, 62, -32, -7, 14, -75, 0, 33, 83, -61, -70, 80, 60, -85, -24, 21, -13, -47, 17, 90, -96, 77, 72, -48, -42, 18, -19, 59, -72, -76, 59, 46, -56, 78, -89, 82, -70, -48, -37], [-2, -49, -86, 61, 55, 44, -68, -73, -19, -42, -88, 92, -32, -88, 32, 34, 35, 16, 57, -12, -57, 71, 33, -25, -44, 72, -39, 94, -27, 84, -37, 34, -47, -100, 84, 63, 77, 84, -54, -56, 27, 69, -50, -50, -8, 48, -68, 19, -42, -1, 5, 23, -11, -11, 3, -27, 33, 77, 82, -49, -74, 5, -36, 16, 62, 62, -24, 33, 0, -35, 13, 0, -66, 99, -68, 22, 45, -47, -20, -83, 69, 5, 29, -64, -78, -57, -31, 40, -87, 84, -90, 40, 59, -11, -47, 44, -12, -88, -31, -83], [23, -73, 52, 81, 79, 33, 23, 89, -47, 19, 98, 93, 12, 12, 54, -59, 67, 84, -96, 50, -57, -98, -92, 8, 37, 63, -48, -5, 11, -9, 3, 38, 60, -89, 82, -63, 0, -27, -21, -32, 50, -58, -60, 27, -30, 55, 88, 38, 8, -22, -39, -3, 57, 51, -85, 86, 75, 2, 28, 98, 18, -48, 78, 36, -92, 79, 37, 83, -35, 0, 85, -89, 10, 1, -34, -77, 97, 26, -56, 31, -62, 59, 46, 42, -4, 94, -15, 26, -23, 69, 34, 68, -45, 64, -67, -41, -76, 91, -64, -1], [-15, 55, 70, 11, 44, 29, 29, -69, 13, -85, -88, -56, 58, -62, -60, -29, 54, -59, -48, 74, -45, -76, -20, 80, -34, 63, 40, -6, 31, -41, -12, 29, -56, -3, -39, -34, 42, 96, -4, 82, -52, 68, 75, -8, 66, -61, -73, -16, -60, -16, -89, 28, -85, -18, 81, 49, 59, 57, -37, -54, 84, 99, 46, -54, 42, 66, -39, -61, 13, 85, 0, -74, 0, -53, 45, -22, 17, -49, -81, 53, 52, -66, -43, 19, 67, -46, 78, -16, 55, 66, -59, -62, -49, 77, 8, -41, 18, 29, -88, 96], [-18, 79, 39, -86, -66, -59, 58, -72, 28, 27, -26, -97, 47, -24, -73, 24, 53, -17, -88, 79, -54, 87, 39, -10, -62, -84, -13, -74, -16, -72, -36, 38, 65, -5, 37, -44, 79, -86, -40, -96, 61, 2, -48, -17, 62, -12, -81, -82, -90, 68, -39, -13, -34, -9, 0, 0, 88, 69, 94, -53, 66, -70, 62, 76, 26, 99, -97, -70, 0, -89, -74, 0, 83, -4, -57, -69, 55, -100, 57, 84, -98, 10, -38, -51, -96, -57, -43, -50, 26, -60, 53, -25, -6, 83, 31, -23, 17, 99, 12, 90], [37, -99, 92, -27, -78, 8, -65, -82, -63, -19, 2, -29, 38, 17, -9, 19, -86, 19, 62, 26, -30, -52, 96, -47, 66, 74, -69, -86, 21, 26, -29, -78, -7, -91, 61, -16, 3, 41, -25, -60, 74, 64, -59, 18, 19, 96, -26, 61, -65, -7, -25, 15, -66, 7, 20, -91, 73, -68, -51, -21, 53, 95, 4, -29, 33, -11, -13, 80, -66, 10, 0, 83, 0, -97, 84, -18, -34, -47, -37, 35, 46, 66, -10, -32, -74, -8, -6, 40, -3, 6, 80, 64, -10, 36, -8, -100, -85, -4, 75, 49], [-40, -34, 19, -57, 5, 9, 93, -8, -73, 56, -4, -89, 70, -98, -8, 35, 8, -60, -26, 99, 72, -72, -13, 33, -21, 85, 88, 12, -69, -45, -71, 51, -8, 18, 60, 30, 91, -82, 74, 38, 29, 52, -41, 3, 81, 68, 46, 59, 57, -54, -63, -85, -84, -79, 77, -30, -90, -92, -99, -75, -100, 21, -95, 43, -55, -1, -23, 60, 99, 1, -53, -4, -97, 0, 58, -52, -65, -59, -24, -86, -3, 23, -50, -17, -95, 18, -7, 18, -15, -14, 23, 63, 90, -99, 51, 43, 46, 65, -66, 56], [73, -22, -54, -55, 32, -19, -62, -68, 79, 30, 38, 8, -30, -52, 52, -47, 10, -24, -47, 6, -45, -55, -49, 74, -33, 11, -10, 1, -74, -42, -93, 81, 15, -92, -54, 22, -49, 73, 65, -18, 28, -22, -84, -69, -41, 28, -82, 40, 50, 76, -5, -85, 35, 71, -47, -7, 3, -16, -77, 64, 68, 43, 12, -35, -56, -13, -44, -85, -68, -34, 45, -57, 84, 58, 0, 49, 88, 95, -20, -55, -25, 44, 3, 75, -13, 21, -10, 4, -69, -70, -38, 42, 77, 58, -60, -79, -76, -94, -47, 89], [-90, 42, 70, 21, 5, 4, 45, 42, -1, -98, -91, 15, -2, 4, 20, -27, -66, -75, 32, -100, -78, -72, 87, 97, -54, 2, 76, 72, -78, 54, -87, -12, -62, 40, -55, -9, 79, 16, -3, -71, -21, 41, 59, -33, -56, -45, 90, -30, 0, -8, 69, -18, 56, -45, 38, 64, 43, -26, 45, 6, -64, 37, -84, -32, -73, 56, 48, -24, 22, -77, -22, -69, -18, -52, 49, 0, 85, 62, -15, -86, -48, -79, -95, 88, -100, 93, 73, 67, -54, 8, 71, -60, -76, -67, -44, 50, -5, -40, 83, -18], [-33, -43, -78, 50, -83, -88, -8, -45, 82, -49, 61, 88, -24, -87, -45, -92, -5, -88, 31, -98, 29, -16, 52, 87, 74, 15, 52, -53, -69, -19, -43, -64, -40, -59, -19, -68, 31, 26, -56, -78, -8, 82, 16, 17, -54, -63, -35, -91, 51, -84, -65, 94, -26, -19, -57, -5, -81, 13, 19, -58, 71, 80, -76, -23, 95, -22, -87, 21, 45, 97, 17, 55, -34, -65, 88, 85, 0, 63, -37, 30, 68, -10, -10, 49, -40, -19, -32, -51, 86, -78, 92, -79, -5, -31, -90, -81, -19, 1, 97, -41], [61, -34, -95, -29, 69, 57, -3, -52, 31, 14, -18, -27, -49, -57, -42, -80, 91, -40, 74, -70, -39, -52, 24, -60, 75, -28, -54, 59, 53, 27, 53, 56, -90, -32, -13, 35, -67, 49, 14, -18, 80, 72, -51, -52, -42, -15, -87, 57, -32, 93, 78, -28, -19, 1, -71, 33, -24, 20, -68, -12, 11, -94, -40, 23, -33, -74, 61, -13, -47, 26, -49, -100, -47, -59, 95, 62, 63, 0, 72, -77, -67, -66, -89, -12, 41, 11, -82, -95, -55, 85, -98, -65, -1, 1, 14, 17, -39, -93, 50, -25], [-87, 20, 52, -18, 38, 84, 64, 91, -93, -78, -85, -55, -61, 80, 5, 74, -78, -17, -7, -93, -64, 74, 75, -38, -50, 14, 46, 88, -70, -51, -88, 96, -61, -43, -75, -16, 80, -69, 98, 7, 99, 77, -37, -14, -95, 4, -18, -85, -59, 89, -24, 21, -7, 24, -23, 19, -69, -6, -93, 22, -80, 69, -87, -65, 92, 43, 85, -47, -20, -56, -81, 57, -37, -24, -20, -15, -37, 72, 0, -33, -98, 46, 1, 83, -16, 54, -67, -44, -42, 89, 77, -53, -46, -86, -33, 12, -2, -78, 77, 21], [56, 96, -11, 33, 49, -64, 77, 10, 62, -59, -91, -51, -78, -24, 16, -33, -13, -16, 44, 76, 40, 55, 43, 50, -96, 12, -45, -99, 9, -35, 66, 77, -14, -90, -80, -97, -40, 91, 96, -52, -84, 31, 44, 74, 89, 63, 56, -30, -92, 77, -64, -43, 74, -35, 44, -36, -76, 74, -73, 58, -83, -92, -68, 52, -59, -10, -78, 17, -83, 31, 53, 84, 35, -86, -55, -86, 30, -77, -33, 0, -27, 7, -3, -91, -4, -60, -66, 86, 48, -98, 24, 81, -59, -3, 32, -29, -26, -5, 79, 71], [42, -28, 94, 82, 15, -30, -85, 45, -49, -14, -18, -63, -23, 70, 86, -45, -77, -6, -31, 32, -11, -37, -49, 22, 40, -90, 89, -69, 92, 78, 23, 78, -19, -11, -34, -64, 93, -76, 85, -9, -83, 2, 40, -37, -38, -51, 12, 16, -41, 64, 10, 90, -57, -87, 2, 44, 56, 37, 11, 13, 1, -49, -16, 91, -74, -59, 7, 90, 69, -62, 52, -98, 46, -3, -25, -48, 68, -67, -98, -27, 0, -82, -47, 13, -78, 54, -87, -55, 6, -83, -13, -12, -8, 10, -3, 39, -7, -50, 52, 39], [-85, 9, -41, 31, 81, -28, 22, 35, -16, -51, -62, -63, -85, 75, -38, -44, 36, -19, 2, 71, -82, -20, 42, -8, -51, 42, 64, -52, -84, -5, -21, 92, -78, -97, -14, -2, 10, 44, 85, -3, -25, 47, 62, 73, -62, 98, -38, 78, 72, -10, -76, 63, -2, 88, 38, 52, -89, -4, -77, -89, 34, 51, -96, 92, -2, 32, 22, -96, 5, 59, -66, 10, 66, 23, 44, -79, -10, -66, 46, 7, -82, 0, -27, -40, -92, -32, -35, -34, 20, 6, -85, 95, -73, -99, 52, -30, 8, -63, 9, 74], [91, 99, 44, -39, -43, -24, -33, 61, -73, -39, -76, 88, 11, 25, 53, 92, -96, 78, 50, -49, -34, -70, 52, -6, -6, -27, 15, 14, -19, 92, 60, -32, -49, -42, 62, -62, -1, 33, 10, -26, 21, -57, 95, 29, 93, -53, 49, -81, -8, 59, 36, 23, -2, 59, -58, -99, -10, -82, -56, 41, -31, -29, -35, 87, -90, 57, 8, 77, 29, 46, -43, -38, -10, -50, 3, -95, -10, -89, 1, -3, -47, -27, 0, 59, -8, -93, 85, 95, -6, 18, 90, 1, -7, 5, 56, 72, -39, -77, 39, 20], [-24, -82, 52, -68, 81, -85, -70, 39, -12, -40, -33, 90, -29, -55, 3, -71, -80, -96, 43, -12, 15, 55, -24, -52, -66, 12, 85, 20, 71, 28, -57, 80, 61, 56, 17, 42, 36, -76, -58, 28, -37, -1, -46, -34, 28, -11, -31, -88, -6, -58, -75, -7, -44, -69, -52, -68, 3, -44, -93, -99, -41, 86, -10, 20, -73, -80, -37, 72, -64, 42, 19, -51, -32, -17, 75, 88, 49, -12, 83, -91, 13, -40, 59, 0, 20, 23, 57, -72, -99, 54, -39, -70, 10, -59, -98, -18, -90, -2, 36, 83], [4, -51, -81, 87, 3, -13, 15, 99, 3, 5, 19, 50, 81, -48, -20, 87, 56, 79, -53, 46, -32, 92, -50, -83, -73, 73, 36, -8, -49, -53, -63, 24, 94, 41, -81, 83, -2, -3, -7, -71, -8, -26, -47, -71, 43, -22, -42, -13, 94, -7, 99, 35, 59, -53, -78, -11, -19, -72, 17, 69, 57, 3, -4, -12, -13, 38, -48, -48, -78, -4, 67, -96, -74, -95, -13, -100, -40, 41, -16, -4, -78, -92, -8, 20, 0, 90, -35, -23, 6, 4, -28, -40, 49, 1, -82, 78, -63, -67, -96, 88], [-93, 64, 70, -72, -54, 78, -100, -93, 85, -24, 68, -61, 74, -98, -18, 97, 72, 3, -87, -46, -78, 53, 24, -77, 37, -83, -36, 85, 10, 89, 92, 91, -80, -34, 34, 28, 88, -23, -43, 59, 60, 74, -66, -48, 32, 0, 49, -39, -60, 52, 38, -8, -35, -26, -12, 48, 79, 74, 12, -81, -41, -44, 28, -88, -31, -94, 74, -42, -57, 94, -46, -57, -8, 18, 21, 93, -19, 11, 54, -60, 54, -32, -93, 23, 90, 0, 93, 40, -21, 56, -15, 13, -19, -68, 65, -20, 77, 26, 43, -16], [-6, -78, -63, 46, -82, -31, -8, -28, -23, 50, 90, -11, 47, -84, 22, -68, 27, -47, 94, -94, 43, 41, 50, 67, 60, 74, 81, -91, -30, -37, 27, -84, -85, -10, 19, 85, -71, -27, -24, 9, 3, -79, -46, -57, -73, -65, -14, 47, 93, 31, 59, -6, 75, 18, 47, 52, -57, -79, -4, -75, -20, 64, 18, 90, 78, 32, 64, 18, -31, -15, 78, -43, -6, -7, -10, 73, -32, -82, -67, -66, -87, -35, 85, 57, -35, 93, 0, -99, 50, -39, -85, 56, 74, -2, -47, -95, 8, 46, -13, -32], [64, 84, 93, -99, 56, 3, -61, 64, 3, -48, 39, -34, 18, 86, 69, 75, 29, -40, 74, -94, -1, -44, 76, -54, -87, 66, 67, 76, -3, 58, 57, -29, 76, -67, -69, 35, -39, 11, 3, 24, -12, 86, 27, -65, -44, 73, 77, 84, 96, 35, 3, 33, -45, 94, 70, 20, 39, -48, -5, 37, -66, 32, -31, 29, -6, 44, -29, -19, 40, 26, -16, -50, 40, 18, 4, 67, -51, -95, -44, 86, -55, -34, 95, -72, -23, 40, -99, 0, -41, -84, 91, -14, 50, 5, 74, 11, 84, -18, -42, -64], [-88, 51, -52, 40, 2, 62, 1, -17, -51, 77, 83, 42, 8, -70, -57, 82, 16, -10, -18, 1, 38, 80, 45, 17, 25, 6, -84, -13, 55, 11, 63, -4, -100, 10, 88, 70, -85, 11, -85, 32, -43, -49, -44, 11, 94, 99, -43, 61, 89, 0, 92, 40, -64, 7, 87, 82, 49, 4, 86, 51, -33, 6, 78, -56, 14, 73, 66, 59, -87, -23, 55, 26, -3, -15, -69, -54, 86, -55, -42, 48, 6, 20, -6, -99, 6, -21, 50, -41, 0, -87, 88, 69, -68, 42, -67, 99, 58, -99, 5, 15], [11, 55, 21, -97, -25, 27, 45, -43, -24, -26, 77, -81, -9, -2, 75, 6, 88, 42, -39, 87, 76, -47, -18, 94, 77, 79, -51, -43, -94, 3, 16, 7, 4, 48, -96, 75, -27, -75, -94, -91, -78, -39, -6, 37, -42, -23, 59, 72, -82, -76, 19, 43, 85, 89, 46, -98, 15, 54, 94, 11, -67, -94, 45, 96, -86, 21, 54, -72, 84, 69, 66, -60, 6, -14, -70, 8, -78, 85, 89, -98, -83, 6, 18, 54, 4, 56, -39, -84, -87, 0, -80, 45, 5, -90, 37, -75, 74, -49, 35, -96], [-50, 38, 76, -29, 75, 37, -9, 15, -5, -85, 28, -74, -71, -22, -2, 16, -42, -49, 96, -100, 22, -16, 76, 86, -89, -28, 5, -23, 0, -100, 2, 63, 78, 95, 13, 41, -83, 71, -45, -60, -42, -62, -49, -30, -13, -44, -3, -77, -38, -62, -47, 12, -25, 78, 1, -90, 85, -8, 44, -2, -70, -96, 39, -57, 8, -85, -28, -76, -90, 34, -59, 53, 80, 23, -38, 71, 92, -98, 77, 24, -13, -85, 90, -39, -28, -15, -85, 91, 88, -80, 0, -98, -30, 38, -95, -77, 75, 30, -86, 36], [-29, -100, -99, -42, 55, -7, 57, 92, 67, 72, 34, 1, -30, 79, 16, -7, -96, 33, 73, -44, 84, -53, 77, -69, -51, 84, 21, -76, 84, -83, -60, -28, -30, 44, 32, 8, -5, -42, 90, -20, -91, -33, 60, 77, 12, 58, -92, 66, -60, -55, 64, -45, 70, -10, -9, 61, -91, -78, -2, 15, 62, -98, -86, -39, 23, 83, -38, 59, 40, 68, -62, -25, 64, 63, 42, -60, -79, -65, -53, 81, -12, 95, 1, -70, -40, 13, 56, -14, 69, 45, -98, 0, 14, -83, 59, 13, 45, -82, 65, -5], [-100, -42, 96, -44, 40, 86, 38, 71, -85, 51, -42, -13, -49, 52, 14, -27, 58, -98, -24, 70, 31, 19, 74, 51, 47, 73, 63, 50, 55, -44, 3, -50, 1, -74, -28, -52, -44, 1, -31, -16, 38, 41, -50, 79, 15, -51, -65, -59, -55, -10, -63, 79, 49, 75, 29, 15, -22, -33, 29, 6, 24, 39, 6, 92, -43, 60, -23, 46, 59, -45, -49, -6, -10, 90, 77, -76, -5, -1, -46, -59, -8, -73, -7, 10, 49, -19, 74, 50, -68, 5, -30, 14, 0, 10, -9, -80, -30, 15, 84, -78], [-67, 73, -22, 76, -73, -57, -33, -29, 34, 39, -8, -8, -38, -21, -26, 41, 4, 25, 30, 4, -4, 63, -8, 40, 7, -73, -34, 25, -38, 90, 25, -13, -75, 72, -18, 21, -29, -37, -76, 86, 60, -34, 94, 40, -85, -10, -64, -50, 81, -77, -57, 16, 66, -81, -73, -65, -50, 46, -30, -7, -49, 72, -9, 84, 48, 57, 76, -56, -11, 64, 77, 83, 36, -99, 58, -67, -31, 1, -86, -3, 10, -99, 5, -59, 1, -68, -2, 5, 42, -90, 38, -83, 10, 0, -14, -33, -15, -11, 66, 37], [-8, 3, 20, -3, 95, -86, 58, -65, 67, 73, -36, 71, 97, 96, -10, 15, -27, -70, 18, 51, -48, 82, 51, -13, -82, -89, -71, -69, 99, 74, -3, 96, 51, 97, -8, -49, 64, -17, 89, -12, 38, -96, -24, 14, -72, -78, 4, 0, -57, 40, 38, -33, -38, -47, -53, 53, 48, -35, 37, 47, 95, -55, -78, -63, -81, -91, 30, 78, -47, -67, 8, 31, -8, 51, -60, -44, -90, 14, -33, 32, -3, 52, 56, -98, -82, 65, -47, 74, -67, 37, -95, 59, -9, -14, 0, -89, 64, 25, -8, -83], [30, -63, -98, -32, -56, 55, -7, -48, -76, -46, -10, 47, 2, -39, 26, 84, 81, 27, 87, -32, 56, -28, -82, -47, -10, 85, 13, -16, -77, -100, -71, 16, -76, -30, -37, -50, -75, -97, -27, 58, 91, -57, 86, 42, 92, 87, -88, 25, -81, -56, -31, -26, 97, 53, 33, 34, -78, -48, -39, -63, 81, 16, -25, -21, -84, 56, 25, -89, 44, -41, -41, -23, -100, 43, -79, 50, -81, 17, 12, -29, 39, -30, 72, -18, 78, -20, -95, 11, 99, -75, -77, 13, -80, -33, -89, 0, -24, -54, -75, 20], [-96, 46, -20, 97, -94, 18, 37, -23, 34, 28, -81, -45, -67, -97, 54, -15, -4, -46, -13, 96, -70, -2, 5, -85, 1, -81, -78, -34, -56, 55, -48, -45, -48, -63, 94, 95, 6, -50, -87, 49, 45, 28, -58, 83, 5, 32, -7, 35, -63, 81, -29, 57, -53, -61, 94, 29, -26, 1, 15, -4, 43, -56, 62, 75, 96, 79, -85, 82, -12, -76, 18, 17, -85, 46, -76, -5, -19, -39, -2, -26, -7, 8, -39, -90, -63, 77, 8, 84, 58, 74, 75, 45, -30, -15, 64, -24, 0, 97, 26, 31], [-82, 31, -83, 12, 85, 60, -26, 91, -26, -51, 86, 50, 53, -91, 37, -70, 63, 35, 36, 60, -56, 85, -55, 92, -95, -54, -54, 48, 83, -20, 66, -99, -57, 61, -64, -99, -55, -54, -23, 11, 78, -78, -16, -15, 7, -64, -29, 69, -23, -77, -67, -65, -4, -52, 93, 73, -25, -58, -53, 99, -22, 90, 49, 99, -94, -71, -41, -70, -88, 91, 29, 99, -4, 65, -94, -40, 1, -93, -78, -5, -50, -63, -77, -2, -67, 26, 46, -18, -99, -49, 30, -82, 15, -11, 25, -54, 97, 0, -13, 9], [2, 54, 45, 20, -45, 91, 69, 25, 0, -86, 68, 78, -96, -34, -76, 69, -51, 81, -49, -20, 30, -13, -48, 66, 86, 36, 28, -34, 54, 62, 69, -41, -29, -7, 62, 76, -14, 21, -78, 38, 56, -37, -52, 9, 33, 68, -80, 72, 45, 26, 63, -7, -81, -43, 41, 67, 40, -97, -2, 84, 62, 12, 37, -18, -26, 12, 18, -48, -31, -64, -88, 12, 75, -66, -47, 83, 97, 50, 77, 79, 52, 9, 39, 36, -96, 43, -13, -42, 5, 35, -86, 65, 84, 66, -8, -75, 26, -13, 0, -49], [-67, -18, -24, -11, 24, 73, 18, 60, -34, 7, 23, -32, -58, -28, 56, 20, 61, 95, -55, 40, -23, -26, 26, 42, -30, 37, -78, 30, -26, 89, -83, -56, 40, 69, 28, 83, 87, -45, -89, 80, 58, -40, 41, -23, -84, 36, 38, -59, -65, -20, -42, 41, 77, 82, -87, -65, 46, -44, 76, -15, 99, -80, -15, -99, 75, -35, -85, -37, -83, -1, 96, 90, 49, 56, 89, -18, -41, -25, 21, 71, 39, 74, 20, 83, 88, -16, -32, -64, 15, -96, 36, -5, -78, 37, -83, 20, 31, 9, -49, 0]]\n",
      "NEW:\n",
      "Initial solution: [16, 9, 18, 3, 24, 18, 23, 8, 29, 10, 30, 6, 14, 27, 22, 6, 0, 26, 16, 20, 32, 4, 4, 24, 2, 20, 17, 14, 12, 1, 10, 13, 23, 19, 26, 0, 17, 21, 3, 30, 32, 24, 8, 25, 31, 25, 22, 15, 3, 33, 11, 21, 12, 28, 32, 31, 25, 15, 21, 29, 20, 31, 4, 15, 0, 5, 22, 28, 7, 27, 13, 5, 9, 18, 26, 1, 5, 28, 33, 30, 19, 7, 19, 1, 7, 8, 2, 16, 23, 12, 11, 9, 29, 17, 27, 10, 14, 6, 11, 33, 2, 13], score: -0.23079869094267347\n",
      "  Final solution: [22, 16, 0, 27, 25, 12, 31, 6, 11, 15, 10, 13, 17, 19, 24, 10, 6, 33, 28, 29, 23, 27, 21, 7, 7, 33, 29, 1, 3, 20, 23, 22, 21, 15, 8, 18, 26, 18, 25, 32, 20, 17, 30, 16, 11, 9, 26, 4, 14, 8, 3, 0, 12, 28, 32, 31, 25, 15, 5, 17, 0, 18, 21, 2, 31, 16, 19, 3, 33, 7, 32, 5, 9, 14, 24, 1, 5, 28, 26, 30, 19, 14, 30, 1, 13, 8, 2, 4, 23, 10, 24, 9, 29, 20, 4, 13, 27, 6, 11, 12, 2, 22], score: 2.5360923945522074\n"
     ]
    },
    {
     "data": {
      "image/png": "[encoded data removed]",
      "text/plain": [
       "<Figure size 640x480 with 1 Axes>"
      ]
     },
     "metadata": {},
     "output_type": "display_data"
    },
    {
     "name": "stdout",
     "output_type": "stream",
     "text": [
      "OLD:\n",
      "Initial solution: [[86, 24, 44], [5, 76, 61], [6, 27, 88], [67, 90, 12], [96, 52, 100], [79, 46, 56], [63, 77, 41], [64, 93, 47], [92, 10, 39], [0, 74, 94], [60, 29, 68], [89, 33, 53], [59, 2, 23], [81, 55, 32], [31, 37, 97], [80, 98, 34], [69, 73, 48], [38, 57, 8], [66, 9, 50], [30, 85, 75], [83, 19, 82], [14, 91, 65], [70, 4, 17], [22, 45, 16], [21, 51, 36], [35, 72, 18], [54, 26, 43], [28, 20, 13], [40, 42, 1], [101, 84, 11], [49, 15, 62], [71, 87, 58], [78, 3, 7], [99, 95, 25]], score: 0.01494721163898499\n",
      "  Final solution: [[65, 51, 52], [95, 11, 66], [54, 47, 64], [86, 3, 53], [30, 28, 14], [4, 79, 46], [24, 0, 6], [85, 41, 81], [5, 34, 21], [91, 7, 67], [23, 56, 49], [42, 15, 93], [76, 62, 10], [35, 89, 18], [43, 45, 59], [33, 20, 39], [29, 26, 68], [84, 48, 97], [13, 78, 98], [99, 96, 70], [31, 60, 77], [44, 61, 40], [22, 82, 27], [94, 32, 1], [2, 71, 12], [92, 83, 19], [90, 88, 55], [100, 63, 38], [73, 87, 25], [74, 16, 57], [101, 72, 50], [8, 17, 36], [75, 58, 37], [9, 69, 80]], score: 1.2785953858250259\n"
     ]
    },
    {
     "data": {
      "image/png": "[encoded data removed]",
      "text/plain": [
       "<Figure size 640x480 with 1 Axes>"
      ]
     },
     "metadata": {},
     "output_type": "display_data"
    },
    {
     "data": {
      "text/plain": [
       "'genetic_algorithm(1, 100, test_preference_matrix, 3)\\ngenetic_algorithm(1, 100, test_preference_matrix, 3)\\ngenetic_algorithm(1, 100, test_preference_matrix, 3)\\ngenetic_algorithm(1, 100, test_preference_matrix, 3)'"
      ]
     },
     "execution_count": 161,
     "metadata": {},
     "output_type": "execute_result"
    }
   ],
   "source": [
    "def genetic_algorithm_(num_iterations, population_size, preference_matrix, seatsPerTable):\n",
    "    filled_preference_matrix = fill_matrix(seatsPerTable, preference_matrix)\n",
    "    population = generate_population_(population_size, filled_preference_matrix, seatsPerTable)\n",
    "    \"\"\"print(\"population[0]: \")\n",
    "    print(population[0])\"\"\"\n",
    "    best_solution = population[0]\n",
    "    best_score = evaluate_solution_(population[0], filled_preference_matrix)\n",
    "    num_iterations=500\n",
    "\n",
    "    best_scores = []\n",
    "    all_scores = []\n",
    "    avg_scores = []\n",
    "\n",
    "    for solution in population:\n",
    "        all_scores.append(evaluate_solution_(solution, filled_preference_matrix))\n",
    "    \n",
    "\n",
    "    print(f\"Initial solution: {best_solution}, score: {best_score}\")\n",
    "\n",
    "    while(num_iterations > 0):\n",
    "\n",
    "        #parent1 = tournament_select_( population, filled_preference_matrix, 10)\n",
    "        parent1 = roulette_select_(population, filled_preference_matrix)\n",
    "        #print(parent1)\n",
    "        #parent2 = tournament_select_( population, filled_preference_matrix, 10, parent1)\n",
    "        parent2 = roulette_select_(population, filled_preference_matrix, exclude=parent1)\n",
    "\n",
    "        if parent2 is None:\n",
    "            parent2 = parent1\n",
    "\n",
    "        \"\"\"print(\"parent 1:\")\n",
    "        print(parent1)\n",
    "        print(\"parent2:\")\n",
    "        print(parent2)\"\"\"\n",
    "\n",
    "        #estatisticas para grafico\n",
    "        avg_score = np.mean(all_scores)\n",
    "        avg_scores.append(avg_score)\n",
    "        best_solution = max(population, key=lambda x: evaluate_solution_(x, filled_preference_matrix))\n",
    "        best_scores.append(evaluate_solution_(best_solution, filled_preference_matrix))\n",
    "\n",
    "\n",
    "        # Next generation Crossover and Mutation\n",
    "        child1, child2 = random_crossover_(parent1, parent2, filled_preference_matrix, seatsPerTable)\n",
    "\n",
    "        \"\"\"print(\"child 1:\")\n",
    "        print(child1)\n",
    "        print(\"child2:\")\n",
    "        print(child2)\"\"\"\n",
    "\n",
    "        child1, child2 = mutation_(child1), mutation_(child2)\n",
    "\n",
    "        \"\"\"print(\"mutate child 1:\")\n",
    "        print(child1)\n",
    "        print(\"mutate child2:\")\n",
    "        print(child2)\"\"\"\n",
    "        \n",
    "        population.append(child1)\n",
    "        population.append(child2)\n",
    "        all_scores.append(evaluate_solution_(child1, filled_preference_matrix))\n",
    "        all_scores.append(evaluate_solution_(child2, filled_preference_matrix))\n",
    "        population.sort(key=lambda sol: evaluate_solution_(sol, filled_preference_matrix), reverse=True)\n",
    "        population = population[:population_size]\n",
    "\n",
    "\n",
    "        \"\"\"child = random_crossover(parent1, parent2)\n",
    "        print(\"child 1:\")\n",
    "        print(child)\n",
    "\n",
    "        child = mutation(child)\n",
    "\n",
    "        print(\"mutate child 1:\")\n",
    "        print(child)\n",
    "        population.append(child)\n",
    "        population.sort(key=lambda sol: evaluate_solution(sol, filled_preference_matrix), reverse=True)\n",
    "        population = population[:population_size]\"\"\"\n",
    "\n",
    "        num_iterations-=1\n",
    "    \n",
    "    best_solution= population[0]\n",
    "    best_score=evaluate_solution_(best_solution, filled_preference_matrix)\n",
    "    print(f\"  Final solution: {best_solution}, score: {best_score}\")\n",
    "\n",
    "    #print(best_scores)\n",
    "    #print(avg_scores)\n",
    "    show_graph(best_scores, avg_scores)\n",
    "\n",
    "    return best_solution\n",
    "\n",
    "p = random_preferences(100)\n",
    "print(\"MATRIZ PREFERENCIA\")\n",
    "print(p)\n",
    "\n",
    "t=[[0, 15, -21, 17, -73, -25, 56, 31, -48, -8], [15, 0, -14, 31, 75, 52, -28, -76, 43, 2], [-21, -14, 0, 30, -74, 58, -11, 97, 50, 20], [17, 31, 30, 0, 75, 57, 10, 95, 41, -26], [-73, 75, -74, 75, 0, 97, 88, 91, 75, -77], [-25, 52, 58, 57, 97, 0, -63, -3, 37, 21], [56, -28, -11, 10, 88, -63, 0, 2, -62, -94], [31, -76, 97, 95, 91, -3, 2, 0, 54, -76], [-48, 43, 50, 41, 75, 37, -62, 54, 0, 41], [-8, 2, 20, -26, -77, 21, -94, -76, 41, 0]]\n",
    "\n",
    "\"\"\"genetic_algorithm_(1, 100, test_preference_matrix, 3)\n",
    "genetic_algorithm_(1, 100, test_preference_matrix, 3)\n",
    "genetic_algorithm_(1, 100, test_preference_matrix, 3)\n",
    "genetic_algorithm_(1, 100, test_preference_matrix, 3)\n",
    "genetic_algorithm_(1, 100, test_preference_matrix, 3)\"\"\"\n",
    "\n",
    "print(\"NEW:\")\n",
    "genetic_algorithm_(1, 100, p, 3)\n",
    "\"\"\"genetic_algorithm_(1, 100, test_preference_matrix, 3)\n",
    "genetic_algorithm_(1, 100, test_preference_matrix, 3)\n",
    "genetic_algorithm_(1, 100, test_preference_matrix, 3)\n",
    "genetic_algorithm_(1, 100, test_preference_matrix, 3)\"\"\"\n",
    "\n",
    "print(\"OLD:\")\n",
    "genetic_algorithm(1, 100, p, 3)\n",
    "\"\"\"genetic_algorithm(1, 100, test_preference_matrix, 3)\n",
    "genetic_algorithm(1, 100, test_preference_matrix, 3)\n",
    "genetic_algorithm(1, 100, test_preference_matrix, 3)\n",
    "genetic_algorithm(1, 100, test_preference_matrix, 3)\"\"\"\n"
   ]
  },
  {
   "cell_type": "code",
   "execution_count": 162,
   "metadata": {},
   "outputs": [],
   "source": [
    "import matplotlib.pyplot as plt\n",
    "\n",
    "def show_graph(best_scores, avg_scores):\n",
    "    plt.plot(range(1, len(best_scores) + 1), best_scores, label='Best Individual Score')\n",
    "    plt.plot(range(1, len(avg_scores) + 1), avg_scores, linestyle='--', color='red', label='Average Population Score')\n",
    "    plt.xlabel('Iteration')\n",
    "    plt.ylabel('Score')\n",
    "    plt.title('Algorithm Performance')\n",
    "    plt.legend()\n",
    "    plt.show()"
   ]
  }
 ],
 "metadata": {
  "kernelspec": {
   "display_name": "base",
   "language": "python",
   "name": "python3"
  },
  "language_info": {
   "codemirror_mode": {
    "name": "ipython",
    "version": 3
   },
   "file_extension": ".py",
   "mimetype": "text/x-python",
   "name": "python",
   "nbconvert_exporter": "python",
   "pygments_lexer": "ipython3",
   "version": "3.12.4"
  }
 },
 "nbformat": 4,
 "nbformat_minor": 2
}
