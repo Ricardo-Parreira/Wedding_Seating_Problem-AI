{
 "cells": [
  {
   "cell_type": "markdown",
   "metadata": {},
   "source": [
    "# CHECKPOINT\n",
    "(1) a specification of the work to be performed (definition of the game or optimization problem to be\n",
    "solved)\n",
    "\n",
    "(2) related work with references to works found in a bibliographic search (articles, web pages,\n",
    "and/or source code)\n",
    "\n",
    "(3) formulation of the problem as an optimization problem (solution representation, neighborhood/mutation and crossover functions, hard constraints, evaluation functions)\n",
    "\n",
    "(4) implementation work already carried out (programming language, development environment, data structures, among others)."
   ]
  },
  {
   "cell_type": "code",
   "execution_count": 6,
   "metadata": {},
   "outputs": [],
   "source": [
    "import numpy as np\n",
    "import itertools\n",
    "#import matplotlib as pltlib\n",
    "import math, copy\n",
    "import random\n",
    "\n",
    "table_arrangement = [[0,2], [1,3]]\n",
    "\n",
    "test_preference_matrix = [[0,-10, 100, -100],\n",
    "              [10, 0, 0, 100],\n",
    "              [0,0,0,0],\n",
    "              [-100, 100, -50, 0]] #ABCDABCD"
   ]
  },
  {
   "cell_type": "code",
   "execution_count": 4,
   "metadata": {},
   "outputs": [
    {
     "name": "stdout",
     "output_type": "stream",
     "text": [
      "3.0\n"
     ]
    }
   ],
   "source": [
    "def evaluate_table(table, matrix):\n",
    "    score = 0\n",
    "    for guest in table:\n",
    "        for neighbor in table:\n",
    "            if guest != neighbor:\n",
    "                score += matrix[guest][neighbor]\n",
    "\n",
    "    return score\n",
    "\n",
    "def evaluate_solution(solution, preference_matrix):\n",
    "    score_tables = []\n",
    "    total_score=0\n",
    "    for table in solution:\n",
    "        current_score = evaluate_table(table, preference_matrix)\n",
    "        total_score += current_score\n",
    "        score_tables.append(current_score)\n",
    "    average = total_score/len(solution)\n",
    "\n",
    "    std_sum=0\n",
    "    for score in score_tables:\n",
    "        std_sum += (score-average)**2\n",
    "    \n",
    "    std = math.sqrt(std_sum/len(solution))\n",
    "\n",
    "    return (average/std)\n",
    "    \n",
    "\n",
    "def average_tables(tables, matrix):\n",
    "    score = 0\n",
    "    for table in tables:\n",
    "        score += evaluate_table(table, matrix)\n",
    "    average = score / len(tables)\n",
    "    return average\n",
    "\n",
    "\n",
    "score = evaluate_solution(table_arrangement, test_preference_matrix)\n",
    "print(score)"
   ]
  },
  {
   "cell_type": "markdown",
   "metadata": {},
   "source": [
    "To be able to perform our algorithms correctly we will need all tables to be filled, so we will create fake guests called \"EmptySeat\" that have no preferences towards the other guests."
   ]
  },
  {
   "cell_type": "code",
   "execution_count": 11,
   "metadata": {},
   "outputs": [
    {
     "name": "stdout",
     "output_type": "stream",
     "text": [
      "[[0, -10, 100, -100], [10, 0, 0, 100], [0, 0, 0, 0], [-100, 100, -50, 0]]\n"
     ]
    }
   ],
   "source": [
    "def fill_matrix(seats, matrix):\n",
    "    nguests = len(matrix)\n",
    "    diff = nguests % seats\n",
    "    matrix_copy = copy.deepcopy(matrix)\n",
    "    if diff == 0:\n",
    "        return matrix_copy\n",
    "    else:\n",
    "        #fill the matrix with the preference that the guests have of the empty seats\n",
    "        for guest in range(len(matrix_copy)):\n",
    "            matrix_copy[guest] = matrix_copy[guest] + ([0]*diff)\n",
    "\n",
    "        #fill the matrix with the preference of the emptyseats\n",
    "        for i in range(diff):\n",
    "            matrix_copy.append([0]*(nguests+diff))\n",
    "\n",
    "    return matrix_copy\n",
    "\n",
    "m = fill_matrix(4, test_preference_matrix)\n",
    "print(m)"
   ]
  },
  {
   "cell_type": "markdown",
   "metadata": {},
   "source": [
    "Some of the algorithms we are applying to this problem, there is a need to create an initial random arrangement. That is what this function is for."
   ]
  },
  {
   "cell_type": "code",
   "execution_count": 10,
   "metadata": {},
   "outputs": [
    {
     "name": "stdout",
     "output_type": "stream",
     "text": [
      "[[3, 2], [1, 0]]\n"
     ]
    }
   ],
   "source": [
    "def random_arrangement(matrix, seatsPerTable):\n",
    "    matrix_copy = fill_matrix(seatsPerTable, matrix)\n",
    "\n",
    "    nguests = len(matrix_copy)\n",
    "    guest_list = list(range(nguests))\n",
    "    arrangement = []\n",
    "    for table in range(nguests//seatsPerTable):\n",
    "        table = random.sample(guest_list, seatsPerTable)\n",
    "        for seatedGuest in table:\n",
    "            guest_list.remove(seatedGuest)\n",
    "\n",
    "        arrangement.append(table)\n",
    "    return arrangement\n",
    "\n",
    "r = random_arrangement(test_preference_matrix, 2)\n",
    "print(r)"
   ]
  },
  {
   "cell_type": "code",
   "execution_count": 12,
   "metadata": {},
   "outputs": [],
   "source": [
    "#random\n",
    "def get_neighbour(curr_arrangement, preference_matrix):\n",
    "    neighbor_arrangement = copy.deepcopy(curr_arrangement)\n",
    "    table1 = np.random.choice(len(neighbor_arrangement))\n",
    "    table2 = np.random.choice(len(neighbor_arrangement))\n",
    "    while(table1 == table2):\n",
    "        table2 = np.random.choice(len(neighbor_arrangement))\n",
    "    person1 = np.random.choice(len(neighbor_arrangement[table1]))\n",
    "    person2 = np.random.choice(len(neighbor_arrangement[table2]))\n",
    "    neighbor_arrangement[table1][person1], neighbor_arrangement[table2][person2] = neighbor_arrangement[table2][person2], neighbor_arrangement[table1][person1]\n",
    "    return neighbor_arrangement\n",
    "#improvement not filled table play"
   ]
  },
  {
   "cell_type": "code",
   "execution_count": 58,
   "metadata": {},
   "outputs": [
    {
     "name": "stdout",
     "output_type": "stream",
     "text": [
      "[[0, 2], [1, 3], [5, 6], [7, 4]]\n"
     ]
    }
   ],
   "source": [
    "import random\n",
    "\n",
    "# escolher a primeira metade das mesas de um dos pais e as restantes do outro pai ou se nao for possivel, aleatorio\n",
    "def midpoint_crossover(parent1, parent2):\n",
    "    num_tables = len(parent1)  # nº de mesas\n",
    "    people_per_table = len(parent1[0])  # nº de pessoas por mesa\n",
    "\n",
    "    # escolhe aleatoriamente qual solução usar primeiro\n",
    "    if random.random() < 0.5:\n",
    "        first_parent, second_parent = parent1, parent2\n",
    "    else:\n",
    "        first_parent, second_parent = parent2, parent1\n",
    "\n",
    "    mid = num_tables // 2\n",
    "\n",
    "    # filho com primeira metade das mesas do primeiro pai\n",
    "    child = first_parent[:mid]\n",
    "    used_elements = set(x for sublist in child for x in sublist)\n",
    "\n",
    "    # adicionar a segunda metade das mesas do segundo pai sem repetir pessoas\n",
    "    for sublist in second_parent[mid:]:\n",
    "        new_sublist = [x for x in sublist if x not in used_elements]\n",
    "        child.append(new_sublist)\n",
    "        used_elements.update(new_sublist)\n",
    "\n",
    "    all_elements = set(x for sublist in parent1 + parent2 for x in sublist)\n",
    "    missing_elements = list(all_elements - used_elements)\n",
    "    random.shuffle(missing_elements)  # os q faltam mete aleatoriamente\n",
    "\n",
    "    # Redistribuir os que faltam mantendo o mesmo tamanho das sublistas\n",
    "    for i in range(num_tables):\n",
    "        while len(child[i]) < people_per_table:\n",
    "            child[i].append(missing_elements.pop(0))\n",
    "\n",
    "    return child\n",
    "\n",
    "# Exemplo de uso\n",
    "parent1 = [[0, 2], [1, 3], [4, 5], [6, 7]]\n",
    "parent2 = [[1, 2], [6, 4], [0, 5], [3, 7]]\n",
    "\n",
    "child = midpoint_crossover(parent1, parent2)\n",
    "print(child)\n"
   ]
  },
  {
   "cell_type": "code",
   "execution_count": 104,
   "metadata": {},
   "outputs": [
    {
     "name": "stdout",
     "output_type": "stream",
     "text": [
      "Filho 1: [[1, 2], [0, 4], [5, 3], [6, 7], [8]]\n",
      "Filho 2: [[0, 2], [1, 3], [6, 5], [8, 7], [4]]\n"
     ]
    }
   ],
   "source": [
    "def random_crossover(parent1, parent2):\n",
    "    num_tables = len(parent1)\n",
    "    \n",
    "    mask = [random.choice([0, 1]) for _ in range(num_tables)]\n",
    "    \n",
    "    mask[random.randint(0, num_tables - 1)] = 0  \n",
    "    mask[random.randint(0, num_tables - 1)] = 1 \n",
    "    \n",
    "    child1, child2 = [[] for _ in range(num_tables)], [[] for _ in range(num_tables)]\n",
    "    assigned1, assigned2 = set(), set()\n",
    "    \n",
    "    for i in range(num_tables):\n",
    "        if mask[i] == 0:\n",
    "            child1[i] = [guest for guest in parent1[i] if guest not in assigned1]\n",
    "            assigned1.update(child1[i])\n",
    "            child2[i] = [guest for guest in parent2[i] if guest not in assigned2]\n",
    "            assigned2.update(child2[i])\n",
    "        else:\n",
    "            child1[i] = [guest for guest in parent2[i] if guest not in assigned1]\n",
    "            assigned1.update(child1[i])\n",
    "            child2[i] = [guest for guest in parent1[i] if guest not in assigned2]\n",
    "            assigned2.update(child2[i])\n",
    "    \n",
    "    all_guests = set(sum(parent1, []) + sum(parent2, []))  \n",
    "    remaining1 = list(all_guests - assigned1)\n",
    "    remaining2 = list(all_guests - assigned2)\n",
    "    \n",
    "    def fill_tables(child, remaining, parent_ref, assigned_set):\n",
    "        random.shuffle(remaining)\n",
    "        \n",
    "        for i in range(num_tables):\n",
    "            missing_count = len(parent_ref[i]) - len(child[i])\n",
    "            if missing_count > 0:\n",
    "                for guest in remaining[:missing_count]:\n",
    "                    if guest not in assigned_set:\n",
    "                        child[i].append(guest)\n",
    "                        assigned_set.add(guest)\n",
    "                remaining = remaining[missing_count:]  \n",
    "\n",
    "    fill_tables(child1, remaining1, parent1, assigned1)\n",
    "    fill_tables(child2, remaining2, parent2, assigned2)\n",
    "    \n",
    "    return child1, child2\n",
    "\n",
    "# Exemplo de uso:\n",
    "parent1 = [[0, 2], [1, 3], [4, 5], [6, 7], [8]]\n",
    "parent2 = [[1, 2], [0, 4], [6, 5], [8, 7], [3]]\n",
    "\n",
    "child1, child2 = random_crossover(parent1, parent2)\n",
    "\n",
    "print(\"Filho 1:\", child1)\n",
    "print(\"Filho 2:\", child2)\n"
   ]
  },
  {
   "cell_type": "code",
   "execution_count": 88,
   "metadata": {},
   "outputs": [
    {
     "name": "stdout",
     "output_type": "stream",
     "text": [
      "[[4, 5], [3]]\n",
      "[[4, 5], [3], [], [0], []]\n",
      "[[4, 5], [3, 8], [6, 2], [0, 1], [7]]\n"
     ]
    }
   ],
   "source": [
    "# escolhe pelo menos uma mesa de cada solução e o resto é aleatório, assumindo que todas as mesas têm o mesmo número de pessoas\n",
    "def balanced_crossover(parent1, parent2):\n",
    "    num_tables = len(parent1)\n",
    "    people_per_table = len(parent1[0])\n",
    "\n",
    "    child = []\n",
    "    used_elements = set()\n",
    "\n",
    "    chosen_from_p1 = random.choice(parent1)\n",
    "    randomized_parent2 = random.sample(parent2, len(parent2))\n",
    "\n",
    "    for table in randomized_parent2:\n",
    "        flag=False\n",
    "        for person in table:\n",
    "            if person in chosen_from_p1:\n",
    "                flag=True\n",
    "                break\n",
    "        \n",
    "        if flag == False:\n",
    "            chosen_from_p2 = table\n",
    "            break\n",
    "\n",
    "    used_elements.update(chosen_from_p1)\n",
    "    used_elements.update(chosen_from_p2)\n",
    "    child.append(chosen_from_p1)\n",
    "    child.append(chosen_from_p2)\n",
    "\n",
    "    print(child)\n",
    "\n",
    "    table_sizes = [len(table) for table in parent1]\n",
    "\n",
    "    for i in range(num_tables-2):\n",
    "        if random.random() < 0.5:\n",
    "            table = random.choice(parent1)\n",
    "        else:\n",
    "            table = random.choice(parent2)\n",
    "        new_table = [x for x in table if x not in used_elements]\n",
    "        child.append(new_table)\n",
    "        used_elements.update(new_table)\n",
    "\n",
    "    all_elements = set(x for sublist in parent1 + parent2 for x in sublist)\n",
    "    missing_elements = list(all_elements - used_elements)\n",
    "    random.shuffle(missing_elements)\n",
    "\n",
    "    print(child)\n",
    "\n",
    "    for i in range(num_tables):\n",
    "        while len(child[i]) < table_sizes[i]:\n",
    "            if missing_elements:\n",
    "                child[i].append(missing_elements.pop(0))\n",
    "    \n",
    "    return child\n",
    "\n",
    "\n",
    "parent1 = [[0, 2], [1, 3], [4, 5], [6, 7], [8]]\n",
    "parent2 = [[1, 2], [0, 4], [6, 5], [8, 7], [3]]\n",
    "\n",
    "child = balanced_crossover(parent1, parent2)\n",
    "print(child)\n"
   ]
  }
 ],
 "metadata": {
  "kernelspec": {
   "display_name": "Python 3",
   "language": "python",
   "name": "python3"
  },
  "language_info": {
   "codemirror_mode": {
    "name": "ipython",
    "version": 3
   },
   "file_extension": ".py",
   "mimetype": "text/x-python",
   "name": "python",
   "nbconvert_exporter": "python",
   "pygments_lexer": "ipython3",
   "version": "3.10.12"
  }
 },
 "nbformat": 4,
 "nbformat_minor": 2
}
