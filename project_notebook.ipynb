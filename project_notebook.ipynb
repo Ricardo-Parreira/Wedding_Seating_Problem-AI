{
 "cells": [
  {
   "cell_type": "markdown",
   "metadata": {},
   "source": [
    "# CHECKPOINT\n",
    "(1) a specification of the work to be performed (definition of the game or optimization problem to be\n",
    "solved)\n",
    "\n",
    "(2) related work with references to works found in a bibliographic search (articles, web pages,\n",
    "and/or source code)\n",
    "\n",
    "(3) formulation of the problem as an optimization problem (solution representation, neighborhood/mutation and crossover functions, hard constraints, evaluation functions)\n",
    "\n",
    "(4) implementation work already carried out (programming language, development environment, data structures, among others)."
   ]
  },
  {
   "cell_type": "code",
   "execution_count": 39,
   "metadata": {},
   "outputs": [],
   "source": [
    "import numpy as np\n",
    "import itertools\n",
    "#import matplotlib as pltlib\n",
    "import math, copy\n",
    "import random\n",
    "\n",
    "table_arrangement = [[0,2], [1,3]]\n",
    "\n",
    "test_preference_matrix = [\n",
    "    [  0,  10,  -5,  20, -10,  15,   0,  -5],  # A\n",
    "    [ 10,   0,  30,  -5,  20, -10,   5,   0],  # B\n",
    "    [ -5,  30,   0,  10, -20,   5,  15,  10],  # C\n",
    "    [ 20,  -5,  10,   0,  25,  -5, -15,  20],  # D\n",
    "    [-10,  20, -20,  25,   0,  30, -10,   5],  # E\n",
    "    [ 15, -10,   5,  -5,  30,   0,  20, -10],  # F\n",
    "    [  0,   5,  15, -15, -10,  20,   0,  30],  # G\n",
    "    [ -5,   0,  10,  20,   5, -10,  30,   0]   # H\n",
    "] #ABCDABCD"
   ]
  },
  {
   "cell_type": "markdown",
   "metadata": {},
   "source": [
    "In order to test with different sized preference matrices we created a function that randomly generates preference matrices given a number of guests"
   ]
  },
  {
   "cell_type": "code",
   "execution_count": 40,
   "metadata": {},
   "outputs": [
    {
     "name": "stdout",
     "output_type": "stream",
     "text": [
      "[[0, -99, -93, 64], [-99, 0, 84, 39], [-93, 84, 0, -62], [64, 39, -62, 0]]\n"
     ]
    }
   ],
   "source": [
    "def random_preferences(nguests):\n",
    "    preference_matrix = [[0] * nguests for x in range(nguests)]\n",
    "    for guest1 in range(nguests):\n",
    "        for guest2 in range(nguests):\n",
    "            if guest1 != guest2:\n",
    "                score = random.randrange(-100, 100, 1)\n",
    "                preference_matrix[guest1][guest2] = score\n",
    "                preference_matrix[guest2][guest1] = score\n",
    "    return preference_matrix\n",
    "\n",
    "p = random_preferences(4)\n",
    "\n",
    "print(p)"
   ]
  },
  {
   "cell_type": "code",
   "execution_count": 41,
   "metadata": {},
   "outputs": [
    {
     "name": "stdout",
     "output_type": "stream",
     "text": [
      "-10.0\n"
     ]
    }
   ],
   "source": [
    "def evaluate_table(table, matrix):\n",
    "    score = 0\n",
    "    for guest in table:\n",
    "        for neighbor in table:\n",
    "            if guest != neighbor:\n",
    "                score += matrix[guest][neighbor]\n",
    "\n",
    "    return score\n",
    "\n",
    "def standard_deviation(solution, preference_matrix):\n",
    "    score_tables = []\n",
    "    total_score=0\n",
    "    for table in solution:\n",
    "        current_score = evaluate_table(table, preference_matrix)\n",
    "        total_score += current_score\n",
    "        score_tables.append(current_score)\n",
    "    average = total_score/len(solution)\n",
    "\n",
    "    std_sum=0\n",
    "    for score in score_tables:\n",
    "        std_sum += (score-average)**2\n",
    "    \n",
    "    std = math.sqrt(std_sum/len(solution))\n",
    "    return std\n",
    "\n",
    "def evaluate_solution(solution, preference_matrix):\n",
    "    average = average_tables(solution, preference_matrix)  #not optimal\n",
    "    std = standard_deviation(solution, preference_matrix) + 1  # shift de 1 para nunca poder haver divisao por 0\n",
    "    return (average/std)\n",
    "    \n",
    "\n",
    "def average_tables(tables, matrix):\n",
    "    score = 0\n",
    "    for table in tables:\n",
    "        score += evaluate_table(table, matrix)\n",
    "    average = score / len(tables)\n",
    "    return average\n",
    "\n",
    "\n",
    "score = evaluate_solution(table_arrangement, test_preference_matrix)\n",
    "print(score)"
   ]
  },
  {
   "cell_type": "code",
   "execution_count": null,
   "metadata": {},
   "outputs": [],
   "source": []
  },
  {
   "cell_type": "markdown",
   "metadata": {},
   "source": [
    "To be able to perform our algorithms correctly we will need all tables to be filled, so we will create fake guests called \"EmptySeat\" that have no preferences towards the other guests."
   ]
  },
  {
   "cell_type": "code",
   "execution_count": 42,
   "metadata": {},
   "outputs": [
    {
     "name": "stdout",
     "output_type": "stream",
     "text": [
      "[[0, 10, -5, 20, -10, 15, 0, -5, 0], [10, 0, 30, -5, 20, -10, 5, 0, 0], [-5, 30, 0, 10, -20, 5, 15, 10, 0], [20, -5, 10, 0, 25, -5, -15, 20, 0], [-10, 20, -20, 25, 0, 30, -10, 5, 0], [15, -10, 5, -5, 30, 0, 20, -10, 0], [0, 5, 15, -15, -10, 20, 0, 30, 0], [-5, 0, 10, 20, 5, -10, 30, 0, 0], [0, 0, 0, 0, 0, 0, 0, 0, 0]]\n"
     ]
    }
   ],
   "source": [
    "def fill_matrix(seatsPerTable, matrix):\n",
    "    nguests = len(matrix)\n",
    "    total_tables = math.ceil(nguests / seatsPerTable) #rounds the division up to the next integer\n",
    "    TotalSeats = total_tables * seatsPerTable\n",
    "    diff = TotalSeats % nguests \n",
    "\n",
    "    matrix_copy = copy.deepcopy(matrix)\n",
    "    if diff == 0:\n",
    "        return matrix_copy\n",
    "    else:\n",
    "        #fill the matrix with the preference that the guests have of the empty seats\n",
    "        for guest in range(len(matrix_copy)):\n",
    "            matrix_copy[guest] = matrix_copy[guest] + ([0]*diff)\n",
    "\n",
    "        #fill the matrix with the preference of the emptyseats\n",
    "        for i in range(diff):\n",
    "            matrix_copy.append([0]*(nguests+diff))\n",
    "\n",
    "    return matrix_copy\n",
    "\n",
    "m = fill_matrix(3, test_preference_matrix)\n",
    "print(m)"
   ]
  },
  {
   "cell_type": "markdown",
   "metadata": {},
   "source": [
    "Some of the algorithms we are applying to this problem, there is a need to create an initial random arrangement. That is what this function is for."
   ]
  },
  {
   "cell_type": "code",
   "execution_count": 43,
   "metadata": {},
   "outputs": [
    {
     "name": "stdout",
     "output_type": "stream",
     "text": [
      "[[4, 0, 2], [8, 1, 3], [5, 7, 6]]\n",
      "[[3, 7], [0, 2], [4, 6], [1, 5]]\n",
      "[[3, 6], [5, 4], [2, 7], [0, 1]]\n",
      "[[0, 7], [3, 6], [1, 5], [4, 2]]\n"
     ]
    }
   ],
   "source": [
    "def random_arrangement(matrix, seatsPerTable):\n",
    "    matrix_copy = fill_matrix(seatsPerTable, matrix)\n",
    "\n",
    "    nguests = len(matrix_copy)\n",
    "    guest_list = list(range(nguests))\n",
    "    arrangement = []\n",
    "    for table in range(nguests//seatsPerTable):\n",
    "        table = random.sample(guest_list, seatsPerTable)\n",
    "        for seatedGuest in table:\n",
    "            guest_list.remove(seatedGuest)\n",
    "\n",
    "        arrangement.append(table)\n",
    "    return arrangement\n",
    "\n",
    "def generate_population(population_size, preference_matrix, seatsPerTable):\n",
    "    solutions = []\n",
    "    for i in range(population_size):\n",
    "        solutions.append(random_arrangement(preference_matrix, seatsPerTable))\n",
    "    return solutions\n",
    "\n",
    "\n",
    "r = random_arrangement(test_preference_matrix, 3)\n",
    "print(r)\n",
    "\n",
    "population = generate_population(3, test_preference_matrix, 2)\n",
    "for solution in population:\n",
    "    print(solution)"
   ]
  },
  {
   "cell_type": "code",
   "execution_count": 44,
   "metadata": {},
   "outputs": [
    {
     "name": "stdout",
     "output_type": "stream",
     "text": [
      "[1]\n"
     ]
    }
   ],
   "source": [
    "toBeChanged = random.choices(range(1, int(8 * 0.05)+2))\n",
    "print(toBeChanged)"
   ]
  },
  {
   "cell_type": "markdown",
   "metadata": {},
   "source": [
    "All of our algorithms require some way to get a solution that is very similar to a given solution. In order to get that we built this function that changes a certain number of guests (based on the number of total guests)."
   ]
  },
  {
   "cell_type": "code",
   "execution_count": 45,
   "metadata": {},
   "outputs": [
    {
     "data": {
      "text/plain": [
       "[[0, 10, -5, 20, -10, 15, 0, -5],\n",
       " [10, 15, 30, -5, 20, -10, 5, 0],\n",
       " [-5, 30, 0, 10, -20, 5, 0, 10],\n",
       " [20, -5, 10, 0, 25, -5, -15, 20],\n",
       " [-10, 20, -20, 25, 0, 30, -10, 5],\n",
       " [15, -10, 5, -5, 30, 0, 20, -10],\n",
       " [0, 5, 15, -15, -10, 20, 0, 30],\n",
       " [-5, 0, 10, 20, 5, -10, 30, 0]]"
      ]
     },
     "execution_count": 45,
     "metadata": {},
     "output_type": "execute_result"
    }
   ],
   "source": [
    "#swaps two guests\n",
    "def get_neighbour(curr_arrangement):\n",
    "    neighbor_arrangement = copy.deepcopy(curr_arrangement)\n",
    "    table1 = np.random.choice(len(neighbor_arrangement))\n",
    "    table2 = np.random.choice(len(neighbor_arrangement))\n",
    "    while(table1 == table2):\n",
    "        table2 = np.random.choice(len(neighbor_arrangement))\n",
    "    person1 = np.random.choice(len(neighbor_arrangement[table1]))\n",
    "    person2 = np.random.choice(len(neighbor_arrangement[table2]))\n",
    "    neighbor_arrangement[table1][person1], neighbor_arrangement[table2][person2] = neighbor_arrangement[table2][person2], neighbor_arrangement[table1][person1]\n",
    "    return neighbor_arrangement\n",
    "#improvement not filled table play\n",
    "\n",
    "def advanced_get_neighbour(curr_arrangement):\n",
    "    percentage = 0.05   #adjustable\n",
    "    totalSeats = len(curr_arrangement)\n",
    "    #randomly chooses from 1 guest to 5% of total guest population to be swaped\n",
    "    toBeChanged = random.choices(range(1, int(totalSeats*percentage)+2))\n",
    "    \n",
    "    neighbour_arrangement = curr_arrangement\n",
    "    for nguests in range(toBeChanged[0]):\n",
    "        neighbour_arrangement = get_neighbour(neighbour_arrangement)\n",
    "    return neighbour_arrangement\n",
    "\n",
    "advanced_get_neighbour(test_preference_matrix)"
   ]
  },
  {
   "cell_type": "code",
   "execution_count": null,
   "metadata": {},
   "outputs": [
    {
     "name": "stdout",
     "output_type": "stream",
     "text": [
      "[[1, 2], [6, 4], [5, 3], [7, 0]]\n"
     ]
    }
   ],
   "source": [
    "import random\n",
    "\n",
    "def midpoint_crossover(parent1, parent2):\n",
    "    num_tables = len(parent1)\n",
    "    cut = num_tables // 2  # Ponto de corte no meio\n",
    "    \n",
    "    child1 = parent1[:cut] + parent2[cut:]\n",
    "    child2 = parent2[:cut] + parent1[cut:]\n",
    "    \n",
    "    assigned1, assigned2 = set(sum(child1, [])), set(sum(child2, []))\n",
    "    all_guests = set(sum(parent1, []) + sum(parent2, []))\n",
    "    remaining1, remaining2 = list(all_guests - assigned1), list(all_guests - assigned2)\n",
    "    \n",
    "    def fill_tables(child, remaining, parent_ref, assigned_set):\n",
    "        random.shuffle(remaining)\n",
    "        for i in range(num_tables):\n",
    "            missing_count = len(parent_ref[i]) - len(child[i])\n",
    "            for _ in range(missing_count):\n",
    "                if remaining:\n",
    "                    guest = remaining.pop()\n",
    "                    child[i].append(guest)\n",
    "                    assigned_set.add(guest)\n",
    "    \n",
    "    fill_tables(child1, remaining1, parent1, assigned1)\n",
    "    fill_tables(child2, remaining2, parent2, assigned2)\n",
    "    \n",
    "    return child1, child2"
   ]
  },
  {
   "cell_type": "code",
   "execution_count": 47,
   "metadata": {},
   "outputs": [
    {
     "name": "stdout",
     "output_type": "stream",
     "text": [
      "Filho 1: [[3, 2], [6, 5], [1, 7], [0, 4], [8]]\n",
      "Filho 2: [[0, 2], [6, 7], [1, 3], [8, 4], [5]]\n"
     ]
    }
   ],
   "source": [
    "def random_crossover(parent1, parent2):\n",
    "    num_tables = len(parent1)\n",
    "\n",
    "    #print(len(parent1))\n",
    "    #print(len(parent2))\n",
    "    \n",
    "    mask = [random.choice([0, 1]) for _ in range(num_tables)]\n",
    "    \n",
    "    mask[random.randint(0, num_tables - 1)] = 0  \n",
    "    mask[random.randint(0, num_tables - 1)] = 1 \n",
    "    \n",
    "    child1, child2 = [[] for _ in range(num_tables)], [[] for _ in range(num_tables)]\n",
    "    assigned1, assigned2 = set(), set()\n",
    "\n",
    "    random.shuffle(parent1)\n",
    "    random.shuffle(parent2)\n",
    "    \n",
    "    for i in range(num_tables):\n",
    "        #print(i)\n",
    "        if mask[i] == 0:\n",
    "            child1[i] = [guest for guest in parent1[i] if guest not in assigned1]\n",
    "            if child1[i] is not None: \n",
    "                assigned1.update(child1[i])\n",
    "            child2[i] = [guest for guest in parent2[i] if guest not in assigned2]\n",
    "            if child2[i] is not None: \n",
    "                assigned2.update(child2[i])\n",
    "        else:\n",
    "            child1[i] = [guest for guest in parent2[i] if guest not in assigned1]\n",
    "            if child1[i] is not None: \n",
    "                assigned1.update(child1[i])\n",
    "            child2[i] = [guest for guest in parent1[i] if guest not in assigned2]\n",
    "            if child2[i] is not None: \n",
    "                assigned2.update(child2[i])\n",
    "    \n",
    "    all_guests = set(sum(parent1, []) + sum(parent2, []))  \n",
    "    remaining1 = list(all_guests - assigned1)\n",
    "    remaining2 = list(all_guests - assigned2)\n",
    "    \n",
    "    def fill_tables(child, remaining, parent_ref, assigned_set):\n",
    "        random.shuffle(remaining)\n",
    "        \n",
    "        for i in range(num_tables):\n",
    "            missing_count = len(parent_ref[i]) - len(child[i])\n",
    "            if missing_count > 0:\n",
    "                for guest in remaining[:missing_count]:\n",
    "                    if guest not in assigned_set:\n",
    "                        child[i].append(guest)\n",
    "                        assigned_set.add(guest)\n",
    "                remaining = remaining[missing_count:]  \n",
    "\n",
    "    fill_tables(child1, remaining1, parent1, assigned1)\n",
    "    fill_tables(child2, remaining2, parent2, assigned2)\n",
    "    \n",
    "    return child1, child2\n",
    "\n",
    "# Exemplo de uso:\n",
    "parent1 = [[0, 2], [1, 3], [4, 5], [6, 7], [8]]\n",
    "parent2 = [[1, 2], [0, 4], [6, 5], [8, 7], [3]]\n",
    "\n",
    "child1, child2 = random_crossover(parent1, parent2)\n",
    "\n",
    "print(\"Filho 1:\", child1)\n",
    "print(\"Filho 2:\", child2)\n"
   ]
  },
  {
   "cell_type": "markdown",
   "metadata": {},
   "source": [
    "**SIMMULATED ANNEALING**"
   ]
  },
  {
   "cell_type": "code",
   "execution_count": 49,
   "metadata": {},
   "outputs": [
    {
     "name": "stdout",
     "output_type": "stream",
     "text": [
      "result: [[3, 8, 4], [6, 7, 0], [5, 2, 1]]    score: 50.0\n"
     ]
    }
   ],
   "source": [
    "def simmulated_annealing(preferences, seatsPerTable):\n",
    "    iterations = 10000\n",
    "    #primeiro arranjamos um estado inicial random e avaliamos\n",
    "    initial_state = random_arrangement(preferences, seatsPerTable)\n",
    "    filled_preferences=fill_matrix(seatsPerTable, preferences)\n",
    "    initial_score = evaluate_solution(initial_state, filled_preferences)\n",
    "\n",
    "    temperature = standard_deviation(initial_state, filled_preferences)   #basicamente a nossa tolerância no que toca a aceitar soluçoes piores\n",
    "    cooling = 0.99    #o quao rápido vai descendo essa tolerancia\n",
    "\n",
    "    while iterations > 0:\n",
    "\n",
    "        #depois arranjamos uma soluçao vizinha à inicial e avaliamos essa\n",
    "        neighbour_state = advanced_get_neighbour(initial_state)\n",
    "        neighbour_score = evaluate_solution(neighbour_state, filled_preferences)\n",
    "        \n",
    "\n",
    "        score_diff = initial_score - neighbour_score\n",
    "\n",
    "        #se a soluçao for melhor, aceitamos\n",
    "        if score_diff < 0:\n",
    "            initial_state = neighbour_state\n",
    "            initial_score = neighbour_score\n",
    "        #se for pior aceitamos com uma certa probabilidade que depende da temperatura\n",
    "        else:\n",
    "            probability = math.exp(-score_diff / temperature)\n",
    "            if random.random() < probability:\n",
    "                initial_state = neighbour_state\n",
    "                initial_score = neighbour_score\n",
    "        temperature *= cooling\n",
    "        iterations -= 1\n",
    "    return initial_state, initial_score\n",
    "\n",
    "\n",
    "result, score = simmulated_annealing(test_preference_matrix, 3)\n",
    "print(f\"result: {result}    score: {score}\")\n"
   ]
  },
  {
   "cell_type": "markdown",
   "metadata": {},
   "source": [
    "GENETIC ALGORTHIM"
   ]
  },
  {
   "cell_type": "code",
   "execution_count": 50,
   "metadata": {},
   "outputs": [
    {
     "name": "stdout",
     "output_type": "stream",
     "text": [
      "[[5, 0], [3, 7], [2, 4], [6, 1]]\n",
      "[[0, 4], [3, 2], [5, 7], [1, 6]]\n",
      "[[1, 0], [7, 3], [6, 4], [5, 2]]\n",
      "[[6, 5], [7, 3], [0, 2], [1, 4]]\n",
      "[[4, 0], [5, 6], [1, 2], [7, 3]]\n",
      "\n",
      "[[6, 5], [7, 3], [0, 2], [1, 4]]\n",
      "\n",
      "[[5, 0], [3, 7], [2, 4], [6, 1]]\n"
     ]
    }
   ],
   "source": [
    "def tournament_select(population, preference_matrix, tournament_size, exclude=None):\n",
    "    filtered_population = [ind for ind in population if ind != exclude]\n",
    "    selected = random.sample(filtered_population, tournament_size)\n",
    "    best_solution = max(selected, key=lambda s: evaluate_solution(s, preference_matrix))\n",
    "    return best_solution\n",
    "\n",
    "def roulette_select(population, preference_matrix, exclude=None):\n",
    "    filtered_population = [ind for ind in population if ind != exclude]\n",
    "    fitness_values = np.array([evaluate_solution(s, preference_matrix) for s in filtered_population])\n",
    "    total_fitness = np.sum(fitness_values)\n",
    "    rand_value = np.random.uniform(0, total_fitness)\n",
    "\n",
    "    cumulative_sum = 0\n",
    "    for i, fitness in enumerate(fitness_values):\n",
    "        cumulative_sum += fitness\n",
    "        if rand_value <= cumulative_sum:\n",
    "            return filtered_population[i]\n",
    "    \n",
    "\n",
    "\n",
    "population = generate_population(5, test_preference_matrix, 2)\n",
    "for s in population:\n",
    "    print(s)\n",
    "print(\"\")   \n",
    "t = tournament_select(population, test_preference_matrix, 3)\n",
    "print(t)\n",
    "print(\"\")\n",
    "r = roulette_select(population, test_preference_matrix)\n",
    "print(r)\n"
   ]
  },
  {
   "cell_type": "code",
   "execution_count": 51,
   "metadata": {},
   "outputs": [],
   "source": [
    "def mutation(parent, mutation_prob=0.2):\n",
    "    if random.random() < mutation_prob:  \n",
    "        return get_neighbour(parent)\n",
    "    return parent"
   ]
  },
  {
   "cell_type": "code",
   "execution_count": null,
   "metadata": {},
   "outputs": [
    {
     "name": "stdout",
     "output_type": "stream",
     "text": [
      "MATRIZ PREFERENCIA\n",
      "[[0, 73, -28, -30, 45, 80, 8, 67], [73, 0, -37, 37, -5, -75, 41, 76], [-28, -37, 0, 23, 37, 23, 61, 82], [-30, 37, 23, 0, -41, -52, 5, -65], [45, -5, 37, -41, 0, 66, 28, 53], [80, -75, 23, -52, 66, 0, 58, -52], [8, 41, 61, 5, 28, 58, 0, 17], [67, 76, 82, -65, 53, -52, 17, 0]]\n",
      "Initial solution: [[0, 4, 5], [1, 3, 7], [2, 8, 6]], score: 2.182359926148573\n",
      "  Final solution: [[1, 4, 2], [0, 5, 3], [6, 8, 7]], score: 60.0\n"
     ]
    },
    {
     "data": {
      "image/png": "[encoded data removed]",
      "text/plain": [
       "<Figure size 640x480 with 1 Axes>"
      ]
     },
     "metadata": {},
     "output_type": "display_data"
    },
    {
     "data": {
      "text/plain": [
       "'genetic_algorithm(1, 100, p, 3)\\ngenetic_algorithm(1, 100, p, 3)\\ngenetic_algorithm(1, 100, p, 3)\\ngenetic_algorithm(1, 100, p, 3)\\ngenetic_algorithm(1, 100, p, 3)\\ngenetic_algorithm(1, 100, p, 3)\\ngenetic_algorithm(1, 100, p, 3)\\ngenetic_algorithm(1, 100, p, 3)\\ngenetic_algorithm(1, 100, p, 3)'"
      ]
     },
     "execution_count": 52,
     "metadata": {},
     "output_type": "execute_result"
    }
   ],
   "source": [
    "def genetic_algorithm_1(num_iterations, population_size, preference_matrix, seatsPerTable):\n",
    "    start_time = time.time()\n",
    "        \n",
    "    filled_preference_matrix = fill_matrix(seatsPerTable, preference_matrix)\n",
    "    population = generate_population(population_size, filled_preference_matrix, seatsPerTable)\n",
    "    best_solution = population[0]\n",
    "    best_score = evaluate_solution(population[0], filled_preference_matrix)\n",
    "    \n",
    "    best_scores = []\n",
    "    all_scores = []\n",
    "    avg_scores = []\n",
    "\n",
    "    for solution in population:\n",
    "        all_scores.append(evaluate_solution(solution, filled_preference_matrix))\n",
    "\n",
    "\n",
    "    print(f\"Initial solution: {best_solution}, score: {best_score}\")\n",
    "\n",
    "    while(num_iterations > 0):\n",
    "\n",
    "\n",
    "        parent1 = roulette_select( population, filled_preference_matrix)\n",
    "        parent2 = roulette_select( population, filled_preference_matrix, exclude=parent1)\n",
    "\n",
    "        if parent2 is None:\n",
    "            parent2 = parent1\n",
    "\n",
    "    \n",
    "        #estatisticas para grafico\n",
    "        avg_score = np.mean(all_scores)\n",
    "        avg_scores.append(avg_score)\n",
    "        best_solution = max(population, key=lambda x: evaluate_solution(x, filled_preference_matrix))\n",
    "        best_scores.append(evaluate_solution(best_solution, filled_preference_matrix))\n",
    "\n",
    "\n",
    "        # Next generation Crossover and Mutation\n",
    "        child1, child2 = random_crossover(parent1, parent2)\n",
    "        child1, child2 = mutation(child1), mutation(child2)\n",
    "        \n",
    "        population.append(child1)\n",
    "        population.append(child2)\n",
    "        all_scores.append(evaluate_solution(child1, filled_preference_matrix))\n",
    "        all_scores.append(evaluate_solution(child2, filled_preference_matrix))\n",
    "        population.sort(key=lambda sol: evaluate_solution(sol, filled_preference_matrix), reverse=True)\n",
    "        population = population[:population_size]\n",
    "\n",
    "        num_iterations-=1\n",
    "    \n",
    "    best_solution= population[0]\n",
    "    best_score=evaluate_solution(best_solution, filled_preference_matrix)\n",
    "\n",
    "    num_guests = len(preference_matrix)\n",
    "    best_solution = [[guest for guest in table if guest < num_guests] for table in best_solution]\n",
    "\n",
    "    print(f\"  Final solution: {best_solution}, score: {best_score}\")\n",
    "\n",
    "    end_time = time.time()\n",
    "    print(f\"Tempo de execução: {end_time - start_time:.6f} segundos\")\n",
    "\n",
    "    show_graph(best_scores, avg_scores)\n",
    "    return best_solution"
   ]
  },
  {
   "cell_type": "markdown",
   "metadata": {},
   "source": [
    "TABU SEARCH"
   ]
  },
  {
   "cell_type": "code",
   "execution_count": 53,
   "metadata": {},
   "outputs": [],
   "source": [
    "def tabu_search(preferences, seats_per_table, max_iterations=1000, tabu_tenure=7, max_no_improve=100):\n",
    "    padded_preferences = fill_matrix(seats_per_table, preferences)\n",
    "    current_arrangement = random_arrangement(preferences, seats_per_table)\n",
    "    best_arrangement = copy.deepcopy(current_arrangement)\n",
    "    \n",
    "    current_score = evaluate_solution(current_arrangement, padded_preferences)\n",
    "    best_score = current_score\n",
    "    \n",
    "    tabu_list = {}\n",
    "    \n",
    "    iterations_no_improve = 0\n",
    "    total_iterations = 0\n",
    "    \n",
    "    frequency_list = {}\n",
    "    \n",
    "    while total_iterations < max_iterations and iterations_no_improve < max_no_improve:\n",
    "        total_iterations += 1\n",
    "        \n",
    "        neighbor_arrangement = get_neighbour(current_arrangement)\n",
    "        \n",
    "        neighbor_score = evaluate_solution(neighbor_arrangement, padded_preferences)\n",
    "        \n",
    "        is_tabu = tuple(map(tuple, neighbor_arrangement)) in tabu_list and tabu_list[tuple(map(tuple, neighbor_arrangement))] > 0\n",
    "        \n",
    "        if is_tabu and neighbor_score <= best_score:\n",
    "            if tuple(map(tuple, neighbor_arrangement)) in frequency_list:\n",
    "                frequency_list[tuple(map(tuple, neighbor_arrangement))] += 1\n",
    "            else:\n",
    "                frequency_list[tuple(map(tuple, neighbor_arrangement))] = 1\n",
    "                \n",
    "            if frequency_list.get(tuple(map(tuple, neighbor_arrangement)), 0) > 5:\n",
    "                for _ in range(3):  \n",
    "                    temp_neighbor = get_neighbour(current_arrangement)\n",
    "                    current_arrangement = temp_neighbor\n",
    "                current_score = evaluate_solution(current_arrangement, padded_preferences)\n",
    "                frequency_list.clear()\n",
    "            \n",
    "            iterations_no_improve += 1\n",
    "            continue\n",
    "        \n",
    "        current_arrangement = neighbor_arrangement\n",
    "        current_score = neighbor_score\n",
    "        \n",
    "        keys_to_remove = []\n",
    "        for arrangement, tenure in tabu_list.items():\n",
    "            tabu_list[arrangement] -= 1\n",
    "            if tabu_list[arrangement] <= 0:\n",
    "                keys_to_remove.append(arrangement)\n",
    "        \n",
    "        for key in keys_to_remove:\n",
    "            del tabu_list[key]\n",
    "        \n",
    "        tabu_list[tuple(map(tuple, current_arrangement))] = tabu_tenure\n",
    "        \n",
    "        if current_score > best_score:\n",
    "            best_arrangement = copy.deepcopy(current_arrangement)\n",
    "            best_score = current_score\n",
    "            iterations_no_improve = 0\n",
    "            frequency_list.clear()\n",
    "        else:\n",
    "            iterations_no_improve += 1\n",
    "        \n",
    "        if total_iterations % 100 == 0:\n",
    "            print(f\"Iteration {total_iterations}, Best score: {best_score}, No improvement: {iterations_no_improve}\")\n",
    "    \n",
    "    original_guests = len(preferences)\n",
    "    final_arrangement = []\n",
    "    for table in best_arrangement:\n",
    "        real_guests = [guest for guest in table if guest < original_guests]\n",
    "        if real_guests:  \n",
    "            final_arrangement.append(real_guests)\n",
    "    \n",
    "    return final_arrangement"
   ]
  },
  {
   "cell_type": "code",
   "execution_count": 54,
   "metadata": {},
   "outputs": [
    {
     "name": "stdout",
     "output_type": "stream",
     "text": [
      "Iteration 100, Best score: 8.167010404828968, No improvement: 87\n"
     ]
    },
    {
     "data": {
      "text/plain": [
       "[[3, 0, 2], [6, 5], [7, 4, 1]]"
      ]
     },
     "execution_count": 54,
     "metadata": {},
     "output_type": "execute_result"
    }
   ],
   "source": [
    "tabu_search(test_preference_matrix, 3, max_iterations=1000, tabu_tenure=7, max_no_improve=100)"
   ]
  },
  {
   "cell_type": "markdown",
   "metadata": {},
   "source": [
    "GENETIC ALGORITHM (NEW VERSION)"
   ]
  },
  {
   "cell_type": "markdown",
   "metadata": {},
   "source": [
    "Conversão para representação anterior da solução para ser mais facil visualizar os convidados nas mesas "
   ]
  },
  {
   "cell_type": "markdown",
   "metadata": {},
   "source": [
    "A utilização da representação da solução utilizada até agora dificultou a implementação da função de crossover. No algortimo implementado selecionávamos mesas aleatoriamente de cada pai, mas, se uma mesa contivesse um convidado já atribuído no descendente, ela era descartada, e os convidados não alocados eram distribuídos aleatoriamente nas mesas restantes.\n",
    "\n",
    "Isso poderia fazer com que boas soluções ficassem presas, por isso adotamos uma nova abordagem em que a solução é representada por uma única lista, onde os índices correspondem aos convidados e os valores indicam as mesas às quais foram atribuídos. Dessa forma, podemos selecionar partes de cada pai, com uma função de otimização ajustando as atribuições dos convidados conforme necessário."
   ]
  },
  {
   "cell_type": "code",
   "execution_count": null,
   "metadata": {},
   "outputs": [
    {
     "name": "stdout",
     "output_type": "stream",
     "text": [
      "[0, 1, 2]\n",
      "[3, 4, 5]\n",
      "[6, 7]\n"
     ]
    }
   ],
   "source": [
    "from collections import defaultdict\n",
    "\n",
    "def solution_to_tables(solution):\n",
    "    mesas = defaultdict(list)\n",
    "    for convidado, mesa in enumerate(solution):\n",
    "        mesas[mesa].append(convidado)\n",
    "    return list(mesas.values())\n",
    "\n",
    "\n",
    "m=solution_to_tables([0, 0, 0, 1, 1, 1, 2, 2]\n",
    ")\n",
    "\n",
    "for i in m:\n",
    "    print(i)"
   ]
  },
  {
   "cell_type": "code",
   "execution_count": null,
   "metadata": {},
   "outputs": [
    {
     "name": "stdout",
     "output_type": "stream",
     "text": [
      "-10.0\n"
     ]
    }
   ],
   "source": [
    "def evaluate_table_(table, matrix):\n",
    "    score = 0\n",
    "    for guest in table:\n",
    "        for neighbor in table:\n",
    "            if guest != neighbor:\n",
    "                score += matrix[guest][neighbor]\n",
    "\n",
    "    return score\n",
    "\n",
    "def standard_deviation_(tables, preference_matrix):\n",
    "    solution = solution_to_tables(tables)\n",
    "    score_tables = []\n",
    "    total_score=0\n",
    "    for table in solution:\n",
    "        current_score = evaluate_table_(table, preference_matrix)\n",
    "        total_score += current_score\n",
    "        score_tables.append(current_score)\n",
    "    average = total_score/len(solution)\n",
    "\n",
    "    std_sum=0\n",
    "    for score in score_tables:\n",
    "        std_sum += (score-average)**2\n",
    "    \n",
    "    std = math.sqrt(std_sum/len(solution))\n",
    "    return std\n",
    "\n",
    "def evaluate_solution_(solution, preference_matrix):\n",
    "    average = average_tables_(solution, preference_matrix)  #not optimal\n",
    "    std = standard_deviation_(solution, preference_matrix) + 1  # shift de 1 para nunca poder haver divisao por 0\n",
    "    return (average/std)\n",
    "    \n",
    "\n",
    "def average_tables_(solution, matrix):\n",
    "    tables = solution_to_tables(solution)\n",
    "    score = 0\n",
    "    for table in tables:\n",
    "        score += evaluate_table_(table, matrix)\n",
    "    average = score / len(tables)\n",
    "    return average"
   ]
  },
  {
   "cell_type": "code",
   "execution_count": null,
   "metadata": {},
   "outputs": [
    {
     "name": "stdout",
     "output_type": "stream",
     "text": [
      "[1, 1, 2, 3, 0, 3, 0, 2]\n",
      "[1, 2, 1, 3, 0, 0, 3, 2]\n",
      "[2, 2, 0, 1, 1, 3, 3, 0]\n",
      "[1, 0, 1, 3, 2, 0, 2, 3]\n",
      "[3, 2, 1, 3, 2, 1, 0, 0]\n"
     ]
    }
   ],
   "source": [
    "def generate_population_(pop_size, preference_matrix, seatsPerTable):\n",
    "    num_guests = len(preference_matrix)\n",
    "    num_tables = (num_guests + seatsPerTable - 1) // seatsPerTable\n",
    "    population = []\n",
    "    \n",
    "    for _ in range(pop_size):\n",
    "        guests = list(range(num_guests))\n",
    "        random.shuffle(guests)\n",
    "        individual = [0] * num_guests\n",
    "        for i, guest in enumerate(guests):\n",
    "            mesa = i // seatsPerTable\n",
    "            individual[guest] = mesa\n",
    "        population.append(individual)\n",
    "    \n",
    "    return population"
   ]
  },
  {
   "cell_type": "code",
   "execution_count": null,
   "metadata": {},
   "outputs": [],
   "source": [
    "def get_neighbour_(curr_arrangement):\n",
    "    neighbor = curr_arrangement[:]\n",
    "    num_guests = len(neighbor)\n",
    "\n",
    "    # Escolher dois convidados diferentes\n",
    "    guest1 = random.randint(0, num_guests - 1)\n",
    "    guest2 = random.randint(0, num_guests - 1)\n",
    "    while guest1 == guest2 or neighbor[guest1] == neighbor[guest2]:\n",
    "        guest2 = random.randint(0, num_guests - 1)\n",
    "\n",
    "    # Trocar as mesas atribuídas entre os dois convidados\n",
    "    neighbor[guest1], neighbor[guest2] = neighbor[guest2], neighbor[guest1]\n",
    "\n",
    "    return neighbor\n",
    "\n",
    "def advanced_get_neighbour_(curr_arrangement):\n",
    "    percentage = 0.05   #adjustable\n",
    "    totalSeats = len(curr_arrangement)\n",
    "    #randomly chooses from 1 guest to 5% of total guest population to be swaped\n",
    "    toBeChanged = random.choices(range(1, int(totalSeats*percentage)+2))\n",
    "    \n",
    "    neighbour_arrangement = curr_arrangement\n",
    "    for nguests in range(toBeChanged[0]):\n",
    "        neighbour_arrangement = get_neighbour_(neighbour_arrangement)\n",
    "    return neighbour_arrangement"
   ]
  },
  {
   "cell_type": "code",
   "execution_count": null,
   "metadata": {},
   "outputs": [],
   "source": [
    "def random_crossover_(parent1, parent2, preference_matrix, seatsPerTable):\n",
    "    num_guests = len(parent1)\n",
    "    num_tables = (num_guests + seatsPerTable - 1) // seatsPerTable\n",
    "\n",
    "    cut = random.randint(1, num_guests - 2)\n",
    "\n",
    "    child1 = parent1[:cut] + parent2[cut:]\n",
    "    child2 = parent2[:cut] + parent1[cut:]\n",
    "\n",
    "    child1 = optimize_child(child1, num_tables, seatsPerTable, preference_matrix)\n",
    "    child2 = optimize_child(child2, num_tables, seatsPerTable, preference_matrix)\n",
    "\n",
    "    return child1, child2\n",
    "\n",
    "\n",
    "def optimize_child(child, num_tables, seatsPerTable, preference_matrix):\n",
    "    table_counts = Counter(child)\n",
    "\n",
    "    # Mesas com mais do que o permitido\n",
    "    overfilled = {mesa: count for mesa, count in table_counts.items() if count > seatsPerTable}\n",
    "    # Mesas com espaço livre\n",
    "    underfilled = {mesa: seatsPerTable - table_counts.get(mesa, 0) for mesa in range(num_tables) if table_counts.get(mesa, 0) < seatsPerTable}\n",
    "\n",
    "    if not overfilled:\n",
    "        return child \n",
    "\n",
    "    # Identificar os convidados a mover (os que menos contribuem)\n",
    "    guest_to_move = []\n",
    "    for mesa in overfilled:\n",
    "        guests = [i for i, m in enumerate(child) if m == mesa]\n",
    "        guests_sorted = sorted(guests, key=lambda g: contribution_to_table(g, child, preference_matrix), reverse=True)\n",
    "        needed = overfilled[mesa] - seatsPerTable\n",
    "        guest_to_move.extend(guests_sorted[-needed:])  # mover os que contribuem menos\n",
    "\n",
    "    # Mover os convidados para mesas com espaço\n",
    "    underfilled_list = list(underfilled.items())  # [(mesa, lugares)]\n",
    "    idx = 0\n",
    "    for guest in guest_to_move:\n",
    "        while idx < len(underfilled_list) and underfilled_list[idx][1] == 0:\n",
    "            idx += 1\n",
    "        if idx >= len(underfilled_list):\n",
    "            break\n",
    "        mesa_destino = underfilled_list[idx][0]\n",
    "        child[guest] = mesa_destino\n",
    "        underfilled_list[idx] = (mesa_destino, underfilled_list[idx][1] - 1)\n",
    "\n",
    "    return child\n",
    "\n",
    "\n",
    "def contribution_to_table(guest, solution, matrix):\n",
    "    mesa = solution[guest]\n",
    "    same_table = [i for i in range(len(solution)) if i != guest and solution[i] == mesa]\n",
    "    return sum(matrix[guest][other] + matrix[other][guest] for other in same_table)\n"
   ]
  },
  {
   "cell_type": "code",
   "execution_count": null,
   "metadata": {},
   "outputs": [
    {
     "data": {
      "text/plain": [
       "'population = generate_population_(5, test_preference_matrix, 2)\\nfor s in population:\\n    print(s)\\nprint(\"\")   \\nt = tournament_select_(population, test_preference_matrix, 3)\\nprint(t)\\nprint(\"\")\\nr = roulette_select_(population, test_preference_matrix)\\nprint(r)'"
      ]
     },
     "execution_count": 60,
     "metadata": {},
     "output_type": "execute_result"
    }
   ],
   "source": [
    "def tournament_select_(population, preference_matrix, tournament_size, exclude=None):\n",
    "    filtered_population = [ind for ind in population if ind != exclude]\n",
    "\n",
    "    if len(filtered_population) == 0:\n",
    "        return exclude \n",
    "    tournament_size = min(tournament_size, len(filtered_population))\n",
    "\n",
    "    selected = random.sample(filtered_population, tournament_size)\n",
    "    best_solution = max(selected, key=lambda s: evaluate_solution_(s, preference_matrix))\n",
    "    return best_solution\n",
    "\n",
    "\n",
    "def roulette_select_(population, preference_matrix, exclude=None):\n",
    "    filtered_population = [ind for ind in population if ind != exclude]\n",
    "    fitness_values = np.array([evaluate_solution_(s, preference_matrix) for s in filtered_population])\n",
    "    total_fitness = np.sum(fitness_values)\n",
    "    rand_value = np.random.uniform(0, total_fitness)\n",
    "\n",
    "    cumulative_sum = 0\n",
    "    for i, fitness in enumerate(fitness_values):\n",
    "        cumulative_sum += fitness\n",
    "        if rand_value <= cumulative_sum:\n",
    "            return filtered_population[i]"
   ]
  },
  {
   "cell_type": "code",
   "execution_count": 61,
   "metadata": {},
   "outputs": [],
   "source": [
    "def mutation_(parent, mutation_prob=0.1):\n",
    "    if random.random() < mutation_prob:  \n",
    "        return get_neighbour_(parent)\n",
    "    return parent"
   ]
  },
  {
   "cell_type": "code",
   "execution_count": 63,
   "metadata": {},
   "outputs": [],
   "source": [
    "import matplotlib.pyplot as plt\n",
    "\n",
    "def show_graph(best_scores, avg_scores):\n",
    "    plt.plot(range(1, len(best_scores) + 1), best_scores, label='Best Individual Score')\n",
    "    plt.plot(range(1, len(avg_scores) + 1), avg_scores, linestyle='--', color='red', label='Average Population Score')\n",
    "    plt.xlabel('Iteration')\n",
    "    plt.ylabel('Score')\n",
    "    plt.title('Algorithm Performance')\n",
    "    plt.legend()\n",
    "    plt.show()"
   ]
  },
  {
   "cell_type": "code",
   "execution_count": null,
   "metadata": {},
   "outputs": [
    {
     "name": "stdout",
     "output_type": "stream",
     "text": [
      "MATRIZ PREFERENCIA\n",
      "[[0, 99, -35, -79, -2, 58, -40, -81, 61, -28, -58, -7, 22, -2, 9, 79, -98, -51, 28, -70, 12, 92, 85, 24, -32, 71, 36, 76, 37, 34, -29, -51, 18, 1, -3, -28, -74, 9, 62, -45, -95, 93, 57, 2, 0, -42, 53, 0, 82, 54, -68, -53, 28, 60, -95, -39, -32, -69, -25, -11, -47, 59, 99, 28, 42, -83, -88, -78, -30, 25, 63, 7, -28, 82, 17, 99, -66, 1, 91, 73, 15, -16, 10, 94, -20, -49, 10, -30, 10, -77, -6, -45, -28, 35, -92, -93, 56, 47, -2, -60], [99, 0, 79, 48, 44, 61, 87, 59, 63, 57, 28, -96, -66, -48, -8, -52, -42, -29, -71, 17, -23, -13, -63, -28, 58, 29, 88, -69, 87, -22, 55, -7, 46, 91, 17, -97, 88, -97, 64, -81, 12, 99, 96, -19, -12, -90, 87, -70, 81, -84, 38, -29, 83, 53, 63, -24, 98, -2, 91, -68, -10, 52, -26, -1, 19, 28, 62, -75, -91, 78, -10, 4, -48, -58, -42, -14, -87, -29, 94, 17, 45, 61, 21, -96, -50, 42, -39, 7, -8, -16, -85, 8, 6, -88, -48, -77, -53, 24, 6, -53], [-35, 79, 0, 47, 18, 38, 72, -16, -73, -73, -2, 41, -48, 9, -60, 17, 53, -46, 23, -55, 92, -84, 66, -78, -29, -34, 74, -30, -35, -49, 60, -94, 81, 8, -78, 6, -34, 66, -24, -84, 58, -19, 99, -27, -24, 30, -80, 23, -46, 29, 6, 6, 43, 68, 14, -99, -13, 57, -90, 21, -31, -52, 83, -16, -66, 35, 51, 42, -98, -55, 81, 69, -34, 1, -26, -98, 40, -56, 52, 13, 38, -66, 92, 82, 33, 13, -84, 66, -75, 86, -29, -75, 95, -55, -34, 24, 46, 51, -35, 14], [-79, 48, 47, 0, -29, 70, -14, 73, -73, 46, 35, -83, -86, -21, -14, 61, -94, 83, -84, -47, -93, -91, -51, -5, -92, -64, -50, 23, -15, 16, 61, -3, 37, 59, 34, 17, 26, -3, 8, 71, 36, 87, -11, 24, 43, 39, 94, -17, -48, 77, -79, 3, 79, -33, 70, 64, -29, -39, 73, -42, -31, -41, -83, -37, -94, 50, 66, -73, 88, -78, -68, 22, -20, -25, -96, 44, 98, 13, 20, 68, -54, 12, -3, 25, 15, -75, -21, 65, -59, 59, -77, -26, 50, 40, 96, -100, -67, 31, 8, -79], [-2, 44, 18, -29, 0, -1, 48, -91, -95, 18, 65, -56, 9, -30, 33, 20, 67, 59, -4, 7, -99, -62, -79, 71, -82, 36, 29, 0, 46, 47, 4, -19, 34, -36, -57, 94, -6, -95, 5, -23, 46, 61, 8, -79, 66, -61, -88, -63, 18, 94, 42, -50, -80, -19, 53, -45, 51, -49, 22, 40, -29, 16, 84, 33, 46, -4, 65, -18, -24, -41, 19, 79, -73, -43, 95, 6, 88, -46, 33, 59, -23, 30, -3, 80, -21, -17, -36, -77, -19, 37, -40, 96, 80, -80, 26, -41, 88, 89, -100, -90], [58, 61, 38, 70, -1, 0, -12, 0, 41, -70, -59, 37, 48, 89, 27, -16, -83, -6, 62, -65, -20, 31, -14, 63, 36, 6, -63, 15, -17, 98, -49, 18, -90, -97, -6, 69, 25, -21, -66, -74, -62, 81, 50, -31, -13, 83, 79, 71, 22, -21, 67, 48, -98, -77, 9, 77, -27, -54, -43, 68, -41, 56, 39, 70, -27, -73, -11, 99, -81, -82, 69, 12, -29, -43, -57, 66, -50, 5, 24, 55, -56, -51, -78, -32, 46, 79, 33, -53, -39, 67, -29, 65, -18, 90, 91, -65, -73, -8, -36, 32], [-40, 87, 72, -14, 48, -12, 0, 60, 28, -24, -74, 74, -59, -24, 65, -48, 50, -9, -62, 25, 95, 62, 66, 45, -80, 9, 81, -1, -13, 61, -6, -77, -5, -10, 10, 56, 52, 80, 1, -90, -24, -91, -80, -79, -18, -48, -26, 93, -19, 39, -17, 67, 28, 21, -11, 98, 96, 25, 10, 58, -91, 2, 88, -59, -86, -87, 0, 58, 86, -80, -81, -63, 23, -20, -82, 55, -94, 84, 59, -46, 89, 93, 2, -42, -3, 37, 39, -2, -57, 55, 69, -48, -95, -90, -21, 93, -99, 91, 4, 99], [-81, 59, -16, 73, -91, 0, 60, 0, 13, 17, 19, 27, 99, -30, 39, -48, 99, -62, 11, 9, 71, 41, -64, 96, 10, -7, -98, -86, 76, 0, -51, 75, -98, -44, 32, 41, 3, -28, 11, 12, 51, -55, 27, -88, 40, -65, 81, 81, -65, -89, 84, -6, -56, 29, 60, 76, -52, 13, -48, 42, -17, -48, 28, 63, 54, 10, 80, -69, 51, -5, -68, -97, 11, 55, -100, -35, -54, -37, -82, 55, 84, -67, -9, 14, -4, 24, 52, -92, 31, -7, -22, -52, 63, -95, 5, 29, -63, 64, -40, -82], [61, 63, -73, -73, -95, 41, 28, 13, 0, 32, -12, 64, 49, 33, -83, 56, -22, 79, 49, 97, 92, -74, -53, -74, -16, 79, 19, 28, 23, 49, -47, 68, -53, -79, -40, -58, 2, -81, 0, -32, 14, -8, 63, 78, 28, 93, -53, 2, 88, 23, -92, 53, -64, 85, -31, -30, 9, -42, -52, -34, -77, -90, 63, -21, 40, 52, 65, -100, -42, 96, -72, -65, 90, -61, -12, 64, -29, -87, -84, -66, -72, -47, -9, -79, 24, -50, -20, 48, -27, 93, 74, 84, 24, -64, -21, -76, -89, -46, 12, -11], [-28, 57, -73, 46, 18, -70, -24, 17, 32, 0, 91, -39, -54, -77, -32, 40, -83, -90, -33, 68, 62, -98, 96, -54, -15, 34, -59, 80, -100, -43, 5, -39, 86, -14, 90, -3, -22, 20, 66, 11, -99, 25, 66, -51, -29, 82, -49, 72, -53, -68, -100, -66, -53, 44, 39, -18, -35, 91, 81, -35, 99, -93, 46, 41, -41, -18, -79, -49, -85, -79, -82, -93, 82, 25, 75, 39, -81, 96, -92, 33, 23, 90, -24, -15, -32, 88, -29, -39, -81, -43, 45, -10, 85, 41, -46, 45, -66, -69, -93, 15], [-58, 28, -2, 35, 65, -59, -74, 19, -12, 91, 0, -85, -30, 13, 65, 36, 81, -99, 53, 20, -77, -29, 49, -91, -80, -74, 51, -32, 97, 37, 27, -88, 71, 13, 34, -57, 52, 14, 35, -7, -72, -87, 31, -12, -73, -35, 99, -95, -78, 62, -1, 83, -21, -91, -10, -88, 7, -42, 37, -98, -54, 58, -47, -15, 37, -66, 98, -61, 91, -82, -22, 40, -71, 90, -98, 90, 87, 80, -81, -31, 35, 16, 22, 89, 1, 18, -12, 33, -27, -29, 71, -87, -98, -54, 70, 65, -93, 32, -6, 11], [-7, -96, 41, -83, -56, 37, 74, 27, 64, -39, -85, 0, 71, -4, 66, -22, -31, -33, -58, 77, -91, 31, 87, -1, 25, 69, -100, 22, 85, -4, 69, 5, 96, -100, -8, 27, -22, 3, -51, 87, -52, -51, 83, -34, 83, -9, -75, -79, 34, -77, 10, -31, -45, 77, -62, 0, 98, 95, -75, 42, 42, 55, -39, 84, 63, 17, 25, 97, -36, -35, 76, 5, -57, 33, -41, -39, -61, -81, 95, -52, 41, -26, -27, 31, -19, -32, -32, 84, 76, 62, 64, -1, -25, -79, -18, 91, 0, 12, -55, 27], [22, -66, -48, -86, 9, 48, -59, 99, 49, -54, -30, 71, 0, 3, 36, -72, -94, 1, -73, -17, -97, -81, 59, 83, 17, 50, 3, 64, 67, -79, -33, 6, 76, -19, 30, 20, 25, 75, 84, 69, 17, 73, -14, 42, -74, 54, -48, 3, -75, -30, -85, 83, -66, -51, -59, -92, -72, 0, -41, -98, -57, 46, 64, -35, 38, -67, -9, 22, 64, -46, 73, 68, 40, -43, -94, -93, -61, 58, 32, -49, -35, -85, 46, -24, 95, -68, -49, 84, -3, 8, 77, 82, -10, -93, -33, -56, 34, -47, 0, 4], [-2, -48, 9, -21, -30, 89, -24, -30, 33, -77, 13, -4, 3, 0, 91, -78, -63, 76, 41, -3, -59, 78, -94, 18, -100, -71, 27, -12, -76, 95, -36, -11, -75, 46, 27, 73, 29, -40, -16, -58, 72, 88, -12, -54, 93, -81, 98, 11, 4, -50, 7, 30, -31, -95, 26, 23, 17, -13, 78, 97, 58, -93, 66, 83, 56, -60, -5, -66, 25, 73, 92, 29, -80, -32, -79, 37, 37, -18, 25, 95, -86, 97, 87, 50, 89, -3, 48, -97, -40, -36, -77, 51, -93, -74, -23, -34, 73, 69, 55, -29], [9, -8, -60, -14, 33, 27, 65, 39, -83, -32, 65, 66, 36, 91, 0, -46, 20, 27, -96, 91, -56, -88, 4, 25, -21, 30, -97, 96, -84, 84, 81, -56, -4, -91, -74, 72, 24, 42, 18, -95, 94, -2, -50, -12, 79, -44, 77, 2, -63, -69, 33, -35, 15, 38, -73, 11, 39, 51, -34, 26, 72, 3, 75, 20, 54, -43, -70, -45, 57, -50, 24, -6, -87, -30, 3, -22, 71, 58, 75, 58, 38, 97, 61, -69, -25, 23, -15, 82, 39, 75, 58, 98, 53, 4, 44, -55, -67, 38, 69, -50], [79, -52, 17, 61, 20, -16, -48, -48, 56, 40, 36, -22, -72, -78, -46, 0, 39, -38, -84, -27, -28, 41, 95, 27, -9, -57, -5, -39, -38, -11, -5, 2, 69, -38, 97, 75, -97, 36, 94, 91, 21, -28, -53, -73, -49, -67, 4, -41, -20, -81, -24, 38, -84, -61, 74, 0, 11, 21, 36, 3, 39, -99, 66, -29, 2, -76, -23, -55, -48, 72, 54, -6, -95, 74, -89, -56, -28, 73, 89, 8, -36, -62, -46, -30, 75, -28, -80, -77, 29, 31, 70, 55, -52, 33, -93, 15, -65, -97, 18, -76], [-98, -42, 53, -94, 67, -83, 50, 99, -22, -83, 81, -31, -94, -63, 20, 39, 0, 91, -37, 51, 73, -45, 5, 16, 64, 74, 7, -74, -55, 50, 54, -99, -95, 99, 99, 94, 53, 95, 92, -57, 5, -14, 83, -11, -78, -36, 55, 51, 18, -94, 74, -55, 58, -71, -64, -6, 74, -16, -22, 98, -56, 11, -33, -28, 65, -91, -56, -11, 5, -40, 8, 29, -34, -93, -94, -57, 9, -73, -33, -15, -7, 13, 39, 62, -82, -8, 22, -83, -68, 11, -56, 26, -54, 65, -14, 75, -92, 5, 58, 86], [-51, -29, -46, 83, 59, -6, -9, -62, 79, -90, -99, -33, 1, 76, 27, -38, 91, 0, 30, -53, -93, -6, -36, -6, -99, 88, 14, -28, 79, -22, 23, 1, 66, 47, 72, 95, 1, -87, 70, -41, 66, -1, -35, -28, -33, -61, -23, -33, 72, 3, 36, -67, -67, 34, 88, -82, -56, 1, 10, -84, 58, 48, 33, -48, 48, 54, 47, 12, -19, -69, 44, -10, 62, -98, -54, -58, -58, 98, -66, -66, -49, -40, 55, -58, 27, 22, 76, 15, 64, -46, 92, -71, 35, 37, -99, -12, -69, -84, 69, 66], [28, -71, 23, -84, -4, 62, -62, 11, 49, -33, 53, -58, -73, 41, -96, -84, -37, 30, 0, 80, -87, -55, -29, 32, -39, -58, -54, -50, 84, -22, -43, -25, -67, -25, 86, -30, 83, -62, 12, -55, -44, 77, 75, 76, -75, 62, -76, -13, -25, 30, -3, 99, -42, 98, -75, -37, -9, -100, -24, -85, 30, -92, 64, -28, 51, -8, -43, 76, -62, -99, -29, -59, 56, 13, 40, -80, -83, 30, 24, -25, 51, -2, 90, -12, 48, -14, -45, -76, -71, 46, -76, -76, 24, -72, -81, -70, 24, 70, 88, 59], [-70, 17, -55, -47, 7, -65, 25, 9, 97, 68, 20, 77, -17, -3, 91, -27, 51, -53, 80, 0, -33, -21, -93, -14, 53, -49, -49, -89, -96, -94, 3, -40, -61, -93, -84, 17, 32, 98, -96, 14, -34, -50, 19, 26, 52, -55, -96, -6, 87, -61, -94, -7, -11, -1, -21, 3, -91, 41, 79, -59, -9, -30, -54, 46, 84, 52, -64, 83, 84, 90, -39, -46, 58, -73, -28, -66, -2, -39, 63, 47, -55, -39, 21, 8, -63, 63, 38, -87, -59, 29, 73, -40, -23, 37, 12, 47, 14, -87, 4, -67], [12, -23, 92, -93, -99, -20, 95, 71, 92, 62, -77, -91, -97, -59, -56, -28, 73, -93, -87, -33, 0, -74, 64, 20, 30, 8, 75, -22, -66, 3, 94, -32, -86, -43, -100, 14, 95, 10, -31, -50, 19, 53, -80, -53, -11, -100, 24, 78, 88, 21, 85, 70, -90, -67, 45, -47, 75, 84, -75, -29, -75, 61, -89, 66, 67, 26, 92, -8, -8, -15, -71, 43, 1, 34, 44, -36, 95, -87, 35, 54, -33, 83, -43, -83, 7, 82, -24, 28, 5, -93, -60, 36, 87, 28, -32, -78, -88, 33, 35, -98], [92, -13, -84, -91, -62, 31, 62, 41, -74, -98, -29, 31, -81, 78, -88, 41, -45, -6, -55, -21, -74, 0, -1, 52, -88, -95, 89, 66, 50, -51, -10, 35, 55, 0, -98, -43, 59, -80, -96, 40, -12, 18, -97, 50, 31, 66, 55, 58, -13, -22, 62, -59, -7, -16, 36, 2, 85, 91, -91, 97, 18, -62, -58, -77, -72, -92, -25, -80, 19, 25, 71, 44, -39, -63, 42, -20, 24, -43, 17, 25, -57, 38, 69, -22, -61, -46, 41, -90, 2, -78, 81, -43, -75, -56, -99, -12, 68, 81, 78, 54], [85, -63, 66, -51, -79, -14, 66, -64, -53, 96, 49, 87, 59, -94, 4, 95, 5, -36, -29, -93, 64, -1, 0, -63, 54, -9, 76, -81, 11, 79, 95, 85, -55, -44, -95, -91, -43, 70, 13, -23, 57, -75, 80, -60, -8, 27, -67, -7, 15, 66, 1, 52, -23, 61, 96, 98, -83, -89, -76, -36, 9, -32, -14, -96, 72, 51, -30, -58, -68, -10, 78, 57, 94, -86, -52, 31, 7, -43, -88, 87, 0, -70, 69, -6, -10, 26, 88, 83, -31, 64, -63, -99, 66, -78, -57, 40, -59, -40, 10, -59], [24, -28, -78, -5, 71, 63, 45, 96, -74, -54, -91, -1, 83, 18, 25, 27, 16, -6, 32, -14, 20, 52, -63, 0, -39, -44, 68, -49, -26, -75, 0, -55, -91, 9, -9, -94, 93, -9, 52, 6, -26, -13, 48, 58, -34, -64, -39, -41, -88, 25, -97, -88, 24, -63, -32, -33, 42, -42, 71, -51, 92, 8, 79, 76, 76, -38, -89, -2, 43, -97, 20, -52, 33, 50, -76, -90, -48, -69, -49, -61, -5, -56, -75, -3, 26, -42, 86, 55, 92, -83, -91, 40, -51, -63, 23, 85, -16, -92, 37, -61], [-32, 58, -29, -92, -82, 36, -80, 10, -16, -15, -80, 25, 17, -100, -21, -9, 64, -99, -39, 53, 30, -88, 54, -39, 0, 61, -65, 17, -85, -17, 1, 76, 6, -71, 32, -80, -50, 62, -51, 3, 66, 34, -92, -23, -55, 32, 19, 56, -96, 42, -17, -55, -21, 31, -36, 4, -65, 81, 0, 28, 27, -19, 1, -7, 48, 81, 24, -66, 89, 58, -45, 60, 16, -77, -74, -43, 60, -91, -88, -37, -100, 25, -27, 21, 72, -91, 84, 25, 47, -66, -63, 57, -24, -63, -100, 70, 74, 0, 45, -46], [71, 29, -34, -64, 36, 6, 9, -7, 79, 34, -74, 69, 50, -71, 30, -57, 74, 88, -58, -49, 8, -95, -9, -44, 61, 0, -76, 80, 66, 19, 60, -45, -88, 90, 24, -87, -97, -31, -93, -5, 54, 10, 94, -1, -59, 24, -24, 15, -6, 45, 96, 55, 26, -1, 29, -4, -62, -32, -52, 80, 12, 25, -93, 32, 48, 52, 63, -91, -29, -26, -62, 82, -32, 43, -7, 85, -10, 24, 94, -74, -94, 12, -46, -84, -24, -97, -21, -99, -93, 28, -51, 85, 26, 38, 54, -70, 98, 25, -84, -80], [36, 88, 74, -50, 29, -63, 81, -98, 19, -59, 51, -100, 3, 27, -97, -5, 7, 14, -54, -49, 75, 89, 76, 68, -65, -76, 0, 18, -73, 67, 42, -40, -80, 99, -40, 90, -21, -20, -94, 0, 95, -52, -54, 10, -77, 81, -81, -41, 90, 41, -99, -2, -64, 64, 96, 72, 20, 68, 67, 11, -45, 78, -88, -86, -12, 50, -29, -32, -89, -97, 68, -31, -58, 22, 70, -27, -71, -10, -5, -24, -83, -25, -70, -78, 53, 62, 81, 70, -64, -70, -74, -81, -42, 65, 37, 58, 12, 94, -15, -43], [76, -69, -30, 23, 0, 15, -1, -86, 28, 80, -32, 22, 64, -12, 96, -39, -74, -28, -50, -89, -22, 66, -81, -49, 17, 80, 18, 0, 32, -28, 22, -30, 53, -86, 3, -54, 31, -32, 93, -10, -89, 60, 25, 85, 65, -34, 70, 70, 73, 12, -52, -47, -10, -14, 0, -86, -41, -55, 76, 48, 9, -26, -57, -97, -70, 58, -52, -60, -36, -96, 17, 75, 23, -34, -48, 87, -77, -31, -54, -61, 7, 9, 37, -58, 18, 69, -42, -69, -22, -61, -44, -65, -55, 57, -91, 67, 32, 62, -44, -36], [37, 87, -35, -15, 46, -17, -13, 76, 23, -100, 97, 85, 67, -76, -84, -38, -55, 79, 84, -96, -66, 50, 11, -26, -85, 66, -73, 32, 0, -24, 20, -58, 20, -27, 68, 59, 17, 16, -28, 21, 41, -20, 24, -34, 6, -29, 19, 77, 32, -30, 93, 49, 44, 74, 41, -86, -99, 29, 83, -20, 42, -52, 37, 50, -54, -60, -65, 68, 17, -5, -71, 18, 11, 54, 2, 56, 78, -62, 33, 43, -77, 43, 2, 78, 63, 42, 38, 70, 62, -10, -72, 14, -43, 49, -72, 84, 37, -100, 38, -82], [34, -22, -49, 16, 47, 98, 61, 0, 49, -43, 37, -4, -79, 95, 84, -11, 50, -22, -22, -94, 3, -51, 79, -75, -17, 19, 67, -28, -24, 0, 51, -17, -96, 95, 33, -2, -69, -20, -80, 14, 69, -54, 44, -78, -18, 68, -76, -86, -32, 67, 2, -42, 44, -70, -82, 89, 99, -56, -80, -92, 85, 39, -35, 0, 21, -5, -1, 41, 22, 23, 99, -94, 21, 69, -4, 64, -45, 62, -10, -51, 42, 29, 10, -70, -90, 88, -28, -55, 57, -80, -65, 34, -65, 55, -82, -56, 42, -66, 95, -69], [-29, 55, 60, 61, 4, -49, -6, -51, -47, 5, 27, 69, -33, -36, 81, -5, 54, 23, -43, 3, 94, -10, 95, 0, 1, 60, 42, 22, 20, 51, 0, -35, -63, -78, -41, -11, 88, -1, -17, 97, 38, -61, -56, 0, 91, -46, -24, -49, -25, 95, 93, 61, 3, -14, 57, 98, 8, -63, -8, -75, -78, 95, -86, 42, -9, -26, -45, 24, -11, 69, 93, -75, -96, 87, -47, -2, 65, 2, 30, -16, 54, -82, -90, -20, 78, -35, 17, -88, 25, 19, 85, -21, 18, 93, -6, -44, 92, 89, -47, 6], [-51, -7, -94, -3, -19, 18, -77, 75, 68, -39, -88, 5, 6, -11, -56, 2, -99, 1, -25, -40, -32, 35, 85, -55, 76, -45, -40, -30, -58, -17, -35, 0, 26, -3, 70, 81, -29, -44, -51, -17, -68, -7, 65, 84, 40, 73, 0, 37, -34, 16, -88, -7, -93, 8, 69, 13, 82, -73, -89, -49, -69, -55, -100, -49, -2, -5, 38, -69, 68, 84, 96, 58, 35, 17, -52, 89, -83, -62, 10, 93, -24, 9, -82, 33, 93, 53, -79, -66, 69, -9, 14, -99, -8, 74, -58, 89, -98, -100, -83, -72], [18, 46, 81, 37, 34, -90, -5, -98, -53, 86, 71, 96, 76, -75, -4, 69, -95, 66, -67, -61, -86, 55, -55, -91, 6, -88, -80, 53, 20, -96, -63, 26, 0, 44, 40, -92, -15, -1, 34, 82, 1, -30, 26, 72, -31, -68, -93, 12, -97, 43, -99, -74, 20, 26, -97, -88, -37, -59, -10, 28, -69, -88, 93, -42, 89, -31, 84, -83, 1, 40, -82, -68, 27, -66, -10, 37, -76, 46, -56, 52, -58, 15, -70, -78, -49, 14, 99, -33, -1, 33, 73, 46, -14, -82, -37, -54, -45, 34, 64, 44], [1, 91, 8, 59, -36, -97, -10, -44, -79, -14, 13, -100, -19, 46, -91, -38, 99, 47, -25, -93, -43, 0, -44, 9, -71, 90, 99, -86, -27, 95, -78, -3, 44, 0, 99, 32, 95, 25, -44, 18, -8, 5, -32, 99, -72, -6, -50, 33, 79, -72, 71, 4, -31, -46, -71, 76, 2, -54, 55, -49, 54, 70, 91, -23, -44, -41, 89, -50, -31, -81, -73, -92, 70, 52, -10, 77, 97, -89, -50, -75, -69, 10, -15, -43, -71, -67, -17, 63, -74, 2, -82, -28, -34, 61, -51, -89, -3, 19, -91, -52], [-3, 17, -78, 34, -57, -6, 10, 32, -40, 90, 34, -8, 30, 27, -74, 97, 99, 72, 86, -84, -100, -98, -95, -9, 32, 24, -40, 3, 68, 33, -41, 70, 40, 99, 0, 25, 74, 70, -65, 81, 39, 21, -98, -84, 7, -77, 21, 12, 65, -51, -86, -74, -85, 95, -34, -70, 16, -25, 3, 56, -60, -10, 41, -17, -92, -45, -100, -56, 63, 62, 32, 39, 81, -50, -19, 53, 96, -99, 85, -8, -57, -73, 71, 70, 63, 6, 70, 56, 87, 33, -32, -60, -97, 76, -54, 63, -76, 61, 25, 30], [-28, -97, 6, 17, 94, 69, 56, 41, -58, -3, -57, 27, 20, 73, 72, 75, 94, 95, -30, 17, 14, -43, -91, -94, -80, -87, 90, -54, 59, -2, -11, 81, -92, 32, 25, 0, 32, 71, 44, -95, 6, 39, -62, -77, -88, -70, 16, 65, -60, -87, -50, -64, -91, -52, 35, -83, -38, 89, -86, -46, 99, -47, 8, 94, -20, -100, 48, 94, -82, 68, 33, 7, 29, 71, 92, 45, 5, 14, 74, -15, -67, -10, -15, -58, -97, -85, 37, -72, -30, -31, 19, 74, 19, -63, 81, 53, -1, 62, -9, 80], [-74, 88, -34, 26, -6, 25, 52, 3, 2, -22, 52, -22, 25, 29, 24, -97, 53, 1, 83, 32, 95, 59, -43, 93, -50, -97, -21, 31, 17, -69, 88, -29, -15, 95, 74, 32, 0, 28, 98, 88, -19, -40, 52, -13, 57, 44, 38, 25, 60, -72, 93, 81, -57, -85, -94, 43, -86, -98, -47, -43, 30, 92, -25, 50, 56, -46, 58, 51, -82, 54, 15, -57, -6, 81, 82, 96, -48, 81, -31, -63, 32, 44, 76, 86, -89, -58, -39, 22, 73, -88, -26, 72, 64, -62, 1, 11, 78, 60, -37, -41], [9, -97, 66, -3, -95, -21, 80, -28, -81, 20, 14, 3, 75, -40, 42, 36, 95, -87, -62, 98, 10, -80, 70, -9, 62, -31, -20, -32, 16, -20, -1, -44, -1, 25, 70, 71, 28, 0, 92, -87, -17, 54, -64, -37, -5, -72, -28, -88, 76, -58, -42, -43, -12, 32, 17, 1, -39, -11, -47, 54, 45, -78, 78, 14, -75, -93, 9, 40, -69, -63, 64, -54, -71, -96, -52, 65, 77, -33, 94, 88, 74, 40, -71, 22, -24, 79, 64, 67, -63, 68, -14, -22, 56, 20, -12, -39, 12, 10, 0, -5], [62, 64, -24, 8, 5, -66, 1, 11, 0, 66, 35, -51, 84, -16, 18, 94, 92, 70, 12, -96, -31, -96, 13, 52, -51, -93, -94, 93, -28, -80, -17, -51, 34, -44, -65, 44, 98, 92, 0, 40, 30, -7, -96, 73, 76, 14, -51, -61, 39, 86, 37, -13, -79, 32, 9, 50, -18, -42, 76, 89, 87, 21, -32, 99, 26, -2, -96, -48, 75, -76, 73, -77, 85, 60, 98, 69, -11, 8, -32, 50, 38, -40, -52, 25, -97, 0, -39, -75, -80, 58, 57, 82, -78, 54, 32, 32, -64, 31, 68, -98], [-45, -81, -84, 71, -23, -74, -90, 12, -32, 11, -7, 87, 69, -58, -95, 91, -57, -41, -55, 14, -50, 40, -23, 6, 3, -5, 0, -10, 21, 14, 97, -17, 82, 18, 81, -95, 88, -87, 40, 0, 57, 66, 60, -42, 19, -4, 70, 60, 60, -60, -89, 76, 84, -95, 76, 9, 90, 81, -45, 67, -100, -18, -99, -5, 3, 66, -80, -86, 12, 35, 83, -92, -27, 67, 91, -39, -31, 27, 28, 53, 86, 56, 37, 52, 89, 65, 25, 18, -43, 78, -63, -53, 55, 97, -26, -59, 15, 14, 62, -31], [-95, 12, 58, 36, 46, -62, -24, 51, 14, -99, -72, -52, 17, 72, 94, 21, 5, 66, -44, -34, 19, -12, 57, -26, 66, 54, 95, -89, 41, 69, 38, -68, 1, -8, 39, 6, -19, -17, 30, 57, 0, 46, -21, -95, 69, 39, -45, 36, -20, -16, -60, -15, 51, -47, 93, 98, -54, 56, 1, -25, 35, 10, 71, 58, -3, 79, -10, 93, 44, -63, -97, 60, 60, 21, 25, 95, 91, -63, 94, 33, -37, -66, 93, 37, 38, 41, -74, 80, 93, 89, -48, 8, -8, -30, -85, -85, -59, -78, 44, 29], [93, 99, -19, 87, 61, 81, -91, -55, -8, 25, -87, -51, 73, 88, -2, -28, -14, -1, 77, -50, 53, 18, -75, -13, 34, 10, -52, 60, -20, -54, -61, -7, -30, 5, 21, 39, -40, 54, -7, 66, 46, 0, -90, -47, 25, -35, 68, 6, 66, 21, -86, 84, 95, -60, -41, 57, -27, -62, 26, -43, 82, 2, -54, -92, -32, -95, -75, -94, 78, 48, -91, -29, -99, -55, 71, -35, 54, -53, -13, 94, -3, -87, 48, 75, -69, 99, 21, -100, -20, -65, -35, -14, 26, -41, 95, -35, 27, -5, 66, -47], [57, 96, 99, -11, 8, 50, -80, 27, 63, 66, 31, 83, -14, -12, -50, -53, 83, -35, 75, 19, -80, -97, 80, 48, -92, 94, -54, 25, 24, 44, -56, 65, 26, -32, -98, -62, 52, -64, -96, 60, -21, -90, 0, -53, 7, 83, -42, -1, 21, 27, 58, 85, 35, 7, 4, 5, 23, 34, 26, 75, -95, -8, 63, -87, -59, 1, 58, 58, -69, 54, 86, 60, 75, -21, 89, -31, 4, 62, -10, -2, -13, -26, 5, 96, -2, 76, -55, 75, 11, 84, 58, -91, -9, -78, -67, -60, 71, -94, -13, 61], [2, -19, -27, 24, -79, -31, -79, -88, 78, -51, -12, -34, 42, -54, -12, -73, -11, -28, 76, 26, -53, 50, -60, 58, -23, -1, 10, 85, -34, -78, 0, 84, 72, 99, -84, -77, -13, -37, 73, -42, -95, -47, -53, 0, -51, 34, -67, 36, -89, -58, 61, 45, -47, -75, -49, 33, -99, 54, 64, -44, -40, 52, 70, -52, 85, 28, 51, -11, 37, 19, -41, 29, 93, -14, 84, 32, -61, -4, -80, -84, 85, 98, 40, 89, -89, -86, -76, -78, 36, -6, 91, 85, -60, 97, 77, 91, 12, 83, -82, 21], [0, -12, -24, 43, 66, -13, -18, 40, 28, -29, -73, 83, -74, 93, 79, -49, -78, -33, -75, 52, -11, 31, -8, -34, -55, -59, -77, 65, 6, -18, 91, 40, -31, -72, 7, -88, 57, -5, 76, 19, 69, 25, 7, -51, 0, 25, 58, -32, -98, 67, -5, 88, -98, 9, -93, 35, -71, -100, 31, 37, -55, 86, -61, 57, -17, -86, 18, -61, 99, -9, -20, 49, 37, 63, 15, -77, 35, -71, -14, -6, 20, 69, 12, 25, -24, -81, 42, -89, -75, -52, -80, -69, -54, -98, 30, -54, 2, -43, -60, -48], [-42, -90, 30, 39, -61, 83, -48, -65, 93, 82, -35, -9, 54, -81, -44, -67, -36, -61, 62, -55, -100, 66, 27, -64, 32, 24, 81, -34, -29, 68, -46, 73, -68, -6, -77, -70, 44, -72, 14, -4, 39, -35, 83, 34, 25, 0, -8, -23, 96, 5, 82, -36, -71, -34, 58, -57, 88, -27, -16, 53, 11, 98, -29, 94, 5, -8, 82, -36, 8, -67, -8, -13, -85, 2, -90, -36, -90, 42, 32, 79, 24, -97, 46, 62, 72, -29, 78, -47, 0, -59, 12, 35, 88, 6, -89, 98, 69, 52, 93, 10], [53, 87, -80, 94, -88, 79, -26, 81, -53, -49, 99, -75, -48, 98, 77, 4, 55, -23, -76, -96, 24, 55, -67, -39, 19, -24, -81, 70, 19, -76, -24, 0, -93, -50, 21, 16, 38, -28, -51, 70, -45, 68, -42, -67, 58, -8, 0, 99, -26, 93, -81, 17, 0, -71, 13, 37, 20, -18, 43, 54, 7, -11, 13, -80, 18, -68, 48, -63, 36, 95, 84, 45, 28, 82, -41, -83, 70, -94, -39, -52, -44, -8, -56, 51, 75, 69, -70, -19, 86, 87, -42, -48, -80, -87, 12, -99, -26, 70, -42, 45], [0, -70, 23, -17, -63, 71, 93, 81, 2, 72, -95, -79, 3, 11, 2, -41, 51, -33, -13, -6, 78, 58, -7, -41, 56, 15, -41, 70, 77, -86, -49, 37, 12, 33, 12, 65, 25, -88, -61, 60, 36, 6, -1, 36, -32, -23, 99, 0, -76, 77, -35, -77, -42, -60, -65, -62, -84, -53, -72, -57, 58, -45, 23, -31, 83, 44, 53, 9, 22, -65, 20, -9, -61, 25, 97, -60, -25, -79, -98, 29, 67, -66, 35, -70, -72, 40, 88, -97, -79, 47, 72, 27, -90, 2, 5, -16, 44, 78, 99, -70], [82, 81, -46, -48, 18, 22, -19, -65, 88, -53, -78, 34, -75, 4, -63, -20, 18, 72, -25, 87, 88, -13, 15, -88, -96, -6, 90, 73, 32, -32, -25, -34, -97, 79, 65, -60, 60, 76, 39, 60, -20, 66, 21, -89, -98, 96, -26, -76, 0, 47, 3, 72, 11, 79, -19, -37, 3, 22, 0, 61, -43, 75, 50, 86, -94, -78, -100, -42, -86, -87, 21, 26, -95, 88, -68, -90, -3, 80, 18, 99, -95, -17, -50, 13, 83, -68, 40, 9, -83, 92, -84, -62, 39, 62, 94, -69, 64, 78, 72, -32], [54, -84, 29, 77, 94, -21, 39, -89, 23, -68, 62, -77, -30, -50, -69, -81, -94, 3, 30, -61, 21, -22, 66, 25, 42, 45, 41, 12, -30, 67, 95, 16, 43, -72, -51, -87, -72, -58, 86, -60, -16, 21, 27, -58, 67, 5, 93, 77, 47, 0, 47, -27, -44, 80, -29, 33, 80, 50, -19, 6, -2, -97, 69, -79, 18, 31, -70, -22, 66, 30, 81, 67, -13, 96, 72, -92, 82, 43, -23, 30, 57, 23, -63, 66, 4, -80, -34, 59, -35, -36, -8, 57, 65, 14, -36, -59, -73, -27, -85, -29], [-68, 38, 6, -79, 42, 67, -17, 84, -92, -100, -1, 10, -85, 7, 33, -24, 74, 36, -3, -94, 85, 62, 1, -97, -17, 96, -99, -52, 93, 2, 93, -88, -99, 71, -86, -50, 93, -42, 37, -89, -60, -86, 58, 61, -5, 82, -81, -35, 3, 47, 0, -69, 41, -28, -98, 6, -55, -89, -18, -4, 36, 98, 67, 87, -43, 11, -47, -22, -84, -11, 99, 15, 2, -78, 54, -72, 19, 10, 87, -49, -19, 38, 87, 66, 51, 14, -78, 80, -10, 74, -74, -57, -83, -94, -78, -67, -28, 57, 92, 79], [-53, -29, 6, 3, -50, 48, 67, -6, 53, -66, 83, -31, 83, 30, -35, 38, -55, -67, 99, -7, 70, -59, 52, -88, -55, 55, -2, -47, 49, -42, 61, -7, -74, 4, -74, -64, 81, -43, -13, 76, -15, 84, 85, 45, 88, -36, 17, -77, 72, -27, -69, 0, -88, 72, -65, -14, 28, 40, -99, 99, 53, 45, -16, -12, 73, -40, -69, -71, -38, -2, 86, -74, -35, 98, -95, 3, 52, 85, -85, 28, 71, 27, -85, -40, -28, 70, 27, -72, -49, 9, -20, 28, 24, 76, 0, 43, -67, 77, -43, 82], [28, 83, 43, 79, -80, -98, 28, -56, -64, -53, -21, -45, -66, -31, 15, -84, 58, -67, -42, -11, -90, -7, -23, 24, -21, 26, -64, -10, 44, 44, 3, -93, 20, -31, -85, -91, -57, -12, -79, 84, 51, 95, 35, -47, -98, -71, 0, -42, 11, -44, 41, -88, 0, 77, -20, 87, 99, 99, -17, -39, 83, 33, -13, 67, 61, 41, -74, 69, 38, -17, -77, 16, 75, 95, -21, -30, 80, -69, 64, 38, -53, 0, 75, 74, 32, 15, 5, -36, 79, -8, -89, -4, -33, 38, 18, 49, 44, 59, 14, 78], [60, 53, 68, -33, -19, -77, 21, 29, 85, 44, -91, 77, -51, -95, 38, -61, -71, 34, 98, -1, -67, -16, 61, -63, 31, -1, 64, -14, 74, -70, -14, 8, 26, -46, 95, -52, -85, 32, 32, -95, -47, -60, 7, -75, 9, -34, -71, -60, 79, 80, -28, 72, 77, 0, -31, -55, -79, 4, 80, 54, -95, -39, -41, 42, -26, 33, -90, -94, -49, 14, -83, 15, 17, -36, -64, -36, 75, -79, 68, 29, -17, -69, -34, -65, 70, -97, 74, 89, -60, -40, 6, -71, 70, -78, -10, 28, 7, 39, -68, 20], [-95, 63, 14, 70, 53, 9, -11, 60, -31, 39, -10, -62, -59, 26, -73, 74, -64, 88, -75, -21, 45, 36, 96, -32, -36, 29, 96, 0, 41, -82, 57, 69, -97, -71, -34, 35, -94, 17, 9, 76, 93, -41, 4, -49, -93, 58, 13, -65, -19, -29, -98, -65, -20, -31, 0, -49, -1, -29, 75, 11, 78, -95, -51, -75, -45, 77, -77, 26, -77, -41, -1, -52, 63, 11, 7, -63, -55, -97, -25, 60, -67, -93, 9, -79, 32, -36, 44, -47, 19, -42, -85, 65, -73, 43, -3, 42, 92, -60, -30, -75], [-39, -24, -99, 64, -45, 77, 98, 76, -30, -18, -88, 0, -92, 23, 11, 0, -6, -82, -37, 3, -47, 2, 98, -33, 4, -4, 72, -86, -86, 89, 98, 13, -88, 76, -70, -83, 43, 1, 50, 9, 98, 57, 5, 33, 35, -57, 37, -62, -37, 33, 6, -14, 87, -55, -49, 0, -75, 92, -6, 25, 78, 88, 25, -7, 82, 79, -1, -10, -21, 52, -26, -59, 18, 48, 37, 63, 10, 84, -99, -88, 93, 62, 78, 55, 19, 81, -42, 41, 50, -65, 44, -21, 91, 58, -50, -99, -15, -99, 22, -63], [-32, 98, -13, -29, 51, -27, 96, -52, 9, -35, 7, 98, -72, 17, 39, 11, 74, -56, -9, -91, 75, 85, -83, 42, -65, -62, 20, -41, -99, 99, 8, 82, -37, 2, 16, -38, -86, -39, -18, 90, -54, -27, 23, -99, -71, 88, 20, -84, 3, 80, -55, 28, 99, -79, -1, -75, 0, 44, 80, 56, -95, 80, -94, -53, 15, 25, -10, -70, 32, -19, -24, -18, -71, -69, 67, -66, -25, -83, -4, 88, -23, -97, -56, -46, 83, 10, -42, 79, 55, -2, 75, -81, -85, -99, -18, 39, 36, 8, 0, 36], [-69, -2, 57, -39, -49, -54, 25, 13, -42, 91, -42, 95, 0, -13, 51, 21, -16, 1, -100, 41, 84, 91, -89, -42, 81, -32, 68, -55, 29, -56, -63, -73, -59, -54, -25, 89, -98, -11, -42, 81, 56, -62, 34, 54, -100, -27, -18, -53, 22, 50, -89, 40, 99, 4, -29, 92, 44, 0, 42, 81, 86, -24, -54, 78, 8, 19, 34, -86, -25, -59, 87, -90, -39, -81, 22, -52, -27, -90, 34, -24, -22, -12, 53, -71, -41, -70, 15, -25, 35, -35, -86, 21, 68, -43, 54, -45, -20, -56, -35, 59], [-25, 91, -90, 73, 22, -43, 10, -48, -52, 81, 37, -75, -41, 78, -34, 36, -22, 10, -24, 79, -75, -91, -76, 71, 0, -52, 67, 76, 83, -80, -8, -89, -10, 55, 3, -86, -47, -47, 76, -45, 1, 26, 26, 64, 31, -16, 43, -72, 0, -19, -18, -99, -17, 80, 75, -6, 80, 42, 0, -29, -86, 87, 83, 29, 96, 90, -16, 24, -17, 91, -5, 59, 87, 74, -98, 15, -72, -35, -93, 87, -24, 3, -63, -13, -3, -16, -97, -66, 82, -97, -38, 14, -9, 43, -93, 44, -95, 88, 81, -79], [-11, -68, 21, -42, 40, 68, 58, 42, -34, -35, -98, 42, -98, 97, 26, 3, 98, -84, -85, -59, -29, 97, -36, -51, 28, 80, 11, 48, -20, -92, -75, -49, 28, -49, 56, -46, -43, 54, 89, 67, -25, -43, 75, -44, 37, 53, 54, -57, 61, 6, -4, 99, -39, 54, 11, 25, 56, 81, -29, 0, -54, -80, 32, -80, -100, 53, -18, -49, 76, -30, 57, -100, -25, -16, 8, -56, 84, -6, 49, -45, -61, -6, -27, 62, 12, -1, -19, -58, 43, -90, 5, -47, -31, 4, -60, 9, -52, -47, -33, -73], [-47, -10, -31, -31, -29, -41, -91, -17, -77, 99, -54, 42, -57, 58, 72, 39, -56, 58, 30, -9, -75, 18, 9, 92, 27, 12, -45, 9, 42, 85, -78, -69, -69, 54, -60, 99, 30, 45, 87, -100, 35, 82, -95, -40, -55, 11, 7, 58, -43, -2, 36, 53, 83, -95, 78, 78, -95, 86, -86, -54, 0, -28, -50, -97, -65, 73, -36, -81, -20, 81, -5, 56, 59, -64, -91, 19, 11, 24, -98, -6, -78, -81, 52, 34, -51, -56, 94, 52, 94, 43, -41, -38, 52, -36, -69, -32, 4, -82, 71, -29], [59, 52, -52, -41, 16, 56, 2, -48, -90, -93, 58, 55, 46, -93, 3, -99, 11, 48, -92, -30, 61, -62, -32, 8, -19, 25, 78, -26, -52, 39, 95, -55, -88, 70, -10, -47, 92, -78, 21, -18, 10, 2, -8, 52, 86, 98, -11, -45, 75, -97, 98, 45, 33, -39, -95, 88, 80, -24, 87, -80, -28, 0, -88, 47, 37, 23, -25, -2, -93, 35, 99, -66, -32, 80, 86, -14, -37, 15, 37, 65, 35, 54, -78, -83, 67, 20, -19, 13, -57, 4, 51, 50, 61, 39, 43, -91, 35, 5, 36, -85], [99, -26, 83, -83, 84, 39, 88, 28, 63, 46, -47, -39, 64, 66, 75, 66, -33, 33, 64, -54, -89, -58, -14, 79, 1, -93, -88, -57, 37, -35, -86, -100, 93, 91, 41, 8, -25, 78, -32, -99, 71, -54, 63, 70, -61, -29, 13, 23, 50, 69, 67, -16, -13, -41, -51, 25, -94, -54, 83, 32, -50, -88, 0, -16, 96, -26, 21, -86, 91, 6, 86, -38, -44, -53, -25, -17, 20, -88, -1, 31, -10, 12, -4, 80, -43, 35, -42, 21, -23, -80, -29, -53, -56, -37, 51, -39, 55, -26, -86, 52], [28, -1, -16, -37, 33, 70, -59, 63, -21, 41, -15, 84, -35, 83, 20, -29, -28, -48, -28, 46, 66, -77, -96, 76, -7, 32, -86, -97, 50, 0, 42, -49, -42, -23, -17, 94, 50, 14, 99, -5, 58, -92, -87, -52, 57, 94, -80, -31, 86, -79, 87, -12, 67, 42, -75, -7, -53, 78, 29, -80, -97, 47, -16, 0, 45, -64, 3, -23, -74, -9, -43, -48, 25, -87, -5, -76, 37, -86, 69, 40, 33, -12, -38, 93, -77, 1, 71, 63, -74, -6, 73, 54, -1, -43, -30, 76, -70, -66, 84, -83], [42, 19, -66, -94, 46, -27, -86, 54, 40, -41, 37, 63, 38, 56, 54, 2, 65, 48, 51, 84, 67, -72, 72, 76, 48, 48, -12, -70, -54, 21, -9, -2, 89, -44, -92, -20, 56, -75, 26, 3, -3, -32, -59, 85, -17, 5, 18, 83, -94, 18, -43, 73, 61, -26, -45, 82, 15, 8, 96, -100, -65, 37, 96, 45, 0, -57, 30, 89, 34, -70, -97, 37, 8, -81, 13, -50, -11, -5, 75, 60, -68, -25, -43, -4, -47, -68, -87, -50, -51, 46, 37, 21, 58, 38, -86, 33, -69, 65, 36, 7], [-83, 28, 35, 50, -4, -73, -87, 10, 52, -18, -66, 17, -67, -60, -43, -76, -91, 54, -8, 52, 26, -92, 51, -38, 81, 52, 50, 58, -60, -5, -26, -5, -31, -41, -45, -100, -46, -93, -2, 66, 79, -95, 1, 28, -86, -8, -68, 44, -78, 31, 11, -40, 41, 33, 77, 79, 25, 19, 90, 53, 73, 23, -26, -64, -57, 0, -82, -73, -11, -45, 31, 54, -35, -88, -26, 2, 56, 9, 29, -58, 1, 59, -24, 4, -26, 76, 21, -58, -5, -63, -43, 47, -74, -52, 90, 54, 54, -58, -29, 75], [-88, 62, 51, 66, 65, -11, 0, 80, 65, -79, 98, 25, -9, -5, -70, -23, -56, 47, -43, -64, 92, -25, -30, -89, 24, 63, -29, -52, -65, -1, -45, 38, 84, 89, -100, 48, 58, 9, -96, -80, -10, -75, 58, 51, 18, 82, 48, 53, -100, -70, -47, -69, -74, -90, -77, -1, -10, 34, -16, -18, -36, -25, 21, 3, 30, -82, 0, -61, -69, -65, -44, 95, 63, -50, 67, -3, -88, 86, -87, -53, -69, -63, -95, 65, 98, 10, 54, -18, -15, 92, 82, -39, -70, 57, -6, 4, -54, -42, -1, -68], [-78, -75, 42, -73, -18, 99, 58, -69, -100, -49, -61, 97, 22, -66, -45, -55, -11, 12, 76, 83, -8, -80, -58, -2, -66, -91, -32, -60, 68, 41, 24, -69, -83, -50, -56, 94, 51, 40, -48, -86, 93, -94, 58, -11, -61, -36, -63, 9, -42, -22, -22, -71, 69, -94, 26, -10, -70, -86, 24, -49, -81, -2, -86, -23, 89, -73, -61, 0, -21, 73, 87, -81, 53, 39, 95, 52, 18, 51, -75, -86, 77, -30, 73, -69, 59, -24, 34, 1, -90, -15, -43, 78, 28, 23, -100, 79, -85, 66, -31, -4], [-30, -91, -98, 88, -24, -81, 86, 51, -42, -85, 91, -36, 64, 25, 57, -48, 5, -19, -62, 84, -8, 19, -68, 43, 89, -29, -89, -36, 17, 22, -11, 68, 1, -31, 63, -82, -82, -69, 75, 12, 44, 78, -69, 37, 99, 8, 36, 22, -86, 66, -84, -38, 38, -49, -77, -21, 32, -25, -17, 76, -20, -93, 91, -74, 34, -11, -69, -21, 0, -39, -39, -13, -50, -59, 82, -80, 41, 52, 33, 77, -16, 9, 5, -76, 80, -91, -31, 18, -43, 53, 84, 32, 34, 55, -26, -81, 48, 9, -49, -67], [25, 78, -55, -78, -41, -82, -80, -5, 96, -79, -82, -35, -46, 73, -50, 72, -40, -69, -99, 90, -15, 25, -10, -97, 58, -26, -97, -96, -5, 23, 69, 84, 40, -81, 62, 68, 54, -63, -76, 35, -63, 48, 54, 19, -9, -67, 95, -65, -87, 30, -11, -2, -17, 14, -41, 52, -19, -59, 91, -30, 81, 35, 6, -9, -70, -45, -65, 73, -39, 0, 61, -22, 39, 36, 99, 51, -88, 53, 29, -8, -14, 5, -68, 82, -88, -12, -96, -84, 98, -20, 37, -6, 34, -45, 64, -65, -68, -43, 16, 35], [63, -10, 81, -68, 19, 69, -81, -68, -72, -82, -22, 76, 73, 92, 24, 54, 8, 44, -29, -39, -71, 71, 78, 20, -45, -62, 68, 17, -71, 99, 93, 96, -82, -73, 32, 33, 15, 64, 73, 83, -97, -91, 86, -41, -20, -8, 84, 20, 21, 81, 99, 86, -77, -83, -1, -26, -24, 87, -5, 57, -5, 99, 86, -43, -97, 31, -44, 87, -39, 61, 0, 18, 55, -55, -89, -19, 64, -93, -24, 23, 47, 43, -27, -75, 30, 49, 90, -3, 18, 42, 54, -13, 68, 9, -90, -30, 79, -90, -71, -38], [7, 4, 69, 22, 79, 12, -63, -97, -65, -93, 40, 5, 68, 29, -6, -6, 29, -10, -59, -46, 43, 44, 57, -52, 60, 82, -31, 75, 18, -94, -75, 58, -68, -92, 39, 7, -57, -54, -77, -92, 60, -29, 60, 29, 49, -13, 45, -9, 26, 67, 15, -74, 16, 15, -52, -59, -18, -90, 59, -100, 56, -66, -38, -48, 37, 54, 95, -81, -13, -22, 18, 0, 3, -59, -89, -90, 28, 65, 78, 46, 76, -32, 34, -84, 6, 3, -92, 55, -48, 80, 81, 81, -88, -94, 85, -28, 40, 98, -55, -73], [-28, -48, -34, -20, -73, -29, 23, 11, 90, 82, -71, -57, 40, -80, -87, -95, -34, 62, 56, 58, 1, -39, 94, 33, 16, -32, -58, 23, 11, 21, -96, 35, 27, 70, 81, 29, -6, -71, 85, -27, 60, -99, 75, 93, 37, -85, 28, -61, -95, -13, 2, -35, 75, 17, 63, 18, -71, -39, 87, -25, 59, -32, -44, 25, 8, -35, 63, 53, -50, 39, 55, 3, 0, -82, -31, -38, -14, -66, -8, -13, -20, 54, 55, 96, -100, 7, 63, 95, 17, 33, -96, -5, -13, 93, -90, 73, -20, 5, 46, -55], [82, -58, 1, -25, -43, -43, -20, 55, -61, 25, 90, 33, -43, -32, -30, 74, -93, -98, 13, -73, 34, -63, -86, 50, -77, 43, 22, -34, 54, 69, 87, 17, -66, 52, -50, 71, 81, -96, 60, 67, 21, -55, -21, -14, 63, 2, 82, 25, 88, 96, -78, 98, 95, -36, 11, 48, -69, -81, 74, -16, -64, 80, -53, -87, -81, -88, -50, 39, -59, 36, -55, -59, -82, 0, -53, 86, -62, -85, 17, 9, -49, 10, -48, -67, 17, 61, -65, -79, 96, -90, 10, 96, 88, 12, -64, -38, -69, 21, 10, -37], [17, -42, -26, -96, 95, -57, -82, -100, -12, 75, -98, -41, -94, -79, 3, -89, -94, -54, 40, -28, 44, 42, -52, -76, -74, -7, 70, -48, 2, -4, -47, -52, -10, -10, -19, 92, 82, -52, 98, 91, 25, 71, 89, 84, 15, -90, -41, 97, -68, 72, 54, -95, -21, -64, 7, 37, 67, 22, -98, 8, -91, 86, -25, -5, 13, -26, 67, 95, 82, 99, -89, -89, -31, -53, 0, 83, 65, -56, -3, 82, 84, -17, 78, -30, -42, -98, 14, -34, -83, 71, 14, -19, -83, -86, -93, -29, -95, -93, 70, 53], [99, -14, -98, 44, 6, 66, 55, -35, 64, 39, 90, -39, -93, 37, -22, -56, -57, -58, -80, -66, -36, -20, 31, -90, -43, 85, -27, 87, 56, 64, -2, 89, 37, 77, 53, 45, 96, 65, 69, -39, 95, -35, -31, 32, -77, -36, -83, -60, -90, -92, -72, 3, -30, -36, -63, 63, -66, -52, 15, -56, 19, -14, -17, -76, -50, 2, -3, 52, -80, 51, -19, -90, -38, 86, 83, 0, -28, 46, -1, -2, 60, 30, 71, 51, -15, 93, 63, -81, 66, 13, 99, 42, -43, -76, 94, -47, -30, -37, 14, -32], [-66, -87, 40, 98, 88, -50, -94, -54, -29, -81, 87, -61, -61, 37, 71, -28, 9, -58, -83, -2, 95, 24, 7, -48, 60, -10, -71, -77, 78, -45, 65, -83, -76, 97, 96, 5, -48, 77, -11, -31, 91, 54, 4, -61, 35, -90, 70, -25, -3, 82, 19, 52, 80, 75, -55, 10, -25, -27, -72, 84, 11, -37, 20, 37, -11, 56, -88, 18, 41, -88, 64, 28, -14, -62, 65, -28, 0, 24, -69, 79, 5, -2, 48, 0, 97, 3, -50, 85, -4, -72, -9, 65, 96, -78, -48, -54, -88, -78, -4, -86], [1, -29, -56, 13, -46, 5, 84, -37, -87, 96, 80, -81, 58, -18, 58, 73, -73, 98, 30, -39, -87, -43, -43, -69, -91, 24, -10, -31, -62, 62, 2, -62, 46, -89, -99, 14, 81, -33, 8, 27, -63, -53, 62, -4, -71, 42, -94, -79, 80, 43, 10, 85, -69, -79, -97, 84, -83, -90, -35, -6, 24, 15, -88, -86, -5, 9, 86, 51, 52, 53, -93, 65, -66, -85, -56, 46, 24, 0, -5, -20, -71, -71, 70, -56, 20, -92, 45, 37, -63, 92, -29, 65, 63, 0, -47, -100, 1, 15, 74, -5], [91, 94, 52, 20, 33, 24, 59, -82, -84, -92, -81, 95, 32, 25, 75, 89, -33, -66, 24, 63, 35, 17, -88, -49, -88, 94, -5, -54, 33, -10, 30, 10, -56, -50, 85, 74, -31, 94, -32, 28, 94, -13, -10, -80, -14, 32, -39, -98, 18, -23, 87, -85, 64, 68, -25, -99, -4, 34, -93, 49, -98, 37, -1, 69, 75, 29, -87, -75, 33, 29, -24, 78, -8, 17, -3, -1, -69, -5, 0, 59, -15, 25, 35, -1, 30, 12, 80, 41, 67, -71, -68, -17, -83, 1, 8, -61, -14, -97, -16, -92], [73, 17, 13, 68, 59, 55, -46, 55, -66, 33, -31, -52, -49, 95, 58, 8, -15, -66, -25, 47, 54, 25, 87, -61, -37, -74, -24, -61, 43, -51, -16, 93, 52, -75, -8, -15, -63, 88, 50, 53, 33, 94, -2, -84, -6, 79, -52, 29, 99, 30, -49, 28, 38, 29, 60, -88, 88, -24, 87, -45, -6, 65, 31, 40, 60, -58, -53, -86, 77, -8, 23, 46, -13, 9, 82, -2, 79, -20, 59, 0, -96, 24, -100, 94, -77, 92, 24, -53, -14, -21, -84, 70, 46, -80, -66, -56, 41, 12, 81, 61], [15, 45, 38, -54, -23, -56, 89, 84, -72, 23, 35, 41, -35, -86, 38, -36, -7, -49, 51, -55, -33, -57, 0, -5, -100, -94, -83, 7, -77, 42, 54, -24, -58, -69, -57, -67, 32, 74, 38, 86, -37, -3, -13, 85, 20, 24, -44, 67, -95, 57, -19, 71, -53, -17, -67, 93, -23, -22, -24, -61, -78, 35, -10, 33, -68, 1, -69, 77, -16, -14, 47, 76, -20, -49, 84, 60, 5, -71, -15, -96, 0, -34, 75, 92, -10, -99, -44, 14, -60, 7, -81, -64, -70, -41, 46, 23, -19, -1, 60, -91], [-16, 61, -66, 12, 30, -51, 93, -67, -47, 90, 16, -26, -85, 97, 97, -62, 13, -40, -2, -39, 83, 38, -70, -56, 25, 12, -25, 9, 43, 29, -82, 9, 15, 10, -73, -10, 44, 40, -40, 56, -66, -87, -26, 98, 69, -97, -8, -66, -17, 23, 38, 27, 0, -69, -93, 62, -97, -12, 3, -6, -81, 54, 12, -12, -25, 59, -63, -30, 9, 5, 43, -32, 54, 10, -17, 30, -2, -71, 25, 24, -34, 0, -46, -70, 14, -53, -67, -11, 57, -86, -15, -91, -96, -9, 31, 6, 40, 30, 91, -80], [10, 21, 92, -3, -3, -78, 2, -9, -9, -24, 22, -27, 46, 87, 61, -46, 39, 55, 90, 21, -43, 69, 69, -75, -27, -46, -70, 37, 2, 10, -90, -82, -70, -15, 71, -15, 76, -71, -52, 37, 93, 48, 5, 40, 12, 46, -56, 35, -50, -63, 87, -85, 75, -34, 9, 78, -56, 53, -63, -27, 52, -78, -4, -38, -43, -24, -95, 73, 5, -68, -27, 34, 55, -48, 78, 71, 48, 70, 35, -100, 75, -46, 0, -63, -71, 61, 77, 10, 47, 50, -61, 80, 2, 33, -73, -96, -39, 48, 24, -80], [94, -96, 82, 25, 80, -32, -42, 14, -79, -15, 89, 31, -24, 50, -69, -30, 62, -58, -12, 8, -83, -22, -6, -3, 21, -84, -78, -58, 78, -70, -20, 33, -78, -43, 70, -58, 86, 22, 25, 52, 37, 75, 96, 89, 25, 62, 51, -70, 13, 66, 66, -40, 74, -65, -79, 55, -46, -71, -13, 62, 34, -83, 80, 93, -4, 4, 65, -69, -76, 82, -75, -84, 96, -67, -30, 51, 0, -56, -1, 94, 92, -70, -63, 0, 73, 86, -95, -10, 40, -16, -63, -59, 50, -56, 45, 85, 31, -88, -75, -75], [-20, -50, 33, 15, -21, 46, -3, -4, 24, -32, 1, -19, 95, 89, -25, 75, -82, 27, 48, -63, 7, -61, -10, 26, 72, -24, 53, 18, 63, -90, 78, 93, -49, -71, 63, -97, -89, -24, -97, 89, 38, -69, -2, -89, -24, 72, 75, -72, 83, 4, 51, -28, 32, 70, 32, 19, 83, -41, -3, 12, -51, 67, -43, -77, -47, -26, 98, 59, 80, -88, 30, 6, -100, 17, -42, -15, 97, 20, 30, -77, -10, 14, -71, 73, 0, -62, 44, 38, 49, -99, -75, 75, -1, -41, 33, -92, 86, 64, -61, 47], [-49, 42, 13, -75, -17, 79, 37, 24, -50, 88, 18, -32, -68, -3, 23, -28, -8, 22, -14, 63, 82, -46, 26, -42, -91, -97, 62, 69, 42, 88, -35, 53, 14, -67, 6, -85, -58, 79, 0, 65, 41, 99, 76, -86, -81, -29, 69, 40, -68, -80, 14, 70, 15, -97, -36, 81, 10, -70, -16, -1, -56, 20, 35, 1, -68, 76, 10, -24, -91, -12, 49, 3, 7, 61, -98, 93, 3, -92, 12, 92, -99, -53, 61, 86, -62, 0, 89, 51, 30, 30, -70, 92, -21, -76, -3, -20, 20, -1, -8, 80], [10, -39, -84, -21, -36, 33, 39, 52, -20, -29, -12, -32, -49, 48, -15, -80, 22, 76, -45, 38, -24, 41, 88, 86, 84, -21, 81, -42, 38, -28, 17, -79, 99, -17, 70, 37, -39, 64, -39, 25, -74, 21, -55, -76, 42, 78, -70, 88, 40, -34, -78, 27, 5, 74, 44, -42, -42, 15, -97, -19, 94, -19, -42, 71, -87, 21, 54, 34, -31, -96, 90, -92, 63, -65, 14, 63, -50, 45, 80, 24, -44, -67, 77, -95, 44, 89, 0, 36, -8, -87, 40, -67, -74, -11, -73, -96, -14, -39, -67, 25], [-30, 7, 66, 65, -77, -53, -2, -92, 48, -39, 33, 84, 84, -97, 82, -77, -83, 15, -76, -87, 28, -90, 83, 55, 25, -99, 70, -69, 70, -55, -88, -66, -33, 63, 56, -72, 22, 67, -75, 18, 80, -100, 75, -78, -89, -47, -19, -97, 9, 59, 80, -72, -36, 89, -47, 41, 79, -25, -66, -58, 52, 13, 21, 63, -50, -58, -18, 1, 18, -84, -3, 55, 95, -79, -34, -81, 85, 37, 41, -53, 14, -11, 10, -10, 38, 51, 36, 0, -44, 72, -99, 30, 64, 9, -64, 22, -90, -59, -48, -39], [10, -8, -75, -59, -19, -39, -57, 31, -27, -81, -27, 76, -3, -40, 39, 29, -68, 64, -71, -59, 5, 2, -31, 92, 47, -93, -64, -22, 62, 57, 25, 69, -1, -74, 87, -30, 73, -63, -80, -43, 93, -20, 11, 36, -75, 0, 86, -79, -83, -35, -10, -49, 79, -60, 19, 50, 55, 35, 82, 43, 94, -57, -23, -74, -51, -5, -15, -90, -43, 98, 18, -48, 17, 96, -83, 66, -4, -63, 67, -14, -60, 57, 47, 40, 49, 30, -8, -44, 0, 66, 15, -69, -62, -70, -1, 6, -11, -96, -54, -18], [-77, -16, 86, 59, 37, 67, 55, -7, 93, -43, -29, 62, 8, -36, 75, 31, 11, -46, 46, 29, -93, -78, 64, -83, -66, 28, -70, -61, -10, -80, 19, -9, 33, 2, 33, -31, -88, 68, 58, 78, 89, -65, 84, -6, -52, -59, 87, 47, 92, -36, 74, 9, -8, -40, -42, -65, -2, -35, -97, -90, 43, 4, -80, -6, 46, -63, 92, -15, 53, -20, 42, 80, 33, -90, 71, 13, -72, 92, -71, -21, 7, -86, 50, -16, -99, 30, -87, 72, 66, 0, 52, -86, -23, -11, -49, -28, 69, -48, -69, -7], [-6, -85, -29, -77, -40, -29, 69, -22, 74, 45, 71, 64, 77, -77, 58, 70, -56, 92, -76, 73, -60, 81, -63, -91, -63, -51, -74, -44, -72, -65, 85, 14, 73, -82, -32, 19, -26, -14, 57, -63, -48, -35, 58, 91, -80, 12, -42, 72, -84, -8, -74, -20, -89, 6, -85, 44, 75, -86, -38, 5, -41, 51, -29, 73, 37, -43, 82, -43, 84, 37, 54, 81, -96, 10, 14, 99, -9, -29, -68, -84, -81, -15, -61, -63, -75, -70, 40, -99, 15, 52, 0, 53, 26, 70, -79, 98, -98, -37, 67, -85], [-45, 8, -75, -26, 96, 65, -48, -52, 84, -10, -87, -1, 82, 51, 98, 55, 26, -71, -76, -40, 36, -43, -99, 40, 57, 85, -81, -65, 14, 34, -21, -99, 46, -28, -60, 74, 72, -22, 82, -53, 8, -14, -91, 85, -69, 35, -48, 27, -62, 57, -57, 28, -4, -71, 65, -21, -81, 21, 14, -47, -38, 50, -53, 54, 21, 47, -39, 78, 32, -6, -13, 81, -5, 96, -19, 42, 65, 65, -17, 70, -64, -91, 80, -59, 75, 92, -67, 30, -69, -86, 53, 0, 16, 46, -59, -77, -7, 22, 53, 46], [-28, 6, 95, 50, 80, -18, -95, 63, 24, 85, -98, -25, -10, -93, 53, -52, -54, 35, 24, -23, 87, -75, 66, -51, -24, 26, -42, -55, -43, -65, 18, -8, -14, -34, -97, 19, 64, 56, -78, 55, -8, 26, -9, -60, -54, 88, -80, -90, 39, 65, -83, 24, -33, 70, -73, 91, -85, 68, -9, -31, 52, 61, -56, -1, 58, -74, -70, 28, 34, 34, 68, -88, -13, 88, -83, -43, 96, 63, -83, 46, -70, -96, 2, 50, -1, -21, -74, 64, -62, -23, 26, 16, 0, -31, -79, -90, 43, -23, -51, 72], [35, -88, -55, 40, -80, 90, -90, -95, -64, 41, -54, -79, -93, -74, 4, 33, 65, 37, -72, 37, 28, -56, -78, -63, -63, 38, 65, 57, 49, 55, 93, 74, -82, 61, 76, -63, -62, 20, 54, 97, -30, -41, -78, 97, -98, 6, -87, 2, 62, 14, -94, 76, 38, -78, 43, 58, -99, -43, 43, 4, -36, 39, -37, -43, 38, -52, 57, 23, 55, -45, 9, -94, 93, 12, -86, -76, -78, 0, 1, -80, -41, -9, 33, -56, -41, -76, -11, 9, -70, -11, 70, 46, -31, 0, 55, -72, -52, -42, 53, -94], [-92, -48, -34, 96, 26, 91, -21, 5, -21, -46, 70, -18, -33, -23, 44, -93, -14, -99, -81, 12, -32, -99, -57, 23, -100, 54, 37, -91, -72, -82, -6, -58, -37, -51, -54, 81, 1, -12, 32, -26, -85, 95, -67, 77, 30, -89, 12, 5, 94, -36, -78, 0, 18, -10, -3, -50, -18, 54, -93, -60, -69, 43, 51, -30, -86, 90, -6, -100, -26, 64, -90, 85, -90, -64, -93, 94, -48, -47, 8, -66, 46, 31, -73, 45, 33, -3, -73, -64, -1, -49, -79, -59, -79, 55, 0, -72, -36, 6, -87, 4], [-93, -77, 24, -100, -41, -65, 93, 29, -76, 45, 65, 91, -56, -34, -55, 15, 75, -12, -70, 47, -78, -12, 40, 85, 70, -70, 58, 67, 84, -56, -44, 89, -54, -89, 63, 53, 11, -39, 32, -59, -85, -35, -60, 91, -54, 98, -99, -16, -69, -59, -67, 43, 49, 28, 42, -99, 39, -45, 44, 9, -32, -91, -39, 76, 33, 54, 4, 79, -81, -65, -30, -28, 73, -38, -29, -47, -54, -100, -61, -56, 23, 6, -96, 85, -92, -20, -96, 22, 6, -28, 98, -77, -90, -72, -72, 0, -76, -99, 24, -29], [56, -53, 46, -67, 88, -73, -99, -63, -89, -66, -93, 0, 34, 73, -67, -65, -92, -69, 24, 14, -88, 68, -59, -16, 74, 98, 12, 32, 37, 42, 92, -98, -45, -3, -76, -1, 78, 12, -64, 15, -59, 27, 71, 12, 2, 69, -26, 44, 64, -73, -28, -67, 44, 7, 92, -15, 36, -20, -95, -52, 4, 35, 55, -70, -69, 54, -54, -85, 48, -68, 79, 40, -20, -69, -95, -30, -88, 1, -14, 41, -19, 40, -39, 31, 86, 20, -14, -90, -11, 69, -98, -7, 43, -52, -36, -76, 0, -99, 89, 84], [47, 24, 51, 31, 89, -8, 91, 64, -46, -69, 32, 12, -47, 69, 38, -97, 5, -84, 70, -87, 33, 81, -40, -92, 0, 25, 94, 62, -100, -66, 89, -100, 34, 19, 61, 62, 60, 10, 31, 14, -78, -5, -94, 83, -43, 52, 70, 78, 78, -27, 57, 77, 59, 39, -60, -99, 8, -56, 88, -47, -82, 5, -26, -66, 65, -58, -42, 66, 9, -43, -90, 98, 5, 21, -93, -37, -78, 15, -97, 12, -1, 30, 48, -88, 64, -1, -39, -59, -96, -48, -37, 22, -23, -42, 6, -99, -99, 0, -76, 61], [-2, 6, -35, 8, -100, -36, 4, -40, 12, -93, -6, -55, 0, 55, 69, 18, 58, 69, 88, 4, 35, 78, 10, 37, 45, -84, -15, -44, 38, 95, -47, -83, 64, -91, 25, -9, -37, 0, 68, 62, 44, 66, -13, -82, -60, 93, -42, 99, 72, -85, 92, -43, 14, -68, -30, 22, 0, -35, 81, -33, 71, 36, -86, 84, 36, -29, -1, -31, -49, 16, -71, -55, 46, 10, 70, 14, -4, 74, -16, 81, 60, 91, 24, -75, -61, -8, -67, -48, -54, -69, 67, 53, -51, 53, -87, 24, 89, -76, 0, -49], [-60, -53, 14, -79, -90, 32, 99, -82, -11, 15, 11, 27, 4, -29, -50, -76, 86, 66, 59, -67, -98, 54, -59, -61, -46, -80, -43, -36, -82, -69, 6, -72, 44, -52, 30, 80, -41, -5, -98, -31, 29, -47, 61, 21, -48, 10, 45, -70, -32, -29, 79, 82, 78, 20, -75, -63, 36, 59, -79, -73, -29, -85, 52, -83, 7, 75, -68, -4, -67, 35, -38, -73, -55, -37, 53, -32, -86, -5, -92, 61, -91, -80, -80, -75, 47, 80, 25, -39, -18, -7, -85, 46, 72, -94, 4, -29, 84, 61, -49, 0]]\n",
      "NEW:\n",
      "Initial solution: [13, 11, 9, 13, 2, 14, 1, 7, 9, 3, 12, 9, 11, 7, 13, 10, 9, 9, 7, 10, 15, 14, 4, 5, 16, 7, 16, 8, 5, 3, 4, 8, 11, 16, 6, 13, 5, 12, 3, 12, 0, 16, 14, 5, 8, 3, 8, 6, 10, 15, 0, 10, 2, 12, 2, 16, 16, 6, 14, 14, 4, 7, 4, 15, 8, 15, 9, 1, 0, 11, 6, 1, 1, 0, 6, 3, 10, 1, 0, 13, 10, 7, 13, 4, 3, 14, 15, 5, 0, 2, 5, 4, 12, 8, 15, 11, 6, 11, 2, 12, 1, 2], score: -0.008745954152970858\n",
      "  Final solution: [6, 13, 4, 12, 6, 9, 14, 8, 9, 9, 4, 10, 13, 16, 14, 10, 8, 16, 5, 8, 8, 2, 10, 13, 15, 6, 12, 2, 16, 3, 14, 11, 12, 3, 5, 15, 2, 0, 7, 10, 15, 9, 3, 1, 2, 1, 10, 9, 12, 12, 7, 14, 6, 5, 15, 3, 3, 15, 11, 0, 5, 13, 9, 6, 16, 1, 16, 4, 4, 11, 0, 11, 7, 7, 2, 1, 2, 4, 13, 13, 0, 0, 15, 11, 4, 8, 16, 12, 7, 7, 3, 1, 10, 14, 11, 14, 0, 6, 5, 1, 5, 8], score: 4.121157717514568\n"
     ]
    },
    {
     "data": {
      "image/png": "[encoded data removed]",
      "text/plain": [
       "<Figure size 640x480 with 1 Axes>"
      ]
     },
     "metadata": {},
     "output_type": "display_data"
    },
    {
     "data": {
      "text/plain": [
       "'genetic_algorithm_(1, 100, test_preference_matrix, 3)\\ngenetic_algorithm_(1, 100, test_preference_matrix, 3)\\ngenetic_algorithm_(1, 100, test_preference_matrix, 3)\\ngenetic_algorithm_(1, 100, test_preference_matrix, 3)'"
      ]
     },
     "execution_count": 65,
     "metadata": {},
     "output_type": "execute_result"
    }
   ],
   "source": [
    "def genetic_algorithm_2(num_iterations, population_size, preference_matrix, seatsPerTable):\n",
    "    start_time = time.time()\n",
    "        \n",
    "    \n",
    "    filled_preference_matrix = fill_matrix(seatsPerTable, preference_matrix)\n",
    "    population = generate_population_(population_size, filled_preference_matrix, seatsPerTable)\n",
    "    \"\"\"print(\"population[0]: \")\n",
    "    print(population[0])\"\"\"\n",
    "    best_solution = population[0]\n",
    "    best_score = evaluate_solution_(population[0], filled_preference_matrix)\n",
    "    #num_iterations=500\n",
    "\n",
    "    best_scores = []\n",
    "    all_scores = []\n",
    "    avg_scores = []\n",
    "\n",
    "    for solution in population:\n",
    "        all_scores.append(evaluate_solution_(solution, filled_preference_matrix))\n",
    "    \n",
    "\n",
    "    print(f\"Initial solution: {best_solution}, score: {best_score}\")\n",
    "\n",
    "    while(num_iterations > 0):\n",
    "\n",
    "        #parent1 = tournament_select_( population, filled_preference_matrix, 10)\n",
    "        parent1 = roulette_select_(population, filled_preference_matrix)\n",
    "        #parent2 = tournament_select_( population, filled_preference_matrix, 10, parent1)\n",
    "        parent2 = roulette_select_(population, filled_preference_matrix, exclude=parent1)\n",
    "\n",
    "        if parent2 is None:\n",
    "            parent2 = parent1\n",
    "\n",
    "        #estatisticas para grafico\n",
    "        avg_score = np.mean(all_scores)\n",
    "        avg_scores.append(avg_score)\n",
    "        best_solution = max(population, key=lambda x: evaluate_solution_(x, filled_preference_matrix))\n",
    "        best_scores.append(evaluate_solution_(best_solution, filled_preference_matrix))\n",
    "\n",
    "\n",
    "        # Next generation Crossover and Mutation\n",
    "        child1, child2 = random_crossover_(parent1, parent2, filled_preference_matrix, seatsPerTable)\n",
    "\n",
    "\n",
    "        child1, child2 = mutation_(child1), mutation_(child2)\n",
    "        \n",
    "        population.append(child1)\n",
    "        population.append(child2)\n",
    "        all_scores.append(evaluate_solution_(child1, filled_preference_matrix))\n",
    "        all_scores.append(evaluate_solution_(child2, filled_preference_matrix))\n",
    "        population.sort(key=lambda sol: evaluate_solution_(sol, filled_preference_matrix), reverse=True)\n",
    "        population = population[:population_size]\n",
    "\n",
    "        num_iterations-=1\n",
    "    \n",
    "    best_solution= population[0]\n",
    "    best_score=evaluate_solution_(best_solution, filled_preference_matrix)\n",
    "    print(f\"  Final solution: {best_solution}, score: {best_score}\")\n",
    "\n",
    "    final_solution = solution_to_tables(best_solution)\n",
    "    num_guests = len(preference_matrix) \n",
    "    best_solution = [[guest for guest in table if guest < num_guests] for table in final_solution]\n",
    "\n",
    "\n",
    "    end_time = time.time()\n",
    "    print(f\"Tempo de execução: {end_time - start_time:.6f} segundos\")\n",
    "    show_graph(best_scores, avg_scores)\n",
    "\n",
    "    return best_solution"
   ]
  },
  {
   "cell_type": "code",
   "execution_count": null,
   "metadata": {},
   "outputs": [
    {
     "name": "stdout",
     "output_type": "stream",
     "text": [
      "MATRIZ PREFERENCIA\n",
      "[[0, -74, 56, -86, 60, 71, 22, 99, 89, 62, -58, 9, -66, 91, 9, 86, -47, -28, -74, 13, -80, 34, 56, -57, 54, 46, 54, 56, -36, 1, -3, -97, -46, 47, 71, -68, 52, -80, -97, 14, -48, -81, 71, -25, 33, 36, 62, 98, 91, -68, 30, -22, 30, 31, -2, -32, 15, 3, -32, 66, -9, 13, -29, -43, 39, -98, -46, -67, -44, -63, 82, -4, -100, -88, 39, 25, -76, -33, -78, 56, 45, 63, 42, -94, -29, 60, -96, 63, 15, 22, -65, -62, 18, -58, 66, -7, 64, -67, 30, -100], [-74, 0, 99, 11, -38, 70, -87, -76, -34, 43, -24, 36, -11, 55, -25, -70, 55, 70, -93, 94, 57, -39, -29, -76, 85, 88, 17, -98, 64, -65, 31, -67, -8, -94, -2, 42, -73, 66, -96, -99, -6, -81, -67, -56, 5, -50, 49, -88, -46, -21, 57, 83, -8, -23, 26, -31, -52, -33, -8, 33, 61, -41, -88, -94, 77, -64, 64, 3, 37, -62, -68, -86, 65, 61, -16, 11, 57, -78, 32, -95, 83, 13, 31, 4, 24, 63, -73, 30, -92, -98, 99, -8, -34, -75, 24, -12, 22, 48, -55, 88], [56, 99, 0, -98, 63, 42, 26, -93, -42, -38, -9, 86, -93, -59, 75, -22, -35, -55, -76, -13, -42, 67, 72, -13, 8, 8, -12, -21, -81, 92, 32, -71, 60, 72, -52, 90, -69, 33, -18, -76, 19, -59, 62, 14, -87, -65, 5, 68, -94, 79, -68, -59, -48, -51, 17, -60, -56, 72, 55, -18, 42, 57, 71, 9, -95, -62, 58, 20, 47, 61, -25, -79, 64, -97, 96, 53, 10, 6, -40, -4, 80, 26, -96, -14, -35, 35, -48, 73, -36, -4, -3, 50, -9, 17, -24, 68, 65, -46, 72, 29], [-86, 11, -98, 0, 19, 54, 88, 13, -13, 87, -78, 27, 83, 6, 18, 39, -73, -39, 5, -44, -88, -78, 12, -74, 44, -84, 21, -53, -9, -59, 68, 38, 81, 58, 63, -79, 49, 90, -80, 28, -32, -41, -70, -68, -90, -69, -64, -29, 64, -95, -23, 14, 39, -30, -20, 23, 80, 33, 69, 59, -44, 90, -62, -95, 55, -52, 29, 82, -7, -49, 63, -67, -52, 47, 7, -53, -36, 8, 98, 29, -31, 97, -23, -47, 65, 76, 85, 47, -32, 91, -85, -34, -62, -36, -1, -32, -74, -71, 63, 37], [60, -38, 63, 19, 0, 83, 51, 24, 51, -64, -83, 58, 93, 88, 97, -72, -4, 19, -32, 4, -80, -51, -59, -68, -28, 9, 17, 79, 54, 78, 85, 66, 32, -34, 97, -93, -69, 10, -40, 57, -94, 39, -36, 56, -74, -63, 3, 83, 72, 94, 13, -40, -79, 6, -81, -48, -74, 57, -45, -98, 83, -37, -82, -9, 80, -37, -7, 24, 7, -67, 11, 59, 46, -57, -55, -56, -35, -23, -7, -88, 89, -66, -97, -96, 53, -79, -11, 82, -78, -74, 45, 98, 95, 4, 53, 21, -75, 0, -78, 32], [71, 70, 42, 54, 83, 0, -84, -19, -38, -25, 39, 36, -17, 37, 41, 83, 30, 91, 8, 61, 51, -51, -31, 73, 2, -82, -82, -77, -23, 55, -31, -39, -89, -27, -71, -34, 2, -90, 41, -84, -59, 10, -31, -99, -82, -78, 85, -10, 92, 28, -87, -70, -14, -63, -41, -17, 71, 26, 26, -4, -4, -97, 24, 11, 38, -89, 1, 61, -28, -67, -34, 51, -7, -50, 88, -58, 68, 54, -79, -4, 92, 56, 30, -12, 17, 20, 93, 99, -47, -91, -70, -40, 48, -69, -3, -71, 36, -52, 37, -78], [22, -87, 26, 88, 51, -84, 0, 20, 50, -57, -18, 89, 65, 6, -8, -81, -34, 0, -71, -2, 87, 9, 8, -34, 59, -97, -85, 39, 63, 55, -73, 94, -39, -21, -80, -73, -63, -69, -84, 94, -2, -1, 52, -70, -60, -14, -72, -37, 92, -46, -56, -18, -75, -29, 59, 92, -77, -96, 28, 76, -66, 54, -88, 47, -21, -96, -68, 24, 27, -32, -61, -91, 86, -20, 92, 20, -38, -59, 14, -92, 19, 8, 76, -13, -81, -16, -86, 94, 21, 35, 12, -13, 61, -86, 19, 36, -63, -74, -32, -2], [99, -76, -93, 13, 24, -19, 20, 0, 8, 66, 9, -98, -87, 51, -49, -56, 70, -21, 99, 29, -56, 12, -10, 61, 82, -11, -30, 28, 4, 56, -18, 83, -51, -2, 36, 76, -56, -16, 43, 64, -36, -27, 55, 88, 8, -2, -65, 47, 64, 45, 64, -17, 29, -100, -50, 63, -43, -8, -1, 26, -75, 96, -82, -58, 35, 30, -100, -91, -37, 32, -94, -76, -69, -48, -21, 75, -32, -24, 62, 15, 86, -37, -74, -85, -25, 20, -77, -61, -98, -100, 14, 71, 23, 94, 35, -88, -26, 71, -79, -12], [89, -34, -42, -13, 51, -38, 50, 8, 0, -2, -33, 72, 2, -32, 23, 22, -43, 59, 41, 31, -91, 59, 3, -58, 36, 56, -43, 54, -16, 96, 23, 40, 30, 75, 0, 56, -19, 71, 94, -59, 73, -21, -39, -100, -35, 67, -57, -13, -30, -74, 7, 91, 70, 15, 89, 22, -53, 28, -29, 44, -41, 48, -18, 54, -13, 30, -88, 29, -68, 7, 92, 38, -41, -54, 56, -30, -14, -81, 28, 39, -33, -3, 58, 70, 50, 55, -3, 35, 45, 69, 56, -36, -22, 54, -8, -46, 82, 50, 34, 56], [62, 43, -38, 87, -64, -25, -57, 66, -2, 0, 10, -44, 14, -28, -73, -66, 23, 10, -61, -64, -36, 97, -18, 50, -32, -83, -67, -71, -63, 78, -38, -72, -19, -92, -40, -56, 60, -54, -87, 35, 59, -78, 24, -81, -29, -6, -19, -15, -19, -41, -3, 19, 37, 39, 6, -59, 38, -7, -31, -11, 95, -46, 58, 11, -38, -56, 17, -60, 37, -96, -24, -54, 36, 11, -73, 99, 60, -93, -57, -81, 31, 98, -68, 72, -50, 44, 40, 23, -22, 94, 5, -47, 21, -69, -24, -44, 23, -41, 20, -33], [-58, -24, -9, -78, -83, 39, -18, 9, -33, 10, 0, 17, -7, -75, 31, -87, 48, -83, -59, -55, -17, -98, 96, -30, -5, 70, -91, 26, 47, 14, -41, -40, 89, -37, -5, -52, -76, 0, 84, -9, 15, -8, 8, 81, -20, -86, -59, -37, -66, 63, 93, -3, 71, -30, -9, 80, 57, 10, -49, -99, -10, 1, 90, 7, -91, -4, 87, -2, 69, 87, 5, 19, 53, 53, -62, 93, -64, 17, 97, -30, 83, -68, 71, -34, 23, -57, -23, 0, -91, -52, -7, -3, 58, -41, -47, 72, -94, 67, -95, 8], [9, 36, 86, 27, 58, 36, 89, -98, 72, -44, 17, 0, -39, 11, -61, -31, -89, -20, 67, -97, 78, -49, 27, 49, -60, -66, 44, -33, -25, 12, 38, 66, -64, -65, -12, 49, 3, 41, 1, 12, -22, -24, -53, 81, 41, -10, -37, 66, 12, 45, 86, 82, -92, -21, -38, 84, 10, 57, 62, -41, -20, 37, 38, -93, 32, -69, -16, -2, -27, -71, -23, 0, -27, 62, 6, -99, 99, -49, -2, 31, -9, -64, -29, 37, -39, -88, 97, 39, -39, 64, -95, -49, -53, 95, -15, -99, -76, -37, 82, -57], [-66, -11, -93, 83, 93, -17, 65, -87, 2, 14, -7, -39, 0, -46, -33, -55, -68, 57, 28, -94, -90, -69, -83, -82, 60, -36, -91, 12, 62, -65, 44, 30, 6, 26, 99, 0, -45, 79, -40, 76, -54, -26, -30, 36, -34, -89, 70, 7, 15, -4, 45, 58, -78, -32, 48, -55, 17, 30, 55, -49, -97, 44, -81, -99, 23, -4, 27, -47, -67, -68, -38, 89, -21, -36, 24, 8, -63, -28, 61, -32, 57, 89, -37, -69, -49, -58, 86, 48, -96, 60, -100, 28, -48, 72, -56, 46, -62, 6, -32, -92], [91, 55, -59, 6, 88, 37, 6, 51, -32, -28, -75, 11, -46, 0, -80, -72, -18, -95, -54, -57, 76, -3, 30, -77, 49, -5, 98, -74, 21, 33, -16, 25, -41, 50, 40, 65, 44, 78, 34, 45, 34, 89, 41, -9, 10, 88, 41, 51, -97, -46, 46, 93, -27, 85, 14, 29, -94, -17, -28, -17, -82, -78, -79, 93, 62, 89, -5, 94, -50, -39, -68, 39, 65, -14, -20, 42, -75, -19, 2, -67, -61, -87, 9, 62, 80, 55, -29, 71, 49, 0, 48, 64, -39, 23, 17, -8, -38, 37, -74, 60], [9, -25, 75, 18, 97, 41, -8, -49, 23, -73, 31, -61, -33, -80, 0, 8, -11, -44, -86, 17, -41, 36, 20, -89, 17, -72, 67, -35, 92, -11, 57, -82, -16, 31, 11, -86, 31, 3, 35, -70, 34, -19, -43, -2, -15, 46, -64, -20, -39, 78, 27, 79, 55, 71, 47, -43, 58, -15, -26, -37, -2, -100, -46, 42, -94, 86, -34, -60, -36, 86, 51, 88, -99, 71, -86, -19, 23, -93, 44, -81, 84, 21, 26, -42, 12, -98, 7, 51, -7, 66, 77, 87, 79, 31, 20, 89, 12, 27, -65, 45], [86, -70, -22, 39, -72, 83, -81, -56, 22, -66, -87, -31, -55, -72, 8, 0, -5, 86, 81, -67, 47, 47, 49, -41, -82, 21, -17, -74, -18, 40, 16, -47, -73, -64, -29, 12, -41, -30, -37, -60, 3, -65, -50, 36, 64, 49, -76, 94, 12, -65, -85, -99, 14, -66, -1, -47, 27, 20, -44, 41, -50, 8, 75, 19, 21, -36, 63, 69, -62, 36, 78, -25, -46, 46, -46, 4, -55, 74, -59, 86, -18, 30, 87, 63, 16, 77, -93, -4, -43, 93, -79, -42, 38, 0, 55, 6, -70, 19, -3, 83], [-47, 55, -35, -73, -4, 30, -34, 70, -43, 23, 48, -89, -68, -18, -11, -5, 0, -10, 12, 59, 73, -41, 50, -33, 72, 75, 40, 44, 85, 33, 79, -48, -61, 77, 36, 34, 23, -89, 18, 82, 7, -55, 47, -69, 81, -34, -42, -10, -3, 35, 95, 41, -71, -80, -96, 39, 33, 88, 60, 93, 31, -33, -25, -19, -58, -44, -56, -69, 5, 33, -96, -94, 12, -38, -28, -71, 65, -43, 93, 61, -52, 52, -12, -24, 76, 75, -38, -35, 91, 44, -45, 38, -36, 51, 61, -19, 17, 8, 95, 32], [-28, 70, -55, -39, 19, 91, 0, -21, 59, 10, -83, -20, 57, -95, -44, 86, -10, 0, -61, 45, 74, -34, 92, 91, -63, -91, 61, 68, -97, -94, -73, 48, 38, -25, 42, 36, 43, 75, 94, 55, -84, 67, -86, -64, -84, -23, 46, -2, 89, -87, 15, -20, -84, -67, -44, 4, 7, -95, 13, -76, 11, 78, -9, -19, -29, 84, -85, -65, 36, 23, -8, 90, -69, 10, 22, 72, -99, -93, 72, 57, -8, -8, -45, -21, 38, 39, -37, -48, 23, 16, -34, -71, -68, -58, 99, -78, 31, -56, 97, -73], [-74, -93, -76, 5, -32, 8, -71, 99, 41, -61, -59, 67, 28, -54, -86, 81, 12, -61, 0, 93, 12, -61, 76, 65, 41, -58, 64, -54, 14, 86, 90, 97, 74, -66, 67, 49, -16, 7, -24, -3, -86, -12, 34, 10, 81, 46, -58, -62, -10, -26, 77, -95, 98, -16, 99, 13, 3, -18, -92, 21, 84, 97, -79, -20, 70, -2, -94, 34, -72, -80, -85, -3, -67, -95, -75, 22, -61, -37, -85, -51, -90, 0, -46, -32, -33, -91, 7, 47, 81, -27, 0, -38, -87, -41, 36, -42, 16, -94, 89, -58], [13, 94, -13, -44, 4, 61, -2, 29, 31, -64, -55, -97, -94, -57, 17, -67, 59, 45, 93, 0, -91, -51, -5, 27, 99, -72, 65, 43, -13, 12, 51, 57, 66, -66, -24, 85, 5, -17, 16, -90, 88, 12, 21, 71, -83, 83, 12, -92, 33, 65, 1, 90, 86, 74, 77, 70, 6, 98, 82, 67, 0, 23, 52, 38, 39, -68, 49, -87, 21, 27, -90, -2, 90, -29, -13, -28, 45, -98, 63, 44, 33, -62, 21, -2, 10, 69, 57, -73, 71, 10, 87, 17, 21, -12, -79, 31, 86, -95, 87, -40], [-80, 57, -42, -88, -80, 51, 87, -56, -91, -36, -17, 78, -90, 76, -41, 47, 73, 74, 12, -91, 0, -92, 85, -6, 70, 25, -90, 96, -40, 55, 77, 47, 46, 61, 79, 79, 49, 59, -78, 2, -87, -52, -76, -91, 24, 12, -4, 59, -11, -46, -9, 95, 88, 58, 62, 81, 5, -70, -59, 12, 28, 13, 1, -70, 61, 93, -81, 42, 47, 16, 43, -43, -40, 99, 97, -1, 4, -17, -78, 17, 59, 99, -14, -61, -19, 4, -19, 98, 90, -61, 81, -63, -43, 69, -7, -30, -33, 96, -58, 60], [34, -39, 67, -78, -51, -51, 9, 12, 59, 97, -98, -49, -69, -3, 36, 47, -41, -34, -61, -51, -92, 0, -57, 45, 66, 24, 5, -61, -61, 35, -14, 6, 35, -53, 45, -74, -62, 42, -35, -70, 50, -82, -72, -79, 37, -6, -77, 46, -23, 99, -56, -33, 31, -33, -57, 19, 83, 50, 13, 67, -61, 37, 99, 57, -100, 80, -10, -68, -18, 23, -38, -21, -65, 20, -3, -7, 3, 7, 3, 89, -46, -10, 60, -87, -9, -67, -79, -49, 27, 36, -69, 12, -17, -39, -36, -18, -78, -93, -97, -25], [56, -29, 72, 12, -59, -31, 8, -10, 3, -18, 96, 27, -83, 30, 20, 49, 50, 92, 76, -5, 85, -57, 0, -50, 31, 25, -68, 70, 89, 28, -16, -63, 57, 30, -30, 56, -32, -76, 96, -54, 42, 26, -78, 19, -75, -50, -76, -23, 74, -63, -71, -62, 72, 63, -10, 38, -41, -73, 42, -65, -28, 52, -30, -85, 12, 64, 91, 40, 21, -49, 31, -58, -35, -16, 70, -79, -27, -19, 97, -9, -56, -8, 93, 2, 84, 14, -51, -45, 5, 60, -16, -23, 41, 38, 87, -40, 61, -78, 86, 91], [-57, -76, -13, -74, -68, 73, -34, 61, -58, 50, -30, 49, -82, -77, -89, -41, -33, 91, 65, 27, -6, 45, -50, 0, 58, -32, -34, -89, -74, -20, 24, 55, -80, -72, 80, 60, 18, -31, -30, -90, 62, -32, 49, 6, -66, 88, 35, -59, -7, -68, 21, 57, -86, 7, 54, -27, 82, 94, -3, -13, -66, 24, -84, 93, 55, 11, 46, -4, 5, -92, 43, 64, 21, -78, -59, -93, 57, -50, 7, 80, -75, 71, -85, 94, -4, 19, 80, -69, 44, -77, -51, 61, -7, -64, 19, 36, 62, -30, -31, 10], [54, 85, 8, 44, -28, 2, 59, 82, 36, -32, -5, -60, 60, 49, 17, -82, 72, -63, 41, 99, 70, 66, 31, 58, 0, 85, -51, 74, -21, -52, 70, 80, 8, -67, -42, 87, -78, 5, -100, 16, -34, 57, 65, -11, 88, 37, -85, -87, -20, -18, -2, 73, 37, -1, -33, -97, 91, 84, -97, 40, -51, -26, -23, -59, -97, -51, -56, -95, -8, -28, 93, -8, 69, -36, 71, -91, 1, -69, 62, -78, -2, 90, -47, 54, 91, 62, -64, -44, -37, 79, -30, 17, -51, -83, -13, -31, 46, -87, 68, 72], [46, 88, 8, -84, 9, -82, -97, -11, 56, -83, 70, -66, -36, -5, -72, 21, 75, -91, -58, -72, 25, 24, 25, -32, 85, 0, -87, 30, -79, -73, 60, -5, -35, -3, 24, 55, 43, -2, -17, -91, 80, 15, -3, -15, 76, -54, -79, 72, 60, -34, 61, 93, 51, 46, 73, 45, 97, -95, 42, -40, 96, 28, 43, 55, -66, 17, -81, 17, 29, -92, -99, 5, -89, 78, -82, -87, -37, 43, 7, 11, -61, -71, 65, -38, 80, -59, -38, 2, -63, 93, -6, -2, -32, 60, -51, 57, 47, -81, -44, -36], [54, 17, -12, 21, 17, -82, -85, -30, -43, -67, -91, 44, -91, 98, 67, -17, 40, 61, 64, 65, -90, 5, -68, -34, -51, -87, 0, -54, -13, 14, 88, 58, -52, 46, 92, 86, 73, 5, -93, 39, 37, 67, 22, 1, -22, 10, 62, -9, -51, 12, -98, -29, 78, -36, -86, 22, -28, 27, 55, -88, -11, -70, 63, -58, -12, -74, -10, 60, 88, 80, -73, -33, 0, 87, -46, -3, -82, -92, 68, -26, 99, -1, -62, -55, -50, -89, 23, -7, 19, -80, 75, -27, 22, -36, -18, 37, 78, -79, -32, -72], [56, -98, -21, -53, 79, -77, 39, 28, 54, -71, 26, -33, 12, -74, -35, -74, 44, 68, -54, 43, 96, -61, 70, -89, 74, 30, -54, 0, -37, 0, -6, -95, 66, -17, 32, 97, -95, -76, 79, -85, -75, -43, -23, 30, 74, -54, -47, 6, -68, -34, -28, 43, -97, -92, 80, 11, 53, -16, -87, 15, 11, 39, -49, -5, 36, -29, 24, 38, 38, -39, 29, -33, 88, -20, 53, -46, -50, 70, 82, 25, 30, -52, -31, 18, -52, 78, 78, 39, -99, 4, 7, 81, -54, -11, 23, -60, -92, -71, -49, -30], [-36, 64, -81, -9, 54, -23, 63, 4, -16, -63, 47, -25, 62, 21, 92, -18, 85, -97, 14, -13, -40, -61, 89, -74, -21, -79, -13, -37, 0, -55, 55, -49, 27, 65, -36, -52, 37, -5, 63, -71, 68, -61, 38, 83, 48, -69, 94, 78, 37, -28, 16, 13, 35, 73, 10, -40, 64, 64, -60, -11, -51, -91, -81, 49, 18, 91, 45, -31, 62, -66, -90, -2, 61, -94, 75, -90, -45, 15, -86, 19, 53, -43, -9, -72, -44, 14, 75, 68, -20, 71, -61, -64, 60, -1, -75, -54, -25, -78, -3, -19], [1, -65, 92, -59, 78, 55, 55, 56, 96, 78, 14, 12, -65, 33, -11, 40, 33, -94, 86, 12, 55, 35, 28, -20, -52, -73, 14, 0, -55, 0, 59, -60, 5, 58, -83, 27, 59, 93, 57, 50, -20, -94, -28, 52, 8, 40, 89, -31, -55, 66, 61, 65, 82, -83, -79, -27, -47, -94, 39, 59, -71, -63, 28, -59, -31, 70, 8, -48, -69, 64, -86, -84, 56, 19, -17, -81, 42, -81, -62, -19, 78, 11, -71, -74, 5, -55, -1, 48, 39, -15, 42, 38, 0, 14, -1, -29, -57, 46, -37, -19], [-3, 31, 32, 68, 85, -31, -73, -18, 23, -38, -41, 38, 44, -16, 57, 16, 79, -73, 90, 51, 77, -14, -16, 24, 70, 60, 88, -6, 55, 59, 0, -98, -31, -35, -89, -87, -48, -46, 2, 95, 9, -74, 91, -78, -71, 69, 56, 79, -61, 55, -72, -88, -6, -61, -51, -98, 65, 44, -29, 25, 46, -9, -27, -72, 54, 51, 96, -99, -61, 30, 48, -99, 14, -15, -72, 85, 29, -3, 68, -8, -29, 13, -87, 84, 58, 38, 72, -100, -68, -1, 78, -55, -99, -73, 39, -75, 51, -26, 98, -37], [-97, -67, -71, 38, 66, -39, 94, 83, 40, -72, -40, 66, 30, 25, -82, -47, -48, 48, 97, 57, 47, 6, -63, 55, 80, -5, 58, -95, -49, -60, -98, 0, -54, -38, -47, -51, 89, 18, -7, -64, 96, 0, -55, 6, -73, -70, -37, 18, 63, -13, 27, 21, -62, -92, 92, 34, 7, 48, -72, 12, 45, -86, -48, -36, 13, 18, -53, 31, -95, -36, 47, -36, -59, -42, 47, 38, 52, 5, 34, 96, -29, 31, 63, -54, -6, -9, -79, 81, 38, 77, 55, 9, -10, 27, 99, 35, 41, 92, -72, 54], [-46, -8, 60, 81, 32, -89, -39, -51, 30, -19, 89, -64, 6, -41, -16, -73, -61, 38, 74, 66, 46, 35, 57, -80, 8, -35, -52, 66, 27, 5, -31, -54, 0, 37, 43, 47, -1, 67, 87, -30, -16, 10, -68, -12, 81, 81, 23, 0, 83, 90, 61, 41, -4, -88, 22, 76, 41, 87, -99, -69, -53, 19, 30, -5, 51, -30, -9, -75, 54, 9, 43, -4, 44, -76, 36, 68, -36, -27, 23, 48, 76, -90, 53, 6, 40, 17, -27, 6, 54, -56, -67, -50, -70, 49, -13, 9, 73, 10, -21, 77], [47, -94, 72, 58, -34, -27, -21, -2, 75, -92, -37, -65, 26, 50, 31, -64, 77, -25, -66, -66, 61, -53, 30, -72, -67, -3, 46, -17, 65, 58, -35, -38, 37, 0, 84, -58, -8, -1, 35, -83, 57, 81, 51, -83, -51, -81, 54, 86, -10, -81, 94, 75, 97, 84, -49, -34, -51, -99, -54, 9, -78, -65, 55, 70, 41, -55, -26, -34, -1, 41, 48, 85, 98, 35, 15, -89, 35, -32, 27, 35, -29, 92, 1, 99, 4, 30, 52, 12, 94, 11, -72, 99, -99, -14, 23, 37, -62, 35, 90, 69], [71, -2, -52, 63, 97, -71, -80, 36, 0, -40, -5, -12, 99, 40, 11, -29, 36, 42, 67, -24, 79, 45, -30, 80, -42, 24, 92, 32, -36, -83, -89, -47, 43, 84, 0, 65, -48, 22, -89, -95, -32, 80, 49, 8, 20, 98, -69, 31, -17, -83, -6, 68, 98, 88, -91, -74, 22, -81, -73, -65, -62, 23, 27, -48, 62, -78, -38, -74, -80, -68, 43, 98, -82, 29, -6, 70, -82, -20, 33, -94, -27, -68, 41, -17, -3, 65, -24, -97, 0, 52, 30, 81, -19, -82, -32, -46, -66, 87, 84, 1], [-68, 42, 90, -79, -93, -34, -73, 76, 56, -56, -52, 49, 0, 65, -86, 12, 34, 36, 49, 85, 79, -74, 56, 60, 87, 55, 86, 97, -52, 27, -87, -51, 47, -58, 65, 0, -51, -16, -19, 54, 16, 7, 39, 89, 77, -23, 38, -59, 69, 69, -5, 41, -22, -21, 42, -27, -100, 98, -83, 58, 52, -1, -36, 37, 66, 6, 8, 23, 77, -6, 93, 96, 71, -88, -79, -93, -21, 18, -22, -37, -43, -75, -19, -3, 69, -4, 19, -62, -94, 80, -4, -24, 78, -37, -90, -45, 89, 93, 32, -74], [52, -73, -69, 49, -69, 2, -63, -56, -19, 60, -76, 3, -45, 44, 31, -41, 23, 43, -16, 5, 49, -62, -32, 18, -78, 43, 73, -95, 37, 59, -48, 89, -1, -8, -48, -51, 0, -68, 63, 97, -42, 15, 85, -29, 2, -27, -2, -27, 22, -94, -66, -62, -66, 22, 7, -67, 90, 85, 21, 75, -61, 44, -44, -94, -20, 3, 60, 3, -60, 28, -5, 85, -59, 13, 18, -65, 30, -66, -2, -1, 46, 45, -38, -94, -92, 17, 83, -71, -42, -67, -63, -29, 24, -86, -3, 18, -83, 62, 55, -49], [-80, 66, 33, 90, 10, -90, -69, -16, 71, -54, 0, 41, 79, 78, 3, -30, -89, 75, 7, -17, 59, 42, -76, -31, 5, -2, 5, -76, -5, 93, -46, 18, 67, -1, 22, -16, -68, 0, -87, -14, 0, 76, -36, -61, -55, 97, 59, -66, -23, -22, -62, -34, -91, 65, 34, 98, 91, 87, 1, -75, 89, 86, -30, 42, 95, 68, -17, 46, -93, 84, -76, 65, 97, 81, 18, -82, -22, -48, 13, 36, 35, -33, 88, -21, 66, -95, 92, 10, -61, -47, 83, -78, -94, -51, -12, 30, 86, 8, 81, -36], [-97, -96, -18, -80, -40, 41, -84, 43, 94, -87, 84, 1, -40, 34, 35, -37, 18, 94, -24, 16, -78, -35, 96, -30, -100, -17, -93, 79, 63, 57, 2, -7, 87, 35, -89, -19, 63, -87, 0, -11, -15, -82, -62, 16, 44, 69, 38, -11, 28, -67, 49, -99, 44, -68, -38, -39, 26, 65, 24, -81, 39, 24, 68, -70, -71, -8, 10, -85, -99, 2, -85, -54, -99, 73, -84, 89, 34, -13, 72, 24, -25, 41, 78, 10, -64, -8, -79, 94, -27, -1, 21, -41, -9, -40, -78, 65, 95, 9, -71, 95], [14, -99, -76, 28, 57, -84, 94, 64, -59, 35, -9, 12, 76, 45, -70, -60, 82, 55, -3, -90, 2, -70, -54, -90, 16, -91, 39, -85, -71, 50, 95, -64, -30, -83, -95, 54, 97, -14, -11, 0, -28, -71, 20, 19, 58, 11, 95, 4, -88, 30, -83, 66, -55, -56, -58, 26, 54, 84, -88, -48, 57, 99, 65, 91, -83, -11, -92, 65, -32, 37, -56, 63, 98, 13, -91, 97, -9, 27, -85, 77, -33, 53, 15, -28, 82, -94, 33, -6, 4, 7, -57, 45, 80, 54, 55, -39, 9, -63, -1, 36], [-48, -6, 19, -32, -94, -59, -2, -36, 73, 59, 15, -22, -54, 34, 34, 3, 7, -84, -86, 88, -87, 50, 42, 62, -34, 80, 37, -75, 68, -20, 9, 96, -16, 57, -32, 16, -42, 0, -15, -28, 0, -34, 74, -23, 8, -49, 17, 81, -33, 16, -85, 20, 26, -100, -69, -1, 26, 65, 14, -89, 81, 9, 1, 64, 18, -27, -70, 13, 95, 70, -16, 25, -88, -4, 85, 1, 43, 7, -65, -19, -34, 16, 45, 73, 63, -95, 14, 63, 37, -86, 31, -93, 29, 15, 8, -94, -50, -76, -90, 54], [-81, -81, -59, -41, 39, 10, -1, -27, -21, -78, -8, -24, -26, 89, -19, -65, -55, 67, -12, 12, -52, -82, 26, -32, 57, 15, 67, -43, -61, -94, -74, 0, 10, 81, 80, 7, 15, 76, -82, -71, -34, 0, -33, -13, -17, -33, -68, -57, 13, 30, 90, -9, -38, 77, 96, -68, 60, 35, -89, -21, 71, -12, 33, -52, -53, 85, 11, -81, -51, 53, 1, 96, -86, 61, 33, 6, 48, 11, 57, -72, -80, 66, 34, -87, 93, 26, -30, 64, 28, 40, 6, -42, 97, -9, 70, 19, -81, 18, -70, -72], [71, -67, 62, -70, -36, -31, 52, 55, -39, 24, 8, -53, -30, 41, -43, -50, 47, -86, 34, 21, -76, -72, -78, 49, 65, -3, 22, -23, 38, -28, 91, -55, -68, 51, 49, 39, 85, -36, -62, 20, 74, -33, 0, 12, 9, 99, 41, -9, -86, 0, -95, -80, 44, -22, -57, 27, 71, 1, 57, 6, 18, -16, -61, 51, -34, -69, -79, 60, -97, 74, 81, -5, -33, 1, -49, 88, -36, -34, 52, 55, -49, 14, 15, 35, -78, 92, 18, -15, 88, 80, 92, -51, -3, 32, -7, 38, -50, -98, -62, -48], [-25, -56, 14, -68, 56, -99, -70, 88, -100, -81, 81, 81, 36, -9, -2, 36, -69, -64, 10, 71, -91, -79, 19, 6, -11, -15, 1, 30, 83, 52, -78, 6, -12, -83, 8, 89, -29, -61, 16, 19, -23, -13, 12, 0, 89, 48, -56, -69, 66, -25, 19, -68, 90, -42, 71, 48, 35, -9, -99, 60, 97, -27, -22, -72, 53, -31, -87, 11, -62, 15, -77, -49, 51, 46, 29, -87, -1, 10, -50, 86, -68, -37, -56, 29, 73, 98, -12, -91, 22, 64, -35, 95, 26, 54, 12, -61, -90, 43, -28, 27], [33, 5, -87, -90, -74, -82, -60, 8, -35, -29, -20, 41, -34, 10, -15, 64, 81, -84, 81, -83, 24, 37, -75, -66, 88, 76, -22, 74, 48, 8, -71, -73, 81, -51, 20, 77, 2, -55, 44, 58, 8, -17, 9, 89, 0, -98, -39, -42, 58, 66, 37, 11, 99, -60, 83, 86, 34, 19, -1, 56, 57, -92, -11, 40, 64, -91, 51, 99, 97, -66, -7, -50, -93, 48, -31, 85, 99, 74, -100, -35, -84, 5, 98, -25, -100, -77, 60, -81, 1, 83, -44, -98, -77, -69, 34, -35, -20, -58, 83, 31], [36, -50, -65, -69, -63, -78, -14, -2, 67, -6, -86, -10, -89, 88, 46, 49, -34, -23, 46, 83, 12, -6, -50, 88, 37, -54, 10, -54, -69, 40, 69, -70, 81, -81, 98, -23, -27, 97, 69, 11, -49, -33, 99, 48, -98, 0, 8, 43, 89, -1, 85, -74, 16, 17, 1, 12, -78, 0, 33, 54, 27, -46, -39, 81, -96, -52, 86, 55, -29, -79, -86, -52, -97, 31, -66, 18, -95, 26, -76, 62, -64, -75, -9, -12, -79, -10, 60, -4, 45, 99, 75, -37, 97, 27, 28, 6, -4, 94, -10, 64], [62, 49, 5, -64, 3, 85, -72, -65, -57, -19, -59, -37, 70, 41, -64, -76, -42, 46, -58, 12, -4, -77, -76, 35, -85, -79, 62, -47, 94, 89, 56, -37, 23, 54, -69, 38, -2, 59, 38, 95, 17, -68, 41, -56, -39, 8, 0, -85, 49, 7, -67, 88, -29, -56, 37, 10, -65, -95, 80, 38, 66, 32, -96, -85, -62, -37, -98, 2, 9, 27, -73, -95, 0, -72, 82, -56, 22, 46, 44, 95, -25, 89, 45, -42, -47, -84, -57, 4, 88, 64, 71, 80, 26, -24, 8, -77, 88, 83, -58, 49], [98, -88, 68, -29, 83, -10, -37, 47, -13, -15, -37, 66, 7, 51, -20, 94, -10, -2, -62, -92, 59, 46, -23, -59, -87, 72, -9, 6, 78, -31, 79, 18, 0, 86, 31, -59, -27, -66, -11, 4, 81, -57, -9, -69, -42, 43, -85, 0, 13, -5, -70, -54, -97, -28, -7, 76, -73, 76, -8, -36, 56, 13, 50, 92, -85, 38, -16, 93, 0, -4, 30, -73, -15, 35, 54, 23, -24, 56, -6, 2, 52, -76, -86, -59, 59, 64, 50, -41, 68, 33, 93, 77, -93, -61, 58, -72, -17, -59, 77, -15], [91, -46, -94, 64, 72, 92, 92, 64, -30, -19, -66, 12, 15, -97, -39, 12, -3, 89, -10, 33, -11, -23, 74, -7, -20, 60, -51, -68, 37, -55, -61, 63, 83, -10, -17, 69, 22, -23, 28, -88, -33, 13, -86, 66, 58, 89, 49, 13, 0, -35, 48, -4, -38, 79, 31, 1, 14, -90, -77, 82, -94, 13, -44, -91, 60, -59, 14, 22, 58, -82, -37, -33, 40, 88, -20, 71, -74, 30, 99, -55, -1, -34, 66, 26, 73, -42, 88, 61, -84, -20, 87, -52, 60, 1, -23, 58, -36, -6, -5, -74], [-68, -21, 79, -95, 94, 28, -46, 45, -74, -41, 63, 45, -4, -46, 78, -65, 35, -87, -26, 65, -46, 99, -63, -68, -18, -34, 12, -34, -28, 66, 55, -13, 90, -81, -83, 69, -94, -22, -67, 30, 16, 30, 0, -25, 66, -1, 7, -5, -35, 0, 75, 69, -87, -31, 45, -51, 30, 95, -84, -31, -57, -50, 2, -63, -50, 88, -74, 97, -82, 74, -33, -10, -99, -83, 4, 33, -82, 21, 32, -64, -53, -56, 20, -78, 75, -90, 79, -73, -81, 44, -23, 69, -49, -53, -13, 54, 70, 62, -45, -14], [30, 57, -68, -23, 13, -87, -56, 64, 7, -3, 93, 86, 45, 46, 27, -85, 95, 15, 77, 1, -9, -56, -71, 21, -2, 61, -98, -28, 16, 61, -72, 27, 61, 94, -6, -5, -66, -62, 49, -83, -85, 90, -95, 19, 37, 85, -67, -70, 48, 75, 0, 81, -28, -30, -32, 48, -28, 6, 4, -55, 14, 21, -28, 43, -3, -39, 17, 25, -38, -34, -82, -42, -17, -14, -31, 44, 5, 17, -20, -18, -70, 57, 29, -62, -12, -19, 81, 91, 15, 44, 99, -11, 28, 59, 56, 38, -48, -80, -40, -40], [-22, 83, -59, 14, -40, -70, -18, -17, 91, 19, -3, 82, 58, 93, 79, -99, 41, -20, -95, 90, 95, -33, -62, 57, 73, 93, -29, 43, 13, 65, -88, 21, 41, 75, 68, 41, -62, -34, -99, 66, 20, -9, -80, -68, 11, -74, 88, -54, -4, 69, 81, 0, -44, 36, 79, 30, 61, -69, 28, 49, -22, -49, 60, -72, -53, 11, 22, 75, 12, -3, 77, 29, -26, -59, 15, 80, -82, -39, 88, 48, -60, 4, -93, 1, 21, 98, -24, 89, 34, -54, -44, 66, 61, -93, 39, 88, -56, 72, -41, 30], [30, -8, -48, 39, -79, -14, -75, 29, 70, 37, 71, -92, -78, -27, 55, 14, -71, -84, 98, 86, 88, 31, 72, -86, 37, 51, 78, -97, 35, 82, -6, -62, -4, 97, 98, -22, -66, -91, 44, -55, 26, -38, 44, 90, 99, 16, -29, -97, -38, -87, -28, -44, 0, -6, -81, 16, 6, -74, -82, 74, 42, -68, 69, 41, -85, 5, 99, -82, -87, 89, -8, 30, 41, 85, 1, -80, -1, -16, 70, 55, -70, -15, -18, -78, 85, 65, -31, -16, 92, 17, -15, -30, 91, -55, -79, -7, 95, -61, -6, 93], [31, -23, -51, -30, 6, -63, -29, -100, 15, 39, -30, -21, -32, 85, 71, -66, -80, -67, -16, 74, 58, -33, 63, 7, -1, 46, -36, -92, 73, -83, -61, -92, -88, 84, 88, -21, 22, 65, -68, -56, -100, 77, -22, -42, -60, 17, -56, -28, 79, -31, -30, 36, -6, 0, 43, -91, 86, -25, 30, 70, -53, -39, -7, 81, -60, 55, 56, 35, -28, -86, -96, -53, 67, -29, -31, 68, -6, 86, -70, 93, -95, 69, 29, -35, 96, -100, 69, -88, -90, 96, 87, 35, -40, -14, 4, -21, 80, 98, -80, -89], [-2, 26, 17, -20, -81, -41, 59, -50, 89, 6, -9, -38, 48, 14, 47, -1, -96, -44, 99, 77, 62, -57, -10, 54, -33, 73, -86, 80, 10, -79, -51, 92, 22, -49, -91, 42, 7, 34, -38, -58, -69, 96, -57, 71, 83, 1, 37, -7, 31, 45, -32, 79, -81, 43, 0, 31, 88, -38, -64, 97, 2, 60, 99, 7, 70, -55, -16, 96, -88, 7, -48, -12, -82, -27, -42, -23, 39, -85, 25, -47, -63, -64, 44, 80, 38, 94, -54, -22, 33, 72, 53, 59, -100, -27, 65, -90, 50, -24, 7, 89], [-32, -31, -60, 23, -48, -17, 92, 63, 22, -59, 80, 84, -55, 29, -43, -47, 39, 4, 13, 70, 81, 19, 38, -27, -97, 45, 22, 11, -40, -27, -98, 34, 76, -34, -74, -27, -67, 98, -39, 26, -1, -68, 27, 48, 86, 12, 10, 76, 1, -51, 48, 30, 16, -91, 31, 0, 72, -95, -74, 57, -73, 89, -46, -79, -54, 86, 76, -68, -98, 94, 43, -7, -74, 90, 23, 94, 78, 94, 38, 53, 50, -2, -86, 57, 5, -30, -46, 12, 87, -69, -20, -48, -48, 13, 57, -26, -51, -25, 14, -73], [15, -52, -56, 80, -74, 71, -77, -43, -53, 38, 57, 10, 17, -94, 58, 27, 33, 7, 3, 6, 5, 83, -41, 82, 91, 97, -28, 53, 64, -47, 65, 7, 41, -51, 22, -100, 90, 91, 26, 54, 26, 60, 71, 35, 34, -78, -65, -73, 14, 30, -28, 61, 6, 86, 88, 72, 0, -61, 86, -54, -30, -72, 14, 13, -44, 95, 33, -73, -3, 5, -37, 27, 39, 2, -98, 55, -2, -76, 11, -28, -6, 76, 94, -7, -98, 91, 21, -54, 66, 40, 80, 27, -37, 92, 95, 65, 60, 71, 1, 63], [3, -33, 72, 33, 57, 26, -96, -8, 28, -7, 10, 57, 30, -17, -15, 20, 88, -95, -18, 98, -70, 50, -73, 94, 84, -95, 27, -16, 64, -94, 44, 48, 87, -99, -81, 98, 85, 87, 65, 84, 65, 35, 1, -9, 19, 0, -95, 76, -90, 95, 6, -69, -74, -25, -38, -95, -61, 0, -22, 81, -22, 34, -35, -61, 95, 97, 87, 86, -92, -21, 53, -90, -45, -25, 42, 40, 31, -12, -36, 72, -50, -52, -21, -66, 97, -68, -50, 69, -7, -37, 13, 63, -6, 10, -73, 84, 80, 0, 57, -37], [-32, -8, 55, 69, -45, 26, 28, -1, -29, -31, -49, 62, 55, -28, -26, -44, 60, 13, -92, 82, -59, 13, 42, -3, -97, 42, 55, -87, -60, 39, -29, -72, -99, -54, -73, -83, 21, 1, 24, -88, 14, -89, 57, -99, -1, 33, 80, -8, -77, -84, 4, 28, -82, 30, -64, -74, 86, -22, 0, -1, 28, -15, -45, -90, 4, 34, 60, -62, 74, 30, 81, -61, 34, 27, 17, -35, 37, -16, 32, -1, 77, -45, 4, -10, -35, -27, -100, -84, -63, 47, 83, -82, -86, 1, -13, -37, 91, -80, 91, -36], [66, 33, -18, 59, -98, -4, 76, 26, 44, -11, -99, -41, -49, -17, -37, 41, 93, -76, 21, 67, 12, 67, -65, -13, 40, -40, -88, 15, -11, 59, 25, 12, -69, 9, -65, 58, 75, -75, -81, -48, -89, -21, 6, 60, 56, 54, 38, -36, 82, -31, -55, 49, 74, 70, 97, 57, -54, 81, -1, 0, 48, -35, 87, 2, -4, -8, -30, 25, 13, 77, -72, -13, 17, 51, 34, 30, 59, -63, -68, 59, -72, -75, -60, -2, -11, -28, -47, 11, 4, 74, -42, 61, 28, -83, -87, -94, 43, 13, 63, 29], [-9, 61, 42, -44, 83, -4, -66, -75, -41, 95, -10, -20, -97, -82, -2, -50, 31, 11, 84, 0, 28, -61, -28, -66, -51, 96, -11, 11, -51, -71, 46, 45, -53, -78, -62, 52, -61, 89, 39, 57, 81, 71, 18, 97, 57, 27, 66, 56, -94, -57, 14, -22, 42, -53, 2, -73, -30, -22, 28, 48, 0, -22, 39, 31, -6, -29, -40, -91, -54, -56, 91, -80, -74, -68, 81, -39, -29, -43, -98, -15, -100, -18, -82, 85, -68, 2, 66, -91, -55, 73, -3, -89, -1, 6, -19, 40, 85, 53, 69, -18], [13, -41, 57, 90, -37, -97, 54, 96, 48, -46, 1, 37, 44, -78, -100, 8, -33, 78, 97, 23, 13, 37, 52, 24, -26, 28, -70, 39, -91, -63, -9, -86, 19, -65, 23, -1, 44, 86, 24, 99, 9, -12, -16, -27, -92, -46, 32, 13, 13, -50, 21, -49, -68, -39, 60, 89, -72, 34, -15, -35, -22, 0, -62, -1, -79, 93, -17, -66, -98, -40, 12, 83, -61, 91, 45, -94, 39, -3, 72, -2, -89, -98, -38, 97, -87, -5, 0, 8, 88, -92, 4, 21, 9, 25, 46, -49, -64, -87, -18, 11], [-29, -88, 71, -62, -82, 24, -88, -82, -18, 58, 90, 38, -81, -79, -46, 75, -25, -9, -79, 52, 1, 99, -30, -84, -23, 43, 63, -49, -81, 28, -27, -48, 30, 55, 27, -36, -44, -30, 68, 65, 1, 33, -61, -22, -11, -39, -96, 50, -44, 2, -28, 60, 69, -7, 99, -46, 14, -35, -45, 87, 39, -62, 0, -80, 96, 29, 63, -88, 71, -24, 93, 68, 3, 16, -94, 46, 63, 95, -18, -21, 16, -76, -94, -100, 79, 1, 88, -27, 19, -57, 57, 27, 31, -82, -19, -27, -79, 71, -60, 82], [-43, -94, 9, -95, -9, 11, 47, -58, 54, 11, 7, -93, -99, 93, 42, 19, -19, -19, -20, 38, -70, 57, -85, 93, -59, 55, -58, -5, 49, -59, -72, -36, -5, 70, -48, 37, -94, 42, -70, 91, 64, -52, 51, -72, 40, 81, -85, 92, -91, -63, 43, -72, 41, 81, 7, -79, 13, -61, -90, 2, 31, -1, -80, 0, -81, -47, -86, 91, 36, 64, -36, 3, -67, 83, -93, -74, 61, 13, 63, 77, 41, -58, -49, -81, -63, 43, -50, 28, 82, -55, -98, -94, 55, 22, -79, 63, -27, 94, -67, 68], [39, 77, -95, 55, 80, 38, -21, 35, -13, -38, -91, 32, 23, 62, -94, 21, -58, -29, 70, 39, 61, -100, 12, 55, -97, -66, -12, 36, 18, -31, 54, 13, 51, 41, 62, 66, -20, 95, -71, -83, 18, -53, -34, 53, 64, -96, -62, -85, 60, -50, -3, -53, -85, -60, 70, -54, -44, 95, 4, -4, -6, -79, 96, -81, 0, 48, -32, 44, 61, -10, -47, -50, -56, 85, 17, 94, -45, 88, 99, 3, -86, 48, 81, 95, 66, 5, -42, 34, 84, -96, 82, 20, -82, 54, -99, -63, 40, 66, -40, 46], [-98, -64, -62, -52, -37, -89, -96, 30, 30, -56, -4, -69, -4, 89, 86, -36, -44, 84, -2, -68, 93, 80, 64, 11, -51, 17, -74, -29, 91, 70, 51, 18, -30, -55, -78, 6, 3, 68, -8, -11, -27, 85, -69, -31, -91, -52, -37, 38, -59, 88, -39, 11, 5, 55, -55, 86, 95, 97, 34, -8, -29, 93, 29, -47, 48, 0, -86, -44, 4, -72, 65, 89, 33, 75, 1, -57, 3, 9, -60, 24, -65, -59, 36, 23, 87, -82, 70, 46, -41, 79, -42, 83, -64, 8, 70, 55, -49, -79, 16, 32], [-46, 64, 58, 29, -7, 1, -68, -100, -88, 17, 87, -16, 27, -5, -34, 63, -56, -85, -94, 49, -81, -10, 91, 46, -56, -81, -10, 24, 45, 8, 96, -53, -9, -26, -38, 8, 60, -17, 10, -92, -70, 11, -79, -87, 51, 86, -98, -16, 14, -74, 17, 22, 99, 56, -16, 76, 33, 87, 60, -30, -40, -17, 63, -86, -32, -86, 0, 54, 27, -22, -92, -87, 72, -44, 78, -77, -53, -34, -91, 40, -35, 55, 8, 79, 32, 9, 17, 7, -5, -45, 48, -35, -39, 7, -46, 34, 14, 36, 25, -5], [-67, 3, 20, 82, 24, 61, 24, -91, 29, -60, -2, -2, -47, 94, -60, 69, -69, -65, 34, -87, 42, -68, 40, -4, -95, 17, 60, 38, -31, -48, -99, 31, -75, -34, -74, 23, 3, 46, -85, 65, 13, -81, 60, 11, 99, 55, 2, 93, 22, 97, 25, 75, -82, 35, 96, -68, -73, 86, -62, 25, -91, -66, -88, 91, 44, -44, 54, 0, 54, 85, 26, -23, 96, 15, -78, -17, -91, -34, 64, 51, -19, -97, -34, 75, 2, -23, 0, -37, 34, -25, -58, 66, -49, 57, 27, 43, 12, -72, 71, -74], [-44, 37, 47, -7, 7, -28, 27, -37, -68, 37, 69, -27, -67, -50, -36, -62, 5, 36, -72, 21, 47, -18, 21, 5, -8, 29, 88, 38, 62, -69, -61, -95, 54, -1, -80, 77, -60, -93, -99, -32, 95, -51, -97, -62, 97, -29, 9, 0, 58, -82, -38, 12, -87, -28, -88, -98, -3, -92, 74, 13, -54, -98, 71, 36, 61, 4, 27, 54, 0, 33, -78, -93, 74, 60, 24, -73, -78, -22, 57, -65, 89, -65, 81, -2, 45, 88, -62, 8, -4, -72, -12, 96, -69, -94, -33, -49, -89, -12, -77, 10], [-63, -62, 61, -49, -67, -67, -32, 32, 7, -96, 87, -71, -68, -39, 86, 36, 33, 23, -80, 27, 16, 23, -49, -92, -28, -92, 80, -39, -66, 64, 30, -36, 9, 41, -68, -6, 28, 84, 2, 37, 70, 53, 74, 15, -66, -79, 27, -4, -82, 74, -34, -3, 89, -86, 7, 94, 5, -21, 30, 77, -56, -40, -24, 64, -10, -72, -22, 85, 33, 0, 89, -8, 52, 46, -37, 20, -4, -83, -39, -41, 0, -83, -100, -2, -29, 71, 89, -5, 47, 65, -15, 11, -43, -96, -54, -12, -2, -17, -60, 9], [82, -68, -25, 63, 11, -34, -61, -94, 92, -24, 5, -23, -38, -68, 51, 78, -96, -8, -85, -90, 43, -38, 31, 43, 93, -99, -73, 29, -90, -86, 48, 47, 43, 48, 43, 93, -5, -76, -85, -56, -16, 1, 81, -77, -7, -86, -73, 30, -37, -33, -82, 77, -8, -96, -48, 43, -37, 53, 81, -72, 91, 12, 93, -36, -47, 65, -92, 26, -78, 89, 0, 54, -78, -6, -10, 52, 53, 26, -30, -25, -99, 22, 54, 13, -48, 13, 36, 49, 42, 68, 85, -62, 7, 29, -80, -87, -27, -21, 88, -52], [-4, -86, -79, -67, 59, 51, -91, -76, 38, -54, 19, 0, 89, 39, 88, -25, -94, 90, -3, -2, -43, -21, -58, 64, -8, 5, -33, -33, -2, -84, -99, -36, -4, 85, 98, 96, 85, 65, -54, 63, 25, 96, -5, -49, -50, -52, -95, -73, -33, -10, -42, 29, 30, -53, -12, -7, 27, -90, -61, -13, -80, 83, 68, 3, -50, 89, -87, -23, -93, -8, 54, 0, 43, -3, -88, -21, 95, 55, -27, 87, -90, -99, -1, 48, -78, -14, 86, -93, 54, -49, 22, 36, -5, 47, -3, 28, -49, 46, 35, -60], [-100, 65, 64, -52, 46, -7, 86, -69, -41, 36, 53, -27, -21, 65, -99, -46, 12, -69, -67, 90, -40, -65, -35, 21, 69, -89, 0, 88, 61, 56, 14, -59, 44, 98, -82, 71, -59, 97, -99, 98, -88, -86, -33, 51, -93, -97, 0, -15, 40, -99, -17, -26, 41, 67, -82, -74, 39, -45, 34, 17, -74, -61, 3, -67, -56, 33, 72, 96, 74, 52, -78, 43, 0, 32, 64, 1, -97, -10, 30, -74, -96, -53, -51, 3, 9, -57, -26, -53, -77, -72, 12, 38, 38, 77, -59, 83, 28, 61, -52, -20], [-88, 61, -97, 47, -57, -50, -20, -48, -54, 11, 53, 62, -36, -14, 71, 46, -38, 10, -95, -29, 99, 20, -16, -78, -36, 78, 87, -20, -94, 19, -15, -42, -76, 35, 29, -88, 13, 81, 73, 13, -4, 61, 1, 46, 48, 31, -72, 35, 88, -83, -14, -59, 85, -29, -27, 90, 2, -25, 27, 51, -68, 91, 16, 83, 85, 75, -44, 15, 60, 46, -6, -3, 32, 0, -1, -1, -53, -96, 12, 88, 67, 71, -20, -91, -65, 24, -32, 24, -77, -55, -76, 35, -60, -27, -43, 17, -84, 99, 36, -12], [39, -16, 96, 7, -55, 88, 92, -21, 56, -73, -62, 6, 24, -20, -86, -46, -28, 22, -75, -13, 97, -3, 70, -59, 71, -82, -46, 53, 75, -17, -72, 47, 36, 15, -6, -79, 18, 18, -84, -91, 85, 33, -49, 29, -31, -66, 82, 54, -20, 4, -31, 15, 1, -31, -42, 23, -98, 42, 17, 34, 81, 45, -94, -93, 17, 1, 78, -78, 24, -37, -10, -88, 64, -1, 0, 58, 38, 95, -66, 4, 65, 92, 1, 18, 39, -78, -67, -15, -13, -97, 16, -51, 98, -81, 8, 7, -59, -38, 1, 68], [25, 11, 53, -53, -56, -58, 20, 75, -30, 99, 93, -99, 8, 42, -19, 4, -71, 72, 22, -28, -1, -7, -79, -93, -91, -87, -3, -46, -90, -81, 85, 38, 68, -89, 70, -93, -65, -82, 89, 97, 1, 6, 88, -87, 85, 18, -56, 23, 71, 33, 44, 80, -80, 68, -23, 94, 55, 40, -35, 30, -39, -94, 46, -74, 94, -57, -77, -17, -73, 20, 52, -21, 1, -1, 58, 0, 53, 14, 95, 14, 4, -70, -77, 75, -32, 53, 28, 88, 32, 22, -33, 72, 26, -25, -2, 41, -26, 78, -97, 45], [-76, 57, 10, -36, -35, 68, -38, -32, -14, 60, -64, 99, -63, -75, 23, -55, 65, -99, -61, 45, 4, 3, -27, 57, 1, -37, -82, -50, -45, 42, 29, 52, -36, 35, -82, -21, 30, -22, 34, -9, 43, 48, -36, -1, 99, -95, 22, -24, -74, -82, 5, -82, -1, -6, 39, 78, -2, 31, 37, 59, -29, 39, 63, 61, -45, 3, -53, -91, -78, -4, 53, 95, -97, -53, 38, 53, 0, 73, 60, -17, -96, 99, 72, -81, -2, -85, -96, -98, 49, 29, -87, 1, 16, 89, -52, -32, 18, -24, 16, -56], [-33, -78, 6, 8, -23, 54, -59, -24, -81, -93, 17, -49, -28, -19, -93, 74, -43, -93, -37, -98, -17, 7, -19, -50, -69, 43, -92, 70, 15, -81, -3, 5, -27, -32, -20, 18, -66, -48, -13, 27, 7, 11, -34, 10, 74, 26, 46, 56, 30, 21, 17, -39, -16, 86, -85, 94, -76, -12, -16, -63, -43, -3, 95, 13, 88, 9, -34, -34, -22, -83, 26, 55, -10, -96, 95, 14, 73, 0, -89, 56, -15, 54, -30, -67, 2, 8, 27, -47, -36, 76, 73, -96, 94, -21, -53, -86, -29, -15, -22, 21], [-78, 32, -40, 98, -7, -79, 14, 62, 28, -57, 97, -2, 61, 2, 44, -59, 93, 72, -85, 63, -78, 3, 97, 7, 62, 7, 68, 82, -86, -62, 68, 34, 23, 27, 33, -22, -2, 13, 72, -85, -65, 57, 52, -50, -100, -76, 44, -6, 99, 32, -20, 88, 70, -70, 25, 38, 11, -36, 32, -68, -98, 72, -18, 63, 99, -60, -91, 64, 57, -39, -30, -27, 30, 12, -66, 95, 60, -89, 0, 35, 10, 84, 62, 50, 74, -23, -57, 57, -70, 70, 76, 83, -80, -30, 1, -45, 89, -76, 58, -55], [56, -95, -4, 29, -88, -4, -92, 15, 39, -81, -30, 31, -32, -67, -81, 86, 61, 57, -51, 44, 17, 89, -9, 80, -78, 11, -26, 25, 19, -19, -8, 96, 48, 35, -94, -37, -1, 36, 24, 77, -19, -72, 55, 86, -35, 62, 95, 2, -55, -64, -18, 48, 55, 93, -47, 53, -28, 72, -1, 59, -15, -2, -21, 77, 3, 24, 40, 51, -65, -41, -25, 87, -74, 88, 4, 14, -17, 56, 35, 0, -51, -40, 65, -81, 69, -40, -47, 27, 13, -33, 25, 23, -70, -47, 69, 38, -11, -18, -36, -56], [45, 83, 80, -31, 89, 92, 19, 86, -33, 31, 83, -9, 57, -61, 84, -18, -52, -8, -90, 33, 59, -46, -56, -75, -2, -61, 99, 30, 53, 78, -29, -29, 76, -29, -27, -43, 46, 35, -25, -33, -34, -80, -49, -68, -84, -64, -25, 52, -1, -53, -70, -60, -70, -95, -63, 50, -6, -50, 77, -72, -100, -89, 16, 41, -86, -65, -35, -19, 89, 0, -99, -90, -96, 67, 65, 4, -96, -15, 10, -51, 0, -4, -25, 46, -40, -15, 94, -54, 84, -99, -67, -87, -32, 87, -26, 64, -33, 57, 52, -45], [63, 13, 26, 97, -66, 56, 8, -37, -3, 98, -68, -64, 89, -87, 21, 30, 52, -8, 0, -62, 99, -10, -8, 71, 90, -71, -1, -52, -43, 11, 13, 31, -90, 92, -68, -75, 45, -33, 41, 53, 16, 66, 14, -37, 5, -75, 89, -76, -34, -56, 57, 4, -15, 69, -64, -2, 76, -52, -45, -75, -18, -98, -76, -58, 48, -59, 55, -97, -65, -83, 22, -99, -53, 71, 92, -70, 99, 54, 84, -40, -4, 0, -41, 59, 73, -77, -57, -34, -96, -27, 15, 97, 92, -29, -70, 91, 0, 9, 46, 11], [42, 31, -96, -23, -97, 30, 76, -74, 58, -68, 71, -29, -37, 9, 26, 87, -12, -45, -46, 21, -14, 60, 93, -85, -47, 65, -62, -31, -9, -71, -87, 63, 53, 1, 41, -19, -38, 88, 78, 15, 45, 34, 15, -56, 98, -9, 45, -86, 66, 20, 29, -93, -18, 29, 44, -86, 94, -21, 4, -60, -82, -38, -94, -49, 81, 36, 8, -34, 81, -100, 54, -1, -51, -20, 1, -77, 72, -30, 62, 65, -25, -41, 0, 93, -55, -70, 29, 88, -33, 95, -68, 33, -82, -15, 44, 33, 86, -36, 85, -31], [-94, 4, -14, -47, -96, -12, -13, -85, 70, 72, -34, 37, -69, 62, -42, 63, -24, -21, -32, -2, -61, -87, 2, 94, 54, -38, -55, 18, -72, -74, 84, -54, 6, 99, -17, -3, -94, -21, 10, -28, 73, -87, 35, 29, -25, -12, -42, -59, 26, -78, -62, 1, -78, -35, 80, 57, -7, -66, -10, -2, 85, 97, -100, -81, 95, 23, 79, 75, -2, -2, 13, 48, 3, -91, 18, 75, -81, -67, 50, -81, 46, 59, 93, 0, 73, -89, -70, 73, -98, 52, -61, -63, 40, -24, 61, -93, -69, 89, -88, -87], [-29, 24, -35, 65, 53, 17, -81, -25, 50, -50, 23, -39, -49, 80, 12, 16, 76, 38, -33, 10, -19, -9, 84, -4, 91, 80, -50, -52, -44, 5, 58, -6, 40, 4, -3, 69, -92, 66, -64, 82, 63, 93, -78, 73, -100, -79, -47, 59, 73, 75, -12, 21, 85, 96, 38, 5, -98, 97, -35, -11, -68, -87, 79, -63, 66, 87, 32, 2, 45, -29, -48, -78, 9, -65, 39, -32, -2, 2, 74, 69, -40, 73, -55, 73, 0, -25, -10, 64, 64, 48, 6, 57, -18, 45, -97, -52, 69, -30, 37, 76], [60, 63, 35, 76, -79, 20, -16, 20, 55, 44, -57, -88, -58, 55, -98, 77, 75, 39, -91, 69, 4, -67, 14, 19, 62, -59, -89, 78, 14, -55, 38, -9, 17, 30, 65, -4, 17, -95, -8, -94, -95, 26, 92, 98, -77, -10, -84, 64, -42, -90, -19, 98, 65, -100, 94, -30, 91, -68, -27, -28, 2, -5, 1, 43, 5, -82, 9, -23, 88, 71, 13, -14, -57, 24, -78, 53, -85, 8, -23, -40, -15, -77, -70, -89, -25, 0, -64, -26, 44, -16, 67, -63, 80, 90, 10, -50, -59, -33, -93, 0], [-96, -73, -48, 85, -11, 93, -86, -77, -3, 40, -23, 97, 86, -29, 7, -93, -38, -37, 7, 57, -19, -79, -51, 80, -64, -38, 23, 78, 75, -1, 72, -79, -27, 52, -24, 19, 83, 92, -79, 33, 14, -30, 18, -12, 60, 60, -57, 50, 88, 79, 81, -24, -31, 69, -54, -46, 21, -50, -100, -47, 66, 0, 88, -50, -42, 70, 17, 0, -62, 89, 36, 86, -26, -32, -67, 28, -96, 27, -57, -47, 94, -57, 29, -70, -10, -64, 0, -60, 16, 37, 14, 67, -99, -88, -12, 20, -49, -85, 94, -13], [63, 30, 73, 47, 82, 99, 94, -61, 35, 23, 0, 39, 48, 71, 51, -4, -35, -48, 47, -73, 98, -49, -45, -69, -44, 2, -7, 39, 68, 48, -100, 81, 6, 12, -97, -62, -71, 10, 94, -6, 63, 64, -15, -91, -81, -4, 4, -41, 61, -73, 91, 89, -16, -88, -22, 12, -54, 69, -84, 11, -91, 8, -27, 28, 34, 46, 7, -37, 8, -5, 49, -93, -53, 24, -15, 88, -98, -47, 57, 27, -54, -34, 88, 73, 64, -26, -60, 0, -98, -81, -79, -44, -78, 11, -85, -11, 69, 28, 91, 47], [15, -92, -36, -32, -78, -47, 21, -98, 45, -22, -91, -39, -96, 49, -7, -43, 91, 23, 81, 71, 90, 27, 5, 44, -37, -63, 19, -99, -20, 39, -68, 38, 54, 94, 0, -94, -42, -61, -27, 4, 37, 28, 88, 22, 1, 45, 88, 68, -84, -81, 15, 34, 92, -90, 33, 87, 66, -7, -63, 4, -55, 88, 19, 82, 84, -41, -5, 34, -4, 47, 42, 54, -77, -77, -13, 32, 49, -36, -70, 13, 84, -96, -33, -98, 64, 44, 16, -98, 0, 63, -34, 36, -76, 89, -35, 1, -20, 52, 43, -24], [22, -98, -4, 91, -74, -91, 35, -100, 69, 94, -52, 64, 60, 0, 66, 93, 44, 16, -27, 10, -61, 36, 60, -77, 79, 93, -80, 4, 71, -15, -1, 77, -56, 11, 52, 80, -67, -47, -1, 7, -86, 40, 80, 64, 83, 99, 64, 33, -20, 44, 44, -54, 17, 96, 72, -69, 40, -37, 47, 74, 73, -92, -57, -55, -96, 79, -45, -25, -72, 65, 68, -49, -72, -55, -97, 22, 29, 76, 70, -33, -99, -27, 95, 52, 48, -16, 37, -81, 63, 0, 43, 68, -54, 56, 74, 46, 24, -62, -31, 94], [-65, 99, -3, -85, 45, -70, 12, 14, 56, 5, -7, -95, -100, 48, 77, -79, -45, -34, 0, 87, 81, -69, -16, -51, -30, -6, 75, 7, -61, 42, 78, 55, -67, -72, 30, -4, -63, 83, 21, -57, 31, 6, 92, -35, -44, 75, 71, 93, 87, -23, 99, -44, -15, 87, 53, -20, 80, 13, 83, -42, -3, 4, 57, -98, 82, -42, 48, -58, -12, -15, 85, 22, 12, -76, 16, -33, -87, 73, 76, 25, -67, 15, -68, -61, 6, 67, 14, -79, -34, 43, 0, -57, 79, -31, -60, -87, 98, 20, 94, 54], [-62, -8, 50, -34, 98, -40, -13, 71, -36, -47, -3, -49, 28, 64, 87, -42, 38, -71, -38, 17, -63, 12, -23, 61, 17, -2, -27, 81, -64, 38, -55, 9, -50, 99, 81, -24, -29, -78, -41, 45, -93, -42, -51, 95, -98, -37, 80, 77, -52, 69, -11, 66, -30, 35, 59, -48, 27, 63, -82, 61, -89, 21, 27, -94, 20, 83, -35, 66, 96, 11, -62, 36, 38, 35, -51, 72, 1, -96, 83, 23, -87, 97, 33, -63, 57, -63, 67, -44, 36, 68, -57, 0, -11, 96, -42, 85, 96, -68, -21, 72], [18, -34, -9, -62, 95, 48, 61, 23, -22, 21, 58, -53, -48, -39, 79, 38, -36, -68, -87, 21, -43, -17, 41, -7, -51, -32, 22, -54, 60, 0, -99, -10, -70, -99, -19, 78, 24, -94, -9, 80, 29, 97, -3, 26, -77, 97, 26, -93, 60, -49, 28, 61, 91, -40, -100, -48, -37, -6, -86, 28, -1, 9, 31, 55, -82, -64, -39, -49, -69, -43, 7, -5, 38, -60, 98, 26, 16, 94, -80, -70, -32, 92, -82, 40, -18, 80, -99, -78, -76, -54, 79, -11, 0, -19, 55, 71, 56, -56, -78, 66], [-58, -75, 17, -36, 4, -69, -86, 94, 54, -69, -41, 95, 72, 23, 31, 0, 51, -58, -41, -12, 69, -39, 38, -64, -83, 60, -36, -11, -1, 14, -73, 27, 49, -14, -82, -37, -86, -51, -40, 54, 15, -9, 32, 54, -69, 27, -24, -61, 1, -53, 59, -93, -55, -14, -27, 13, 92, 10, 1, -83, 6, 25, -82, 22, 54, 8, 7, 57, -94, -96, 29, 47, 77, -27, -81, -25, 89, -21, -30, -47, 87, -29, -15, -24, 45, 90, -88, 11, 89, 56, -31, 96, -19, 0, 74, -63, 97, 5, 2, 60], [66, 24, -24, -1, 53, -3, 19, 35, -8, -24, -47, -15, -56, 17, 20, 55, 61, 99, 36, -79, -7, -36, 87, 19, -13, -51, -18, 23, -75, -1, 39, 99, -13, 23, -32, -90, -3, -12, -78, 55, 8, 70, -7, 12, 34, 28, 8, 58, -23, -13, 56, 39, -79, 4, 65, 57, 95, -73, -13, -87, -19, 46, -19, -79, -99, 70, -46, 27, -33, -54, -80, -3, -59, -43, 8, -2, -52, -53, 1, 69, -26, -70, 44, 61, -97, 10, -12, -85, -35, 74, -60, -42, 55, 74, 0, 7, -9, 56, 59, -86], [-7, -12, 68, -32, 21, -71, 36, -88, -46, -44, 72, -99, 46, -8, 89, 6, -19, -78, -42, 31, -30, -18, -40, 36, -31, 57, 37, -60, -54, -29, -75, 35, 9, 37, -46, -45, 18, 30, 65, -39, -94, 19, 38, -61, -35, 6, -77, -72, 58, 54, 38, 88, -7, -21, -90, -26, 65, 84, -37, -94, 40, -49, -27, 63, -63, 55, 34, 43, -49, -12, -87, 28, 83, 17, 7, 41, -32, -86, -45, 38, 64, 91, 33, -93, -52, -50, 20, -11, 1, 46, -87, 85, 71, -63, 7, 0, 84, 14, -11, -2], [64, 22, 65, -74, -75, 36, -63, -26, 82, 23, -94, -76, -62, -38, 12, -70, 17, 31, 16, 86, -33, -78, 61, 62, 46, 47, 78, -92, -25, -57, 51, 41, 73, -62, -66, 89, -83, 86, 95, 9, -50, -81, -50, -90, -20, -4, 88, -17, -36, 70, -48, -56, 95, 80, 50, -51, 60, 80, 91, 43, 85, -64, -79, -27, 40, -49, 14, 12, -89, -2, -27, -49, 28, -84, -59, -26, 18, -29, 89, -11, -33, 0, 86, -69, 69, -59, -49, 69, -20, 24, 98, 96, 56, 97, -9, 84, 0, 84, 53, -70], [-67, 48, -46, -71, 0, -52, -74, 71, 50, -41, 67, -37, 6, 37, 27, 19, 8, -56, -94, -95, 96, -93, -78, -30, -87, -81, -79, -71, -78, 46, -26, 92, 10, 35, 87, 93, 62, 8, 9, -63, -76, 18, -98, 43, -58, 94, 83, -59, -6, 62, -80, 72, -61, 98, -24, -25, 71, 0, -80, 13, 53, -87, 71, 94, 66, -79, 36, -72, -12, -17, -21, 46, 61, 99, -38, 78, -24, -15, -76, -18, 57, 9, -36, 89, -30, -33, -85, 28, 52, -62, 20, -68, -56, 5, 56, 14, 84, 0, -97, -80], [30, -55, 72, 63, -78, 37, -32, -79, 34, 20, -95, 82, -32, -74, -65, -3, 95, 97, 89, 87, -58, -97, 86, -31, 68, -44, -32, -49, -3, -37, 98, -72, -21, 90, 84, 32, 55, 81, -71, -1, -90, -70, -62, -28, 83, -10, -58, 77, -5, -45, -40, -41, -6, -80, 7, 14, 1, 57, 91, 63, 69, -18, -60, -67, -40, 16, 25, 71, -77, -60, 88, 35, -52, 36, 1, -97, 16, -22, 58, -36, 52, 46, 85, -88, 37, -93, 94, 91, 43, -31, 94, -21, -78, 2, 59, -11, 53, -97, 0, -38], [-100, 88, 29, 37, 32, -78, -2, -12, 56, -33, 8, -57, -92, 60, 45, 83, 32, -73, -58, -40, 60, -25, 91, 10, 72, -36, -72, -30, -19, -19, -37, 54, 77, 69, 1, -74, -49, -36, 95, 36, 54, -72, -48, 27, 31, 64, 49, -15, -74, -14, -40, 30, 93, -89, 89, -73, 63, -37, -36, 29, -18, 11, 82, 68, 46, 32, -5, -74, 10, 9, -52, -60, -20, -12, 68, 45, -56, 21, -55, -56, -45, 11, -31, -87, 76, 0, -13, 47, -24, 94, 54, 72, 66, 60, -86, -2, -70, -80, -38, 0]]\n"
     ]
    }
   ],
   "source": [
    "# MATRIX USADA PRA GRAFICOS POWERPOINT\n",
    "\n",
    "matrix_ = [[0, -74, 56, -86, 60, 71, 22, 99, 89, 62, -58, 9, -66, 91, 9, 86, -47, -28, -74, 13, -80, 34, 56, -57, 54, 46, 54, 56, -36, 1, -3, -97, -46, 47, 71, -68, 52, -80, -97, 14, -48, -81, 71, -25, 33, 36, 62, 98, 91, -68, 30, -22, 30, 31, -2, -32, 15, 3, -32, 66, -9, 13, -29, -43, 39, -98, -46, -67, -44, -63, 82, -4, -100, -88, 39, 25, -76, -33, -78, 56, 45, 63, 42, -94, -29, 60, -96, 63, 15, 22, -65, -62, 18, -58, 66, -7, 64, -67, 30, -100], [-74, 0, 99, 11, -38, 70, -87, -76, -34, 43, -24, 36, -11, 55, -25, -70, 55, 70, -93, 94, 57, -39, -29, -76, 85, 88, 17, -98, 64, -65, 31, -67, -8, -94, -2, 42, -73, 66, -96, -99, -6, -81, -67, -56, 5, -50, 49, -88, -46, -21, 57, 83, -8, -23, 26, -31, -52, -33, -8, 33, 61, -41, -88, -94, 77, -64, 64, 3, 37, -62, -68, -86, 65, 61, -16, 11, 57, -78, 32, -95, 83, 13, 31, 4, 24, 63, -73, 30, -92, -98, 99, -8, -34, -75, 24, -12, 22, 48, -55, 88], [56, 99, 0, -98, 63, 42, 26, -93, -42, -38, -9, 86, -93, -59, 75, -22, -35, -55, -76, -13, -42, 67, 72, -13, 8, 8, -12, -21, -81, 92, 32, -71, 60, 72, -52, 90, -69, 33, -18, -76, 19, -59, 62, 14, -87, -65, 5, 68, -94, 79, -68, -59, -48, -51, 17, -60, -56, 72, 55, -18, 42, 57, 71, 9, -95, -62, 58, 20, 47, 61, -25, -79, 64, -97, 96, 53, 10, 6, -40, -4, 80, 26, -96, -14, -35, 35, -48, 73, -36, -4, -3, 50, -9, 17, -24, 68, 65, -46, 72, 29], [-86, 11, -98, 0, 19, 54, 88, 13, -13, 87, -78, 27, 83, 6, 18, 39, -73, -39, 5, -44, -88, -78, 12, -74, 44, -84, 21, -53, -9, -59, 68, 38, 81, 58, 63, -79, 49, 90, -80, 28, -32, -41, -70, -68, -90, -69, -64, -29, 64, -95, -23, 14, 39, -30, -20, 23, 80, 33, 69, 59, -44, 90, -62, -95, 55, -52, 29, 82, -7, -49, 63, -67, -52, 47, 7, -53, -36, 8, 98, 29, -31, 97, -23, -47, 65, 76, 85, 47, -32, 91, -85, -34, -62, -36, -1, -32, -74, -71, 63, 37], [60, -38, 63, 19, 0, 83, 51, 24, 51, -64, -83, 58, 93, 88, 97, -72, -4, 19, -32, 4, -80, -51, -59, -68, -28, 9, 17, 79, 54, 78, 85, 66, 32, -34, 97, -93, -69, 10, -40, 57, -94, 39, -36, 56, -74, -63, 3, 83, 72, 94, 13, -40, -79, 6, -81, -48, -74, 57, -45, -98, 83, -37, -82, -9, 80, -37, -7, 24, 7, -67, 11, 59, 46, -57, -55, -56, -35, -23, -7, -88, 89, -66, -97, -96, 53, -79, -11, 82, -78, -74, 45, 98, 95, 4, 53, 21, -75, 0, -78, 32], [71, 70, 42, 54, 83, 0, -84, -19, -38, -25, 39, 36, -17, 37, 41, 83, 30, 91, 8, 61, 51, -51, -31, 73, 2, -82, -82, -77, -23, 55, -31, -39, -89, -27, -71, -34, 2, -90, 41, -84, -59, 10, -31, -99, -82, -78, 85, -10, 92, 28, -87, -70, -14, -63, -41, -17, 71, 26, 26, -4, -4, -97, 24, 11, 38, -89, 1, 61, -28, -67, -34, 51, -7, -50, 88, -58, 68, 54, -79, -4, 92, 56, 30, -12, 17, 20, 93, 99, -47, -91, -70, -40, 48, -69, -3, -71, 36, -52, 37, -78], [22, -87, 26, 88, 51, -84, 0, 20, 50, -57, -18, 89, 65, 6, -8, -81, -34, 0, -71, -2, 87, 9, 8, -34, 59, -97, -85, 39, 63, 55, -73, 94, -39, -21, -80, -73, -63, -69, -84, 94, -2, -1, 52, -70, -60, -14, -72, -37, 92, -46, -56, -18, -75, -29, 59, 92, -77, -96, 28, 76, -66, 54, -88, 47, -21, -96, -68, 24, 27, -32, -61, -91, 86, -20, 92, 20, -38, -59, 14, -92, 19, 8, 76, -13, -81, -16, -86, 94, 21, 35, 12, -13, 61, -86, 19, 36, -63, -74, -32, -2], [99, -76, -93, 13, 24, -19, 20, 0, 8, 66, 9, -98, -87, 51, -49, -56, 70, -21, 99, 29, -56, 12, -10, 61, 82, -11, -30, 28, 4, 56, -18, 83, -51, -2, 36, 76, -56, -16, 43, 64, -36, -27, 55, 88, 8, -2, -65, 47, 64, 45, 64, -17, 29, -100, -50, 63, -43, -8, -1, 26, -75, 96, -82, -58, 35, 30, -100, -91, -37, 32, -94, -76, -69, -48, -21, 75, -32, -24, 62, 15, 86, -37, -74, -85, -25, 20, -77, -61, -98, -100, 14, 71, 23, 94, 35, -88, -26, 71, -79, -12], [89, -34, -42, -13, 51, -38, 50, 8, 0, -2, -33, 72, 2, -32, 23, 22, -43, 59, 41, 31, -91, 59, 3, -58, 36, 56, -43, 54, -16, 96, 23, 40, 30, 75, 0, 56, -19, 71, 94, -59, 73, -21, -39, -100, -35, 67, -57, -13, -30, -74, 7, 91, 70, 15, 89, 22, -53, 28, -29, 44, -41, 48, -18, 54, -13, 30, -88, 29, -68, 7, 92, 38, -41, -54, 56, -30, -14, -81, 28, 39, -33, -3, 58, 70, 50, 55, -3, 35, 45, 69, 56, -36, -22, 54, -8, -46, 82, 50, 34, 56], [62, 43, -38, 87, -64, -25, -57, 66, -2, 0, 10, -44, 14, -28, -73, -66, 23, 10, -61, -64, -36, 97, -18, 50, -32, -83, -67, -71, -63, 78, -38, -72, -19, -92, -40, -56, 60, -54, -87, 35, 59, -78, 24, -81, -29, -6, -19, -15, -19, -41, -3, 19, 37, 39, 6, -59, 38, -7, -31, -11, 95, -46, 58, 11, -38, -56, 17, -60, 37, -96, -24, -54, 36, 11, -73, 99, 60, -93, -57, -81, 31, 98, -68, 72, -50, 44, 40, 23, -22, 94, 5, -47, 21, -69, -24, -44, 23, -41, 20, -33], [-58, -24, -9, -78, -83, 39, -18, 9, -33, 10, 0, 17, -7, -75, 31, -87, 48, -83, -59, -55, -17, -98, 96, -30, -5, 70, -91, 26, 47, 14, -41, -40, 89, -37, -5, -52, -76, 0, 84, -9, 15, -8, 8, 81, -20, -86, -59, -37, -66, 63, 93, -3, 71, -30, -9, 80, 57, 10, -49, -99, -10, 1, 90, 7, -91, -4, 87, -2, 69, 87, 5, 19, 53, 53, -62, 93, -64, 17, 97, -30, 83, -68, 71, -34, 23, -57, -23, 0, -91, -52, -7, -3, 58, -41, -47, 72, -94, 67, -95, 8], [9, 36, 86, 27, 58, 36, 89, -98, 72, -44, 17, 0, -39, 11, -61, -31, -89, -20, 67, -97, 78, -49, 27, 49, -60, -66, 44, -33, -25, 12, 38, 66, -64, -65, -12, 49, 3, 41, 1, 12, -22, -24, -53, 81, 41, -10, -37, 66, 12, 45, 86, 82, -92, -21, -38, 84, 10, 57, 62, -41, -20, 37, 38, -93, 32, -69, -16, -2, -27, -71, -23, 0, -27, 62, 6, -99, 99, -49, -2, 31, -9, -64, -29, 37, -39, -88, 97, 39, -39, 64, -95, -49, -53, 95, -15, -99, -76, -37, 82, -57], [-66, -11, -93, 83, 93, -17, 65, -87, 2, 14, -7, -39, 0, -46, -33, -55, -68, 57, 28, -94, -90, -69, -83, -82, 60, -36, -91, 12, 62, -65, 44, 30, 6, 26, 99, 0, -45, 79, -40, 76, -54, -26, -30, 36, -34, -89, 70, 7, 15, -4, 45, 58, -78, -32, 48, -55, 17, 30, 55, -49, -97, 44, -81, -99, 23, -4, 27, -47, -67, -68, -38, 89, -21, -36, 24, 8, -63, -28, 61, -32, 57, 89, -37, -69, -49, -58, 86, 48, -96, 60, -100, 28, -48, 72, -56, 46, -62, 6, -32, -92], [91, 55, -59, 6, 88, 37, 6, 51, -32, -28, -75, 11, -46, 0, -80, -72, -18, -95, -54, -57, 76, -3, 30, -77, 49, -5, 98, -74, 21, 33, -16, 25, -41, 50, 40, 65, 44, 78, 34, 45, 34, 89, 41, -9, 10, 88, 41, 51, -97, -46, 46, 93, -27, 85, 14, 29, -94, -17, -28, -17, -82, -78, -79, 93, 62, 89, -5, 94, -50, -39, -68, 39, 65, -14, -20, 42, -75, -19, 2, -67, -61, -87, 9, 62, 80, 55, -29, 71, 49, 0, 48, 64, -39, 23, 17, -8, -38, 37, -74, 60], [9, -25, 75, 18, 97, 41, -8, -49, 23, -73, 31, -61, -33, -80, 0, 8, -11, -44, -86, 17, -41, 36, 20, -89, 17, -72, 67, -35, 92, -11, 57, -82, -16, 31, 11, -86, 31, 3, 35, -70, 34, -19, -43, -2, -15, 46, -64, -20, -39, 78, 27, 79, 55, 71, 47, -43, 58, -15, -26, -37, -2, -100, -46, 42, -94, 86, -34, -60, -36, 86, 51, 88, -99, 71, -86, -19, 23, -93, 44, -81, 84, 21, 26, -42, 12, -98, 7, 51, -7, 66, 77, 87, 79, 31, 20, 89, 12, 27, -65, 45], [86, -70, -22, 39, -72, 83, -81, -56, 22, -66, -87, -31, -55, -72, 8, 0, -5, 86, 81, -67, 47, 47, 49, -41, -82, 21, -17, -74, -18, 40, 16, -47, -73, -64, -29, 12, -41, -30, -37, -60, 3, -65, -50, 36, 64, 49, -76, 94, 12, -65, -85, -99, 14, -66, -1, -47, 27, 20, -44, 41, -50, 8, 75, 19, 21, -36, 63, 69, -62, 36, 78, -25, -46, 46, -46, 4, -55, 74, -59, 86, -18, 30, 87, 63, 16, 77, -93, -4, -43, 93, -79, -42, 38, 0, 55, 6, -70, 19, -3, 83], [-47, 55, -35, -73, -4, 30, -34, 70, -43, 23, 48, -89, -68, -18, -11, -5, 0, -10, 12, 59, 73, -41, 50, -33, 72, 75, 40, 44, 85, 33, 79, -48, -61, 77, 36, 34, 23, -89, 18, 82, 7, -55, 47, -69, 81, -34, -42, -10, -3, 35, 95, 41, -71, -80, -96, 39, 33, 88, 60, 93, 31, -33, -25, -19, -58, -44, -56, -69, 5, 33, -96, -94, 12, -38, -28, -71, 65, -43, 93, 61, -52, 52, -12, -24, 76, 75, -38, -35, 91, 44, -45, 38, -36, 51, 61, -19, 17, 8, 95, 32], [-28, 70, -55, -39, 19, 91, 0, -21, 59, 10, -83, -20, 57, -95, -44, 86, -10, 0, -61, 45, 74, -34, 92, 91, -63, -91, 61, 68, -97, -94, -73, 48, 38, -25, 42, 36, 43, 75, 94, 55, -84, 67, -86, -64, -84, -23, 46, -2, 89, -87, 15, -20, -84, -67, -44, 4, 7, -95, 13, -76, 11, 78, -9, -19, -29, 84, -85, -65, 36, 23, -8, 90, -69, 10, 22, 72, -99, -93, 72, 57, -8, -8, -45, -21, 38, 39, -37, -48, 23, 16, -34, -71, -68, -58, 99, -78, 31, -56, 97, -73], [-74, -93, -76, 5, -32, 8, -71, 99, 41, -61, -59, 67, 28, -54, -86, 81, 12, -61, 0, 93, 12, -61, 76, 65, 41, -58, 64, -54, 14, 86, 90, 97, 74, -66, 67, 49, -16, 7, -24, -3, -86, -12, 34, 10, 81, 46, -58, -62, -10, -26, 77, -95, 98, -16, 99, 13, 3, -18, -92, 21, 84, 97, -79, -20, 70, -2, -94, 34, -72, -80, -85, -3, -67, -95, -75, 22, -61, -37, -85, -51, -90, 0, -46, -32, -33, -91, 7, 47, 81, -27, 0, -38, -87, -41, 36, -42, 16, -94, 89, -58], [13, 94, -13, -44, 4, 61, -2, 29, 31, -64, -55, -97, -94, -57, 17, -67, 59, 45, 93, 0, -91, -51, -5, 27, 99, -72, 65, 43, -13, 12, 51, 57, 66, -66, -24, 85, 5, -17, 16, -90, 88, 12, 21, 71, -83, 83, 12, -92, 33, 65, 1, 90, 86, 74, 77, 70, 6, 98, 82, 67, 0, 23, 52, 38, 39, -68, 49, -87, 21, 27, -90, -2, 90, -29, -13, -28, 45, -98, 63, 44, 33, -62, 21, -2, 10, 69, 57, -73, 71, 10, 87, 17, 21, -12, -79, 31, 86, -95, 87, -40], [-80, 57, -42, -88, -80, 51, 87, -56, -91, -36, -17, 78, -90, 76, -41, 47, 73, 74, 12, -91, 0, -92, 85, -6, 70, 25, -90, 96, -40, 55, 77, 47, 46, 61, 79, 79, 49, 59, -78, 2, -87, -52, -76, -91, 24, 12, -4, 59, -11, -46, -9, 95, 88, 58, 62, 81, 5, -70, -59, 12, 28, 13, 1, -70, 61, 93, -81, 42, 47, 16, 43, -43, -40, 99, 97, -1, 4, -17, -78, 17, 59, 99, -14, -61, -19, 4, -19, 98, 90, -61, 81, -63, -43, 69, -7, -30, -33, 96, -58, 60], [34, -39, 67, -78, -51, -51, 9, 12, 59, 97, -98, -49, -69, -3, 36, 47, -41, -34, -61, -51, -92, 0, -57, 45, 66, 24, 5, -61, -61, 35, -14, 6, 35, -53, 45, -74, -62, 42, -35, -70, 50, -82, -72, -79, 37, -6, -77, 46, -23, 99, -56, -33, 31, -33, -57, 19, 83, 50, 13, 67, -61, 37, 99, 57, -100, 80, -10, -68, -18, 23, -38, -21, -65, 20, -3, -7, 3, 7, 3, 89, -46, -10, 60, -87, -9, -67, -79, -49, 27, 36, -69, 12, -17, -39, -36, -18, -78, -93, -97, -25], [56, -29, 72, 12, -59, -31, 8, -10, 3, -18, 96, 27, -83, 30, 20, 49, 50, 92, 76, -5, 85, -57, 0, -50, 31, 25, -68, 70, 89, 28, -16, -63, 57, 30, -30, 56, -32, -76, 96, -54, 42, 26, -78, 19, -75, -50, -76, -23, 74, -63, -71, -62, 72, 63, -10, 38, -41, -73, 42, -65, -28, 52, -30, -85, 12, 64, 91, 40, 21, -49, 31, -58, -35, -16, 70, -79, -27, -19, 97, -9, -56, -8, 93, 2, 84, 14, -51, -45, 5, 60, -16, -23, 41, 38, 87, -40, 61, -78, 86, 91], [-57, -76, -13, -74, -68, 73, -34, 61, -58, 50, -30, 49, -82, -77, -89, -41, -33, 91, 65, 27, -6, 45, -50, 0, 58, -32, -34, -89, -74, -20, 24, 55, -80, -72, 80, 60, 18, -31, -30, -90, 62, -32, 49, 6, -66, 88, 35, -59, -7, -68, 21, 57, -86, 7, 54, -27, 82, 94, -3, -13, -66, 24, -84, 93, 55, 11, 46, -4, 5, -92, 43, 64, 21, -78, -59, -93, 57, -50, 7, 80, -75, 71, -85, 94, -4, 19, 80, -69, 44, -77, -51, 61, -7, -64, 19, 36, 62, -30, -31, 10], [54, 85, 8, 44, -28, 2, 59, 82, 36, -32, -5, -60, 60, 49, 17, -82, 72, -63, 41, 99, 70, 66, 31, 58, 0, 85, -51, 74, -21, -52, 70, 80, 8, -67, -42, 87, -78, 5, -100, 16, -34, 57, 65, -11, 88, 37, -85, -87, -20, -18, -2, 73, 37, -1, -33, -97, 91, 84, -97, 40, -51, -26, -23, -59, -97, -51, -56, -95, -8, -28, 93, -8, 69, -36, 71, -91, 1, -69, 62, -78, -2, 90, -47, 54, 91, 62, -64, -44, -37, 79, -30, 17, -51, -83, -13, -31, 46, -87, 68, 72], [46, 88, 8, -84, 9, -82, -97, -11, 56, -83, 70, -66, -36, -5, -72, 21, 75, -91, -58, -72, 25, 24, 25, -32, 85, 0, -87, 30, -79, -73, 60, -5, -35, -3, 24, 55, 43, -2, -17, -91, 80, 15, -3, -15, 76, -54, -79, 72, 60, -34, 61, 93, 51, 46, 73, 45, 97, -95, 42, -40, 96, 28, 43, 55, -66, 17, -81, 17, 29, -92, -99, 5, -89, 78, -82, -87, -37, 43, 7, 11, -61, -71, 65, -38, 80, -59, -38, 2, -63, 93, -6, -2, -32, 60, -51, 57, 47, -81, -44, -36], [54, 17, -12, 21, 17, -82, -85, -30, -43, -67, -91, 44, -91, 98, 67, -17, 40, 61, 64, 65, -90, 5, -68, -34, -51, -87, 0, -54, -13, 14, 88, 58, -52, 46, 92, 86, 73, 5, -93, 39, 37, 67, 22, 1, -22, 10, 62, -9, -51, 12, -98, -29, 78, -36, -86, 22, -28, 27, 55, -88, -11, -70, 63, -58, -12, -74, -10, 60, 88, 80, -73, -33, 0, 87, -46, -3, -82, -92, 68, -26, 99, -1, -62, -55, -50, -89, 23, -7, 19, -80, 75, -27, 22, -36, -18, 37, 78, -79, -32, -72], [56, -98, -21, -53, 79, -77, 39, 28, 54, -71, 26, -33, 12, -74, -35, -74, 44, 68, -54, 43, 96, -61, 70, -89, 74, 30, -54, 0, -37, 0, -6, -95, 66, -17, 32, 97, -95, -76, 79, -85, -75, -43, -23, 30, 74, -54, -47, 6, -68, -34, -28, 43, -97, -92, 80, 11, 53, -16, -87, 15, 11, 39, -49, -5, 36, -29, 24, 38, 38, -39, 29, -33, 88, -20, 53, -46, -50, 70, 82, 25, 30, -52, -31, 18, -52, 78, 78, 39, -99, 4, 7, 81, -54, -11, 23, -60, -92, -71, -49, -30], [-36, 64, -81, -9, 54, -23, 63, 4, -16, -63, 47, -25, 62, 21, 92, -18, 85, -97, 14, -13, -40, -61, 89, -74, -21, -79, -13, -37, 0, -55, 55, -49, 27, 65, -36, -52, 37, -5, 63, -71, 68, -61, 38, 83, 48, -69, 94, 78, 37, -28, 16, 13, 35, 73, 10, -40, 64, 64, -60, -11, -51, -91, -81, 49, 18, 91, 45, -31, 62, -66, -90, -2, 61, -94, 75, -90, -45, 15, -86, 19, 53, -43, -9, -72, -44, 14, 75, 68, -20, 71, -61, -64, 60, -1, -75, -54, -25, -78, -3, -19], [1, -65, 92, -59, 78, 55, 55, 56, 96, 78, 14, 12, -65, 33, -11, 40, 33, -94, 86, 12, 55, 35, 28, -20, -52, -73, 14, 0, -55, 0, 59, -60, 5, 58, -83, 27, 59, 93, 57, 50, -20, -94, -28, 52, 8, 40, 89, -31, -55, 66, 61, 65, 82, -83, -79, -27, -47, -94, 39, 59, -71, -63, 28, -59, -31, 70, 8, -48, -69, 64, -86, -84, 56, 19, -17, -81, 42, -81, -62, -19, 78, 11, -71, -74, 5, -55, -1, 48, 39, -15, 42, 38, 0, 14, -1, -29, -57, 46, -37, -19], [-3, 31, 32, 68, 85, -31, -73, -18, 23, -38, -41, 38, 44, -16, 57, 16, 79, -73, 90, 51, 77, -14, -16, 24, 70, 60, 88, -6, 55, 59, 0, -98, -31, -35, -89, -87, -48, -46, 2, 95, 9, -74, 91, -78, -71, 69, 56, 79, -61, 55, -72, -88, -6, -61, -51, -98, 65, 44, -29, 25, 46, -9, -27, -72, 54, 51, 96, -99, -61, 30, 48, -99, 14, -15, -72, 85, 29, -3, 68, -8, -29, 13, -87, 84, 58, 38, 72, -100, -68, -1, 78, -55, -99, -73, 39, -75, 51, -26, 98, -37], [-97, -67, -71, 38, 66, -39, 94, 83, 40, -72, -40, 66, 30, 25, -82, -47, -48, 48, 97, 57, 47, 6, -63, 55, 80, -5, 58, -95, -49, -60, -98, 0, -54, -38, -47, -51, 89, 18, -7, -64, 96, 0, -55, 6, -73, -70, -37, 18, 63, -13, 27, 21, -62, -92, 92, 34, 7, 48, -72, 12, 45, -86, -48, -36, 13, 18, -53, 31, -95, -36, 47, -36, -59, -42, 47, 38, 52, 5, 34, 96, -29, 31, 63, -54, -6, -9, -79, 81, 38, 77, 55, 9, -10, 27, 99, 35, 41, 92, -72, 54], [-46, -8, 60, 81, 32, -89, -39, -51, 30, -19, 89, -64, 6, -41, -16, -73, -61, 38, 74, 66, 46, 35, 57, -80, 8, -35, -52, 66, 27, 5, -31, -54, 0, 37, 43, 47, -1, 67, 87, -30, -16, 10, -68, -12, 81, 81, 23, 0, 83, 90, 61, 41, -4, -88, 22, 76, 41, 87, -99, -69, -53, 19, 30, -5, 51, -30, -9, -75, 54, 9, 43, -4, 44, -76, 36, 68, -36, -27, 23, 48, 76, -90, 53, 6, 40, 17, -27, 6, 54, -56, -67, -50, -70, 49, -13, 9, 73, 10, -21, 77], [47, -94, 72, 58, -34, -27, -21, -2, 75, -92, -37, -65, 26, 50, 31, -64, 77, -25, -66, -66, 61, -53, 30, -72, -67, -3, 46, -17, 65, 58, -35, -38, 37, 0, 84, -58, -8, -1, 35, -83, 57, 81, 51, -83, -51, -81, 54, 86, -10, -81, 94, 75, 97, 84, -49, -34, -51, -99, -54, 9, -78, -65, 55, 70, 41, -55, -26, -34, -1, 41, 48, 85, 98, 35, 15, -89, 35, -32, 27, 35, -29, 92, 1, 99, 4, 30, 52, 12, 94, 11, -72, 99, -99, -14, 23, 37, -62, 35, 90, 69], [71, -2, -52, 63, 97, -71, -80, 36, 0, -40, -5, -12, 99, 40, 11, -29, 36, 42, 67, -24, 79, 45, -30, 80, -42, 24, 92, 32, -36, -83, -89, -47, 43, 84, 0, 65, -48, 22, -89, -95, -32, 80, 49, 8, 20, 98, -69, 31, -17, -83, -6, 68, 98, 88, -91, -74, 22, -81, -73, -65, -62, 23, 27, -48, 62, -78, -38, -74, -80, -68, 43, 98, -82, 29, -6, 70, -82, -20, 33, -94, -27, -68, 41, -17, -3, 65, -24, -97, 0, 52, 30, 81, -19, -82, -32, -46, -66, 87, 84, 1], [-68, 42, 90, -79, -93, -34, -73, 76, 56, -56, -52, 49, 0, 65, -86, 12, 34, 36, 49, 85, 79, -74, 56, 60, 87, 55, 86, 97, -52, 27, -87, -51, 47, -58, 65, 0, -51, -16, -19, 54, 16, 7, 39, 89, 77, -23, 38, -59, 69, 69, -5, 41, -22, -21, 42, -27, -100, 98, -83, 58, 52, -1, -36, 37, 66, 6, 8, 23, 77, -6, 93, 96, 71, -88, -79, -93, -21, 18, -22, -37, -43, -75, -19, -3, 69, -4, 19, -62, -94, 80, -4, -24, 78, -37, -90, -45, 89, 93, 32, -74], [52, -73, -69, 49, -69, 2, -63, -56, -19, 60, -76, 3, -45, 44, 31, -41, 23, 43, -16, 5, 49, -62, -32, 18, -78, 43, 73, -95, 37, 59, -48, 89, -1, -8, -48, -51, 0, -68, 63, 97, -42, 15, 85, -29, 2, -27, -2, -27, 22, -94, -66, -62, -66, 22, 7, -67, 90, 85, 21, 75, -61, 44, -44, -94, -20, 3, 60, 3, -60, 28, -5, 85, -59, 13, 18, -65, 30, -66, -2, -1, 46, 45, -38, -94, -92, 17, 83, -71, -42, -67, -63, -29, 24, -86, -3, 18, -83, 62, 55, -49], [-80, 66, 33, 90, 10, -90, -69, -16, 71, -54, 0, 41, 79, 78, 3, -30, -89, 75, 7, -17, 59, 42, -76, -31, 5, -2, 5, -76, -5, 93, -46, 18, 67, -1, 22, -16, -68, 0, -87, -14, 0, 76, -36, -61, -55, 97, 59, -66, -23, -22, -62, -34, -91, 65, 34, 98, 91, 87, 1, -75, 89, 86, -30, 42, 95, 68, -17, 46, -93, 84, -76, 65, 97, 81, 18, -82, -22, -48, 13, 36, 35, -33, 88, -21, 66, -95, 92, 10, -61, -47, 83, -78, -94, -51, -12, 30, 86, 8, 81, -36], [-97, -96, -18, -80, -40, 41, -84, 43, 94, -87, 84, 1, -40, 34, 35, -37, 18, 94, -24, 16, -78, -35, 96, -30, -100, -17, -93, 79, 63, 57, 2, -7, 87, 35, -89, -19, 63, -87, 0, -11, -15, -82, -62, 16, 44, 69, 38, -11, 28, -67, 49, -99, 44, -68, -38, -39, 26, 65, 24, -81, 39, 24, 68, -70, -71, -8, 10, -85, -99, 2, -85, -54, -99, 73, -84, 89, 34, -13, 72, 24, -25, 41, 78, 10, -64, -8, -79, 94, -27, -1, 21, -41, -9, -40, -78, 65, 95, 9, -71, 95], [14, -99, -76, 28, 57, -84, 94, 64, -59, 35, -9, 12, 76, 45, -70, -60, 82, 55, -3, -90, 2, -70, -54, -90, 16, -91, 39, -85, -71, 50, 95, -64, -30, -83, -95, 54, 97, -14, -11, 0, -28, -71, 20, 19, 58, 11, 95, 4, -88, 30, -83, 66, -55, -56, -58, 26, 54, 84, -88, -48, 57, 99, 65, 91, -83, -11, -92, 65, -32, 37, -56, 63, 98, 13, -91, 97, -9, 27, -85, 77, -33, 53, 15, -28, 82, -94, 33, -6, 4, 7, -57, 45, 80, 54, 55, -39, 9, -63, -1, 36], [-48, -6, 19, -32, -94, -59, -2, -36, 73, 59, 15, -22, -54, 34, 34, 3, 7, -84, -86, 88, -87, 50, 42, 62, -34, 80, 37, -75, 68, -20, 9, 96, -16, 57, -32, 16, -42, 0, -15, -28, 0, -34, 74, -23, 8, -49, 17, 81, -33, 16, -85, 20, 26, -100, -69, -1, 26, 65, 14, -89, 81, 9, 1, 64, 18, -27, -70, 13, 95, 70, -16, 25, -88, -4, 85, 1, 43, 7, -65, -19, -34, 16, 45, 73, 63, -95, 14, 63, 37, -86, 31, -93, 29, 15, 8, -94, -50, -76, -90, 54], [-81, -81, -59, -41, 39, 10, -1, -27, -21, -78, -8, -24, -26, 89, -19, -65, -55, 67, -12, 12, -52, -82, 26, -32, 57, 15, 67, -43, -61, -94, -74, 0, 10, 81, 80, 7, 15, 76, -82, -71, -34, 0, -33, -13, -17, -33, -68, -57, 13, 30, 90, -9, -38, 77, 96, -68, 60, 35, -89, -21, 71, -12, 33, -52, -53, 85, 11, -81, -51, 53, 1, 96, -86, 61, 33, 6, 48, 11, 57, -72, -80, 66, 34, -87, 93, 26, -30, 64, 28, 40, 6, -42, 97, -9, 70, 19, -81, 18, -70, -72], [71, -67, 62, -70, -36, -31, 52, 55, -39, 24, 8, -53, -30, 41, -43, -50, 47, -86, 34, 21, -76, -72, -78, 49, 65, -3, 22, -23, 38, -28, 91, -55, -68, 51, 49, 39, 85, -36, -62, 20, 74, -33, 0, 12, 9, 99, 41, -9, -86, 0, -95, -80, 44, -22, -57, 27, 71, 1, 57, 6, 18, -16, -61, 51, -34, -69, -79, 60, -97, 74, 81, -5, -33, 1, -49, 88, -36, -34, 52, 55, -49, 14, 15, 35, -78, 92, 18, -15, 88, 80, 92, -51, -3, 32, -7, 38, -50, -98, -62, -48], [-25, -56, 14, -68, 56, -99, -70, 88, -100, -81, 81, 81, 36, -9, -2, 36, -69, -64, 10, 71, -91, -79, 19, 6, -11, -15, 1, 30, 83, 52, -78, 6, -12, -83, 8, 89, -29, -61, 16, 19, -23, -13, 12, 0, 89, 48, -56, -69, 66, -25, 19, -68, 90, -42, 71, 48, 35, -9, -99, 60, 97, -27, -22, -72, 53, -31, -87, 11, -62, 15, -77, -49, 51, 46, 29, -87, -1, 10, -50, 86, -68, -37, -56, 29, 73, 98, -12, -91, 22, 64, -35, 95, 26, 54, 12, -61, -90, 43, -28, 27], [33, 5, -87, -90, -74, -82, -60, 8, -35, -29, -20, 41, -34, 10, -15, 64, 81, -84, 81, -83, 24, 37, -75, -66, 88, 76, -22, 74, 48, 8, -71, -73, 81, -51, 20, 77, 2, -55, 44, 58, 8, -17, 9, 89, 0, -98, -39, -42, 58, 66, 37, 11, 99, -60, 83, 86, 34, 19, -1, 56, 57, -92, -11, 40, 64, -91, 51, 99, 97, -66, -7, -50, -93, 48, -31, 85, 99, 74, -100, -35, -84, 5, 98, -25, -100, -77, 60, -81, 1, 83, -44, -98, -77, -69, 34, -35, -20, -58, 83, 31], [36, -50, -65, -69, -63, -78, -14, -2, 67, -6, -86, -10, -89, 88, 46, 49, -34, -23, 46, 83, 12, -6, -50, 88, 37, -54, 10, -54, -69, 40, 69, -70, 81, -81, 98, -23, -27, 97, 69, 11, -49, -33, 99, 48, -98, 0, 8, 43, 89, -1, 85, -74, 16, 17, 1, 12, -78, 0, 33, 54, 27, -46, -39, 81, -96, -52, 86, 55, -29, -79, -86, -52, -97, 31, -66, 18, -95, 26, -76, 62, -64, -75, -9, -12, -79, -10, 60, -4, 45, 99, 75, -37, 97, 27, 28, 6, -4, 94, -10, 64], [62, 49, 5, -64, 3, 85, -72, -65, -57, -19, -59, -37, 70, 41, -64, -76, -42, 46, -58, 12, -4, -77, -76, 35, -85, -79, 62, -47, 94, 89, 56, -37, 23, 54, -69, 38, -2, 59, 38, 95, 17, -68, 41, -56, -39, 8, 0, -85, 49, 7, -67, 88, -29, -56, 37, 10, -65, -95, 80, 38, 66, 32, -96, -85, -62, -37, -98, 2, 9, 27, -73, -95, 0, -72, 82, -56, 22, 46, 44, 95, -25, 89, 45, -42, -47, -84, -57, 4, 88, 64, 71, 80, 26, -24, 8, -77, 88, 83, -58, 49], [98, -88, 68, -29, 83, -10, -37, 47, -13, -15, -37, 66, 7, 51, -20, 94, -10, -2, -62, -92, 59, 46, -23, -59, -87, 72, -9, 6, 78, -31, 79, 18, 0, 86, 31, -59, -27, -66, -11, 4, 81, -57, -9, -69, -42, 43, -85, 0, 13, -5, -70, -54, -97, -28, -7, 76, -73, 76, -8, -36, 56, 13, 50, 92, -85, 38, -16, 93, 0, -4, 30, -73, -15, 35, 54, 23, -24, 56, -6, 2, 52, -76, -86, -59, 59, 64, 50, -41, 68, 33, 93, 77, -93, -61, 58, -72, -17, -59, 77, -15], [91, -46, -94, 64, 72, 92, 92, 64, -30, -19, -66, 12, 15, -97, -39, 12, -3, 89, -10, 33, -11, -23, 74, -7, -20, 60, -51, -68, 37, -55, -61, 63, 83, -10, -17, 69, 22, -23, 28, -88, -33, 13, -86, 66, 58, 89, 49, 13, 0, -35, 48, -4, -38, 79, 31, 1, 14, -90, -77, 82, -94, 13, -44, -91, 60, -59, 14, 22, 58, -82, -37, -33, 40, 88, -20, 71, -74, 30, 99, -55, -1, -34, 66, 26, 73, -42, 88, 61, -84, -20, 87, -52, 60, 1, -23, 58, -36, -6, -5, -74], [-68, -21, 79, -95, 94, 28, -46, 45, -74, -41, 63, 45, -4, -46, 78, -65, 35, -87, -26, 65, -46, 99, -63, -68, -18, -34, 12, -34, -28, 66, 55, -13, 90, -81, -83, 69, -94, -22, -67, 30, 16, 30, 0, -25, 66, -1, 7, -5, -35, 0, 75, 69, -87, -31, 45, -51, 30, 95, -84, -31, -57, -50, 2, -63, -50, 88, -74, 97, -82, 74, -33, -10, -99, -83, 4, 33, -82, 21, 32, -64, -53, -56, 20, -78, 75, -90, 79, -73, -81, 44, -23, 69, -49, -53, -13, 54, 70, 62, -45, -14], [30, 57, -68, -23, 13, -87, -56, 64, 7, -3, 93, 86, 45, 46, 27, -85, 95, 15, 77, 1, -9, -56, -71, 21, -2, 61, -98, -28, 16, 61, -72, 27, 61, 94, -6, -5, -66, -62, 49, -83, -85, 90, -95, 19, 37, 85, -67, -70, 48, 75, 0, 81, -28, -30, -32, 48, -28, 6, 4, -55, 14, 21, -28, 43, -3, -39, 17, 25, -38, -34, -82, -42, -17, -14, -31, 44, 5, 17, -20, -18, -70, 57, 29, -62, -12, -19, 81, 91, 15, 44, 99, -11, 28, 59, 56, 38, -48, -80, -40, -40], [-22, 83, -59, 14, -40, -70, -18, -17, 91, 19, -3, 82, 58, 93, 79, -99, 41, -20, -95, 90, 95, -33, -62, 57, 73, 93, -29, 43, 13, 65, -88, 21, 41, 75, 68, 41, -62, -34, -99, 66, 20, -9, -80, -68, 11, -74, 88, -54, -4, 69, 81, 0, -44, 36, 79, 30, 61, -69, 28, 49, -22, -49, 60, -72, -53, 11, 22, 75, 12, -3, 77, 29, -26, -59, 15, 80, -82, -39, 88, 48, -60, 4, -93, 1, 21, 98, -24, 89, 34, -54, -44, 66, 61, -93, 39, 88, -56, 72, -41, 30], [30, -8, -48, 39, -79, -14, -75, 29, 70, 37, 71, -92, -78, -27, 55, 14, -71, -84, 98, 86, 88, 31, 72, -86, 37, 51, 78, -97, 35, 82, -6, -62, -4, 97, 98, -22, -66, -91, 44, -55, 26, -38, 44, 90, 99, 16, -29, -97, -38, -87, -28, -44, 0, -6, -81, 16, 6, -74, -82, 74, 42, -68, 69, 41, -85, 5, 99, -82, -87, 89, -8, 30, 41, 85, 1, -80, -1, -16, 70, 55, -70, -15, -18, -78, 85, 65, -31, -16, 92, 17, -15, -30, 91, -55, -79, -7, 95, -61, -6, 93], [31, -23, -51, -30, 6, -63, -29, -100, 15, 39, -30, -21, -32, 85, 71, -66, -80, -67, -16, 74, 58, -33, 63, 7, -1, 46, -36, -92, 73, -83, -61, -92, -88, 84, 88, -21, 22, 65, -68, -56, -100, 77, -22, -42, -60, 17, -56, -28, 79, -31, -30, 36, -6, 0, 43, -91, 86, -25, 30, 70, -53, -39, -7, 81, -60, 55, 56, 35, -28, -86, -96, -53, 67, -29, -31, 68, -6, 86, -70, 93, -95, 69, 29, -35, 96, -100, 69, -88, -90, 96, 87, 35, -40, -14, 4, -21, 80, 98, -80, -89], [-2, 26, 17, -20, -81, -41, 59, -50, 89, 6, -9, -38, 48, 14, 47, -1, -96, -44, 99, 77, 62, -57, -10, 54, -33, 73, -86, 80, 10, -79, -51, 92, 22, -49, -91, 42, 7, 34, -38, -58, -69, 96, -57, 71, 83, 1, 37, -7, 31, 45, -32, 79, -81, 43, 0, 31, 88, -38, -64, 97, 2, 60, 99, 7, 70, -55, -16, 96, -88, 7, -48, -12, -82, -27, -42, -23, 39, -85, 25, -47, -63, -64, 44, 80, 38, 94, -54, -22, 33, 72, 53, 59, -100, -27, 65, -90, 50, -24, 7, 89], [-32, -31, -60, 23, -48, -17, 92, 63, 22, -59, 80, 84, -55, 29, -43, -47, 39, 4, 13, 70, 81, 19, 38, -27, -97, 45, 22, 11, -40, -27, -98, 34, 76, -34, -74, -27, -67, 98, -39, 26, -1, -68, 27, 48, 86, 12, 10, 76, 1, -51, 48, 30, 16, -91, 31, 0, 72, -95, -74, 57, -73, 89, -46, -79, -54, 86, 76, -68, -98, 94, 43, -7, -74, 90, 23, 94, 78, 94, 38, 53, 50, -2, -86, 57, 5, -30, -46, 12, 87, -69, -20, -48, -48, 13, 57, -26, -51, -25, 14, -73], [15, -52, -56, 80, -74, 71, -77, -43, -53, 38, 57, 10, 17, -94, 58, 27, 33, 7, 3, 6, 5, 83, -41, 82, 91, 97, -28, 53, 64, -47, 65, 7, 41, -51, 22, -100, 90, 91, 26, 54, 26, 60, 71, 35, 34, -78, -65, -73, 14, 30, -28, 61, 6, 86, 88, 72, 0, -61, 86, -54, -30, -72, 14, 13, -44, 95, 33, -73, -3, 5, -37, 27, 39, 2, -98, 55, -2, -76, 11, -28, -6, 76, 94, -7, -98, 91, 21, -54, 66, 40, 80, 27, -37, 92, 95, 65, 60, 71, 1, 63], [3, -33, 72, 33, 57, 26, -96, -8, 28, -7, 10, 57, 30, -17, -15, 20, 88, -95, -18, 98, -70, 50, -73, 94, 84, -95, 27, -16, 64, -94, 44, 48, 87, -99, -81, 98, 85, 87, 65, 84, 65, 35, 1, -9, 19, 0, -95, 76, -90, 95, 6, -69, -74, -25, -38, -95, -61, 0, -22, 81, -22, 34, -35, -61, 95, 97, 87, 86, -92, -21, 53, -90, -45, -25, 42, 40, 31, -12, -36, 72, -50, -52, -21, -66, 97, -68, -50, 69, -7, -37, 13, 63, -6, 10, -73, 84, 80, 0, 57, -37], [-32, -8, 55, 69, -45, 26, 28, -1, -29, -31, -49, 62, 55, -28, -26, -44, 60, 13, -92, 82, -59, 13, 42, -3, -97, 42, 55, -87, -60, 39, -29, -72, -99, -54, -73, -83, 21, 1, 24, -88, 14, -89, 57, -99, -1, 33, 80, -8, -77, -84, 4, 28, -82, 30, -64, -74, 86, -22, 0, -1, 28, -15, -45, -90, 4, 34, 60, -62, 74, 30, 81, -61, 34, 27, 17, -35, 37, -16, 32, -1, 77, -45, 4, -10, -35, -27, -100, -84, -63, 47, 83, -82, -86, 1, -13, -37, 91, -80, 91, -36], [66, 33, -18, 59, -98, -4, 76, 26, 44, -11, -99, -41, -49, -17, -37, 41, 93, -76, 21, 67, 12, 67, -65, -13, 40, -40, -88, 15, -11, 59, 25, 12, -69, 9, -65, 58, 75, -75, -81, -48, -89, -21, 6, 60, 56, 54, 38, -36, 82, -31, -55, 49, 74, 70, 97, 57, -54, 81, -1, 0, 48, -35, 87, 2, -4, -8, -30, 25, 13, 77, -72, -13, 17, 51, 34, 30, 59, -63, -68, 59, -72, -75, -60, -2, -11, -28, -47, 11, 4, 74, -42, 61, 28, -83, -87, -94, 43, 13, 63, 29], [-9, 61, 42, -44, 83, -4, -66, -75, -41, 95, -10, -20, -97, -82, -2, -50, 31, 11, 84, 0, 28, -61, -28, -66, -51, 96, -11, 11, -51, -71, 46, 45, -53, -78, -62, 52, -61, 89, 39, 57, 81, 71, 18, 97, 57, 27, 66, 56, -94, -57, 14, -22, 42, -53, 2, -73, -30, -22, 28, 48, 0, -22, 39, 31, -6, -29, -40, -91, -54, -56, 91, -80, -74, -68, 81, -39, -29, -43, -98, -15, -100, -18, -82, 85, -68, 2, 66, -91, -55, 73, -3, -89, -1, 6, -19, 40, 85, 53, 69, -18], [13, -41, 57, 90, -37, -97, 54, 96, 48, -46, 1, 37, 44, -78, -100, 8, -33, 78, 97, 23, 13, 37, 52, 24, -26, 28, -70, 39, -91, -63, -9, -86, 19, -65, 23, -1, 44, 86, 24, 99, 9, -12, -16, -27, -92, -46, 32, 13, 13, -50, 21, -49, -68, -39, 60, 89, -72, 34, -15, -35, -22, 0, -62, -1, -79, 93, -17, -66, -98, -40, 12, 83, -61, 91, 45, -94, 39, -3, 72, -2, -89, -98, -38, 97, -87, -5, 0, 8, 88, -92, 4, 21, 9, 25, 46, -49, -64, -87, -18, 11], [-29, -88, 71, -62, -82, 24, -88, -82, -18, 58, 90, 38, -81, -79, -46, 75, -25, -9, -79, 52, 1, 99, -30, -84, -23, 43, 63, -49, -81, 28, -27, -48, 30, 55, 27, -36, -44, -30, 68, 65, 1, 33, -61, -22, -11, -39, -96, 50, -44, 2, -28, 60, 69, -7, 99, -46, 14, -35, -45, 87, 39, -62, 0, -80, 96, 29, 63, -88, 71, -24, 93, 68, 3, 16, -94, 46, 63, 95, -18, -21, 16, -76, -94, -100, 79, 1, 88, -27, 19, -57, 57, 27, 31, -82, -19, -27, -79, 71, -60, 82], [-43, -94, 9, -95, -9, 11, 47, -58, 54, 11, 7, -93, -99, 93, 42, 19, -19, -19, -20, 38, -70, 57, -85, 93, -59, 55, -58, -5, 49, -59, -72, -36, -5, 70, -48, 37, -94, 42, -70, 91, 64, -52, 51, -72, 40, 81, -85, 92, -91, -63, 43, -72, 41, 81, 7, -79, 13, -61, -90, 2, 31, -1, -80, 0, -81, -47, -86, 91, 36, 64, -36, 3, -67, 83, -93, -74, 61, 13, 63, 77, 41, -58, -49, -81, -63, 43, -50, 28, 82, -55, -98, -94, 55, 22, -79, 63, -27, 94, -67, 68], [39, 77, -95, 55, 80, 38, -21, 35, -13, -38, -91, 32, 23, 62, -94, 21, -58, -29, 70, 39, 61, -100, 12, 55, -97, -66, -12, 36, 18, -31, 54, 13, 51, 41, 62, 66, -20, 95, -71, -83, 18, -53, -34, 53, 64, -96, -62, -85, 60, -50, -3, -53, -85, -60, 70, -54, -44, 95, 4, -4, -6, -79, 96, -81, 0, 48, -32, 44, 61, -10, -47, -50, -56, 85, 17, 94, -45, 88, 99, 3, -86, 48, 81, 95, 66, 5, -42, 34, 84, -96, 82, 20, -82, 54, -99, -63, 40, 66, -40, 46], [-98, -64, -62, -52, -37, -89, -96, 30, 30, -56, -4, -69, -4, 89, 86, -36, -44, 84, -2, -68, 93, 80, 64, 11, -51, 17, -74, -29, 91, 70, 51, 18, -30, -55, -78, 6, 3, 68, -8, -11, -27, 85, -69, -31, -91, -52, -37, 38, -59, 88, -39, 11, 5, 55, -55, 86, 95, 97, 34, -8, -29, 93, 29, -47, 48, 0, -86, -44, 4, -72, 65, 89, 33, 75, 1, -57, 3, 9, -60, 24, -65, -59, 36, 23, 87, -82, 70, 46, -41, 79, -42, 83, -64, 8, 70, 55, -49, -79, 16, 32], [-46, 64, 58, 29, -7, 1, -68, -100, -88, 17, 87, -16, 27, -5, -34, 63, -56, -85, -94, 49, -81, -10, 91, 46, -56, -81, -10, 24, 45, 8, 96, -53, -9, -26, -38, 8, 60, -17, 10, -92, -70, 11, -79, -87, 51, 86, -98, -16, 14, -74, 17, 22, 99, 56, -16, 76, 33, 87, 60, -30, -40, -17, 63, -86, -32, -86, 0, 54, 27, -22, -92, -87, 72, -44, 78, -77, -53, -34, -91, 40, -35, 55, 8, 79, 32, 9, 17, 7, -5, -45, 48, -35, -39, 7, -46, 34, 14, 36, 25, -5], [-67, 3, 20, 82, 24, 61, 24, -91, 29, -60, -2, -2, -47, 94, -60, 69, -69, -65, 34, -87, 42, -68, 40, -4, -95, 17, 60, 38, -31, -48, -99, 31, -75, -34, -74, 23, 3, 46, -85, 65, 13, -81, 60, 11, 99, 55, 2, 93, 22, 97, 25, 75, -82, 35, 96, -68, -73, 86, -62, 25, -91, -66, -88, 91, 44, -44, 54, 0, 54, 85, 26, -23, 96, 15, -78, -17, -91, -34, 64, 51, -19, -97, -34, 75, 2, -23, 0, -37, 34, -25, -58, 66, -49, 57, 27, 43, 12, -72, 71, -74], [-44, 37, 47, -7, 7, -28, 27, -37, -68, 37, 69, -27, -67, -50, -36, -62, 5, 36, -72, 21, 47, -18, 21, 5, -8, 29, 88, 38, 62, -69, -61, -95, 54, -1, -80, 77, -60, -93, -99, -32, 95, -51, -97, -62, 97, -29, 9, 0, 58, -82, -38, 12, -87, -28, -88, -98, -3, -92, 74, 13, -54, -98, 71, 36, 61, 4, 27, 54, 0, 33, -78, -93, 74, 60, 24, -73, -78, -22, 57, -65, 89, -65, 81, -2, 45, 88, -62, 8, -4, -72, -12, 96, -69, -94, -33, -49, -89, -12, -77, 10], [-63, -62, 61, -49, -67, -67, -32, 32, 7, -96, 87, -71, -68, -39, 86, 36, 33, 23, -80, 27, 16, 23, -49, -92, -28, -92, 80, -39, -66, 64, 30, -36, 9, 41, -68, -6, 28, 84, 2, 37, 70, 53, 74, 15, -66, -79, 27, -4, -82, 74, -34, -3, 89, -86, 7, 94, 5, -21, 30, 77, -56, -40, -24, 64, -10, -72, -22, 85, 33, 0, 89, -8, 52, 46, -37, 20, -4, -83, -39, -41, 0, -83, -100, -2, -29, 71, 89, -5, 47, 65, -15, 11, -43, -96, -54, -12, -2, -17, -60, 9], [82, -68, -25, 63, 11, -34, -61, -94, 92, -24, 5, -23, -38, -68, 51, 78, -96, -8, -85, -90, 43, -38, 31, 43, 93, -99, -73, 29, -90, -86, 48, 47, 43, 48, 43, 93, -5, -76, -85, -56, -16, 1, 81, -77, -7, -86, -73, 30, -37, -33, -82, 77, -8, -96, -48, 43, -37, 53, 81, -72, 91, 12, 93, -36, -47, 65, -92, 26, -78, 89, 0, 54, -78, -6, -10, 52, 53, 26, -30, -25, -99, 22, 54, 13, -48, 13, 36, 49, 42, 68, 85, -62, 7, 29, -80, -87, -27, -21, 88, -52], [-4, -86, -79, -67, 59, 51, -91, -76, 38, -54, 19, 0, 89, 39, 88, -25, -94, 90, -3, -2, -43, -21, -58, 64, -8, 5, -33, -33, -2, -84, -99, -36, -4, 85, 98, 96, 85, 65, -54, 63, 25, 96, -5, -49, -50, -52, -95, -73, -33, -10, -42, 29, 30, -53, -12, -7, 27, -90, -61, -13, -80, 83, 68, 3, -50, 89, -87, -23, -93, -8, 54, 0, 43, -3, -88, -21, 95, 55, -27, 87, -90, -99, -1, 48, -78, -14, 86, -93, 54, -49, 22, 36, -5, 47, -3, 28, -49, 46, 35, -60], [-100, 65, 64, -52, 46, -7, 86, -69, -41, 36, 53, -27, -21, 65, -99, -46, 12, -69, -67, 90, -40, -65, -35, 21, 69, -89, 0, 88, 61, 56, 14, -59, 44, 98, -82, 71, -59, 97, -99, 98, -88, -86, -33, 51, -93, -97, 0, -15, 40, -99, -17, -26, 41, 67, -82, -74, 39, -45, 34, 17, -74, -61, 3, -67, -56, 33, 72, 96, 74, 52, -78, 43, 0, 32, 64, 1, -97, -10, 30, -74, -96, -53, -51, 3, 9, -57, -26, -53, -77, -72, 12, 38, 38, 77, -59, 83, 28, 61, -52, -20], [-88, 61, -97, 47, -57, -50, -20, -48, -54, 11, 53, 62, -36, -14, 71, 46, -38, 10, -95, -29, 99, 20, -16, -78, -36, 78, 87, -20, -94, 19, -15, -42, -76, 35, 29, -88, 13, 81, 73, 13, -4, 61, 1, 46, 48, 31, -72, 35, 88, -83, -14, -59, 85, -29, -27, 90, 2, -25, 27, 51, -68, 91, 16, 83, 85, 75, -44, 15, 60, 46, -6, -3, 32, 0, -1, -1, -53, -96, 12, 88, 67, 71, -20, -91, -65, 24, -32, 24, -77, -55, -76, 35, -60, -27, -43, 17, -84, 99, 36, -12], [39, -16, 96, 7, -55, 88, 92, -21, 56, -73, -62, 6, 24, -20, -86, -46, -28, 22, -75, -13, 97, -3, 70, -59, 71, -82, -46, 53, 75, -17, -72, 47, 36, 15, -6, -79, 18, 18, -84, -91, 85, 33, -49, 29, -31, -66, 82, 54, -20, 4, -31, 15, 1, -31, -42, 23, -98, 42, 17, 34, 81, 45, -94, -93, 17, 1, 78, -78, 24, -37, -10, -88, 64, -1, 0, 58, 38, 95, -66, 4, 65, 92, 1, 18, 39, -78, -67, -15, -13, -97, 16, -51, 98, -81, 8, 7, -59, -38, 1, 68], [25, 11, 53, -53, -56, -58, 20, 75, -30, 99, 93, -99, 8, 42, -19, 4, -71, 72, 22, -28, -1, -7, -79, -93, -91, -87, -3, -46, -90, -81, 85, 38, 68, -89, 70, -93, -65, -82, 89, 97, 1, 6, 88, -87, 85, 18, -56, 23, 71, 33, 44, 80, -80, 68, -23, 94, 55, 40, -35, 30, -39, -94, 46, -74, 94, -57, -77, -17, -73, 20, 52, -21, 1, -1, 58, 0, 53, 14, 95, 14, 4, -70, -77, 75, -32, 53, 28, 88, 32, 22, -33, 72, 26, -25, -2, 41, -26, 78, -97, 45], [-76, 57, 10, -36, -35, 68, -38, -32, -14, 60, -64, 99, -63, -75, 23, -55, 65, -99, -61, 45, 4, 3, -27, 57, 1, -37, -82, -50, -45, 42, 29, 52, -36, 35, -82, -21, 30, -22, 34, -9, 43, 48, -36, -1, 99, -95, 22, -24, -74, -82, 5, -82, -1, -6, 39, 78, -2, 31, 37, 59, -29, 39, 63, 61, -45, 3, -53, -91, -78, -4, 53, 95, -97, -53, 38, 53, 0, 73, 60, -17, -96, 99, 72, -81, -2, -85, -96, -98, 49, 29, -87, 1, 16, 89, -52, -32, 18, -24, 16, -56], [-33, -78, 6, 8, -23, 54, -59, -24, -81, -93, 17, -49, -28, -19, -93, 74, -43, -93, -37, -98, -17, 7, -19, -50, -69, 43, -92, 70, 15, -81, -3, 5, -27, -32, -20, 18, -66, -48, -13, 27, 7, 11, -34, 10, 74, 26, 46, 56, 30, 21, 17, -39, -16, 86, -85, 94, -76, -12, -16, -63, -43, -3, 95, 13, 88, 9, -34, -34, -22, -83, 26, 55, -10, -96, 95, 14, 73, 0, -89, 56, -15, 54, -30, -67, 2, 8, 27, -47, -36, 76, 73, -96, 94, -21, -53, -86, -29, -15, -22, 21], [-78, 32, -40, 98, -7, -79, 14, 62, 28, -57, 97, -2, 61, 2, 44, -59, 93, 72, -85, 63, -78, 3, 97, 7, 62, 7, 68, 82, -86, -62, 68, 34, 23, 27, 33, -22, -2, 13, 72, -85, -65, 57, 52, -50, -100, -76, 44, -6, 99, 32, -20, 88, 70, -70, 25, 38, 11, -36, 32, -68, -98, 72, -18, 63, 99, -60, -91, 64, 57, -39, -30, -27, 30, 12, -66, 95, 60, -89, 0, 35, 10, 84, 62, 50, 74, -23, -57, 57, -70, 70, 76, 83, -80, -30, 1, -45, 89, -76, 58, -55], [56, -95, -4, 29, -88, -4, -92, 15, 39, -81, -30, 31, -32, -67, -81, 86, 61, 57, -51, 44, 17, 89, -9, 80, -78, 11, -26, 25, 19, -19, -8, 96, 48, 35, -94, -37, -1, 36, 24, 77, -19, -72, 55, 86, -35, 62, 95, 2, -55, -64, -18, 48, 55, 93, -47, 53, -28, 72, -1, 59, -15, -2, -21, 77, 3, 24, 40, 51, -65, -41, -25, 87, -74, 88, 4, 14, -17, 56, 35, 0, -51, -40, 65, -81, 69, -40, -47, 27, 13, -33, 25, 23, -70, -47, 69, 38, -11, -18, -36, -56], [45, 83, 80, -31, 89, 92, 19, 86, -33, 31, 83, -9, 57, -61, 84, -18, -52, -8, -90, 33, 59, -46, -56, -75, -2, -61, 99, 30, 53, 78, -29, -29, 76, -29, -27, -43, 46, 35, -25, -33, -34, -80, -49, -68, -84, -64, -25, 52, -1, -53, -70, -60, -70, -95, -63, 50, -6, -50, 77, -72, -100, -89, 16, 41, -86, -65, -35, -19, 89, 0, -99, -90, -96, 67, 65, 4, -96, -15, 10, -51, 0, -4, -25, 46, -40, -15, 94, -54, 84, -99, -67, -87, -32, 87, -26, 64, -33, 57, 52, -45], [63, 13, 26, 97, -66, 56, 8, -37, -3, 98, -68, -64, 89, -87, 21, 30, 52, -8, 0, -62, 99, -10, -8, 71, 90, -71, -1, -52, -43, 11, 13, 31, -90, 92, -68, -75, 45, -33, 41, 53, 16, 66, 14, -37, 5, -75, 89, -76, -34, -56, 57, 4, -15, 69, -64, -2, 76, -52, -45, -75, -18, -98, -76, -58, 48, -59, 55, -97, -65, -83, 22, -99, -53, 71, 92, -70, 99, 54, 84, -40, -4, 0, -41, 59, 73, -77, -57, -34, -96, -27, 15, 97, 92, -29, -70, 91, 0, 9, 46, 11], [42, 31, -96, -23, -97, 30, 76, -74, 58, -68, 71, -29, -37, 9, 26, 87, -12, -45, -46, 21, -14, 60, 93, -85, -47, 65, -62, -31, -9, -71, -87, 63, 53, 1, 41, -19, -38, 88, 78, 15, 45, 34, 15, -56, 98, -9, 45, -86, 66, 20, 29, -93, -18, 29, 44, -86, 94, -21, 4, -60, -82, -38, -94, -49, 81, 36, 8, -34, 81, -100, 54, -1, -51, -20, 1, -77, 72, -30, 62, 65, -25, -41, 0, 93, -55, -70, 29, 88, -33, 95, -68, 33, -82, -15, 44, 33, 86, -36, 85, -31], [-94, 4, -14, -47, -96, -12, -13, -85, 70, 72, -34, 37, -69, 62, -42, 63, -24, -21, -32, -2, -61, -87, 2, 94, 54, -38, -55, 18, -72, -74, 84, -54, 6, 99, -17, -3, -94, -21, 10, -28, 73, -87, 35, 29, -25, -12, -42, -59, 26, -78, -62, 1, -78, -35, 80, 57, -7, -66, -10, -2, 85, 97, -100, -81, 95, 23, 79, 75, -2, -2, 13, 48, 3, -91, 18, 75, -81, -67, 50, -81, 46, 59, 93, 0, 73, -89, -70, 73, -98, 52, -61, -63, 40, -24, 61, -93, -69, 89, -88, -87], [-29, 24, -35, 65, 53, 17, -81, -25, 50, -50, 23, -39, -49, 80, 12, 16, 76, 38, -33, 10, -19, -9, 84, -4, 91, 80, -50, -52, -44, 5, 58, -6, 40, 4, -3, 69, -92, 66, -64, 82, 63, 93, -78, 73, -100, -79, -47, 59, 73, 75, -12, 21, 85, 96, 38, 5, -98, 97, -35, -11, -68, -87, 79, -63, 66, 87, 32, 2, 45, -29, -48, -78, 9, -65, 39, -32, -2, 2, 74, 69, -40, 73, -55, 73, 0, -25, -10, 64, 64, 48, 6, 57, -18, 45, -97, -52, 69, -30, 37, 76], [60, 63, 35, 76, -79, 20, -16, 20, 55, 44, -57, -88, -58, 55, -98, 77, 75, 39, -91, 69, 4, -67, 14, 19, 62, -59, -89, 78, 14, -55, 38, -9, 17, 30, 65, -4, 17, -95, -8, -94, -95, 26, 92, 98, -77, -10, -84, 64, -42, -90, -19, 98, 65, -100, 94, -30, 91, -68, -27, -28, 2, -5, 1, 43, 5, -82, 9, -23, 88, 71, 13, -14, -57, 24, -78, 53, -85, 8, -23, -40, -15, -77, -70, -89, -25, 0, -64, -26, 44, -16, 67, -63, 80, 90, 10, -50, -59, -33, -93, 0], [-96, -73, -48, 85, -11, 93, -86, -77, -3, 40, -23, 97, 86, -29, 7, -93, -38, -37, 7, 57, -19, -79, -51, 80, -64, -38, 23, 78, 75, -1, 72, -79, -27, 52, -24, 19, 83, 92, -79, 33, 14, -30, 18, -12, 60, 60, -57, 50, 88, 79, 81, -24, -31, 69, -54, -46, 21, -50, -100, -47, 66, 0, 88, -50, -42, 70, 17, 0, -62, 89, 36, 86, -26, -32, -67, 28, -96, 27, -57, -47, 94, -57, 29, -70, -10, -64, 0, -60, 16, 37, 14, 67, -99, -88, -12, 20, -49, -85, 94, -13], [63, 30, 73, 47, 82, 99, 94, -61, 35, 23, 0, 39, 48, 71, 51, -4, -35, -48, 47, -73, 98, -49, -45, -69, -44, 2, -7, 39, 68, 48, -100, 81, 6, 12, -97, -62, -71, 10, 94, -6, 63, 64, -15, -91, -81, -4, 4, -41, 61, -73, 91, 89, -16, -88, -22, 12, -54, 69, -84, 11, -91, 8, -27, 28, 34, 46, 7, -37, 8, -5, 49, -93, -53, 24, -15, 88, -98, -47, 57, 27, -54, -34, 88, 73, 64, -26, -60, 0, -98, -81, -79, -44, -78, 11, -85, -11, 69, 28, 91, 47], [15, -92, -36, -32, -78, -47, 21, -98, 45, -22, -91, -39, -96, 49, -7, -43, 91, 23, 81, 71, 90, 27, 5, 44, -37, -63, 19, -99, -20, 39, -68, 38, 54, 94, 0, -94, -42, -61, -27, 4, 37, 28, 88, 22, 1, 45, 88, 68, -84, -81, 15, 34, 92, -90, 33, 87, 66, -7, -63, 4, -55, 88, 19, 82, 84, -41, -5, 34, -4, 47, 42, 54, -77, -77, -13, 32, 49, -36, -70, 13, 84, -96, -33, -98, 64, 44, 16, -98, 0, 63, -34, 36, -76, 89, -35, 1, -20, 52, 43, -24], [22, -98, -4, 91, -74, -91, 35, -100, 69, 94, -52, 64, 60, 0, 66, 93, 44, 16, -27, 10, -61, 36, 60, -77, 79, 93, -80, 4, 71, -15, -1, 77, -56, 11, 52, 80, -67, -47, -1, 7, -86, 40, 80, 64, 83, 99, 64, 33, -20, 44, 44, -54, 17, 96, 72, -69, 40, -37, 47, 74, 73, -92, -57, -55, -96, 79, -45, -25, -72, 65, 68, -49, -72, -55, -97, 22, 29, 76, 70, -33, -99, -27, 95, 52, 48, -16, 37, -81, 63, 0, 43, 68, -54, 56, 74, 46, 24, -62, -31, 94], [-65, 99, -3, -85, 45, -70, 12, 14, 56, 5, -7, -95, -100, 48, 77, -79, -45, -34, 0, 87, 81, -69, -16, -51, -30, -6, 75, 7, -61, 42, 78, 55, -67, -72, 30, -4, -63, 83, 21, -57, 31, 6, 92, -35, -44, 75, 71, 93, 87, -23, 99, -44, -15, 87, 53, -20, 80, 13, 83, -42, -3, 4, 57, -98, 82, -42, 48, -58, -12, -15, 85, 22, 12, -76, 16, -33, -87, 73, 76, 25, -67, 15, -68, -61, 6, 67, 14, -79, -34, 43, 0, -57, 79, -31, -60, -87, 98, 20, 94, 54], [-62, -8, 50, -34, 98, -40, -13, 71, -36, -47, -3, -49, 28, 64, 87, -42, 38, -71, -38, 17, -63, 12, -23, 61, 17, -2, -27, 81, -64, 38, -55, 9, -50, 99, 81, -24, -29, -78, -41, 45, -93, -42, -51, 95, -98, -37, 80, 77, -52, 69, -11, 66, -30, 35, 59, -48, 27, 63, -82, 61, -89, 21, 27, -94, 20, 83, -35, 66, 96, 11, -62, 36, 38, 35, -51, 72, 1, -96, 83, 23, -87, 97, 33, -63, 57, -63, 67, -44, 36, 68, -57, 0, -11, 96, -42, 85, 96, -68, -21, 72], [18, -34, -9, -62, 95, 48, 61, 23, -22, 21, 58, -53, -48, -39, 79, 38, -36, -68, -87, 21, -43, -17, 41, -7, -51, -32, 22, -54, 60, 0, -99, -10, -70, -99, -19, 78, 24, -94, -9, 80, 29, 97, -3, 26, -77, 97, 26, -93, 60, -49, 28, 61, 91, -40, -100, -48, -37, -6, -86, 28, -1, 9, 31, 55, -82, -64, -39, -49, -69, -43, 7, -5, 38, -60, 98, 26, 16, 94, -80, -70, -32, 92, -82, 40, -18, 80, -99, -78, -76, -54, 79, -11, 0, -19, 55, 71, 56, -56, -78, 66], [-58, -75, 17, -36, 4, -69, -86, 94, 54, -69, -41, 95, 72, 23, 31, 0, 51, -58, -41, -12, 69, -39, 38, -64, -83, 60, -36, -11, -1, 14, -73, 27, 49, -14, -82, -37, -86, -51, -40, 54, 15, -9, 32, 54, -69, 27, -24, -61, 1, -53, 59, -93, -55, -14, -27, 13, 92, 10, 1, -83, 6, 25, -82, 22, 54, 8, 7, 57, -94, -96, 29, 47, 77, -27, -81, -25, 89, -21, -30, -47, 87, -29, -15, -24, 45, 90, -88, 11, 89, 56, -31, 96, -19, 0, 74, -63, 97, 5, 2, 60], [66, 24, -24, -1, 53, -3, 19, 35, -8, -24, -47, -15, -56, 17, 20, 55, 61, 99, 36, -79, -7, -36, 87, 19, -13, -51, -18, 23, -75, -1, 39, 99, -13, 23, -32, -90, -3, -12, -78, 55, 8, 70, -7, 12, 34, 28, 8, 58, -23, -13, 56, 39, -79, 4, 65, 57, 95, -73, -13, -87, -19, 46, -19, -79, -99, 70, -46, 27, -33, -54, -80, -3, -59, -43, 8, -2, -52, -53, 1, 69, -26, -70, 44, 61, -97, 10, -12, -85, -35, 74, -60, -42, 55, 74, 0, 7, -9, 56, 59, -86], [-7, -12, 68, -32, 21, -71, 36, -88, -46, -44, 72, -99, 46, -8, 89, 6, -19, -78, -42, 31, -30, -18, -40, 36, -31, 57, 37, -60, -54, -29, -75, 35, 9, 37, -46, -45, 18, 30, 65, -39, -94, 19, 38, -61, -35, 6, -77, -72, 58, 54, 38, 88, -7, -21, -90, -26, 65, 84, -37, -94, 40, -49, -27, 63, -63, 55, 34, 43, -49, -12, -87, 28, 83, 17, 7, 41, -32, -86, -45, 38, 64, 91, 33, -93, -52, -50, 20, -11, 1, 46, -87, 85, 71, -63, 7, 0, 84, 14, -11, -2], [64, 22, 65, -74, -75, 36, -63, -26, 82, 23, -94, -76, -62, -38, 12, -70, 17, 31, 16, 86, -33, -78, 61, 62, 46, 47, 78, -92, -25, -57, 51, 41, 73, -62, -66, 89, -83, 86, 95, 9, -50, -81, -50, -90, -20, -4, 88, -17, -36, 70, -48, -56, 95, 80, 50, -51, 60, 80, 91, 43, 85, -64, -79, -27, 40, -49, 14, 12, -89, -2, -27, -49, 28, -84, -59, -26, 18, -29, 89, -11, -33, 0, 86, -69, 69, -59, -49, 69, -20, 24, 98, 96, 56, 97, -9, 84, 0, 84, 53, -70], [-67, 48, -46, -71, 0, -52, -74, 71, 50, -41, 67, -37, 6, 37, 27, 19, 8, -56, -94, -95, 96, -93, -78, -30, -87, -81, -79, -71, -78, 46, -26, 92, 10, 35, 87, 93, 62, 8, 9, -63, -76, 18, -98, 43, -58, 94, 83, -59, -6, 62, -80, 72, -61, 98, -24, -25, 71, 0, -80, 13, 53, -87, 71, 94, 66, -79, 36, -72, -12, -17, -21, 46, 61, 99, -38, 78, -24, -15, -76, -18, 57, 9, -36, 89, -30, -33, -85, 28, 52, -62, 20, -68, -56, 5, 56, 14, 84, 0, -97, -80], [30, -55, 72, 63, -78, 37, -32, -79, 34, 20, -95, 82, -32, -74, -65, -3, 95, 97, 89, 87, -58, -97, 86, -31, 68, -44, -32, -49, -3, -37, 98, -72, -21, 90, 84, 32, 55, 81, -71, -1, -90, -70, -62, -28, 83, -10, -58, 77, -5, -45, -40, -41, -6, -80, 7, 14, 1, 57, 91, 63, 69, -18, -60, -67, -40, 16, 25, 71, -77, -60, 88, 35, -52, 36, 1, -97, 16, -22, 58, -36, 52, 46, 85, -88, 37, -93, 94, 91, 43, -31, 94, -21, -78, 2, 59, -11, 53, -97, 0, -38], [-100, 88, 29, 37, 32, -78, -2, -12, 56, -33, 8, -57, -92, 60, 45, 83, 32, -73, -58, -40, 60, -25, 91, 10, 72, -36, -72, -30, -19, -19, -37, 54, 77, 69, 1, -74, -49, -36, 95, 36, 54, -72, -48, 27, 31, 64, 49, -15, -74, -14, -40, 30, 93, -89, 89, -73, 63, -37, -36, 29, -18, 11, 82, 68, 46, 32, -5, -74, 10, 9, -52, -60, -20, -12, 68, 45, -56, 21, -55, -56, -45, 11, -31, -87, 76, 0, -13, 47, -24, 94, 54, 72, 66, 60, -86, -2, -70, -80, -38, 0]]"
   ]
  }
 ],
 "metadata": {
  "kernelspec": {
   "display_name": "base",
   "language": "python",
   "name": "python3"
  },
  "language_info": {
   "codemirror_mode": {
    "name": "ipython",
    "version": 3
   },
   "file_extension": ".py",
   "mimetype": "text/x-python",
   "name": "python",
   "nbconvert_exporter": "python",
   "pygments_lexer": "ipython3",
   "version": "3.12.4"
  }
 },
 "nbformat": 4,
 "nbformat_minor": 2
}
