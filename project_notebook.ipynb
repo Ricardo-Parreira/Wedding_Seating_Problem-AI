{
 "cells": [
  {
   "cell_type": "markdown",
   "metadata": {},
   "source": [
    "# CHECKPOINT\n",
    "(1) a specification of the work to be performed (definition of the game or optimization problem to be\n",
    "solved)\n",
    "\n",
    "(2) related work with references to works found in a bibliographic search (articles, web pages,\n",
    "and/or source code)\n",
    "\n",
    "(3) formulation of the problem as an optimization problem (solution representation, neighborhood/mutation and crossover functions, hard constraints, evaluation functions)\n",
    "\n",
    "(4) implementation work already carried out (programming language, development environment, data structures, among others)."
   ]
  },
  {
   "cell_type": "code",
   "execution_count": 51,
   "metadata": {},
   "outputs": [],
   "source": [
    "import numpy as np\n",
    "import itertools\n",
    "#import matplotlib as pltlib\n",
    "import math, copy\n",
    "import random\n",
    "\n",
    "table_arrangement = [[0,2], [1,3]]\n",
    "\n",
    "test_preference_matrix = [\n",
    "    [  0,  10,  -5,  20, -10,  15,   0,  -5],  # A\n",
    "    [ 10,   0,  30,  -5,  20, -10,   5,   0],  # B\n",
    "    [ -5,  30,   0,  10, -20,   5,  15,  10],  # C\n",
    "    [ 20,  -5,  10,   0,  25,  -5, -15,  20],  # D\n",
    "    [-10,  20, -20,  25,   0,  30, -10,   5],  # E\n",
    "    [ 15, -10,   5,  -5,  30,   0,  20, -10],  # F\n",
    "    [  0,   5,  15, -15, -10,  20,   0,  30],  # G\n",
    "    [ -5,   0,  10,  20,   5, -10,  30,   0]   # H\n",
    "] #ABCDABCD"
   ]
  },
  {
   "cell_type": "markdown",
   "metadata": {},
   "source": [
    "In order to test with different sized preference matrices we created a function that randomly generates preference matrices given a number of guests"
   ]
  },
  {
   "cell_type": "code",
   "execution_count": 52,
   "metadata": {},
   "outputs": [
    {
     "name": "stdout",
     "output_type": "stream",
     "text": [
      "[[0, -1, 81, 12], [-1, 0, -14, 30], [81, -14, 0, 76], [12, 30, 76, 0]]\n"
     ]
    }
   ],
   "source": [
    "def random_preferences(nguests):\n",
    "    preference_matrix = [[0] * nguests for x in range(nguests)]\n",
    "    for guest1 in range(nguests):\n",
    "        for guest2 in range(nguests):\n",
    "            if guest1 != guest2:\n",
    "                score = random.randrange(-100, 100, 1)\n",
    "                preference_matrix[guest1][guest2] = score\n",
    "                preference_matrix[guest2][guest1] = score\n",
    "    return preference_matrix\n",
    "\n",
    "p = random_preferences(4)\n",
    "\n",
    "print(p)"
   ]
  },
  {
   "cell_type": "code",
   "execution_count": 53,
   "metadata": {},
   "outputs": [
    {
     "name": "stdout",
     "output_type": "stream",
     "text": [
      "-10.0\n"
     ]
    }
   ],
   "source": [
    "def evaluate_table(table, matrix):\n",
    "    score = 0\n",
    "    for guest in table:\n",
    "        for neighbor in table:\n",
    "            if guest != neighbor:\n",
    "                score += matrix[guest][neighbor]\n",
    "\n",
    "    return score\n",
    "\n",
    "def standard_deviation(solution, preference_matrix):\n",
    "    score_tables = []\n",
    "    total_score=0\n",
    "    for table in solution:\n",
    "        current_score = evaluate_table(table, preference_matrix)\n",
    "        total_score += current_score\n",
    "        score_tables.append(current_score)\n",
    "    average = total_score/len(solution)\n",
    "\n",
    "    std_sum=0\n",
    "    for score in score_tables:\n",
    "        std_sum += (score-average)**2\n",
    "    \n",
    "    std = math.sqrt(std_sum/len(solution))\n",
    "    return std\n",
    "\n",
    "def evaluate_solution(solution, preference_matrix):\n",
    "    average = average_tables(solution, preference_matrix)  #not optimal\n",
    "    std = standard_deviation(solution, preference_matrix) + 1  # shift de 1 para nunca poder haver divisao por 0\n",
    "    return (average/std)\n",
    "    \n",
    "\n",
    "def average_tables(tables, matrix):\n",
    "    score = 0\n",
    "    for table in tables:\n",
    "        score += evaluate_table(table, matrix)\n",
    "    average = score / len(tables)\n",
    "    return average\n",
    "\n",
    "\n",
    "score = evaluate_solution(table_arrangement, test_preference_matrix)\n",
    "print(score)"
   ]
  },
  {
   "cell_type": "code",
   "execution_count": null,
   "metadata": {},
   "outputs": [],
   "source": []
  },
  {
   "cell_type": "markdown",
   "metadata": {},
   "source": [
    "To be able to perform our algorithms correctly we will need all tables to be filled, so we will create fake guests called \"EmptySeat\" that have no preferences towards the other guests."
   ]
  },
  {
   "cell_type": "code",
   "execution_count": 54,
   "metadata": {},
   "outputs": [
    {
     "name": "stdout",
     "output_type": "stream",
     "text": [
      "[[0, 10, -5, 20, -10, 15, 0, -5, 0], [10, 0, 30, -5, 20, -10, 5, 0, 0], [-5, 30, 0, 10, -20, 5, 15, 10, 0], [20, -5, 10, 0, 25, -5, -15, 20, 0], [-10, 20, -20, 25, 0, 30, -10, 5, 0], [15, -10, 5, -5, 30, 0, 20, -10, 0], [0, 5, 15, -15, -10, 20, 0, 30, 0], [-5, 0, 10, 20, 5, -10, 30, 0, 0], [0, 0, 0, 0, 0, 0, 0, 0, 0]]\n"
     ]
    }
   ],
   "source": [
    "def fill_matrix(seatsPerTable, matrix):\n",
    "    nguests = len(matrix)\n",
    "    total_tables = math.ceil(nguests / seatsPerTable) #rounds the division up to the next integer\n",
    "    TotalSeats = total_tables * seatsPerTable\n",
    "    diff = TotalSeats % nguests \n",
    "\n",
    "    matrix_copy = copy.deepcopy(matrix)\n",
    "    if diff == 0:\n",
    "        return matrix_copy\n",
    "    else:\n",
    "        #fill the matrix with the preference that the guests have of the empty seats\n",
    "        for guest in range(len(matrix_copy)):\n",
    "            matrix_copy[guest] = matrix_copy[guest] + ([0]*diff)\n",
    "\n",
    "        #fill the matrix with the preference of the emptyseats\n",
    "        for i in range(diff):\n",
    "            matrix_copy.append([0]*(nguests+diff))\n",
    "\n",
    "    return matrix_copy\n",
    "\n",
    "m = fill_matrix(3, test_preference_matrix)\n",
    "print(m)"
   ]
  },
  {
   "cell_type": "markdown",
   "metadata": {},
   "source": [
    "Some of the algorithms we are applying to this problem, there is a need to create an initial random arrangement. That is what this function is for."
   ]
  },
  {
   "cell_type": "code",
   "execution_count": 55,
   "metadata": {},
   "outputs": [
    {
     "name": "stdout",
     "output_type": "stream",
     "text": [
      "[[3, 1, 4], [0, 8, 5], [6, 2, 7]]\n",
      "[[0, 3], [4, 6], [5, 2], [7, 1]]\n",
      "[[3, 4], [6, 2], [1, 5], [7, 0]]\n",
      "[[0, 3], [4, 1], [5, 7], [2, 6]]\n"
     ]
    }
   ],
   "source": [
    "def random_arrangement(matrix, seatsPerTable):\n",
    "    matrix_copy = fill_matrix(seatsPerTable, matrix)\n",
    "\n",
    "    nguests = len(matrix_copy)\n",
    "    guest_list = list(range(nguests))\n",
    "    arrangement = []\n",
    "    for table in range(nguests//seatsPerTable):\n",
    "        table = random.sample(guest_list, seatsPerTable)\n",
    "        for seatedGuest in table:\n",
    "            guest_list.remove(seatedGuest)\n",
    "\n",
    "        arrangement.append(table)\n",
    "    return arrangement\n",
    "\n",
    "def generate_population(population_size, preference_matrix, seatsPerTable):\n",
    "    solutions = []\n",
    "    for i in range(population_size):\n",
    "        solutions.append(random_arrangement(preference_matrix, seatsPerTable))\n",
    "    return solutions\n",
    "\n",
    "\n",
    "r = random_arrangement(test_preference_matrix, 3)\n",
    "print(r)\n",
    "\n",
    "population = generate_population(3, test_preference_matrix, 2)\n",
    "for solution in population:\n",
    "    print(solution)"
   ]
  },
  {
   "cell_type": "code",
   "execution_count": 56,
   "metadata": {},
   "outputs": [],
   "source": [
    "#random\n",
    "def get_neighbour(curr_arrangement):\n",
    "    neighbor_arrangement = copy.deepcopy(curr_arrangement)\n",
    "    table1 = np.random.choice(len(neighbor_arrangement))\n",
    "    table2 = np.random.choice(len(neighbor_arrangement))\n",
    "    while(table1 == table2):\n",
    "        table2 = np.random.choice(len(neighbor_arrangement))\n",
    "    person1 = np.random.choice(len(neighbor_arrangement[table1]))\n",
    "    person2 = np.random.choice(len(neighbor_arrangement[table2]))\n",
    "    neighbor_arrangement[table1][person1], neighbor_arrangement[table2][person2] = neighbor_arrangement[table2][person2], neighbor_arrangement[table1][person1]\n",
    "    return neighbor_arrangement\n",
    "#improvement not filled table play"
   ]
  },
  {
   "cell_type": "code",
   "execution_count": 57,
   "metadata": {},
   "outputs": [
    {
     "name": "stdout",
     "output_type": "stream",
     "text": [
      "[[0, 2], [1, 3], [5, 6], [7, 4]]\n"
     ]
    }
   ],
   "source": [
    "import random\n",
    "\n",
    "# escolher a primeira metade das mesas de um dos pais e as restantes do outro pai ou se nao for possivel, aleatorio\n",
    "def midpoint_crossover(parent1, parent2):\n",
    "    num_tables = len(parent1)  # nº de mesas\n",
    "    people_per_table = len(parent1[0])  # nº de pessoas por mesa\n",
    "\n",
    "    # escolhe aleatoriamente qual solução usar primeiro\n",
    "    if random.random() < 0.5:\n",
    "        first_parent, second_parent = parent1, parent2\n",
    "    else:\n",
    "        first_parent, second_parent = parent2, parent1\n",
    "\n",
    "    mid = num_tables // 2\n",
    "\n",
    "    # filho com primeira metade das mesas do primeiro pai\n",
    "    child = first_parent[:mid]\n",
    "    used_elements = set(x for sublist in child for x in sublist)\n",
    "\n",
    "    # adicionar a segunda metade das mesas do segundo pai sem repetir pessoas\n",
    "    for sublist in second_parent[mid:]:\n",
    "        new_sublist = [x for x in sublist if x not in used_elements]\n",
    "        child.append(new_sublist)\n",
    "        used_elements.update(new_sublist)\n",
    "\n",
    "    all_elements = set(x for sublist in parent1 + parent2 for x in sublist)\n",
    "    missing_elements = list(all_elements - used_elements)\n",
    "    random.shuffle(missing_elements)  # os q faltam mete aleatoriamente\n",
    "\n",
    "    # Redistribuir os que faltam mantendo o mesmo tamanho das sublistas\n",
    "    for i in range(num_tables):\n",
    "        while len(child[i]) < people_per_table:\n",
    "            child[i].append(missing_elements.pop(0))\n",
    "\n",
    "    return child\n",
    "\n",
    "# Exemplo de uso\n",
    "parent1 = [[0, 2], [1, 3], [4, 5], [6, 7]]\n",
    "parent2 = [[1, 2], [6, 4], [0, 5], [3, 7]]\n",
    "\n",
    "child = midpoint_crossover(parent1, parent2)\n",
    "print(child)\n"
   ]
  },
  {
   "cell_type": "code",
   "execution_count": 58,
   "metadata": {},
   "outputs": [
    {
     "name": "stdout",
     "output_type": "stream",
     "text": [
      "Filho 1: [[3], [4, 5], [6, 7], [0, 2], [8, 1]]\n",
      "Filho 2: [[8], [6, 5], [0, 4], [1, 2], [3, 7]]\n"
     ]
    }
   ],
   "source": [
    "def random_crossover(parent1, parent2):\n",
    "    num_tables = len(parent1)\n",
    "\n",
    "    #print(len(parent1))\n",
    "    #print(len(parent2))\n",
    "    \n",
    "    mask = [random.choice([0, 1]) for _ in range(num_tables)]\n",
    "    \n",
    "    mask[random.randint(0, num_tables - 1)] = 0  \n",
    "    mask[random.randint(0, num_tables - 1)] = 1 \n",
    "    \n",
    "    child1, child2 = [[] for _ in range(num_tables)], [[] for _ in range(num_tables)]\n",
    "    assigned1, assigned2 = set(), set()\n",
    "\n",
    "    random.shuffle(parent1)\n",
    "    random.shuffle(parent2)\n",
    "    \n",
    "    for i in range(num_tables):\n",
    "        #print(i)\n",
    "        if mask[i] == 0:\n",
    "            child1[i] = [guest for guest in parent1[i] if guest not in assigned1]\n",
    "            if child1[i] is not None: \n",
    "                assigned1.update(child1[i])\n",
    "            child2[i] = [guest for guest in parent2[i] if guest not in assigned2]\n",
    "            if child2[i] is not None: \n",
    "                assigned2.update(child2[i])\n",
    "        else:\n",
    "            child1[i] = [guest for guest in parent2[i] if guest not in assigned1]\n",
    "            if child1[i] is not None: \n",
    "                assigned1.update(child1[i])\n",
    "            child2[i] = [guest for guest in parent1[i] if guest not in assigned2]\n",
    "            if child2[i] is not None: \n",
    "                assigned2.update(child2[i])\n",
    "    \n",
    "    all_guests = set(sum(parent1, []) + sum(parent2, []))  \n",
    "    remaining1 = list(all_guests - assigned1)\n",
    "    remaining2 = list(all_guests - assigned2)\n",
    "    \n",
    "    def fill_tables(child, remaining, parent_ref, assigned_set):\n",
    "        random.shuffle(remaining)\n",
    "        \n",
    "        for i in range(num_tables):\n",
    "            missing_count = len(parent_ref[i]) - len(child[i])\n",
    "            if missing_count > 0:\n",
    "                for guest in remaining[:missing_count]:\n",
    "                    if guest not in assigned_set:\n",
    "                        child[i].append(guest)\n",
    "                        assigned_set.add(guest)\n",
    "                remaining = remaining[missing_count:]  \n",
    "\n",
    "    fill_tables(child1, remaining1, parent1, assigned1)\n",
    "    fill_tables(child2, remaining2, parent2, assigned2)\n",
    "    \n",
    "    return child1, child2\n",
    "\n",
    "# Exemplo de uso:\n",
    "parent1 = [[0, 2], [1, 3], [4, 5], [6, 7], [8]]\n",
    "parent2 = [[1, 2], [0, 4], [6, 5], [8, 7], [3]]\n",
    "\n",
    "child1, child2 = random_crossover(parent1, parent2)\n",
    "\n",
    "print(\"Filho 1:\", child1)\n",
    "print(\"Filho 2:\", child2)\n"
   ]
  },
  {
   "cell_type": "code",
   "execution_count": 59,
   "metadata": {},
   "outputs": [
    {
     "name": "stdout",
     "output_type": "stream",
     "text": [
      "[[1, 3], [6, 5]]\n",
      "[[1, 3], [6, 5], [2], [0], []]\n",
      "[[1, 3], [6, 5], [2, 8], [0, 7], [4]]\n"
     ]
    }
   ],
   "source": [
    "# escolhe pelo menos uma mesa de cada solução e o resto é aleatório, assumindo que todas as mesas têm o mesmo número de pessoas\n",
    "def balanced_crossover(parent1, parent2):\n",
    "    num_tables = len(parent1)\n",
    "    people_per_table = len(parent1[0])\n",
    "\n",
    "    child = []\n",
    "    used_elements = set()\n",
    "\n",
    "    chosen_from_p1 = random.choice(parent1)\n",
    "    randomized_parent2 = random.sample(parent2, len(parent2))\n",
    "\n",
    "    for table in randomized_parent2:\n",
    "        flag=False\n",
    "        for person in table:\n",
    "            if person in chosen_from_p1:\n",
    "                flag=True\n",
    "                break\n",
    "        \n",
    "        if flag == False:\n",
    "            chosen_from_p2 = table\n",
    "            break\n",
    "\n",
    "    used_elements.update(chosen_from_p1)\n",
    "    used_elements.update(chosen_from_p2)\n",
    "    child.append(chosen_from_p1)\n",
    "    child.append(chosen_from_p2)\n",
    "\n",
    "    print(child)\n",
    "\n",
    "    table_sizes = [len(table) for table in parent1]\n",
    "\n",
    "    for i in range(num_tables-2):\n",
    "        if random.random() < 0.5:\n",
    "            table = random.choice(parent1)\n",
    "        else:\n",
    "            table = random.choice(parent2)\n",
    "        new_table = [x for x in table if x not in used_elements]\n",
    "        child.append(new_table)\n",
    "        used_elements.update(new_table)\n",
    "\n",
    "    all_elements = set(x for sublist in parent1 + parent2 for x in sublist)\n",
    "    missing_elements = list(all_elements - used_elements)\n",
    "    random.shuffle(missing_elements)\n",
    "\n",
    "    print(child)\n",
    "\n",
    "    for i in range(num_tables):\n",
    "        while len(child[i]) < table_sizes[i]:\n",
    "            if missing_elements:\n",
    "                child[i].append(missing_elements.pop(0))\n",
    "    \n",
    "    return child\n",
    "\n",
    "\n",
    "parent1 = [[0, 2], [1, 3], [4, 5], [6, 7], [8]]\n",
    "parent2 = [[1, 2], [0, 4], [6, 5], [8, 7], [3]]\n",
    "\n",
    "child = balanced_crossover(parent1, parent2)\n",
    "print(child)\n"
   ]
  },
  {
   "cell_type": "markdown",
   "metadata": {},
   "source": [
    "**SIMMULATED ANNEALING**"
   ]
  },
  {
   "cell_type": "code",
   "execution_count": 60,
   "metadata": {},
   "outputs": [
    {
     "name": "stdout",
     "output_type": "stream",
     "text": [
      "35.59026084010437\n"
     ]
    },
    {
     "ename": "TypeError",
     "evalue": "get_neighbour() takes 1 positional argument but 2 were given",
     "output_type": "error",
     "traceback": [
      "\u001b[1;31m---------------------------------------------------------------------------\u001b[0m",
      "\u001b[1;31mTypeError\u001b[0m                                 Traceback (most recent call last)",
      "Cell \u001b[1;32mIn[60], line 36\u001b[0m\n\u001b[0;32m     32\u001b[0m         iterations \u001b[38;5;241m-\u001b[39m\u001b[38;5;241m=\u001b[39m \u001b[38;5;241m1\u001b[39m\n\u001b[0;32m     33\u001b[0m     \u001b[38;5;28;01mreturn\u001b[39;00m initial_state, initial_score\n\u001b[1;32m---> 36\u001b[0m result, score \u001b[38;5;241m=\u001b[39m simmulated_annealing(test_preference_matrix, \u001b[38;5;241m3\u001b[39m)\n\u001b[0;32m     37\u001b[0m \u001b[38;5;28mprint\u001b[39m(\u001b[38;5;124mf\u001b[39m\u001b[38;5;124m\"\u001b[39m\u001b[38;5;124mresult: \u001b[39m\u001b[38;5;132;01m{\u001b[39;00mresult\u001b[38;5;132;01m}\u001b[39;00m\u001b[38;5;124m    score: \u001b[39m\u001b[38;5;132;01m{\u001b[39;00mscore\u001b[38;5;132;01m}\u001b[39;00m\u001b[38;5;124m\"\u001b[39m)\n",
      "Cell \u001b[1;32mIn[60], line 15\u001b[0m, in \u001b[0;36msimmulated_annealing\u001b[1;34m(preferences, seatsPerTable)\u001b[0m\n\u001b[0;32m     10\u001b[0m \u001b[38;5;28mprint\u001b[39m(temperature)\n\u001b[0;32m     12\u001b[0m \u001b[38;5;28;01mwhile\u001b[39;00m iterations \u001b[38;5;241m>\u001b[39m \u001b[38;5;241m0\u001b[39m:\n\u001b[0;32m     13\u001b[0m \n\u001b[0;32m     14\u001b[0m     \u001b[38;5;66;03m#depois arranjamos uma soluçao vizinha à inicial e avaliamos essa\u001b[39;00m\n\u001b[1;32m---> 15\u001b[0m     neighbour_state \u001b[38;5;241m=\u001b[39m get_neighbour(initial_state, filled_preferences)\n\u001b[0;32m     16\u001b[0m     neighbour_score \u001b[38;5;241m=\u001b[39m evaluate_solution(neighbour_state, filled_preferences)\n\u001b[0;32m     19\u001b[0m     score_diff \u001b[38;5;241m=\u001b[39m initial_score \u001b[38;5;241m-\u001b[39m neighbour_score\n",
      "\u001b[1;31mTypeError\u001b[0m: get_neighbour() takes 1 positional argument but 2 were given"
     ]
    }
   ],
   "source": [
    "def simmulated_annealing(preferences, seatsPerTable):\n",
    "    cooling = 0.99    #o quao rápido vai descendo essa tolerancia\n",
    "    iterations = 10000\n",
    "    #primeiro arranjamos um estado inicial random e avaliamos\n",
    "    initial_state = random_arrangement(preferences, seatsPerTable)\n",
    "    filled_preferences=fill_matrix(seatsPerTable, preferences)\n",
    "    initial_score = evaluate_solution(initial_state, filled_preferences)\n",
    "\n",
    "    temperature = standard_deviation(initial_state, filled_preferences)   #basicamente a nossa tolerância no que toca a aceitar soluçoes piores\n",
    "    print(temperature)\n",
    "\n",
    "    while iterations > 0:\n",
    "\n",
    "        #depois arranjamos uma soluçao vizinha à inicial e avaliamos essa\n",
    "        neighbour_state = get_neighbour(initial_state, filled_preferences)\n",
    "        neighbour_score = evaluate_solution(neighbour_state, filled_preferences)\n",
    "        \n",
    "\n",
    "        score_diff = initial_score - neighbour_score\n",
    "\n",
    "        #se a soluçao for melhor, aceitamos\n",
    "        if score_diff < 0:\n",
    "            initial_state = neighbour_state\n",
    "            initial_score = neighbour_score\n",
    "        #se for pior aceitamos com uma certa probabilidade que depende da temperatura\n",
    "        else:\n",
    "            probability = math.exp(-score_diff / temperature)\n",
    "            if random.random() < probability:\n",
    "                initial_state = neighbour_state\n",
    "                initial_score = neighbour_score\n",
    "        temperature *= cooling\n",
    "        iterations -= 1\n",
    "    return initial_state, initial_score\n",
    "\n",
    "\n",
    "result, score = simmulated_annealing(test_preference_matrix, 3)\n",
    "print(f\"result: {result}    score: {score}\")\n"
   ]
  },
  {
   "cell_type": "markdown",
   "metadata": {},
   "source": [
    "GENETIC ALGORTHIM"
   ]
  },
  {
   "cell_type": "code",
   "execution_count": 61,
   "metadata": {},
   "outputs": [
    {
     "name": "stdout",
     "output_type": "stream",
     "text": [
      "[[1, 0], [3, 2], [7, 4], [6, 5]]\n",
      "[[3, 2], [4, 0], [6, 5], [7, 1]]\n",
      "[[2, 4], [6, 7], [5, 0], [3, 1]]\n",
      "[[3, 4], [6, 2], [7, 1], [5, 0]]\n",
      "[[1, 4], [5, 0], [6, 2], [3, 7]]\n",
      "\n",
      "[[1, 4], [5, 0], [6, 2], [3, 7]]\n",
      "\n",
      "[[1, 4], [5, 0], [6, 2], [3, 7]]\n"
     ]
    }
   ],
   "source": [
    "def tournament_select(population, preference_matrix, tournament_size, exclude=None):\n",
    "    filtered_population = [ind for ind in population if ind != exclude]\n",
    "    selected = random.sample(filtered_population, tournament_size)\n",
    "    best_solution = max(selected, key=lambda s: evaluate_solution(s, preference_matrix))\n",
    "    return best_solution\n",
    "\n",
    "def roulette_select(population, preference_matrix, exclude=None):\n",
    "    filtered_population = [ind for ind in population if ind != exclude]\n",
    "    fitness_values = np.array([evaluate_solution(s, preference_matrix) for s in filtered_population])\n",
    "    total_fitness = np.sum(fitness_values)\n",
    "    rand_value = np.random.uniform(0, total_fitness)\n",
    "\n",
    "    cumulative_sum = 0\n",
    "    for i, fitness in enumerate(fitness_values):\n",
    "        cumulative_sum += fitness\n",
    "        if rand_value <= cumulative_sum:\n",
    "            return filtered_population[i]\n",
    "    \n",
    "\n",
    "\n",
    "population = generate_population(5, test_preference_matrix, 2)\n",
    "for s in population:\n",
    "    print(s)\n",
    "print(\"\")   \n",
    "t = tournament_select(population, test_preference_matrix, 3)\n",
    "print(t)\n",
    "print(\"\")\n",
    "r = roulette_select(population, test_preference_matrix)\n",
    "print(r)\n"
   ]
  },
  {
   "cell_type": "code",
   "execution_count": 62,
   "metadata": {},
   "outputs": [],
   "source": [
    "def mutation(parent, mutation_prob=0.2):\n",
    "    if random.random() < mutation_prob:  \n",
    "        return get_neighbour(parent)\n",
    "    return parent"
   ]
  },
  {
   "cell_type": "code",
   "execution_count": 64,
   "metadata": {},
   "outputs": [
    {
     "name": "stdout",
     "output_type": "stream",
     "text": [
      "MATRIZ PREFERENCIA\n",
      "[[0, 0, -88, 0, 55, -39, -68, -18], [0, 0, 59, 6, 26, 96, 67, 14], [-88, 59, 0, 58, 83, -60, -37, 72], [0, 6, 58, 0, -12, -21, 50, 80], [55, 26, 83, -12, 0, -76, -94, -32], [-39, 96, -60, -21, -76, 0, 47, 14], [-68, 67, -37, 50, -94, 47, 0, -43], [-18, 14, 72, 80, -32, 14, -43, 0]]\n",
      "Initial solution: [[2, 5, 7], [4, 3, 1], [6, 8, 0]], score: -0.1687076918697269\n",
      "  Final solution: [[2, 8, 7], [6, 3, 5], [0, 4, 1]], score: 18.253759272951005\n",
      "Initial solution: [[2, 3, 4], [8, 6, 0], [5, 1, 7]], score: 0.6687568142564547\n",
      "  Final solution: [[6, 8, 1], [4, 0, 2], [3, 7, 5]], score: 6.184235860941514\n",
      "Initial solution: [[0, 8, 1], [5, 6, 3], [2, 4, 7]], score: 1.2961392081716108\n",
      "  Final solution: [[8, 1, 6], [7, 5, 3], [2, 0, 4]], score: 6.184235860941514\n",
      "Initial solution: [[4, 1, 8], [3, 2, 7], [0, 6, 5]], score: 0.5186173645855727\n",
      "  Final solution: [[7, 2, 8], [5, 3, 6], [1, 4, 0]], score: 18.253759272951005\n",
      "Initial solution: [[8, 3, 7], [0, 4, 5], [1, 2, 6]], score: 0.5287388423084792\n",
      "  Final solution: [[7, 5, 3], [0, 4, 2], [6, 1, 8]], score: 6.184235860941514\n",
      "Initial solution: [[5, 6, 2], [4, 1, 8], [7, 0, 3]], score: 0.268442851856658\n",
      "  Final solution: [[8, 1, 6], [3, 7, 5], [0, 4, 2]], score: 6.184235860941514\n",
      "Initial solution: [[0, 6, 3], [4, 2, 1], [8, 7, 5]], score: 0.6691424415746198\n",
      "  Final solution: [[3, 7, 5], [0, 2, 4], [8, 1, 6]], score: 6.184235860941514\n",
      "Initial solution: [[5, 1, 3], [4, 8, 7], [2, 0, 6]], score: -0.42503935378697744\n",
      "  Final solution: [[6, 1, 8], [0, 2, 4], [3, 7, 5]], score: 6.184235860941514\n",
      "Initial solution: [[4, 6, 2], [0, 3, 1], [7, 5, 8]], score: -0.3329072686543921\n",
      "  Final solution: [[0, 4, 1], [2, 7, 8], [6, 5, 3]], score: 18.253759272951005\n",
      "Initial solution: [[8, 2, 7], [5, 4, 0], [6, 1, 3]], score: 0.5798198674277022\n",
      "  Final solution: [[3, 7, 5], [6, 1, 8], [2, 0, 4]], score: 6.184235860941514\n"
     ]
    },
    {
     "data": {
      "text/plain": [
       "[[3, 7, 5], [6, 1, 8], [2, 0, 4]]"
      ]
     },
     "execution_count": 64,
     "metadata": {},
     "output_type": "execute_result"
    }
   ],
   "source": [
    "def genetic_algorithm(num_iterations, population_size, preference_matrix, seatsPerTable):\n",
    "    filled_preference_matrix = fill_matrix(seatsPerTable, preference_matrix)\n",
    "    population = generate_population(population_size, filled_preference_matrix, seatsPerTable)\n",
    "    \"\"\"print(\"population[0]: \")\n",
    "    print(population[0])\"\"\"\n",
    "    best_solution = population[0]\n",
    "    best_score = evaluate_solution(population[0], filled_preference_matrix)\n",
    "    num_iterations=1000\n",
    "    \n",
    "\n",
    "    print(f\"Initial solution: {best_solution}, score: {best_score}\")\n",
    "\n",
    "    while(num_iterations > 0):\n",
    "\n",
    "\n",
    "        parent1 = tournament_select( population, filled_preference_matrix, 10)\n",
    "        parent2 = tournament_select( population, filled_preference_matrix, 10, exclude=parent1)\n",
    "        #parent2 = roulette_select(population, filled_preference_matrix, exclude=parent1)\n",
    "\n",
    "        if parent2 is None:\n",
    "            parent2 = parent1\n",
    "\n",
    "        \"\"\"print(\"parent 1:\")\n",
    "        print(parent1)\n",
    "        print(\"parent2:\")\n",
    "        print(parent2)\"\"\"\n",
    "\n",
    "        # Next generation Crossover and Mutation\n",
    "        child1, child2 = random_crossover(parent1, parent2)\n",
    "\n",
    "        \"\"\"print(\"child 1:\")\n",
    "        print(child1)\n",
    "        print(\"child2:\")\n",
    "        print(child2)\"\"\"\n",
    "\n",
    "        child1, child2 = mutation(child1), mutation(child2)\n",
    "\n",
    "        \"\"\"print(\"mutate child 1:\")\n",
    "        print(child1)\n",
    "        print(\"mutate child2:\")\n",
    "        print(child2)\"\"\"\n",
    "        \n",
    "        population.append(child1)\n",
    "        population.append(child2)\n",
    "        population.sort(key=lambda sol: evaluate_solution(sol, filled_preference_matrix), reverse=True)\n",
    "        population = population[:population_size]\n",
    "\n",
    "        \"\"\"child = random_crossover(parent1, parent2)\n",
    "        print(\"child 1:\")\n",
    "        print(child)\n",
    "\n",
    "        child = mutation(child)\n",
    "\n",
    "        print(\"mutate child 1:\")\n",
    "        print(child)\n",
    "        population.append(child)\n",
    "        population.sort(key=lambda sol: evaluate_solution(sol, filled_preference_matrix), reverse=True)\n",
    "        population = population[:population_size]\"\"\"\n",
    "\n",
    "        num_iterations-=1\n",
    "    \n",
    "    best_solution= population[0]\n",
    "    best_score=evaluate_solution(best_solution, filled_preference_matrix)\n",
    "    print(f\"  Final solution: {best_solution}, score: {best_score}\")\n",
    "\n",
    "    return best_solution\n",
    "\n",
    "p = random_preferences(8)\n",
    "print(\"MATRIZ PREFERENCIA\")\n",
    "print(p)\n",
    "\n",
    "genetic_algorithm(1, 100, p, 3)\n",
    "genetic_algorithm(1, 100, p, 3)\n",
    "genetic_algorithm(1, 100, p, 3)\n",
    "genetic_algorithm(1, 100, p, 3)\n",
    "genetic_algorithm(1, 100, p, 3)\n",
    "genetic_algorithm(1, 100, p, 3)\n",
    "genetic_algorithm(1, 100, p, 3)\n",
    "genetic_algorithm(1, 100, p, 3)\n",
    "genetic_algorithm(1, 100, p, 3)\n",
    "genetic_algorithm(1, 100, p, 3)"
   ]
  },
  {
   "cell_type": "code",
   "execution_count": null,
   "metadata": {},
   "outputs": [],
   "source": []
  },
  {
   "cell_type": "markdown",
   "metadata": {},
   "source": []
  },
  {
   "cell_type": "markdown",
   "metadata": {},
   "source": [
    "TABU SEARCH"
   ]
  },
  {
   "cell_type": "code",
   "execution_count": null,
   "metadata": {},
   "outputs": [],
   "source": [
    "def tabu_search(preferences, seats_per_table, max_iterations=1000, tabu_tenure=7, max_no_improve=100):\n",
    "    padded_preferences = fill_matrix(seats_per_table, preferences)\n",
    "    current_arrangement = random_arrangement(preferences, seats_per_table)\n",
    "    best_arrangement = copy.deepcopy(current_arrangement)\n",
    "    \n",
    "    current_score = evaluate_solution(current_arrangement, padded_preferences)\n",
    "    best_score = current_score\n",
    "    \n",
    "    tabu_list = {}\n",
    "    \n",
    "    iterations_no_improve = 0\n",
    "    total_iterations = 0\n",
    "    \n",
    "    frequency_list = {}\n",
    "    \n",
    "    while total_iterations < max_iterations and iterations_no_improve < max_no_improve:\n",
    "        total_iterations += 1\n",
    "        \n",
    "        neighbor_arrangement = get_neighbour(current_arrangement)\n",
    "        \n",
    "        neighbor_score = evaluate_solution(neighbor_arrangement, padded_preferences)\n",
    "        \n",
    "        is_tabu = tuple(map(tuple, neighbor_arrangement)) in tabu_list and tabu_list[tuple(map(tuple, neighbor_arrangement))] > 0\n",
    "        \n",
    "        if is_tabu and neighbor_score <= best_score:\n",
    "            if tuple(map(tuple, neighbor_arrangement)) in frequency_list:\n",
    "                frequency_list[tuple(map(tuple, neighbor_arrangement))] += 1\n",
    "            else:\n",
    "                frequency_list[tuple(map(tuple, neighbor_arrangement))] = 1\n",
    "                \n",
    "            if frequency_list.get(tuple(map(tuple, neighbor_arrangement)), 0) > 5:\n",
    "                for _ in range(3):  \n",
    "                    temp_neighbor = get_neighbour(current_arrangement)\n",
    "                    current_arrangement = temp_neighbor\n",
    "                current_score = evaluate_solution(current_arrangement, padded_preferences)\n",
    "                frequency_list.clear()\n",
    "            \n",
    "            iterations_no_improve += 1\n",
    "            continue\n",
    "        \n",
    "        current_arrangement = neighbor_arrangement\n",
    "        current_score = neighbor_score\n",
    "        \n",
    "        keys_to_remove = []\n",
    "        for arrangement, tenure in tabu_list.items():\n",
    "            tabu_list[arrangement] -= 1\n",
    "            if tabu_list[arrangement] <= 0:\n",
    "                keys_to_remove.append(arrangement)\n",
    "        \n",
    "        for key in keys_to_remove:\n",
    "            del tabu_list[key]\n",
    "        \n",
    "        tabu_list[tuple(map(tuple, current_arrangement))] = tabu_tenure\n",
    "        \n",
    "        if current_score > best_score:\n",
    "            best_arrangement = copy.deepcopy(current_arrangement)\n",
    "            best_score = current_score\n",
    "            iterations_no_improve = 0\n",
    "            frequency_list.clear()\n",
    "        else:\n",
    "            iterations_no_improve += 1\n",
    "        \n",
    "        if total_iterations % 100 == 0:\n",
    "            print(f\"Iteration {total_iterations}, Best score: {best_score}, No improvement: {iterations_no_improve}\")\n",
    "    \n",
    "    original_guests = len(preferences)\n",
    "    final_arrangement = []\n",
    "    for table in best_arrangement:\n",
    "        real_guests = [guest for guest in table if guest < original_guests]\n",
    "        if real_guests:  \n",
    "            final_arrangement.append(real_guests)\n",
    "    \n",
    "    return final_arrangement"
   ]
  },
  {
   "cell_type": "code",
   "execution_count": null,
   "metadata": {},
   "outputs": [
    {
     "name": "stdout",
     "output_type": "stream",
     "text": [
      "Iteration 100, Best score: 60.0, No improvement: 96\n"
     ]
    },
    {
     "data": {
      "text/plain": [
       "[[7, 6], [1, 2, 4], [0, 3, 5]]"
      ]
     },
     "execution_count": 22,
     "metadata": {},
     "output_type": "execute_result"
    }
   ],
   "source": [
    "tabu_search(test_preference_matrix, 3, max_iterations=1000, tabu_tenure=7, max_no_improve=100)"
   ]
  },
  {
   "cell_type": "markdown",
   "metadata": {},
   "source": [
    "GENETIC ALGORITHM (NEW VERSION)"
   ]
  },
  {
   "cell_type": "markdown",
   "metadata": {},
   "source": [
    "Conversao para ser mais facil visualizar os convidados nas mesas "
   ]
  },
  {
   "cell_type": "code",
   "execution_count": null,
   "metadata": {},
   "outputs": [
    {
     "name": "stdout",
     "output_type": "stream",
     "text": [
      "[0, 1, 2]\n",
      "[3, 4, 5]\n",
      "[6, 7]\n"
     ]
    }
   ],
   "source": [
    "from collections import defaultdict\n",
    "\n",
    "def solution_to_tables(solution):\n",
    "    mesas = defaultdict(list)\n",
    "    for convidado, mesa in enumerate(solution):\n",
    "        mesas[mesa].append(convidado)\n",
    "    return list(mesas.values())\n",
    "\n",
    "\n",
    "m=solution_to_tables([0, 0, 0, 1, 1, 1, 2, 2]\n",
    ")\n",
    "\n",
    "for i in m:\n",
    "    print(i)"
   ]
  },
  {
   "cell_type": "code",
   "execution_count": null,
   "metadata": {},
   "outputs": [
    {
     "name": "stdout",
     "output_type": "stream",
     "text": [
      "-10.0\n"
     ]
    }
   ],
   "source": [
    "def evaluate_table_(table, matrix):\n",
    "    score = 0\n",
    "    for guest in table:\n",
    "        for neighbor in table:\n",
    "            if guest != neighbor:\n",
    "                score += matrix[guest][neighbor]\n",
    "\n",
    "    return score\n",
    "\n",
    "def standard_deviation_(tables, preference_matrix):\n",
    "    solution = solution_to_tables(tables)\n",
    "    score_tables = []\n",
    "    total_score=0\n",
    "    for table in solution:\n",
    "        current_score = evaluate_table_(table, preference_matrix)\n",
    "        total_score += current_score\n",
    "        score_tables.append(current_score)\n",
    "    average = total_score/len(solution)\n",
    "\n",
    "    std_sum=0\n",
    "    for score in score_tables:\n",
    "        std_sum += (score-average)**2\n",
    "    \n",
    "    std = math.sqrt(std_sum/len(solution))\n",
    "    return std\n",
    "\n",
    "def evaluate_solution_(solution, preference_matrix):\n",
    "    average = average_tables_(solution, preference_matrix)  #not optimal\n",
    "    std = standard_deviation_(solution, preference_matrix) + 1  # shift de 1 para nunca poder haver divisao por 0\n",
    "    return (average/std)\n",
    "    \n",
    "\n",
    "def average_tables_(solution, matrix):\n",
    "    tables = solution_to_tables(solution)\n",
    "    score = 0\n",
    "    for table in tables:\n",
    "        score += evaluate_table_(table, matrix)\n",
    "    average = score / len(tables)\n",
    "    return average\n",
    "\n",
    "table_arrangement2=[0, 1, 0, 1]\n",
    "score = evaluate_solution_(table_arrangement2, test_preference_matrix)\n",
    "print(score)"
   ]
  },
  {
   "cell_type": "code",
   "execution_count": null,
   "metadata": {},
   "outputs": [
    {
     "name": "stdout",
     "output_type": "stream",
     "text": [
      "[2, 1, 0, 0, 1, 3, 3, 2]\n",
      "[1, 0, 1, 3, 2, 2, 3, 0]\n",
      "[1, 2, 0, 0, 3, 2, 3, 1]\n",
      "[0, 2, 1, 3, 1, 3, 0, 2]\n",
      "[3, 2, 2, 0, 3, 0, 1, 1]\n"
     ]
    }
   ],
   "source": [
    "def generate_population_(pop_size, preference_matrix, seatsPerTable):\n",
    "    num_guests = len(preference_matrix)\n",
    "    num_tables = (num_guests + seatsPerTable - 1) // seatsPerTable\n",
    "    population = []\n",
    "    \n",
    "    for _ in range(pop_size):\n",
    "        guests = list(range(num_guests))\n",
    "        random.shuffle(guests)\n",
    "        individual = [0] * num_guests\n",
    "        for i, guest in enumerate(guests):\n",
    "            mesa = i // seatsPerTable\n",
    "            individual[guest] = mesa\n",
    "        population.append(individual)\n",
    "    \n",
    "    return population\n",
    "\n",
    "population = generate_population_(5, test_preference_matrix, 2)\n",
    "for s in population:\n",
    "    print(s)"
   ]
  },
  {
   "cell_type": "code",
   "execution_count": null,
   "metadata": {},
   "outputs": [],
   "source": []
  },
  {
   "cell_type": "code",
   "execution_count": null,
   "metadata": {},
   "outputs": [],
   "source": [
    "def get_neighbour_(curr_arrangement):\n",
    "    neighbor = curr_arrangement[:]\n",
    "    num_guests = len(neighbor)\n",
    "\n",
    "    # Escolher dois convidados diferentes\n",
    "    guest1 = random.randint(0, num_guests - 1)\n",
    "    guest2 = random.randint(0, num_guests - 1)\n",
    "    while guest1 == guest2 or neighbor[guest1] == neighbor[guest2]:\n",
    "        guest2 = random.randint(0, num_guests - 1)\n",
    "\n",
    "    # Trocar as mesas atribuídas entre os dois convidados\n",
    "    neighbor[guest1], neighbor[guest2] = neighbor[guest2], neighbor[guest1]\n",
    "\n",
    "    return neighbor\n"
   ]
  },
  {
   "cell_type": "code",
   "execution_count": null,
   "metadata": {},
   "outputs": [],
   "source": [
    "from collections import Counter\n",
    "import random\n",
    "\n",
    "def random_crossover_(parent1, parent2, preference_matrix, seatsPerTable):\n",
    "    num_guests = len(parent1)\n",
    "    num_tables = (num_guests + seatsPerTable - 1) // seatsPerTable\n",
    "\n",
    "    cut = random.randint(1, num_guests - 2)\n",
    "\n",
    "    child1 = parent1[:cut] + parent2[cut:]\n",
    "    child2 = parent2[:cut] + parent1[cut:]\n",
    "\n",
    "    child1 = optimize_child(child1, num_tables, seatsPerTable, preference_matrix)\n",
    "    child2 = optimize_child(child2, num_tables, seatsPerTable, preference_matrix)\n",
    "\n",
    "    return child1, child2\n",
    "\n",
    "\n",
    "def optimize_child(child, num_tables, seatsPerTable, preference_matrix):\n",
    "    table_counts = Counter(child)\n",
    "\n",
    "    # Mesas com mais do que o permitido\n",
    "    overfilled = {mesa: count for mesa, count in table_counts.items() if count > seatsPerTable}\n",
    "    # Mesas com espaço livre\n",
    "    underfilled = {mesa: seatsPerTable - table_counts.get(mesa, 0) for mesa in range(num_tables) if table_counts.get(mesa, 0) < seatsPerTable}\n",
    "\n",
    "    if not overfilled:\n",
    "        return child  # solução já está válida\n",
    "\n",
    "    # Identificar os convidados a mover (os que menos contribuem)\n",
    "    guest_to_move = []\n",
    "    for mesa in overfilled:\n",
    "        guests = [i for i, m in enumerate(child) if m == mesa]\n",
    "        guests_sorted = sorted(guests, key=lambda g: contribution_to_table(g, child, preference_matrix), reverse=True)\n",
    "        needed = overfilled[mesa] - seatsPerTable\n",
    "        guest_to_move.extend(guests_sorted[-needed:])  # mover os que contribuem menos\n",
    "\n",
    "    # Mover os convidados para mesas com espaço\n",
    "    underfilled_list = list(underfilled.items())  # [(mesa, lugares)]\n",
    "    idx = 0\n",
    "    for guest in guest_to_move:\n",
    "        while idx < len(underfilled_list) and underfilled_list[idx][1] == 0:\n",
    "            idx += 1\n",
    "        if idx >= len(underfilled_list):\n",
    "            break  # tudo alocado\n",
    "        mesa_destino = underfilled_list[idx][0]\n",
    "        child[guest] = mesa_destino\n",
    "        underfilled_list[idx] = (mesa_destino, underfilled_list[idx][1] - 1)\n",
    "\n",
    "    return child\n",
    "\n",
    "\n",
    "def contribution_to_table(guest, solution, matrix):\n",
    "    mesa = solution[guest]\n",
    "    same_table = [i for i in range(len(solution)) if i != guest and solution[i] == mesa]\n",
    "    return sum(matrix[guest][other] + matrix[other][guest] for other in same_table)\n"
   ]
  },
  {
   "cell_type": "code",
   "execution_count": null,
   "metadata": {},
   "outputs": [
    {
     "data": {
      "text/plain": [
       "'population = generate_population_(5, test_preference_matrix, 2)\\nfor s in population:\\n    print(s)\\nprint(\"\")   \\nt = tournament_select_(population, test_preference_matrix, 3)\\nprint(t)\\nprint(\"\")\\nr = roulette_select_(population, test_preference_matrix)\\nprint(r)'"
      ]
     },
     "execution_count": 20,
     "metadata": {},
     "output_type": "execute_result"
    }
   ],
   "source": [
    "def tournament_select_(population, preference_matrix, tournament_size, exclude=None):\n",
    "    filtered_population = [ind for ind in population if ind != exclude]\n",
    "\n",
    "    if len(filtered_population) == 0:\n",
    "        return exclude \n",
    "\n",
    "    #print(\"pop size: \")\n",
    "    #print(len(filtered_population))\n",
    "    # Corrigir o tamanho do torneio para nunca ultrapassar o tamanho da população\n",
    "    tournament_size = min(tournament_size, len(filtered_population))\n",
    "\n",
    "    selected = random.sample(filtered_population, tournament_size)\n",
    "    best_solution = max(selected, key=lambda s: evaluate_solution_(s, preference_matrix))\n",
    "    return best_solution\n",
    "\n",
    "\n",
    "def roulette_select_(population, preference_matrix, exclude=None):\n",
    "    filtered_population = [ind for ind in population if ind != exclude]\n",
    "    fitness_values = np.array([evaluate_solution_(s, preference_matrix) for s in filtered_population])\n",
    "    total_fitness = np.sum(fitness_values)\n",
    "    rand_value = np.random.uniform(0, total_fitness)\n",
    "\n",
    "    cumulative_sum = 0\n",
    "    for i, fitness in enumerate(fitness_values):\n",
    "        cumulative_sum += fitness\n",
    "        if rand_value <= cumulative_sum:\n",
    "            return filtered_population[i]\n",
    "    \n",
    "\n",
    "\n",
    "\"\"\"population = generate_population_(5, test_preference_matrix, 2)\n",
    "for s in population:\n",
    "    print(s)\n",
    "print(\"\")   \n",
    "t = tournament_select_(population, test_preference_matrix, 3)\n",
    "print(t)\n",
    "print(\"\")\n",
    "r = roulette_select_(population, test_preference_matrix)\n",
    "print(r)\"\"\"\n"
   ]
  },
  {
   "cell_type": "code",
   "execution_count": 79,
   "metadata": {},
   "outputs": [],
   "source": [
    "def mutation_(parent, mutation_prob=0.05):\n",
    "    if random.random() < mutation_prob:  \n",
    "        return get_neighbour_(parent)\n",
    "    return parent"
   ]
  },
  {
   "cell_type": "code",
   "execution_count": 87,
   "metadata": {},
   "outputs": [
    {
     "name": "stdout",
     "output_type": "stream",
     "text": [
      "MATRIZ PREFERENCIA\n",
      "[[0, 64, 49, -73, 43, 54, -94, 19, 31, -9], [64, 0, 48, 98, 86, 55, -23, 77, 41, 14], [49, 48, 0, 16, 65, -90, -81, -42, -88, 53], [-73, 98, 16, 0, 92, -45, -31, 15, -88, 3], [43, 86, 65, 92, 0, 61, -38, -81, 72, -79], [54, 55, -90, -45, 61, 0, -81, 12, -8, 62], [-94, -23, -81, -31, -38, -81, 0, 47, 36, -33], [19, 77, -42, 15, -81, 12, 47, 0, -7, 53], [31, 41, -88, -88, 72, -8, 36, -7, 0, -38], [-9, 14, 53, 3, -79, 62, -33, 53, -38, 0]]\n",
      "NEW:\n",
      "Initial solution: [2, 0, 1, 1, 2, 0, 1, 2, 0], score: -0.3357476809459342\n",
      "  Final solution: [0, 2, 2, 1, 1, 2, 0, 0, 1], score: 50.0\n",
      "Initial solution: [1, 0, 2, 0, 1, 2, 1, 2, 0], score: -0.6187722503792116\n",
      "  Final solution: [2, 1, 1, 2, 1, 2, 0, 0, 0], score: 60.0\n",
      "Initial solution: [0, 2, 1, 2, 1, 2, 0, 1, 0], score: -0.9260940782695457\n",
      "  Final solution: [2, 0, 0, 2, 0, 2, 1, 1, 1], score: 60.0\n",
      "Initial solution: [1, 1, 2, 0, 0, 0, 2, 1, 2], score: 1.1788642867527679\n",
      "  Final solution: [2, 1, 1, 2, 1, 2, 0, 0, 0], score: 60.0\n",
      "Initial solution: [2, 0, 2, 1, 0, 1, 1, 0, 2], score: 0.4893560248109715\n",
      "  Final solution: [1, 0, 0, 1, 0, 1, 2, 2, 2], score: 60.0\n",
      "OLD:\n",
      "Initial solution: [[8, 6, 0], [4, 7, 1], [5, 2, 3]], score: 1.0828514381636198\n",
      "  Final solution: [[2, 1, 5], [4, 3, 8], [6, 0, 7]], score: 50.0\n",
      "Initial solution: [[0, 2, 3], [7, 1, 8], [6, 5, 4]], score: 1.2745729156975962\n",
      "  Final solution: [[7, 6, 0], [1, 5, 2], [4, 3, 8]], score: 50.0\n",
      "Initial solution: [[5, 2, 7], [4, 3, 0], [6, 1, 8]], score: 1.0244407226831753\n",
      "  Final solution: [[2, 1, 4], [0, 3, 5], [7, 8, 6]], score: 60.0\n",
      "Initial solution: [[0, 2, 8], [4, 6, 5], [3, 7, 1]], score: 0.8814175225319713\n",
      "  Final solution: [[6, 7, 0], [2, 1, 5], [3, 4, 8]], score: 50.0\n",
      "Initial solution: [[3, 0, 8], [7, 4, 1], [2, 6, 5]], score: 3.1487198661164544\n",
      "  Final solution: [[8, 7, 6], [2, 4, 1], [3, 5, 0]], score: 60.0\n"
     ]
    },
    {
     "data": {
      "text/plain": [
       "[[8, 7, 6], [2, 4, 1], [3, 5, 0]]"
      ]
     },
     "execution_count": 87,
     "metadata": {},
     "output_type": "execute_result"
    }
   ],
   "source": [
    "def genetic_algorithm_(num_iterations, population_size, preference_matrix, seatsPerTable):\n",
    "    filled_preference_matrix = fill_matrix(seatsPerTable, preference_matrix)\n",
    "    population = generate_population_(population_size, filled_preference_matrix, seatsPerTable)\n",
    "    \"\"\"print(\"population[0]: \")\n",
    "    print(population[0])\"\"\"\n",
    "    best_solution = population[0]\n",
    "    best_score = evaluate_solution_(population[0], filled_preference_matrix)\n",
    "    num_iterations=500\n",
    "    \n",
    "\n",
    "    print(f\"Initial solution: {best_solution}, score: {best_score}\")\n",
    "\n",
    "    while(num_iterations > 0):\n",
    "\n",
    "        #parent1 = tournament_select_( population, filled_preference_matrix, 10)\n",
    "        parent1 = roulette_select_(population, filled_preference_matrix)\n",
    "        #print(parent1)\n",
    "        #parent2 = tournament_select_( population, filled_preference_matrix, 10, parent1)\n",
    "        parent2 = roulette_select_(population, filled_preference_matrix, exclude=parent1)\n",
    "\n",
    "        if parent2 is None:\n",
    "            parent2 = parent1\n",
    "\n",
    "        \"\"\"print(\"parent 1:\")\n",
    "        print(parent1)\n",
    "        print(\"parent2:\")\n",
    "        print(parent2)\"\"\"\n",
    "\n",
    "        # Next generation Crossover and Mutation\n",
    "        child1, child2 = random_crossover_(parent1, parent2, filled_preference_matrix, seatsPerTable)\n",
    "\n",
    "        \"\"\"print(\"child 1:\")\n",
    "        print(child1)\n",
    "        print(\"child2:\")\n",
    "        print(child2)\"\"\"\n",
    "\n",
    "        child1, child2 = mutation_(child1), mutation_(child2)\n",
    "\n",
    "        \"\"\"print(\"mutate child 1:\")\n",
    "        print(child1)\n",
    "        print(\"mutate child2:\")\n",
    "        print(child2)\"\"\"\n",
    "        \n",
    "        population.append(child1)\n",
    "        population.append(child2)\n",
    "        population.sort(key=lambda sol: evaluate_solution_(sol, filled_preference_matrix), reverse=True)\n",
    "        population = population[:population_size]\n",
    "\n",
    "        \"\"\"child = random_crossover(parent1, parent2)\n",
    "        print(\"child 1:\")\n",
    "        print(child)\n",
    "\n",
    "        child = mutation(child)\n",
    "\n",
    "        print(\"mutate child 1:\")\n",
    "        print(child)\n",
    "        population.append(child)\n",
    "        population.sort(key=lambda sol: evaluate_solution(sol, filled_preference_matrix), reverse=True)\n",
    "        population = population[:population_size]\"\"\"\n",
    "\n",
    "        num_iterations-=1\n",
    "    \n",
    "    best_solution= population[0]\n",
    "    best_score=evaluate_solution_(best_solution, filled_preference_matrix)\n",
    "    print(f\"  Final solution: {best_solution}, score: {best_score}\")\n",
    "\n",
    "    return best_solution\n",
    "\n",
    "p = random_preferences(10)\n",
    "print(\"MATRIZ PREFERENCIA\")\n",
    "print(p)\n",
    "\n",
    "t=[[0, 15, -21, 17, -73, -25, 56, 31, -48, -8], [15, 0, -14, 31, 75, 52, -28, -76, 43, 2], [-21, -14, 0, 30, -74, 58, -11, 97, 50, 20], [17, 31, 30, 0, 75, 57, 10, 95, 41, -26], [-73, 75, -74, 75, 0, 97, 88, 91, 75, -77], [-25, 52, 58, 57, 97, 0, -63, -3, 37, 21], [56, -28, -11, 10, 88, -63, 0, 2, -62, -94], [31, -76, 97, 95, 91, -3, 2, 0, 54, -76], [-48, 43, 50, 41, 75, 37, -62, 54, 0, 41], [-8, 2, 20, -26, -77, 21, -94, -76, 41, 0]]\n",
    "\n",
    "\"\"\"genetic_algorithm_(1, 100, test_preference_matrix, 3)\n",
    "genetic_algorithm_(1, 100, test_preference_matrix, 3)\n",
    "genetic_algorithm_(1, 100, test_preference_matrix, 3)\n",
    "genetic_algorithm_(1, 100, test_preference_matrix, 3)\n",
    "genetic_algorithm_(1, 100, test_preference_matrix, 3)\"\"\"\n",
    "\n",
    "print(\"NEW:\")\n",
    "genetic_algorithm_(1, 100, test_preference_matrix, 3)\n",
    "genetic_algorithm_(1, 100, test_preference_matrix, 3)\n",
    "genetic_algorithm_(1, 100, test_preference_matrix, 3)\n",
    "genetic_algorithm_(1, 100, test_preference_matrix, 3)\n",
    "genetic_algorithm_(1, 100, test_preference_matrix, 3)\n",
    "\n",
    "print(\"OLD:\")\n",
    "genetic_algorithm(1, 100, test_preference_matrix, 3)\n",
    "genetic_algorithm(1, 100, test_preference_matrix, 3)\n",
    "genetic_algorithm(1, 100, test_preference_matrix, 3)\n",
    "genetic_algorithm(1, 100, test_preference_matrix, 3)\n",
    "genetic_algorithm(1, 100, test_preference_matrix, 3)\n"
   ]
  }
 ],
 "metadata": {
  "kernelspec": {
   "display_name": "base",
   "language": "python",
   "name": "python3"
  },
  "language_info": {
   "codemirror_mode": {
    "name": "ipython",
    "version": 3
   },
   "file_extension": ".py",
   "mimetype": "text/x-python",
   "name": "python",
   "nbconvert_exporter": "python",
   "pygments_lexer": "ipython3",
   "version": "3.12.4"
  }
 },
 "nbformat": 4,
 "nbformat_minor": 2
}
